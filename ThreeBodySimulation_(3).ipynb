{
  "cells": [
    {
      "cell_type": "markdown",
      "metadata": {
        "id": "view-in-github",
        "colab_type": "text"
      },
      "source": [
        "<a href=\"https://colab.research.google.com/github/tuphr2234/ChaosPredition/blob/main/ThreeBodySimulation_(3).ipynb\" target=\"_parent\"><img src=\"https://colab.research.google.com/assets/colab-badge.svg\" alt=\"Open In Colab\"/></a>"
      ]
    },
    {
      "cell_type": "markdown",
      "metadata": {
        "id": "4TDAWMjwIKbl"
      },
      "source": [
        "Build Simulation"
      ]
    },
    {
      "cell_type": "code",
      "execution_count": 1,
      "metadata": {
        "id": "h_D93EjYjFie"
      },
      "outputs": [],
      "source": [
        "import math\n",
        "import pandas as pd\n",
        "import numpy as np\n",
        "import matplotlib.pyplot as plt\n",
        "import matplotlib.animation as animation\n",
        "import tensorflow as tf\n",
        "import os\n",
        "from pathlib import Path  \n",
        "\n",
        "\n",
        "G=1\n",
        "\n",
        "\n",
        "class Body:\n",
        "  \n",
        "  prevPosition=np.array([0,0])\n",
        "  position=np.array([0,0])\n",
        "  velocity=np.array([0,0])\n",
        "  force=np.array([0,0])\n",
        "  acceleration=np.array([0,0])\n",
        "  mass=0\n",
        "\n",
        "  def __init__(self,position,velocity,mass,name):\n",
        "    self.position=np.array(position)\n",
        "    self.velocity=np.array(velocity)\n",
        "    #self.acceleration=np.array(acceleration)\n",
        "    self.mass=mass\n",
        "    self.prevPosition=np.array(position)\n",
        "    self.name = name\n",
        "\n",
        "\n",
        "  def setPosition(self,t):\n",
        "    self.prevPosition = self.position\n",
        "    self.position=self.position+self.velocity*t+(self.acceleration/2)* t**2\n",
        "  \n",
        "    \n",
        "\n",
        "\n",
        "  def setVelocity(self,t):\n",
        "    self.velocity=self.velocity+self.acceleration*t\n",
        "  \n",
        "\n",
        "  def getForce(self,body):\n",
        "    softening = 0.00001\n",
        "    Distance = body.prevPosition - self.position\n",
        "    Rsquare = Distance[0]**2 + Distance[1]**2 + softening\n",
        "    F = G* self.mass*body.mass / Rsquare  \n",
        "    normalizeDis = Distance / math.sqrt(Rsquare)\n",
        "    F = F*normalizeDis\n",
        "    \n",
        "    #print(f\"body {self.name} force is {F} \")\n",
        "    \n",
        "    return F\n",
        "\n",
        "  def setAcceleration(self,bodies):\n",
        "    F=np.array([0,0])\n",
        "    for body in bodies:\n",
        "      F=F+self.getForce(body)\n",
        "    self.acceleration = F/self.mass\n",
        "   # print(f\" {self.name} acceleration is {self.acceleration}\")"
      ]
    },
    {
      "cell_type": "code",
      "execution_count": 2,
      "metadata": {
        "id": "3N3yCUu4PPDX"
      },
      "outputs": [],
      "source": [
        "def simulateOnTimeStep(bodies,t,steps,interval_in_data): # bodies: list of bodies. t: timestep . steps: number of steps. interval_in_data : frequency of rows taken to dataset: if equals 1 than it is every step\n",
        "  dataset = []\n",
        "  time = []\n",
        "\n",
        "  for i in range(steps):\n",
        "      list1=[]\n",
        "      for body in bodies:\n",
        "        list1.append(body.position)\n",
        "      if i % interval_in_data ==0:\n",
        "        dataset += list1\n",
        "        time.append(i * t)\n",
        "      \n",
        "      for i,body in enumerate(bodies):\n",
        "        body.setAcceleration([b for b in bodies if b is not body])\n",
        "        body.setVelocity(t)\n",
        "        body.setPosition(t)\n",
        "       \n",
        "        \n",
        "      for body in bodies:\n",
        "        body.prevPosition = body.position\n",
        "       # plt.scatter(body.position[0],body.position[1])\n",
        "      #plt.show()  \n",
        "\n",
        "\n",
        "  return np.array(dataset).reshape(steps//interval_in_data,len(bodies),2),time\n",
        "\n"
      ]
    },
    {
      "cell_type": "code",
      "source": [
        "def numpyToPandas(simulation,numOfBodies):\n",
        "  columns = []\n",
        "\n",
        "  for i in range(numOfBodies):\n",
        "    columns.append(f'Body{i+1} x')\n",
        "    columns.append(f'Body{i+1} y')\n",
        "  simulation_reshaped = simulation.reshape(len(simulation), numOfBodies*2 )\n",
        "\n",
        "  df = pd.DataFrame(simulation_reshaped, columns = columns)\n",
        "\n",
        "  return df\n"
      ],
      "metadata": {
        "id": "uyz_2jL4t6QF"
      },
      "execution_count": 3,
      "outputs": []
    },
    {
      "cell_type": "code",
      "source": [
        ""
      ],
      "metadata": {
        "id": "q_Bo_YOp1wxq"
      },
      "execution_count": 3,
      "outputs": []
    },
    {
      "cell_type": "markdown",
      "metadata": {
        "id": "aFmLiPZMDQZ0"
      },
      "source": [
        "Add Filters"
      ]
    },
    {
      "cell_type": "code",
      "execution_count": 4,
      "metadata": {
        "id": "eBPe3vx-DVyb"
      },
      "outputs": [],
      "source": [
        "#def addNoise(simulation):\n",
        "#def removeBody(simulation)"
      ]
    },
    {
      "cell_type": "markdown",
      "metadata": {
        "id": "cr0DATa23lkK"
      },
      "source": [
        "Save Simulation"
      ]
    },
    {
      "cell_type": "code",
      "execution_count": 4,
      "metadata": {
        "id": "K3LKWQt83uFP"
      },
      "outputs": [],
      "source": [
        ""
      ]
    },
    {
      "cell_type": "markdown",
      "metadata": {
        "id": "vQlYUvwaISvu"
      },
      "source": [
        "Prepare Dataset "
      ]
    },
    {
      "cell_type": "code",
      "execution_count": 5,
      "metadata": {
        "id": "-NmBUcC3I5LO"
      },
      "outputs": [],
      "source": [
        "def prepareData(simulation,window_size_X):\n",
        "  X = []\n",
        "  y = []\n",
        "  for i in range(len(simulation)-window_size_X):\n",
        "    row = [bodies for bodies in simulation[i:i+window_size_X]]  ### adding time is an option\n",
        "    X.append(row)\n",
        "    label = simulation[i+window_size_X]\n",
        "    y.append(label)\n",
        "  return np.array(X) , np.array(y)  "
      ]
    },
    {
      "cell_type": "code",
      "execution_count": 6,
      "metadata": {
        "id": "Tfy7w3HsJU5P"
      },
      "outputs": [],
      "source": [
        "def prepareData2(simulation,window_size_X,window_size_y):\n",
        "  X = []\n",
        "  y = []\n",
        "  for i in range(len(simulation)-window_size_X):\n",
        "    row = simulation[i:i+window_size_X]  ### adding time is an option\n",
        "    X.append(row)\n",
        "    label =  simulation[i+window_size_X:i+window_size_X + window_size_y]#######################################\n",
        "    y.append(label)\n",
        "\n",
        "  return np.array(X) , np.array(y)\n"
      ]
    },
    {
      "cell_type": "code",
      "execution_count": 7,
      "metadata": {
        "id": "_l71q3WAbOke"
      },
      "outputs": [],
      "source": [
        "def splitToTrainValidTest(dataset,testPercentage):\n",
        "  trainLen = round((len(dataset)*(1-testPercentage-0.05)))\n",
        "  valLen = round((len(dataset)*0.05))\n",
        "  train_set = dataset[:trainLen]\n",
        "  val_set = dataset[trainLen:trainLen+valLen]\n",
        "  test_set = dataset[trainLen+valLen:]\n",
        "  return train_set,val_set,test_set"
      ]
    },
    {
      "cell_type": "code",
      "execution_count": 7,
      "metadata": {
        "id": "fNpP_KDhHKuQ"
      },
      "outputs": [],
      "source": [
        ""
      ]
    },
    {
      "cell_type": "markdown",
      "metadata": {
        "id": "5BntFiYXOd44"
      },
      "source": [
        "Preprocessing/Postprocessing"
      ]
    },
    {
      "cell_type": "code",
      "execution_count": 7,
      "metadata": {
        "id": "EF80L_VWOhvb"
      },
      "outputs": [],
      "source": [
        "\n",
        "\n"
      ]
    },
    {
      "cell_type": "markdown",
      "metadata": {
        "id": "JkwyKYUNOlJ5"
      },
      "source": [
        "Model"
      ]
    },
    {
      "cell_type": "code",
      "execution_count": 8,
      "metadata": {
        "id": "t1xoIIT1QZb_"
      },
      "outputs": [],
      "source": [
        "from tensorflow.keras.models import Sequential\n",
        "from tensorflow.keras.layers import *\n",
        "from tensorflow.keras.callbacks import ModelCheckpoint\n",
        "from tensorflow.keras.losses import MeanSquaredError\n",
        "from tensorflow.keras.metrics import RootMeanSquaredError\n",
        "from tensorflow.keras.optimizers import Adam\n",
        "from tensorflow.keras.optimizers.schedules import ExponentialDecay\n",
        "from tensorflow.keras.preprocessing.sequence import TimeseriesGenerator\n",
        "def buildModelLSTM(window_size_X,numberOfBodies):\n",
        "  model = Sequential()\n",
        "  model.add(InputLayer((window_size_X,numberOfBodies*2)))#model.add(InputLayer((window_size_X,numberOfBodies*2)))\n",
        "  model.add(Conv1D(64, kernel_size=2))\n",
        "  model.add(Dropout(0.2))\n",
        "  model.add(Conv1D(32, kernel_size=2))\n",
        "  #model.add(TimeDistributed(conv_1d))\n",
        "  model.add(Flatten())\n",
        "  #model.add(LSTM(32))\n",
        "  model.add(Dropout(0.2))\n",
        "  model.add(Dense(16, 'relu'))\n",
        "  model.add(Dense(numberOfBodies*2, 'linear'))\n",
        "  model.summary()\n",
        "  return model\n",
        "\n",
        "\n",
        "\n",
        "def buildModelLSTM2(window_size_X,window_size_y,numberOfBodies):\n",
        "  model = Sequential()\n",
        "  model.add(InputLayer((window_size_X,numberOfBodies*2)))#model.add(InputLayer((window_size_X,numberOfBodies*2)))\n",
        "  model.add(Conv1D(64, kernel_size=2))\n",
        "  model.add(Dropout(0.2))\n",
        "  model.add(Conv1D(32, kernel_size=2))\n",
        "  #model.add(TimeDistributed(conv_1d))\n",
        "  model.add(Flatten())\n",
        "  #model.add(LSTM(32))\n",
        "  model.add(Dropout(0.2))\n",
        "  model.add(Dense(16, 'relu'))\n",
        "  model.add(Dense(numberOfBodies*2*window_size_y, 'linear'))\n",
        "  model.add(tf.keras.layers.Reshape((window_size_y, numberOfBodies*2)))\n",
        "  model.summary()\n",
        "  return model"
      ]
    },
    {
      "cell_type": "markdown",
      "metadata": {
        "id": "YHN2E_WZcMwI"
      },
      "source": [
        "Training Model"
      ]
    },
    {
      "cell_type": "code",
      "source": [
        "#position,velocity,acceleration,mass\n",
        "#%%timeit\n",
        "bodies=[]\n",
        "bodies.append(Body([-1, 0],[0.4662036850, 0.4323657300],1,\"body1\"))\n",
        "bodies.append(Body([0,0],[-0.93240737, -0.86473146],1.1,\"body2\"))\n",
        "bodies.append(Body([1, 0],[0.4662036850, 0.4323657300],1,\"body3\"))\n",
        "bodies.append(Body([2, -0.24308753],[-0.4662036850, 0.4323657300],1,\"body4\"))\n",
        "\n",
        "numOfBodies=len(bodies)\n",
        "\n",
        "#bodies.append(Body([1, 0],[0, 0],1,\"body1\"))\n",
        "#bodies.append(Body([0,1],[0, 0],1.1,\"body2\"))\n",
        "#bodies.append(Body([0, 0],[0, 0],1,\"body3\"))\n",
        "\n",
        "\n",
        "\n",
        "simulation1,timesteps = simulateOnTimeStep(bodies,0.01,1000000,100)\n",
        "simulation1=simulation1.reshape(len(simulation1), numOfBodies*2 )\n"
      ],
      "metadata": {
        "id": "EYCRyk7h_AGq"
      },
      "execution_count": 9,
      "outputs": []
    },
    {
      "cell_type": "markdown",
      "source": [
        ""
      ],
      "metadata": {
        "id": "8xnxXQz39xEL"
      }
    },
    {
      "cell_type": "code",
      "source": [
        "## save simulation as csv\n",
        "def saveSimulation(simulation,numOfBodies,simulation_name):\n",
        "  df = numpyToPandas(simulation,numOfBodies) \n",
        "  df.to_csv(f'/content/{simulation_name}.csv')"
      ],
      "metadata": {
        "id": "KKcQqBn28FpZ"
      },
      "execution_count": 10,
      "outputs": []
    },
    {
      "cell_type": "code",
      "execution_count": 11,
      "metadata": {
        "id": "IWvEtpy8YWDV",
        "colab": {
          "base_uri": "https://localhost:8080/"
        },
        "outputId": "b367db74-62f5-4426-9258-b3debd3ce7eb"
      },
      "outputs": [
        {
          "output_type": "stream",
          "name": "stdout",
          "text": [
            "Model: \"sequential\"\n",
            "_________________________________________________________________\n",
            " Layer (type)                Output Shape              Param #   \n",
            "=================================================================\n",
            " conv1d (Conv1D)             (None, 9, 64)             1088      \n",
            "                                                                 \n",
            " dropout (Dropout)           (None, 9, 64)             0         \n",
            "                                                                 \n",
            " conv1d_1 (Conv1D)           (None, 8, 32)             4128      \n",
            "                                                                 \n",
            " flatten (Flatten)           (None, 256)               0         \n",
            "                                                                 \n",
            " dropout_1 (Dropout)         (None, 256)               0         \n",
            "                                                                 \n",
            " dense (Dense)               (None, 16)                4112      \n",
            "                                                                 \n",
            " dense_1 (Dense)             (None, 8)                 136       \n",
            "                                                                 \n",
            "=================================================================\n",
            "Total params: 9,464\n",
            "Trainable params: 9,464\n",
            "Non-trainable params: 0\n",
            "_________________________________________________________________\n",
            "fsdsdfsf (None, 8)\n"
          ]
        }
      ],
      "source": [
        "from sklearn.preprocessing import MinMaxScaler\n",
        "from sklearn.preprocessing import StandardScaler\n",
        "from scipy.signal import hilbert\n",
        "from scipy.fft import fft, ifft\n",
        "\n",
        "#batch = 6\n",
        "\n",
        "\n",
        "train, val, test = splitToTrainValidTest(simulation1,0.2)\n",
        "\n",
        "windowSizeX=10\n",
        "windowSizeY = 10\n",
        "scaled = True \n",
        "\n",
        "model =  buildModelLSTM(windowSizeX,numOfBodies)\n",
        "#model =  buildModelLSTM2(windowSizeX,windowSizeY,numOfBodies)\n",
        "cp1 = ModelCheckpoint('model/', save_best_only=True)\n",
        "#lr_schedule = ExponentialDecay(\n",
        "  #  initial_learning_rate=1e-2,\n",
        " #   decay_steps=10000,\n",
        "  #  decay_rate=0.9)\n",
        "model.compile(loss=MeanSquaredError(), optimizer=Adam(learning_rate=0.0001), metrics=[RootMeanSquaredError()])\n",
        "\n",
        "\n",
        "if scaled:\n",
        "  scaler = StandardScaler()\n",
        "  scaler.fit(simulation1[:len(train)+len(val)])\n",
        "  #valScaler.fit(train)  ### train / val as input ? \n",
        "\n",
        "  train = scaler.transform(train)\n",
        "  val = scaler.transform(val)\n",
        "  #train = hilbert(train)\n",
        "  #val = hilbert(val)\n",
        "#y_train = scaler.fit(train)\n",
        "\n",
        "#sc = MinMaxScaler(feature_range = (0, 1))\n",
        "\n",
        "#train_scaled = sc.fit_transform(train)\n",
        "#val_scaled = sc.fit_transform(val) ## ???\n",
        "#test_scaled = sc.fit_transform(test) ## ???\n",
        "\n",
        "#generator = TimeseriesGenerator(train_scaled,train_scaled,length = len(test),batch_size=batch)\n",
        "print(f\"fsdsdfsf {model.output_shape}\")\n",
        "\n",
        "#X_train, y_train = prepareData2(train_scaled,windowSizeX,windowSizeY)\n",
        "#X_val, y_val = prepareData2(val_scaled,windowSizeX,windowSizeY)\n",
        "#X_test, y_test = prepareData2(test_scaled,windowSizeX,windowSizeY)\n",
        "\n",
        "#X_train, y_train = prepareData(train_scaled,windowSizeX)\n",
        "#X_val, y_val = prepareData(val_scaled,windowSizeX)\n",
        "#X_test, y_test = prepareData(test_scaled,windowSizeX)\n",
        "\n",
        "X_train, y_train = prepareData(train,windowSizeX)\n",
        "X_val, y_val = prepareData(val,windowSizeX)\n",
        "X_test, y_test = prepareData(test,windowSizeX)\n",
        "\n"
      ]
    },
    {
      "cell_type": "code",
      "source": [
        ""
      ],
      "metadata": {
        "id": "Y4yPGB9XzsX2"
      },
      "execution_count": 11,
      "outputs": []
    },
    {
      "cell_type": "code",
      "execution_count": 12,
      "metadata": {
        "id": "wfb7-Rz2-IrH",
        "colab": {
          "base_uri": "https://localhost:8080/"
        },
        "outputId": "173b0a1b-aaf3-4ddc-be2b-65054c0069b0"
      },
      "outputs": [
        {
          "output_type": "stream",
          "name": "stdout",
          "text": [
            "Epoch 1/300\n",
            "235/235 [==============================] - ETA: 0s - loss: 0.3961 - root_mean_squared_error: 0.6294INFO:tensorflow:Assets written to: model/assets\n",
            "235/235 [==============================] - 13s 9ms/step - loss: 0.3961 - root_mean_squared_error: 0.6294 - val_loss: 0.2543 - val_root_mean_squared_error: 0.5043\n",
            "Epoch 2/300\n",
            "230/235 [============================>.] - ETA: 0s - loss: 0.1359 - root_mean_squared_error: 0.3686INFO:tensorflow:Assets written to: model/assets\n",
            "235/235 [==============================] - 2s 7ms/step - loss: 0.1354 - root_mean_squared_error: 0.3680 - val_loss: 0.1150 - val_root_mean_squared_error: 0.3391\n",
            "Epoch 3/300\n",
            "229/235 [============================>.] - ETA: 0s - loss: 0.0850 - root_mean_squared_error: 0.2916INFO:tensorflow:Assets written to: model/assets\n",
            "235/235 [==============================] - 2s 7ms/step - loss: 0.0847 - root_mean_squared_error: 0.2910 - val_loss: 0.0533 - val_root_mean_squared_error: 0.2309\n",
            "Epoch 4/300\n",
            "232/235 [============================>.] - ETA: 0s - loss: 0.0559 - root_mean_squared_error: 0.2365INFO:tensorflow:Assets written to: model/assets\n",
            "235/235 [==============================] - 2s 7ms/step - loss: 0.0558 - root_mean_squared_error: 0.2362 - val_loss: 0.0242 - val_root_mean_squared_error: 0.1555\n",
            "Epoch 5/300\n",
            "225/235 [===========================>..] - ETA: 0s - loss: 0.0406 - root_mean_squared_error: 0.2015INFO:tensorflow:Assets written to: model/assets\n",
            "235/235 [==============================] - 2s 7ms/step - loss: 0.0403 - root_mean_squared_error: 0.2007 - val_loss: 0.0196 - val_root_mean_squared_error: 0.1401\n",
            "Epoch 6/300\n",
            "230/235 [============================>.] - ETA: 0s - loss: 0.0303 - root_mean_squared_error: 0.1739INFO:tensorflow:Assets written to: model/assets\n",
            "235/235 [==============================] - 2s 8ms/step - loss: 0.0302 - root_mean_squared_error: 0.1736 - val_loss: 0.0099 - val_root_mean_squared_error: 0.0994\n",
            "Epoch 7/300\n",
            "233/235 [============================>.] - ETA: 0s - loss: 0.0239 - root_mean_squared_error: 0.1545INFO:tensorflow:Assets written to: model/assets\n",
            "235/235 [==============================] - 2s 7ms/step - loss: 0.0239 - root_mean_squared_error: 0.1544 - val_loss: 0.0089 - val_root_mean_squared_error: 0.0945\n",
            "Epoch 8/300\n",
            "235/235 [==============================] - 1s 4ms/step - loss: 0.0189 - root_mean_squared_error: 0.1375 - val_loss: 0.0132 - val_root_mean_squared_error: 0.1151\n",
            "Epoch 9/300\n",
            "234/235 [============================>.] - ETA: 0s - loss: 0.0158 - root_mean_squared_error: 0.1257INFO:tensorflow:Assets written to: model/assets\n",
            "235/235 [==============================] - 2s 7ms/step - loss: 0.0158 - root_mean_squared_error: 0.1256 - val_loss: 0.0064 - val_root_mean_squared_error: 0.0801\n",
            "Epoch 10/300\n",
            "229/235 [============================>.] - ETA: 0s - loss: 0.0135 - root_mean_squared_error: 0.1161INFO:tensorflow:Assets written to: model/assets\n",
            "235/235 [==============================] - 2s 7ms/step - loss: 0.0135 - root_mean_squared_error: 0.1161 - val_loss: 0.0015 - val_root_mean_squared_error: 0.0388\n",
            "Epoch 11/300\n",
            "235/235 [==============================] - 1s 4ms/step - loss: 0.0114 - root_mean_squared_error: 0.1069 - val_loss: 0.0056 - val_root_mean_squared_error: 0.0747\n",
            "Epoch 12/300\n",
            "228/235 [============================>.] - ETA: 0s - loss: 0.0102 - root_mean_squared_error: 0.1009INFO:tensorflow:Assets written to: model/assets\n",
            "235/235 [==============================] - 2s 7ms/step - loss: 0.0101 - root_mean_squared_error: 0.1006 - val_loss: 0.0015 - val_root_mean_squared_error: 0.0385\n",
            "Epoch 13/300\n",
            "235/235 [==============================] - 1s 4ms/step - loss: 0.0091 - root_mean_squared_error: 0.0955 - val_loss: 0.0018 - val_root_mean_squared_error: 0.0423\n",
            "Epoch 14/300\n",
            "220/235 [===========================>..] - ETA: 0s - loss: 0.0080 - root_mean_squared_error: 0.0897INFO:tensorflow:Assets written to: model/assets\n",
            "235/235 [==============================] - 2s 8ms/step - loss: 0.0080 - root_mean_squared_error: 0.0897 - val_loss: 0.0012 - val_root_mean_squared_error: 0.0339\n",
            "Epoch 15/300\n",
            "235/235 [==============================] - 1s 4ms/step - loss: 0.0075 - root_mean_squared_error: 0.0866 - val_loss: 0.0014 - val_root_mean_squared_error: 0.0377\n",
            "Epoch 16/300\n",
            "234/235 [============================>.] - ETA: 0s - loss: 0.0068 - root_mean_squared_error: 0.0825INFO:tensorflow:Assets written to: model/assets\n",
            "235/235 [==============================] - 2s 7ms/step - loss: 0.0068 - root_mean_squared_error: 0.0825 - val_loss: 0.0010 - val_root_mean_squared_error: 0.0321\n",
            "Epoch 17/300\n",
            "227/235 [===========================>..] - ETA: 0s - loss: 0.0063 - root_mean_squared_error: 0.0796INFO:tensorflow:Assets written to: model/assets\n",
            "235/235 [==============================] - 2s 7ms/step - loss: 0.0063 - root_mean_squared_error: 0.0797 - val_loss: 6.4549e-04 - val_root_mean_squared_error: 0.0254\n",
            "Epoch 18/300\n",
            "235/235 [==============================] - 1s 4ms/step - loss: 0.0057 - root_mean_squared_error: 0.0758 - val_loss: 8.0151e-04 - val_root_mean_squared_error: 0.0283\n",
            "Epoch 19/300\n",
            "227/235 [===========================>..] - ETA: 0s - loss: 0.0053 - root_mean_squared_error: 0.0728INFO:tensorflow:Assets written to: model/assets\n",
            "235/235 [==============================] - 2s 7ms/step - loss: 0.0053 - root_mean_squared_error: 0.0730 - val_loss: 2.6340e-04 - val_root_mean_squared_error: 0.0162\n",
            "Epoch 20/300\n",
            "235/235 [==============================] - 1s 4ms/step - loss: 0.0052 - root_mean_squared_error: 0.0718 - val_loss: 6.7951e-04 - val_root_mean_squared_error: 0.0261\n",
            "Epoch 21/300\n",
            "235/235 [==============================] - 1s 4ms/step - loss: 0.0048 - root_mean_squared_error: 0.0696 - val_loss: 8.1662e-04 - val_root_mean_squared_error: 0.0286\n",
            "Epoch 22/300\n",
            "235/235 [==============================] - 1s 4ms/step - loss: 0.0046 - root_mean_squared_error: 0.0678 - val_loss: 7.7213e-04 - val_root_mean_squared_error: 0.0278\n",
            "Epoch 23/300\n",
            "235/235 [==============================] - 1s 4ms/step - loss: 0.0044 - root_mean_squared_error: 0.0662 - val_loss: 0.0018 - val_root_mean_squared_error: 0.0429\n",
            "Epoch 24/300\n",
            "229/235 [============================>.] - ETA: 0s - loss: 0.0043 - root_mean_squared_error: 0.0652INFO:tensorflow:Assets written to: model/assets\n",
            "235/235 [==============================] - 2s 7ms/step - loss: 0.0043 - root_mean_squared_error: 0.0653 - val_loss: 4.7174e-05 - val_root_mean_squared_error: 0.0069\n",
            "Epoch 25/300\n",
            "235/235 [==============================] - 1s 4ms/step - loss: 0.0041 - root_mean_squared_error: 0.0639 - val_loss: 7.8773e-05 - val_root_mean_squared_error: 0.0089\n",
            "Epoch 26/300\n",
            "235/235 [==============================] - 1s 4ms/step - loss: 0.0038 - root_mean_squared_error: 0.0616 - val_loss: 0.0054 - val_root_mean_squared_error: 0.0736\n",
            "Epoch 27/300\n",
            "235/235 [==============================] - 1s 4ms/step - loss: 0.0037 - root_mean_squared_error: 0.0604 - val_loss: 8.1302e-04 - val_root_mean_squared_error: 0.0285\n",
            "Epoch 28/300\n",
            "228/235 [============================>.] - ETA: 0s - loss: 0.0035 - root_mean_squared_error: 0.0596INFO:tensorflow:Assets written to: model/assets\n",
            "235/235 [==============================] - 2s 8ms/step - loss: 0.0035 - root_mean_squared_error: 0.0596 - val_loss: 2.1353e-05 - val_root_mean_squared_error: 0.0046\n",
            "Epoch 29/300\n",
            "235/235 [==============================] - 1s 4ms/step - loss: 0.0034 - root_mean_squared_error: 0.0583 - val_loss: 1.3930e-04 - val_root_mean_squared_error: 0.0118\n",
            "Epoch 30/300\n",
            "235/235 [==============================] - 1s 4ms/step - loss: 0.0031 - root_mean_squared_error: 0.0561 - val_loss: 0.0014 - val_root_mean_squared_error: 0.0375\n",
            "Epoch 31/300\n",
            "235/235 [==============================] - 1s 4ms/step - loss: 0.0032 - root_mean_squared_error: 0.0564 - val_loss: 0.0024 - val_root_mean_squared_error: 0.0492\n",
            "Epoch 32/300\n",
            "235/235 [==============================] - 1s 4ms/step - loss: 0.0032 - root_mean_squared_error: 0.0567 - val_loss: 5.2858e-04 - val_root_mean_squared_error: 0.0230\n",
            "Epoch 33/300\n",
            "235/235 [==============================] - 1s 4ms/step - loss: 0.0030 - root_mean_squared_error: 0.0550 - val_loss: 0.0020 - val_root_mean_squared_error: 0.0446\n",
            "Epoch 34/300\n",
            "235/235 [==============================] - 1s 4ms/step - loss: 0.0029 - root_mean_squared_error: 0.0541 - val_loss: 2.9167e-04 - val_root_mean_squared_error: 0.0171\n",
            "Epoch 35/300\n",
            "235/235 [==============================] - 1s 4ms/step - loss: 0.0027 - root_mean_squared_error: 0.0521 - val_loss: 3.0751e-05 - val_root_mean_squared_error: 0.0055\n",
            "Epoch 36/300\n",
            "235/235 [==============================] - 1s 4ms/step - loss: 0.0026 - root_mean_squared_error: 0.0512 - val_loss: 2.5853e-05 - val_root_mean_squared_error: 0.0051\n",
            "Epoch 37/300\n",
            "235/235 [==============================] - 1s 4ms/step - loss: 0.0027 - root_mean_squared_error: 0.0519 - val_loss: 1.6972e-04 - val_root_mean_squared_error: 0.0130\n",
            "Epoch 38/300\n",
            "235/235 [==============================] - 1s 4ms/step - loss: 0.0026 - root_mean_squared_error: 0.0509 - val_loss: 0.0025 - val_root_mean_squared_error: 0.0503\n",
            "Epoch 39/300\n",
            "235/235 [==============================] - 1s 4ms/step - loss: 0.0026 - root_mean_squared_error: 0.0509 - val_loss: 2.6497e-04 - val_root_mean_squared_error: 0.0163\n",
            "Epoch 40/300\n",
            "235/235 [==============================] - 1s 4ms/step - loss: 0.0023 - root_mean_squared_error: 0.0482 - val_loss: 0.0013 - val_root_mean_squared_error: 0.0362\n",
            "Epoch 41/300\n",
            "235/235 [==============================] - 1s 4ms/step - loss: 0.0024 - root_mean_squared_error: 0.0485 - val_loss: 0.0011 - val_root_mean_squared_error: 0.0324\n",
            "Epoch 42/300\n",
            "235/235 [==============================] - 1s 4ms/step - loss: 0.0022 - root_mean_squared_error: 0.0469 - val_loss: 1.6088e-04 - val_root_mean_squared_error: 0.0127\n",
            "Epoch 43/300\n",
            "235/235 [==============================] - 1s 4ms/step - loss: 0.0023 - root_mean_squared_error: 0.0475 - val_loss: 6.9085e-04 - val_root_mean_squared_error: 0.0263\n",
            "Epoch 44/300\n",
            "235/235 [==============================] - 1s 4ms/step - loss: 0.0021 - root_mean_squared_error: 0.0456 - val_loss: 4.4990e-04 - val_root_mean_squared_error: 0.0212\n",
            "Epoch 45/300\n",
            "235/235 [==============================] - 1s 4ms/step - loss: 0.0022 - root_mean_squared_error: 0.0467 - val_loss: 9.4856e-05 - val_root_mean_squared_error: 0.0097\n",
            "Epoch 46/300\n",
            "235/235 [==============================] - 1s 4ms/step - loss: 0.0021 - root_mean_squared_error: 0.0455 - val_loss: 0.0025 - val_root_mean_squared_error: 0.0497\n",
            "Epoch 47/300\n",
            "235/235 [==============================] - 1s 4ms/step - loss: 0.0021 - root_mean_squared_error: 0.0461 - val_loss: 6.3967e-04 - val_root_mean_squared_error: 0.0253\n",
            "Epoch 48/300\n",
            "235/235 [==============================] - 1s 4ms/step - loss: 0.0020 - root_mean_squared_error: 0.0448 - val_loss: 6.6938e-04 - val_root_mean_squared_error: 0.0259\n",
            "Epoch 49/300\n",
            "235/235 [==============================] - ETA: 0s - loss: 0.0021 - root_mean_squared_error: 0.0453INFO:tensorflow:Assets written to: model/assets\n",
            "235/235 [==============================] - 2s 7ms/step - loss: 0.0021 - root_mean_squared_error: 0.0453 - val_loss: 6.3680e-07 - val_root_mean_squared_error: 7.9800e-04\n",
            "Epoch 50/300\n",
            "235/235 [==============================] - 1s 4ms/step - loss: 0.0020 - root_mean_squared_error: 0.0449 - val_loss: 9.0718e-04 - val_root_mean_squared_error: 0.0301\n",
            "Epoch 51/300\n",
            "235/235 [==============================] - 1s 4ms/step - loss: 0.0019 - root_mean_squared_error: 0.0439 - val_loss: 9.4820e-05 - val_root_mean_squared_error: 0.0097\n",
            "Epoch 52/300\n",
            "235/235 [==============================] - 1s 4ms/step - loss: 0.0019 - root_mean_squared_error: 0.0434 - val_loss: 7.6607e-04 - val_root_mean_squared_error: 0.0277\n",
            "Epoch 53/300\n",
            "235/235 [==============================] - 1s 4ms/step - loss: 0.0019 - root_mean_squared_error: 0.0434 - val_loss: 3.0957e-04 - val_root_mean_squared_error: 0.0176\n",
            "Epoch 54/300\n",
            "235/235 [==============================] - 1s 4ms/step - loss: 0.0020 - root_mean_squared_error: 0.0442 - val_loss: 2.2575e-04 - val_root_mean_squared_error: 0.0150\n",
            "Epoch 55/300\n",
            "235/235 [==============================] - 1s 4ms/step - loss: 0.0018 - root_mean_squared_error: 0.0425 - val_loss: 6.3700e-04 - val_root_mean_squared_error: 0.0252\n",
            "Epoch 56/300\n",
            "235/235 [==============================] - 1s 4ms/step - loss: 0.0017 - root_mean_squared_error: 0.0414 - val_loss: 6.1394e-06 - val_root_mean_squared_error: 0.0025\n",
            "Epoch 57/300\n",
            "235/235 [==============================] - 1s 4ms/step - loss: 0.0019 - root_mean_squared_error: 0.0430 - val_loss: 4.4842e-05 - val_root_mean_squared_error: 0.0067\n",
            "Epoch 58/300\n",
            "235/235 [==============================] - 1s 4ms/step - loss: 0.0018 - root_mean_squared_error: 0.0428 - val_loss: 7.2618e-06 - val_root_mean_squared_error: 0.0027\n",
            "Epoch 59/300\n",
            "235/235 [==============================] - 1s 4ms/step - loss: 0.0018 - root_mean_squared_error: 0.0426 - val_loss: 4.8018e-04 - val_root_mean_squared_error: 0.0219\n",
            "Epoch 60/300\n",
            "235/235 [==============================] - 1s 4ms/step - loss: 0.0018 - root_mean_squared_error: 0.0418 - val_loss: 4.3355e-04 - val_root_mean_squared_error: 0.0208\n",
            "Epoch 61/300\n",
            "235/235 [==============================] - 1s 4ms/step - loss: 0.0018 - root_mean_squared_error: 0.0419 - val_loss: 0.0011 - val_root_mean_squared_error: 0.0329\n",
            "Epoch 62/300\n",
            "235/235 [==============================] - 1s 4ms/step - loss: 0.0017 - root_mean_squared_error: 0.0410 - val_loss: 0.0034 - val_root_mean_squared_error: 0.0583\n",
            "Epoch 63/300\n",
            "235/235 [==============================] - 1s 4ms/step - loss: 0.0017 - root_mean_squared_error: 0.0417 - val_loss: 3.2398e-05 - val_root_mean_squared_error: 0.0057\n",
            "Epoch 64/300\n",
            "235/235 [==============================] - 1s 4ms/step - loss: 0.0016 - root_mean_squared_error: 0.0398 - val_loss: 1.5687e-04 - val_root_mean_squared_error: 0.0125\n",
            "Epoch 65/300\n",
            "235/235 [==============================] - 1s 4ms/step - loss: 0.0017 - root_mean_squared_error: 0.0410 - val_loss: 1.7166e-06 - val_root_mean_squared_error: 0.0013\n",
            "Epoch 66/300\n",
            "235/235 [==============================] - 1s 4ms/step - loss: 0.0017 - root_mean_squared_error: 0.0407 - val_loss: 1.1532e-04 - val_root_mean_squared_error: 0.0107\n",
            "Epoch 67/300\n",
            "235/235 [==============================] - 1s 4ms/step - loss: 0.0017 - root_mean_squared_error: 0.0407 - val_loss: 8.6194e-05 - val_root_mean_squared_error: 0.0093\n",
            "Epoch 68/300\n",
            "235/235 [==============================] - 1s 4ms/step - loss: 0.0017 - root_mean_squared_error: 0.0410 - val_loss: 0.0051 - val_root_mean_squared_error: 0.0716\n",
            "Epoch 69/300\n",
            "235/235 [==============================] - 1s 4ms/step - loss: 0.0017 - root_mean_squared_error: 0.0414 - val_loss: 1.5556e-04 - val_root_mean_squared_error: 0.0125\n",
            "Epoch 70/300\n",
            "235/235 [==============================] - 1s 4ms/step - loss: 0.0016 - root_mean_squared_error: 0.0403 - val_loss: 6.6124e-04 - val_root_mean_squared_error: 0.0257\n",
            "Epoch 71/300\n",
            "235/235 [==============================] - 1s 4ms/step - loss: 0.0016 - root_mean_squared_error: 0.0400 - val_loss: 5.3671e-04 - val_root_mean_squared_error: 0.0232\n",
            "Epoch 72/300\n",
            "235/235 [==============================] - 1s 4ms/step - loss: 0.0016 - root_mean_squared_error: 0.0401 - val_loss: 0.0047 - val_root_mean_squared_error: 0.0688\n",
            "Epoch 73/300\n",
            "235/235 [==============================] - 1s 4ms/step - loss: 0.0017 - root_mean_squared_error: 0.0416 - val_loss: 1.8630e-05 - val_root_mean_squared_error: 0.0043\n",
            "Epoch 74/300\n",
            "235/235 [==============================] - 1s 4ms/step - loss: 0.0016 - root_mean_squared_error: 0.0399 - val_loss: 6.3355e-04 - val_root_mean_squared_error: 0.0252\n",
            "Epoch 75/300\n",
            "235/235 [==============================] - 1s 4ms/step - loss: 0.0016 - root_mean_squared_error: 0.0402 - val_loss: 2.7135e-04 - val_root_mean_squared_error: 0.0165\n",
            "Epoch 76/300\n",
            "235/235 [==============================] - 1s 4ms/step - loss: 0.0015 - root_mean_squared_error: 0.0385 - val_loss: 2.5336e-05 - val_root_mean_squared_error: 0.0050\n",
            "Epoch 77/300\n",
            "235/235 [==============================] - 1s 4ms/step - loss: 0.0015 - root_mean_squared_error: 0.0389 - val_loss: 2.1284e-06 - val_root_mean_squared_error: 0.0015\n",
            "Epoch 78/300\n",
            "235/235 [==============================] - 1s 4ms/step - loss: 0.0015 - root_mean_squared_error: 0.0393 - val_loss: 0.0015 - val_root_mean_squared_error: 0.0387\n",
            "Epoch 79/300\n",
            "235/235 [==============================] - 1s 4ms/step - loss: 0.0015 - root_mean_squared_error: 0.0391 - val_loss: 0.0011 - val_root_mean_squared_error: 0.0337\n",
            "Epoch 80/300\n",
            "235/235 [==============================] - 1s 4ms/step - loss: 0.0015 - root_mean_squared_error: 0.0381 - val_loss: 2.5669e-04 - val_root_mean_squared_error: 0.0160\n",
            "Epoch 81/300\n",
            "235/235 [==============================] - 1s 4ms/step - loss: 0.0015 - root_mean_squared_error: 0.0391 - val_loss: 1.9545e-05 - val_root_mean_squared_error: 0.0044\n",
            "Epoch 82/300\n",
            "235/235 [==============================] - 1s 4ms/step - loss: 0.0016 - root_mean_squared_error: 0.0401 - val_loss: 4.5244e-04 - val_root_mean_squared_error: 0.0213\n",
            "Epoch 83/300\n",
            "235/235 [==============================] - 1s 4ms/step - loss: 0.0015 - root_mean_squared_error: 0.0386 - val_loss: 3.9096e-04 - val_root_mean_squared_error: 0.0198\n",
            "Epoch 84/300\n",
            "235/235 [==============================] - 1s 4ms/step - loss: 0.0015 - root_mean_squared_error: 0.0389 - val_loss: 6.6956e-04 - val_root_mean_squared_error: 0.0259\n",
            "Epoch 85/300\n",
            "235/235 [==============================] - 1s 4ms/step - loss: 0.0015 - root_mean_squared_error: 0.0387 - val_loss: 1.1486e-04 - val_root_mean_squared_error: 0.0107\n",
            "Epoch 86/300\n",
            "235/235 [==============================] - 1s 4ms/step - loss: 0.0015 - root_mean_squared_error: 0.0385 - val_loss: 3.3292e-04 - val_root_mean_squared_error: 0.0182\n",
            "Epoch 87/300\n",
            "235/235 [==============================] - 1s 4ms/step - loss: 0.0015 - root_mean_squared_error: 0.0391 - val_loss: 5.3935e-04 - val_root_mean_squared_error: 0.0232\n",
            "Epoch 88/300\n",
            "235/235 [==============================] - 1s 4ms/step - loss: 0.0015 - root_mean_squared_error: 0.0383 - val_loss: 0.0020 - val_root_mean_squared_error: 0.0449\n",
            "Epoch 89/300\n",
            "235/235 [==============================] - 1s 4ms/step - loss: 0.0015 - root_mean_squared_error: 0.0383 - val_loss: 0.0011 - val_root_mean_squared_error: 0.0335\n",
            "Epoch 90/300\n",
            "235/235 [==============================] - 1s 4ms/step - loss: 0.0015 - root_mean_squared_error: 0.0390 - val_loss: 0.0029 - val_root_mean_squared_error: 0.0538\n",
            "Epoch 91/300\n",
            "235/235 [==============================] - 1s 4ms/step - loss: 0.0016 - root_mean_squared_error: 0.0401 - val_loss: 0.0029 - val_root_mean_squared_error: 0.0543\n",
            "Epoch 92/300\n",
            "235/235 [==============================] - 1s 4ms/step - loss: 0.0015 - root_mean_squared_error: 0.0382 - val_loss: 1.5329e-05 - val_root_mean_squared_error: 0.0039\n",
            "Epoch 93/300\n",
            "235/235 [==============================] - 1s 4ms/step - loss: 0.0015 - root_mean_squared_error: 0.0386 - val_loss: 1.8284e-04 - val_root_mean_squared_error: 0.0135\n",
            "Epoch 94/300\n",
            "235/235 [==============================] - 1s 4ms/step - loss: 0.0014 - root_mean_squared_error: 0.0378 - val_loss: 1.7108e-05 - val_root_mean_squared_error: 0.0041\n",
            "Epoch 95/300\n",
            "235/235 [==============================] - 1s 4ms/step - loss: 0.0014 - root_mean_squared_error: 0.0380 - val_loss: 0.0030 - val_root_mean_squared_error: 0.0550\n",
            "Epoch 96/300\n",
            "235/235 [==============================] - 1s 4ms/step - loss: 0.0015 - root_mean_squared_error: 0.0387 - val_loss: 2.9172e-04 - val_root_mean_squared_error: 0.0171\n",
            "Epoch 97/300\n",
            "235/235 [==============================] - 1s 4ms/step - loss: 0.0015 - root_mean_squared_error: 0.0385 - val_loss: 2.8075e-04 - val_root_mean_squared_error: 0.0168\n",
            "Epoch 98/300\n",
            "235/235 [==============================] - 1s 4ms/step - loss: 0.0015 - root_mean_squared_error: 0.0382 - val_loss: 4.1739e-04 - val_root_mean_squared_error: 0.0204\n",
            "Epoch 99/300\n",
            "235/235 [==============================] - 1s 4ms/step - loss: 0.0014 - root_mean_squared_error: 0.0378 - val_loss: 9.7692e-05 - val_root_mean_squared_error: 0.0099\n",
            "Epoch 100/300\n",
            "235/235 [==============================] - 1s 4ms/step - loss: 0.0014 - root_mean_squared_error: 0.0380 - val_loss: 0.0013 - val_root_mean_squared_error: 0.0356\n",
            "Epoch 101/300\n",
            "235/235 [==============================] - 1s 4ms/step - loss: 0.0015 - root_mean_squared_error: 0.0383 - val_loss: 2.8413e-04 - val_root_mean_squared_error: 0.0169\n",
            "Epoch 102/300\n",
            "235/235 [==============================] - 1s 4ms/step - loss: 0.0014 - root_mean_squared_error: 0.0375 - val_loss: 7.0609e-04 - val_root_mean_squared_error: 0.0266\n",
            "Epoch 103/300\n",
            "235/235 [==============================] - 1s 4ms/step - loss: 0.0015 - root_mean_squared_error: 0.0382 - val_loss: 4.4699e-04 - val_root_mean_squared_error: 0.0211\n",
            "Epoch 104/300\n",
            "235/235 [==============================] - 1s 4ms/step - loss: 0.0015 - root_mean_squared_error: 0.0382 - val_loss: 1.3812e-04 - val_root_mean_squared_error: 0.0118\n",
            "Epoch 105/300\n",
            "235/235 [==============================] - 1s 4ms/step - loss: 0.0014 - root_mean_squared_error: 0.0380 - val_loss: 2.9785e-05 - val_root_mean_squared_error: 0.0055\n",
            "Epoch 106/300\n",
            "235/235 [==============================] - 1s 4ms/step - loss: 0.0014 - root_mean_squared_error: 0.0373 - val_loss: 2.7268e-05 - val_root_mean_squared_error: 0.0052\n",
            "Epoch 107/300\n",
            "235/235 [==============================] - 1s 4ms/step - loss: 0.0014 - root_mean_squared_error: 0.0368 - val_loss: 0.0030 - val_root_mean_squared_error: 0.0552\n",
            "Epoch 108/300\n",
            "235/235 [==============================] - 1s 4ms/step - loss: 0.0016 - root_mean_squared_error: 0.0394 - val_loss: 6.1184e-05 - val_root_mean_squared_error: 0.0078\n",
            "Epoch 109/300\n",
            "235/235 [==============================] - 1s 4ms/step - loss: 0.0014 - root_mean_squared_error: 0.0377 - val_loss: 0.0016 - val_root_mean_squared_error: 0.0404\n",
            "Epoch 110/300\n",
            "235/235 [==============================] - 1s 4ms/step - loss: 0.0014 - root_mean_squared_error: 0.0376 - val_loss: 2.7324e-04 - val_root_mean_squared_error: 0.0165\n",
            "Epoch 111/300\n",
            "235/235 [==============================] - 1s 4ms/step - loss: 0.0014 - root_mean_squared_error: 0.0369 - val_loss: 1.4385e-06 - val_root_mean_squared_error: 0.0012\n",
            "Epoch 112/300\n",
            "235/235 [==============================] - 1s 4ms/step - loss: 0.0014 - root_mean_squared_error: 0.0368 - val_loss: 1.5995e-05 - val_root_mean_squared_error: 0.0040\n",
            "Epoch 113/300\n",
            "235/235 [==============================] - 1s 4ms/step - loss: 0.0014 - root_mean_squared_error: 0.0374 - val_loss: 0.0011 - val_root_mean_squared_error: 0.0333\n",
            "Epoch 114/300\n",
            "235/235 [==============================] - 1s 4ms/step - loss: 0.0014 - root_mean_squared_error: 0.0379 - val_loss: 0.0013 - val_root_mean_squared_error: 0.0361\n",
            "Epoch 115/300\n",
            "235/235 [==============================] - 1s 4ms/step - loss: 0.0014 - root_mean_squared_error: 0.0369 - val_loss: 0.0027 - val_root_mean_squared_error: 0.0516\n",
            "Epoch 116/300\n",
            "235/235 [==============================] - 1s 4ms/step - loss: 0.0013 - root_mean_squared_error: 0.0366 - val_loss: 0.0017 - val_root_mean_squared_error: 0.0414\n",
            "Epoch 117/300\n",
            "235/235 [==============================] - 1s 4ms/step - loss: 0.0014 - root_mean_squared_error: 0.0368 - val_loss: 3.9714e-05 - val_root_mean_squared_error: 0.0063\n",
            "Epoch 118/300\n",
            "235/235 [==============================] - 1s 4ms/step - loss: 0.0013 - root_mean_squared_error: 0.0366 - val_loss: 6.1312e-04 - val_root_mean_squared_error: 0.0248\n",
            "Epoch 119/300\n",
            "235/235 [==============================] - 1s 4ms/step - loss: 0.0014 - root_mean_squared_error: 0.0377 - val_loss: 0.0017 - val_root_mean_squared_error: 0.0416\n",
            "Epoch 120/300\n",
            "235/235 [==============================] - 1s 5ms/step - loss: 0.0014 - root_mean_squared_error: 0.0373 - val_loss: 3.6591e-05 - val_root_mean_squared_error: 0.0060\n",
            "Epoch 121/300\n",
            "235/235 [==============================] - 1s 5ms/step - loss: 0.0014 - root_mean_squared_error: 0.0371 - val_loss: 3.9228e-04 - val_root_mean_squared_error: 0.0198\n",
            "Epoch 122/300\n",
            "235/235 [==============================] - 1s 4ms/step - loss: 0.0014 - root_mean_squared_error: 0.0370 - val_loss: 0.0022 - val_root_mean_squared_error: 0.0474\n",
            "Epoch 123/300\n",
            "235/235 [==============================] - 1s 4ms/step - loss: 0.0015 - root_mean_squared_error: 0.0383 - val_loss: 1.0264e-04 - val_root_mean_squared_error: 0.0101\n",
            "Epoch 124/300\n",
            "235/235 [==============================] - 1s 4ms/step - loss: 0.0013 - root_mean_squared_error: 0.0360 - val_loss: 0.0017 - val_root_mean_squared_error: 0.0414\n",
            "Epoch 125/300\n",
            "235/235 [==============================] - 1s 4ms/step - loss: 0.0014 - root_mean_squared_error: 0.0370 - val_loss: 2.4240e-04 - val_root_mean_squared_error: 0.0156\n",
            "Epoch 126/300\n",
            "235/235 [==============================] - 1s 4ms/step - loss: 0.0014 - root_mean_squared_error: 0.0380 - val_loss: 5.4851e-05 - val_root_mean_squared_error: 0.0074\n",
            "Epoch 127/300\n",
            "235/235 [==============================] - 1s 4ms/step - loss: 0.0014 - root_mean_squared_error: 0.0376 - val_loss: 0.0010 - val_root_mean_squared_error: 0.0318\n",
            "Epoch 128/300\n",
            "235/235 [==============================] - 1s 4ms/step - loss: 0.0014 - root_mean_squared_error: 0.0371 - val_loss: 1.9767e-05 - val_root_mean_squared_error: 0.0044\n",
            "Epoch 129/300\n",
            "235/235 [==============================] - 1s 4ms/step - loss: 0.0013 - root_mean_squared_error: 0.0360 - val_loss: 0.0020 - val_root_mean_squared_error: 0.0452\n",
            "Epoch 130/300\n",
            "235/235 [==============================] - 1s 4ms/step - loss: 0.0014 - root_mean_squared_error: 0.0374 - val_loss: 3.1821e-04 - val_root_mean_squared_error: 0.0178\n",
            "Epoch 131/300\n",
            "235/235 [==============================] - 1s 4ms/step - loss: 0.0014 - root_mean_squared_error: 0.0370 - val_loss: 0.0016 - val_root_mean_squared_error: 0.0399\n",
            "Epoch 132/300\n",
            "235/235 [==============================] - 1s 4ms/step - loss: 0.0013 - root_mean_squared_error: 0.0358 - val_loss: 5.0350e-04 - val_root_mean_squared_error: 0.0224\n",
            "Epoch 133/300\n",
            "235/235 [==============================] - 1s 4ms/step - loss: 0.0013 - root_mean_squared_error: 0.0367 - val_loss: 0.0033 - val_root_mean_squared_error: 0.0573\n",
            "Epoch 134/300\n",
            "235/235 [==============================] - 1s 4ms/step - loss: 0.0014 - root_mean_squared_error: 0.0370 - val_loss: 2.5646e-04 - val_root_mean_squared_error: 0.0160\n",
            "Epoch 135/300\n",
            "235/235 [==============================] - 1s 4ms/step - loss: 0.0013 - root_mean_squared_error: 0.0365 - val_loss: 0.0022 - val_root_mean_squared_error: 0.0468\n",
            "Epoch 136/300\n",
            "235/235 [==============================] - 1s 4ms/step - loss: 0.0013 - root_mean_squared_error: 0.0366 - val_loss: 9.0317e-04 - val_root_mean_squared_error: 0.0301\n",
            "Epoch 137/300\n",
            "235/235 [==============================] - 1s 4ms/step - loss: 0.0013 - root_mean_squared_error: 0.0362 - val_loss: 2.3150e-06 - val_root_mean_squared_error: 0.0015\n",
            "Epoch 138/300\n",
            "235/235 [==============================] - 1s 4ms/step - loss: 0.0013 - root_mean_squared_error: 0.0361 - val_loss: 1.4739e-05 - val_root_mean_squared_error: 0.0038\n",
            "Epoch 139/300\n",
            "235/235 [==============================] - 1s 4ms/step - loss: 0.0013 - root_mean_squared_error: 0.0360 - val_loss: 0.0012 - val_root_mean_squared_error: 0.0346\n",
            "Epoch 140/300\n",
            "235/235 [==============================] - 1s 4ms/step - loss: 0.0014 - root_mean_squared_error: 0.0372 - val_loss: 7.9687e-04 - val_root_mean_squared_error: 0.0282\n",
            "Epoch 141/300\n",
            "235/235 [==============================] - 1s 4ms/step - loss: 0.0013 - root_mean_squared_error: 0.0361 - val_loss: 7.8915e-05 - val_root_mean_squared_error: 0.0089\n",
            "Epoch 142/300\n",
            "235/235 [==============================] - 1s 4ms/step - loss: 0.0014 - root_mean_squared_error: 0.0375 - val_loss: 6.0983e-06 - val_root_mean_squared_error: 0.0025\n",
            "Epoch 143/300\n",
            "235/235 [==============================] - 1s 4ms/step - loss: 0.0014 - root_mean_squared_error: 0.0370 - val_loss: 2.2005e-04 - val_root_mean_squared_error: 0.0148\n",
            "Epoch 144/300\n",
            "235/235 [==============================] - 1s 4ms/step - loss: 0.0014 - root_mean_squared_error: 0.0372 - val_loss: 5.6985e-04 - val_root_mean_squared_error: 0.0239\n",
            "Epoch 145/300\n",
            "235/235 [==============================] - 1s 4ms/step - loss: 0.0015 - root_mean_squared_error: 0.0382 - val_loss: 8.8683e-05 - val_root_mean_squared_error: 0.0094\n",
            "Epoch 146/300\n",
            "235/235 [==============================] - 1s 4ms/step - loss: 0.0013 - root_mean_squared_error: 0.0360 - val_loss: 5.7938e-04 - val_root_mean_squared_error: 0.0241\n",
            "Epoch 147/300\n",
            "235/235 [==============================] - 1s 4ms/step - loss: 0.0012 - root_mean_squared_error: 0.0353 - val_loss: 3.2211e-05 - val_root_mean_squared_error: 0.0057\n",
            "Epoch 148/300\n",
            "235/235 [==============================] - 1s 4ms/step - loss: 0.0013 - root_mean_squared_error: 0.0357 - val_loss: 8.4550e-04 - val_root_mean_squared_error: 0.0291\n",
            "Epoch 149/300\n",
            "235/235 [==============================] - 1s 4ms/step - loss: 0.0014 - root_mean_squared_error: 0.0375 - val_loss: 1.5923e-04 - val_root_mean_squared_error: 0.0126\n",
            "Epoch 150/300\n",
            "235/235 [==============================] - 1s 4ms/step - loss: 0.0013 - root_mean_squared_error: 0.0354 - val_loss: 4.3809e-04 - val_root_mean_squared_error: 0.0209\n",
            "Epoch 151/300\n",
            "235/235 [==============================] - 1s 4ms/step - loss: 0.0013 - root_mean_squared_error: 0.0363 - val_loss: 2.2792e-04 - val_root_mean_squared_error: 0.0151\n",
            "Epoch 152/300\n",
            "235/235 [==============================] - 1s 4ms/step - loss: 0.0014 - root_mean_squared_error: 0.0371 - val_loss: 6.5432e-04 - val_root_mean_squared_error: 0.0256\n",
            "Epoch 153/300\n",
            "235/235 [==============================] - 1s 4ms/step - loss: 0.0013 - root_mean_squared_error: 0.0365 - val_loss: 3.8577e-05 - val_root_mean_squared_error: 0.0062\n",
            "Epoch 154/300\n",
            "235/235 [==============================] - 1s 4ms/step - loss: 0.0014 - root_mean_squared_error: 0.0371 - val_loss: 8.6371e-05 - val_root_mean_squared_error: 0.0093\n",
            "Epoch 155/300\n",
            "235/235 [==============================] - 1s 4ms/step - loss: 0.0013 - root_mean_squared_error: 0.0362 - val_loss: 3.9878e-06 - val_root_mean_squared_error: 0.0020\n",
            "Epoch 156/300\n",
            "235/235 [==============================] - 1s 4ms/step - loss: 0.0014 - root_mean_squared_error: 0.0369 - val_loss: 5.8594e-04 - val_root_mean_squared_error: 0.0242\n",
            "Epoch 157/300\n",
            "235/235 [==============================] - 1s 4ms/step - loss: 0.0013 - root_mean_squared_error: 0.0357 - val_loss: 0.0019 - val_root_mean_squared_error: 0.0436\n",
            "Epoch 158/300\n",
            "235/235 [==============================] - 1s 4ms/step - loss: 0.0012 - root_mean_squared_error: 0.0353 - val_loss: 5.2998e-05 - val_root_mean_squared_error: 0.0073\n",
            "Epoch 159/300\n",
            "235/235 [==============================] - 1s 4ms/step - loss: 0.0013 - root_mean_squared_error: 0.0356 - val_loss: 6.8043e-05 - val_root_mean_squared_error: 0.0082\n",
            "Epoch 160/300\n",
            "235/235 [==============================] - 1s 4ms/step - loss: 0.0013 - root_mean_squared_error: 0.0363 - val_loss: 1.4201e-04 - val_root_mean_squared_error: 0.0119\n",
            "Epoch 161/300\n",
            "235/235 [==============================] - 1s 4ms/step - loss: 0.0013 - root_mean_squared_error: 0.0358 - val_loss: 0.0012 - val_root_mean_squared_error: 0.0346\n",
            "Epoch 162/300\n",
            "235/235 [==============================] - 1s 4ms/step - loss: 0.0012 - root_mean_squared_error: 0.0351 - val_loss: 1.6949e-04 - val_root_mean_squared_error: 0.0130\n",
            "Epoch 163/300\n",
            "235/235 [==============================] - 1s 4ms/step - loss: 0.0013 - root_mean_squared_error: 0.0359 - val_loss: 3.2950e-06 - val_root_mean_squared_error: 0.0018\n",
            "Epoch 164/300\n",
            "235/235 [==============================] - 1s 4ms/step - loss: 0.0013 - root_mean_squared_error: 0.0367 - val_loss: 7.8017e-04 - val_root_mean_squared_error: 0.0279\n",
            "Epoch 165/300\n",
            "235/235 [==============================] - 1s 4ms/step - loss: 0.0014 - root_mean_squared_error: 0.0370 - val_loss: 1.3927e-04 - val_root_mean_squared_error: 0.0118\n",
            "Epoch 166/300\n",
            "235/235 [==============================] - 1s 4ms/step - loss: 0.0014 - root_mean_squared_error: 0.0375 - val_loss: 3.0257e-04 - val_root_mean_squared_error: 0.0174\n",
            "Epoch 167/300\n",
            "235/235 [==============================] - 1s 4ms/step - loss: 0.0014 - root_mean_squared_error: 0.0379 - val_loss: 0.0017 - val_root_mean_squared_error: 0.0415\n",
            "Epoch 168/300\n",
            "235/235 [==============================] - 1s 4ms/step - loss: 0.0014 - root_mean_squared_error: 0.0369 - val_loss: 2.2268e-04 - val_root_mean_squared_error: 0.0149\n",
            "Epoch 169/300\n",
            "235/235 [==============================] - 1s 4ms/step - loss: 0.0012 - root_mean_squared_error: 0.0353 - val_loss: 1.8869e-05 - val_root_mean_squared_error: 0.0043\n",
            "Epoch 170/300\n",
            "235/235 [==============================] - 1s 4ms/step - loss: 0.0013 - root_mean_squared_error: 0.0357 - val_loss: 0.0010 - val_root_mean_squared_error: 0.0319\n",
            "Epoch 171/300\n",
            "235/235 [==============================] - 1s 4ms/step - loss: 0.0013 - root_mean_squared_error: 0.0367 - val_loss: 3.8920e-04 - val_root_mean_squared_error: 0.0197\n",
            "Epoch 172/300\n",
            "235/235 [==============================] - 1s 4ms/step - loss: 0.0013 - root_mean_squared_error: 0.0361 - val_loss: 8.4916e-05 - val_root_mean_squared_error: 0.0092\n",
            "Epoch 173/300\n",
            "235/235 [==============================] - 1s 4ms/step - loss: 0.0013 - root_mean_squared_error: 0.0354 - val_loss: 0.0016 - val_root_mean_squared_error: 0.0398\n",
            "Epoch 174/300\n",
            "235/235 [==============================] - 1s 4ms/step - loss: 0.0013 - root_mean_squared_error: 0.0363 - val_loss: 6.6251e-05 - val_root_mean_squared_error: 0.0081\n",
            "Epoch 175/300\n",
            "235/235 [==============================] - 1s 4ms/step - loss: 0.0013 - root_mean_squared_error: 0.0365 - val_loss: 2.9693e-04 - val_root_mean_squared_error: 0.0172\n",
            "Epoch 176/300\n",
            "235/235 [==============================] - 1s 4ms/step - loss: 0.0013 - root_mean_squared_error: 0.0357 - val_loss: 0.0015 - val_root_mean_squared_error: 0.0386\n",
            "Epoch 177/300\n",
            "235/235 [==============================] - 1s 4ms/step - loss: 0.0013 - root_mean_squared_error: 0.0361 - val_loss: 6.0833e-05 - val_root_mean_squared_error: 0.0078\n",
            "Epoch 178/300\n",
            "235/235 [==============================] - 1s 4ms/step - loss: 0.0014 - root_mean_squared_error: 0.0368 - val_loss: 1.0210e-06 - val_root_mean_squared_error: 0.0010\n",
            "Epoch 179/300\n",
            "235/235 [==============================] - 1s 4ms/step - loss: 0.0013 - root_mean_squared_error: 0.0366 - val_loss: 1.2842e-06 - val_root_mean_squared_error: 0.0011\n",
            "Epoch 180/300\n",
            "235/235 [==============================] - 1s 4ms/step - loss: 0.0013 - root_mean_squared_error: 0.0361 - val_loss: 8.7143e-04 - val_root_mean_squared_error: 0.0295\n",
            "Epoch 181/300\n",
            "235/235 [==============================] - 1s 4ms/step - loss: 0.0014 - root_mean_squared_error: 0.0376 - val_loss: 4.3048e-04 - val_root_mean_squared_error: 0.0207\n",
            "Epoch 182/300\n",
            "235/235 [==============================] - 1s 4ms/step - loss: 0.0012 - root_mean_squared_error: 0.0347 - val_loss: 1.4474e-04 - val_root_mean_squared_error: 0.0120\n",
            "Epoch 183/300\n",
            "235/235 [==============================] - 1s 4ms/step - loss: 0.0013 - root_mean_squared_error: 0.0360 - val_loss: 3.1321e-04 - val_root_mean_squared_error: 0.0177\n",
            "Epoch 184/300\n",
            "235/235 [==============================] - 1s 4ms/step - loss: 0.0012 - root_mean_squared_error: 0.0352 - val_loss: 1.3522e-04 - val_root_mean_squared_error: 0.0116\n",
            "Epoch 185/300\n",
            "235/235 [==============================] - 1s 4ms/step - loss: 0.0013 - root_mean_squared_error: 0.0367 - val_loss: 8.1447e-04 - val_root_mean_squared_error: 0.0285\n",
            "Epoch 186/300\n",
            "235/235 [==============================] - 1s 4ms/step - loss: 0.0014 - root_mean_squared_error: 0.0371 - val_loss: 6.6011e-04 - val_root_mean_squared_error: 0.0257\n",
            "Epoch 187/300\n",
            "235/235 [==============================] - 1s 4ms/step - loss: 0.0012 - root_mean_squared_error: 0.0347 - val_loss: 0.0013 - val_root_mean_squared_error: 0.0355\n",
            "Epoch 188/300\n",
            "235/235 [==============================] - 1s 4ms/step - loss: 0.0012 - root_mean_squared_error: 0.0349 - val_loss: 6.3608e-06 - val_root_mean_squared_error: 0.0025\n",
            "Epoch 189/300\n",
            "235/235 [==============================] - 1s 4ms/step - loss: 0.0013 - root_mean_squared_error: 0.0359 - val_loss: 0.0032 - val_root_mean_squared_error: 0.0565\n",
            "Epoch 190/300\n",
            "235/235 [==============================] - 1s 4ms/step - loss: 0.0014 - root_mean_squared_error: 0.0373 - val_loss: 2.6434e-05 - val_root_mean_squared_error: 0.0051\n",
            "Epoch 191/300\n",
            "235/235 [==============================] - 1s 4ms/step - loss: 0.0013 - root_mean_squared_error: 0.0355 - val_loss: 6.8930e-04 - val_root_mean_squared_error: 0.0263\n",
            "Epoch 192/300\n",
            "235/235 [==============================] - 1s 4ms/step - loss: 0.0013 - root_mean_squared_error: 0.0360 - val_loss: 5.4050e-04 - val_root_mean_squared_error: 0.0232\n",
            "Epoch 193/300\n",
            "228/235 [============================>.] - ETA: 0s - loss: 0.0013 - root_mean_squared_error: 0.0354INFO:tensorflow:Assets written to: model/assets\n",
            "235/235 [==============================] - 2s 7ms/step - loss: 0.0012 - root_mean_squared_error: 0.0353 - val_loss: 5.0789e-07 - val_root_mean_squared_error: 7.1267e-04\n",
            "Epoch 194/300\n",
            "235/235 [==============================] - 1s 4ms/step - loss: 0.0012 - root_mean_squared_error: 0.0352 - val_loss: 5.9374e-05 - val_root_mean_squared_error: 0.0077\n",
            "Epoch 195/300\n",
            "235/235 [==============================] - 1s 4ms/step - loss: 0.0013 - root_mean_squared_error: 0.0355 - val_loss: 5.7603e-04 - val_root_mean_squared_error: 0.0240\n",
            "Epoch 196/300\n",
            "235/235 [==============================] - 1s 4ms/step - loss: 0.0013 - root_mean_squared_error: 0.0357 - val_loss: 6.7485e-07 - val_root_mean_squared_error: 8.2149e-04\n",
            "Epoch 197/300\n",
            "235/235 [==============================] - 1s 4ms/step - loss: 0.0013 - root_mean_squared_error: 0.0356 - val_loss: 3.4182e-04 - val_root_mean_squared_error: 0.0185\n",
            "Epoch 198/300\n",
            "235/235 [==============================] - 1s 4ms/step - loss: 0.0013 - root_mean_squared_error: 0.0357 - val_loss: 9.8132e-05 - val_root_mean_squared_error: 0.0099\n",
            "Epoch 199/300\n",
            "235/235 [==============================] - 1s 4ms/step - loss: 0.0012 - root_mean_squared_error: 0.0351 - val_loss: 1.5930e-04 - val_root_mean_squared_error: 0.0126\n",
            "Epoch 200/300\n",
            "235/235 [==============================] - 1s 4ms/step - loss: 0.0012 - root_mean_squared_error: 0.0351 - val_loss: 2.3336e-05 - val_root_mean_squared_error: 0.0048\n",
            "Epoch 201/300\n",
            "235/235 [==============================] - 1s 4ms/step - loss: 0.0013 - root_mean_squared_error: 0.0355 - val_loss: 0.0013 - val_root_mean_squared_error: 0.0357\n",
            "Epoch 202/300\n",
            "235/235 [==============================] - 1s 4ms/step - loss: 0.0013 - root_mean_squared_error: 0.0354 - val_loss: 7.6575e-04 - val_root_mean_squared_error: 0.0277\n",
            "Epoch 203/300\n",
            "235/235 [==============================] - 1s 4ms/step - loss: 0.0012 - root_mean_squared_error: 0.0347 - val_loss: 9.1864e-05 - val_root_mean_squared_error: 0.0096\n",
            "Epoch 204/300\n",
            "235/235 [==============================] - 1s 4ms/step - loss: 0.0012 - root_mean_squared_error: 0.0352 - val_loss: 4.3771e-04 - val_root_mean_squared_error: 0.0209\n",
            "Epoch 205/300\n",
            "235/235 [==============================] - 1s 4ms/step - loss: 0.0013 - root_mean_squared_error: 0.0363 - val_loss: 4.4563e-04 - val_root_mean_squared_error: 0.0211\n",
            "Epoch 206/300\n",
            "235/235 [==============================] - 1s 4ms/step - loss: 0.0012 - root_mean_squared_error: 0.0347 - val_loss: 5.9726e-04 - val_root_mean_squared_error: 0.0244\n",
            "Epoch 207/300\n",
            "235/235 [==============================] - 1s 4ms/step - loss: 0.0013 - root_mean_squared_error: 0.0355 - val_loss: 5.3155e-04 - val_root_mean_squared_error: 0.0231\n",
            "Epoch 208/300\n",
            "235/235 [==============================] - 1s 4ms/step - loss: 0.0012 - root_mean_squared_error: 0.0353 - val_loss: 3.0009e-05 - val_root_mean_squared_error: 0.0055\n",
            "Epoch 209/300\n",
            "235/235 [==============================] - 1s 4ms/step - loss: 0.0012 - root_mean_squared_error: 0.0350 - val_loss: 1.7238e-04 - val_root_mean_squared_error: 0.0131\n",
            "Epoch 210/300\n",
            "235/235 [==============================] - 1s 4ms/step - loss: 0.0013 - root_mean_squared_error: 0.0355 - val_loss: 8.0828e-04 - val_root_mean_squared_error: 0.0284\n",
            "Epoch 211/300\n",
            "235/235 [==============================] - 1s 4ms/step - loss: 0.0012 - root_mean_squared_error: 0.0347 - val_loss: 1.3210e-04 - val_root_mean_squared_error: 0.0115\n",
            "Epoch 212/300\n",
            "235/235 [==============================] - 1s 4ms/step - loss: 0.0013 - root_mean_squared_error: 0.0361 - val_loss: 7.3670e-05 - val_root_mean_squared_error: 0.0086\n",
            "Epoch 213/300\n",
            "235/235 [==============================] - 1s 4ms/step - loss: 0.0013 - root_mean_squared_error: 0.0355 - val_loss: 9.8797e-05 - val_root_mean_squared_error: 0.0099\n",
            "Epoch 214/300\n",
            "235/235 [==============================] - 1s 4ms/step - loss: 0.0013 - root_mean_squared_error: 0.0354 - val_loss: 1.7351e-04 - val_root_mean_squared_error: 0.0132\n",
            "Epoch 215/300\n",
            "235/235 [==============================] - 1s 4ms/step - loss: 0.0012 - root_mean_squared_error: 0.0347 - val_loss: 2.7988e-06 - val_root_mean_squared_error: 0.0017\n",
            "Epoch 216/300\n",
            "235/235 [==============================] - 1s 4ms/step - loss: 0.0012 - root_mean_squared_error: 0.0353 - val_loss: 2.6913e-04 - val_root_mean_squared_error: 0.0164\n",
            "Epoch 217/300\n",
            "235/235 [==============================] - 1s 4ms/step - loss: 0.0012 - root_mean_squared_error: 0.0352 - val_loss: 0.0015 - val_root_mean_squared_error: 0.0383\n",
            "Epoch 218/300\n",
            "235/235 [==============================] - 1s 4ms/step - loss: 0.0012 - root_mean_squared_error: 0.0349 - val_loss: 5.3083e-04 - val_root_mean_squared_error: 0.0230\n",
            "Epoch 219/300\n",
            "235/235 [==============================] - 1s 4ms/step - loss: 0.0012 - root_mean_squared_error: 0.0345 - val_loss: 1.3204e-05 - val_root_mean_squared_error: 0.0036\n",
            "Epoch 220/300\n",
            "235/235 [==============================] - 1s 4ms/step - loss: 0.0012 - root_mean_squared_error: 0.0350 - val_loss: 4.5309e-04 - val_root_mean_squared_error: 0.0213\n",
            "Epoch 221/300\n",
            "235/235 [==============================] - 1s 4ms/step - loss: 0.0014 - root_mean_squared_error: 0.0367 - val_loss: 5.4664e-04 - val_root_mean_squared_error: 0.0234\n",
            "Epoch 222/300\n",
            "235/235 [==============================] - 1s 4ms/step - loss: 0.0012 - root_mean_squared_error: 0.0347 - val_loss: 6.8714e-04 - val_root_mean_squared_error: 0.0262\n",
            "Epoch 223/300\n",
            "235/235 [==============================] - 1s 4ms/step - loss: 0.0012 - root_mean_squared_error: 0.0350 - val_loss: 3.9321e-04 - val_root_mean_squared_error: 0.0198\n",
            "Epoch 224/300\n",
            "235/235 [==============================] - 1s 4ms/step - loss: 0.0013 - root_mean_squared_error: 0.0359 - val_loss: 1.7712e-04 - val_root_mean_squared_error: 0.0133\n",
            "Epoch 225/300\n",
            "235/235 [==============================] - 1s 4ms/step - loss: 0.0012 - root_mean_squared_error: 0.0348 - val_loss: 6.9245e-04 - val_root_mean_squared_error: 0.0263\n",
            "Epoch 226/300\n",
            "235/235 [==============================] - 1s 4ms/step - loss: 0.0013 - root_mean_squared_error: 0.0356 - val_loss: 0.0028 - val_root_mean_squared_error: 0.0529\n",
            "Epoch 227/300\n",
            "235/235 [==============================] - 1s 4ms/step - loss: 0.0013 - root_mean_squared_error: 0.0355 - val_loss: 2.5006e-06 - val_root_mean_squared_error: 0.0016\n",
            "Epoch 228/300\n",
            "235/235 [==============================] - 1s 4ms/step - loss: 0.0012 - root_mean_squared_error: 0.0344 - val_loss: 3.8493e-04 - val_root_mean_squared_error: 0.0196\n",
            "Epoch 229/300\n",
            "235/235 [==============================] - 1s 4ms/step - loss: 0.0012 - root_mean_squared_error: 0.0347 - val_loss: 2.8922e-04 - val_root_mean_squared_error: 0.0170\n",
            "Epoch 230/300\n",
            "235/235 [==============================] - 1s 4ms/step - loss: 0.0013 - root_mean_squared_error: 0.0356 - val_loss: 1.2658e-05 - val_root_mean_squared_error: 0.0036\n",
            "Epoch 231/300\n",
            "235/235 [==============================] - 1s 4ms/step - loss: 0.0013 - root_mean_squared_error: 0.0363 - val_loss: 4.4881e-04 - val_root_mean_squared_error: 0.0212\n",
            "Epoch 232/300\n",
            "235/235 [==============================] - 1s 4ms/step - loss: 0.0013 - root_mean_squared_error: 0.0355 - val_loss: 1.2033e-05 - val_root_mean_squared_error: 0.0035\n",
            "Epoch 233/300\n",
            "235/235 [==============================] - 1s 4ms/step - loss: 0.0012 - root_mean_squared_error: 0.0348 - val_loss: 6.4055e-04 - val_root_mean_squared_error: 0.0253\n",
            "Epoch 234/300\n",
            "235/235 [==============================] - 1s 4ms/step - loss: 0.0012 - root_mean_squared_error: 0.0351 - val_loss: 1.0278e-04 - val_root_mean_squared_error: 0.0101\n",
            "Epoch 235/300\n",
            "235/235 [==============================] - 1s 4ms/step - loss: 0.0012 - root_mean_squared_error: 0.0353 - val_loss: 7.4635e-04 - val_root_mean_squared_error: 0.0273\n",
            "Epoch 236/300\n",
            "235/235 [==============================] - 1s 4ms/step - loss: 0.0012 - root_mean_squared_error: 0.0346 - val_loss: 1.0447e-05 - val_root_mean_squared_error: 0.0032\n",
            "Epoch 237/300\n",
            "235/235 [==============================] - 1s 4ms/step - loss: 0.0013 - root_mean_squared_error: 0.0355 - val_loss: 7.2829e-04 - val_root_mean_squared_error: 0.0270\n",
            "Epoch 238/300\n",
            "235/235 [==============================] - 1s 4ms/step - loss: 0.0012 - root_mean_squared_error: 0.0351 - val_loss: 1.9038e-04 - val_root_mean_squared_error: 0.0138\n",
            "Epoch 239/300\n",
            "235/235 [==============================] - 1s 4ms/step - loss: 0.0012 - root_mean_squared_error: 0.0350 - val_loss: 9.9324e-07 - val_root_mean_squared_error: 9.9661e-04\n",
            "Epoch 240/300\n",
            "235/235 [==============================] - 1s 4ms/step - loss: 0.0012 - root_mean_squared_error: 0.0351 - val_loss: 6.7217e-04 - val_root_mean_squared_error: 0.0259\n",
            "Epoch 241/300\n",
            "235/235 [==============================] - 1s 4ms/step - loss: 0.0012 - root_mean_squared_error: 0.0347 - val_loss: 6.0048e-05 - val_root_mean_squared_error: 0.0077\n",
            "Epoch 242/300\n",
            "235/235 [==============================] - 1s 4ms/step - loss: 0.0012 - root_mean_squared_error: 0.0349 - val_loss: 3.0042e-04 - val_root_mean_squared_error: 0.0173\n",
            "Epoch 243/300\n",
            "235/235 [==============================] - 1s 4ms/step - loss: 0.0012 - root_mean_squared_error: 0.0350 - val_loss: 2.9499e-04 - val_root_mean_squared_error: 0.0172\n",
            "Epoch 244/300\n",
            "235/235 [==============================] - 1s 4ms/step - loss: 0.0012 - root_mean_squared_error: 0.0346 - val_loss: 7.7763e-04 - val_root_mean_squared_error: 0.0279\n",
            "Epoch 245/300\n",
            "235/235 [==============================] - 1s 4ms/step - loss: 0.0013 - root_mean_squared_error: 0.0355 - val_loss: 2.1151e-04 - val_root_mean_squared_error: 0.0145\n",
            "Epoch 246/300\n",
            "235/235 [==============================] - 1s 4ms/step - loss: 0.0012 - root_mean_squared_error: 0.0345 - val_loss: 2.4912e-04 - val_root_mean_squared_error: 0.0158\n",
            "Epoch 247/300\n",
            "235/235 [==============================] - 1s 4ms/step - loss: 0.0012 - root_mean_squared_error: 0.0351 - val_loss: 0.0010 - val_root_mean_squared_error: 0.0322\n",
            "Epoch 248/300\n",
            "235/235 [==============================] - 1s 4ms/step - loss: 0.0012 - root_mean_squared_error: 0.0344 - val_loss: 8.6284e-05 - val_root_mean_squared_error: 0.0093\n",
            "Epoch 249/300\n",
            "235/235 [==============================] - 1s 4ms/step - loss: 0.0012 - root_mean_squared_error: 0.0341 - val_loss: 4.6194e-06 - val_root_mean_squared_error: 0.0021\n",
            "Epoch 250/300\n",
            "235/235 [==============================] - 1s 4ms/step - loss: 0.0012 - root_mean_squared_error: 0.0345 - val_loss: 1.7953e-05 - val_root_mean_squared_error: 0.0042\n",
            "Epoch 251/300\n",
            "235/235 [==============================] - 1s 4ms/step - loss: 0.0012 - root_mean_squared_error: 0.0345 - val_loss: 1.5619e-04 - val_root_mean_squared_error: 0.0125\n",
            "Epoch 252/300\n",
            "235/235 [==============================] - 1s 4ms/step - loss: 0.0012 - root_mean_squared_error: 0.0349 - val_loss: 4.8834e-04 - val_root_mean_squared_error: 0.0221\n",
            "Epoch 253/300\n",
            "235/235 [==============================] - 1s 4ms/step - loss: 0.0012 - root_mean_squared_error: 0.0346 - val_loss: 0.0013 - val_root_mean_squared_error: 0.0354\n",
            "Epoch 254/300\n",
            "235/235 [==============================] - 1s 4ms/step - loss: 0.0012 - root_mean_squared_error: 0.0351 - val_loss: 3.6221e-05 - val_root_mean_squared_error: 0.0060\n",
            "Epoch 255/300\n",
            "235/235 [==============================] - 1s 4ms/step - loss: 0.0011 - root_mean_squared_error: 0.0333 - val_loss: 1.2415e-04 - val_root_mean_squared_error: 0.0111\n",
            "Epoch 256/300\n",
            "235/235 [==============================] - 1s 4ms/step - loss: 0.0012 - root_mean_squared_error: 0.0341 - val_loss: 8.0453e-05 - val_root_mean_squared_error: 0.0090\n",
            "Epoch 257/300\n",
            "235/235 [==============================] - 1s 4ms/step - loss: 0.0012 - root_mean_squared_error: 0.0344 - val_loss: 1.8009e-05 - val_root_mean_squared_error: 0.0042\n",
            "Epoch 258/300\n",
            "235/235 [==============================] - 1s 4ms/step - loss: 0.0011 - root_mean_squared_error: 0.0336 - val_loss: 1.5492e-04 - val_root_mean_squared_error: 0.0124\n",
            "Epoch 259/300\n",
            "235/235 [==============================] - 1s 4ms/step - loss: 0.0012 - root_mean_squared_error: 0.0347 - val_loss: 1.9440e-04 - val_root_mean_squared_error: 0.0139\n",
            "Epoch 260/300\n",
            "235/235 [==============================] - 1s 4ms/step - loss: 0.0012 - root_mean_squared_error: 0.0347 - val_loss: 0.0010 - val_root_mean_squared_error: 0.0317\n",
            "Epoch 261/300\n",
            "235/235 [==============================] - 1s 4ms/step - loss: 0.0012 - root_mean_squared_error: 0.0346 - val_loss: 1.2508e-04 - val_root_mean_squared_error: 0.0112\n",
            "Epoch 262/300\n",
            "235/235 [==============================] - 1s 4ms/step - loss: 0.0012 - root_mean_squared_error: 0.0348 - val_loss: 0.0013 - val_root_mean_squared_error: 0.0362\n",
            "Epoch 263/300\n",
            "235/235 [==============================] - 1s 4ms/step - loss: 0.0013 - root_mean_squared_error: 0.0355 - val_loss: 0.0013 - val_root_mean_squared_error: 0.0360\n",
            "Epoch 264/300\n",
            "235/235 [==============================] - 1s 4ms/step - loss: 0.0011 - root_mean_squared_error: 0.0331 - val_loss: 0.0014 - val_root_mean_squared_error: 0.0370\n",
            "Epoch 265/300\n",
            "235/235 [==============================] - 1s 4ms/step - loss: 0.0012 - root_mean_squared_error: 0.0349 - val_loss: 4.0181e-04 - val_root_mean_squared_error: 0.0200\n",
            "Epoch 266/300\n",
            "235/235 [==============================] - 1s 4ms/step - loss: 0.0012 - root_mean_squared_error: 0.0352 - val_loss: 6.0174e-04 - val_root_mean_squared_error: 0.0245\n",
            "Epoch 267/300\n",
            "235/235 [==============================] - 1s 4ms/step - loss: 0.0012 - root_mean_squared_error: 0.0341 - val_loss: 0.0011 - val_root_mean_squared_error: 0.0331\n",
            "Epoch 268/300\n",
            "235/235 [==============================] - 1s 4ms/step - loss: 0.0012 - root_mean_squared_error: 0.0351 - val_loss: 3.7635e-05 - val_root_mean_squared_error: 0.0061\n",
            "Epoch 269/300\n",
            "235/235 [==============================] - 1s 5ms/step - loss: 0.0012 - root_mean_squared_error: 0.0340 - val_loss: 2.0263e-05 - val_root_mean_squared_error: 0.0045\n",
            "Epoch 270/300\n",
            "235/235 [==============================] - 1s 5ms/step - loss: 0.0012 - root_mean_squared_error: 0.0353 - val_loss: 2.5389e-05 - val_root_mean_squared_error: 0.0050\n",
            "Epoch 271/300\n",
            "235/235 [==============================] - 1s 5ms/step - loss: 0.0012 - root_mean_squared_error: 0.0348 - val_loss: 6.9029e-05 - val_root_mean_squared_error: 0.0083\n",
            "Epoch 272/300\n",
            "235/235 [==============================] - 1s 4ms/step - loss: 0.0012 - root_mean_squared_error: 0.0341 - val_loss: 4.4948e-04 - val_root_mean_squared_error: 0.0212\n",
            "Epoch 273/300\n",
            "235/235 [==============================] - 1s 4ms/step - loss: 0.0011 - root_mean_squared_error: 0.0339 - val_loss: 5.1492e-04 - val_root_mean_squared_error: 0.0227\n",
            "Epoch 274/300\n",
            "235/235 [==============================] - 1s 4ms/step - loss: 0.0012 - root_mean_squared_error: 0.0341 - val_loss: 0.0019 - val_root_mean_squared_error: 0.0440\n",
            "Epoch 275/300\n",
            "235/235 [==============================] - 1s 4ms/step - loss: 0.0012 - root_mean_squared_error: 0.0346 - val_loss: 2.8883e-04 - val_root_mean_squared_error: 0.0170\n",
            "Epoch 276/300\n",
            "235/235 [==============================] - 1s 4ms/step - loss: 0.0012 - root_mean_squared_error: 0.0345 - val_loss: 8.4121e-05 - val_root_mean_squared_error: 0.0092\n",
            "Epoch 277/300\n",
            "235/235 [==============================] - 1s 4ms/step - loss: 0.0011 - root_mean_squared_error: 0.0338 - val_loss: 1.3615e-04 - val_root_mean_squared_error: 0.0117\n",
            "Epoch 278/300\n",
            "235/235 [==============================] - 1s 4ms/step - loss: 0.0012 - root_mean_squared_error: 0.0340 - val_loss: 1.5133e-04 - val_root_mean_squared_error: 0.0123\n",
            "Epoch 279/300\n",
            "235/235 [==============================] - 1s 4ms/step - loss: 0.0012 - root_mean_squared_error: 0.0340 - val_loss: 1.6413e-04 - val_root_mean_squared_error: 0.0128\n",
            "Epoch 280/300\n",
            "235/235 [==============================] - 1s 4ms/step - loss: 0.0011 - root_mean_squared_error: 0.0339 - val_loss: 5.5198e-05 - val_root_mean_squared_error: 0.0074\n",
            "Epoch 281/300\n",
            "235/235 [==============================] - 1s 4ms/step - loss: 0.0012 - root_mean_squared_error: 0.0342 - val_loss: 6.8066e-05 - val_root_mean_squared_error: 0.0083\n",
            "Epoch 282/300\n",
            "235/235 [==============================] - 1s 4ms/step - loss: 0.0012 - root_mean_squared_error: 0.0340 - val_loss: 6.3848e-05 - val_root_mean_squared_error: 0.0080\n",
            "Epoch 283/300\n",
            "235/235 [==============================] - 1s 4ms/step - loss: 0.0012 - root_mean_squared_error: 0.0353 - val_loss: 0.0014 - val_root_mean_squared_error: 0.0379\n",
            "Epoch 284/300\n",
            "235/235 [==============================] - 1s 4ms/step - loss: 0.0011 - root_mean_squared_error: 0.0335 - val_loss: 1.2003e-04 - val_root_mean_squared_error: 0.0110\n",
            "Epoch 285/300\n",
            "235/235 [==============================] - 1s 4ms/step - loss: 0.0011 - root_mean_squared_error: 0.0338 - val_loss: 1.7547e-04 - val_root_mean_squared_error: 0.0132\n",
            "Epoch 286/300\n",
            "235/235 [==============================] - 1s 4ms/step - loss: 0.0011 - root_mean_squared_error: 0.0336 - val_loss: 1.3735e-04 - val_root_mean_squared_error: 0.0117\n",
            "Epoch 287/300\n",
            "235/235 [==============================] - 1s 4ms/step - loss: 0.0012 - root_mean_squared_error: 0.0342 - val_loss: 1.8999e-04 - val_root_mean_squared_error: 0.0138\n",
            "Epoch 288/300\n",
            "235/235 [==============================] - 1s 4ms/step - loss: 0.0011 - root_mean_squared_error: 0.0339 - val_loss: 7.0406e-04 - val_root_mean_squared_error: 0.0265\n",
            "Epoch 289/300\n",
            "235/235 [==============================] - 1s 4ms/step - loss: 0.0011 - root_mean_squared_error: 0.0334 - val_loss: 2.3152e-04 - val_root_mean_squared_error: 0.0152\n",
            "Epoch 290/300\n",
            "235/235 [==============================] - 1s 4ms/step - loss: 0.0011 - root_mean_squared_error: 0.0337 - val_loss: 2.1783e-04 - val_root_mean_squared_error: 0.0148\n",
            "Epoch 291/300\n",
            "235/235 [==============================] - 1s 4ms/step - loss: 0.0011 - root_mean_squared_error: 0.0336 - val_loss: 2.6162e-04 - val_root_mean_squared_error: 0.0162\n",
            "Epoch 292/300\n",
            "235/235 [==============================] - 1s 4ms/step - loss: 0.0011 - root_mean_squared_error: 0.0338 - val_loss: 1.1385e-04 - val_root_mean_squared_error: 0.0107\n",
            "Epoch 293/300\n",
            "235/235 [==============================] - 1s 4ms/step - loss: 0.0011 - root_mean_squared_error: 0.0339 - val_loss: 0.0019 - val_root_mean_squared_error: 0.0432\n",
            "Epoch 294/300\n",
            "235/235 [==============================] - 1s 4ms/step - loss: 0.0012 - root_mean_squared_error: 0.0343 - val_loss: 0.0010 - val_root_mean_squared_error: 0.0323\n",
            "Epoch 295/300\n",
            "235/235 [==============================] - 1s 4ms/step - loss: 0.0012 - root_mean_squared_error: 0.0345 - val_loss: 3.3483e-04 - val_root_mean_squared_error: 0.0183\n",
            "Epoch 296/300\n",
            "235/235 [==============================] - 1s 4ms/step - loss: 0.0011 - root_mean_squared_error: 0.0331 - val_loss: 9.6595e-06 - val_root_mean_squared_error: 0.0031\n",
            "Epoch 297/300\n",
            "235/235 [==============================] - 1s 4ms/step - loss: 0.0011 - root_mean_squared_error: 0.0330 - val_loss: 0.0010 - val_root_mean_squared_error: 0.0317\n",
            "Epoch 298/300\n",
            "235/235 [==============================] - 1s 4ms/step - loss: 0.0012 - root_mean_squared_error: 0.0342 - val_loss: 1.9845e-04 - val_root_mean_squared_error: 0.0141\n",
            "Epoch 299/300\n",
            "235/235 [==============================] - 1s 4ms/step - loss: 0.0011 - root_mean_squared_error: 0.0335 - val_loss: 7.7280e-05 - val_root_mean_squared_error: 0.0088\n",
            "Epoch 300/300\n",
            "235/235 [==============================] - 1s 4ms/step - loss: 0.0012 - root_mean_squared_error: 0.0346 - val_loss: 7.8926e-07 - val_root_mean_squared_error: 8.8841e-04\n"
          ]
        },
        {
          "output_type": "execute_result",
          "data": {
            "text/plain": [
              "<keras.callbacks.History at 0x7f59086a7850>"
            ]
          },
          "metadata": {},
          "execution_count": 12
        }
      ],
      "source": [
        "model.fit(X_train, y_train, validation_data=(X_val, y_val), epochs=300, callbacks=[cp1])"
      ]
    },
    {
      "cell_type": "code",
      "execution_count": 13,
      "metadata": {
        "id": "LyBfk-DU1nfB"
      },
      "outputs": [],
      "source": [
        "#history = model.fit_generator(generator,epochs=100,verbose=1)"
      ]
    },
    {
      "cell_type": "markdown",
      "metadata": {
        "id": "Rhk15oVWvwCL"
      },
      "source": [
        "Predictions"
      ]
    },
    {
      "cell_type": "code",
      "execution_count": 14,
      "metadata": {
        "id": "uQHf2mwmvuPN"
      },
      "outputs": [],
      "source": [
        "from sklearn.metrics import mean_squared_error"
      ]
    },
    {
      "cell_type": "code",
      "source": [
        "predictions = model.predict(X_test)          ###############  LOCAL RMSE  (prediction per window)\n",
        "#predictions = sc.inverse_transform(predictions)\n",
        "print(math.sqrt(mean_squared_error(test[windowSizeX:],predictions)))\n"
      ],
      "metadata": {
        "colab": {
          "base_uri": "https://localhost:8080/"
        },
        "id": "7RAT1QYFEZ6M",
        "outputId": "f5943508-be51-45e2-a15f-f153c0d8a05d"
      },
      "execution_count": 15,
      "outputs": [
        {
          "output_type": "stream",
          "name": "stdout",
          "text": [
            "114706.33018929906\n"
          ]
        }
      ]
    },
    {
      "cell_type": "code",
      "execution_count": 16,
      "metadata": {
        "id": "EnTNFFfIOkJC"
      },
      "outputs": [],
      "source": [
        "def slidingWindowActualPredictions(model,windowArr,windowSize,NumOfBodies,predictionsRequestedNumber):\n",
        "  \n",
        "\n",
        "  actualPredictionArr =[]\n",
        "  for i in range(predictionsRequestedNumber):\n",
        "\n",
        "    prediction = model.predict(windowArr[-1:]) ### predict from last window\n",
        "    actualPredictionArr.append(prediction)\n",
        "    temp = np.zeros([windowSize,numOfBodies*2])\n",
        "    temp = temp + windowArr[-1]\n",
        "    temp =temp[1:]\n",
        "    newWindow = np.append(temp.reshape(windowSize-1,numOfBodies*2),prediction)\n",
        "    newWindow = newWindow.reshape(windowSize,numOfBodies*2)\n",
        "    lengthX = len(windowArr)\n",
        "    windowArr = np.append(windowArr,newWindow) ### add new window that the last vector is the prediction \n",
        "    windowArr = windowArr.reshape(lengthX+1,windowSize,numOfBodies*2)\n",
        "\n",
        "  return actualPredictionArr"
      ]
    },
    {
      "cell_type": "code",
      "execution_count": 17,
      "metadata": {
        "id": "1SFrwSvrMZ1d"
      },
      "outputs": [],
      "source": [
        "import math\n",
        "\n",
        "listOfPredictions = slidingWindowActualPredictions(model,X_train,windowSizeX,numOfBodies,len(val)+len(test))\n",
        "listOfPredictions =np.array(listOfPredictions)\n",
        "listOfPredictions = listOfPredictions.squeeze()\n",
        "if scaled:\n",
        "  listOfPredictions = scaler.inverse_transform(listOfPredictions)\n"
      ]
    },
    {
      "cell_type": "code",
      "source": [
        "simulation1[len(X_train)+windowSizeX:].shape"
      ],
      "metadata": {
        "colab": {
          "base_uri": "https://localhost:8080/"
        },
        "id": "ylve8dya6bzH",
        "outputId": "fe3dead0-ac80-4cc8-d2eb-874864dbefd6"
      },
      "execution_count": 18,
      "outputs": [
        {
          "output_type": "execute_result",
          "data": {
            "text/plain": [
              "(2500, 8)"
            ]
          },
          "metadata": {},
          "execution_count": 18
        }
      ]
    },
    {
      "cell_type": "code",
      "execution_count": 19,
      "metadata": {
        "id": "Eh4mEj6KwB6F",
        "colab": {
          "base_uri": "https://localhost:8080/"
        },
        "outputId": "2de5d39f-2d85-4286-8a41-f62df5be6c45"
      },
      "outputs": [
        {
          "output_type": "stream",
          "name": "stdout",
          "text": [
            "2743.414865382368\n"
          ]
        }
      ],
      "source": [
        "print(math.sqrt(mean_squared_error(simulation1[len(X_train)+windowSizeX:],listOfPredictions))) ##### ACTUAL RMSE #####\n"
      ]
    },
    {
      "cell_type": "code",
      "execution_count": 20,
      "metadata": {
        "id": "vnaGFCau-NRn"
      },
      "outputs": [],
      "source": [
        "#listOfPredictions = sc.inverse_transform(listOfPredictions)\n",
        "#print((np.linalg.norm(simulation1[len(X_train)+windowSize:]-listOfPredictions)))\n",
        "#arr=[]\n",
        "#for i in range(len(listOfPredictions)):\n",
        " # arr.append(np.linalg.norm(simulation1[len(X_train)+windowSize+i]-listOfPredictions[i]) )\n",
        "\n",
        "\n",
        "#print(arr)\n",
        "#print(np.argmin(arr))\n"
      ]
    },
    {
      "cell_type": "code",
      "execution_count": 21,
      "metadata": {
        "id": "zLhJtfqxVcOm",
        "colab": {
          "base_uri": "https://localhost:8080/"
        },
        "outputId": "3e6e567f-313e-493f-9aca-d4141cfb7b8d"
      },
      "outputs": [
        {
          "output_type": "stream",
          "name": "stdout",
          "text": [
            "[  15584.37794359   19041.36076594   -3754.62596973  -16535.1965764\n",
            "   68524.71544302 -241906.9144267   -84172.83798488  243648.22118726]\n",
            "[[ 1.51532755  1.51532729 -1.51532615 -1.51532724  1.51532813 -1.51532813\n",
            "  -1.51532811  1.51532812]]\n",
            "[  15577.573    19040.014    -3753.4675  -16533.947    68544.11\n",
            " -241855.64    -84186.01    243549.44  ]\n",
            "[[  15577.573    19040.014    -3753.4675  -16533.947    68544.11\n",
            "  -241855.64    -84186.01    243549.44  ]]\n"
          ]
        }
      ],
      "source": [
        "print((simulation1[len(X_train)+windowSizeX]))\n",
        "\n",
        "print((train[-1:]))\n",
        "#y_train =sc.inverse_transform(y_train)\n",
        "#print((y_train[-1:]))\n",
        "print(listOfPredictions[0])\n",
        "print((scaler.inverse_transform(model.predict(X_train[-1:]))))"
      ]
    },
    {
      "cell_type": "code",
      "execution_count": 22,
      "metadata": {
        "id": "Rgzd9Tbv9kBn",
        "colab": {
          "base_uri": "https://localhost:8080/",
          "height": 283
        },
        "outputId": "b127d5b2-8028-49d6-fa89-450575365fa9"
      },
      "outputs": [
        {
          "output_type": "execute_result",
          "data": {
            "text/plain": [
              "[<matplotlib.lines.Line2D at 0x7f587630d850>]"
            ]
          },
          "metadata": {},
          "execution_count": 22
        },
        {
          "output_type": "display_data",
          "data": {
            "text/plain": [
              "<Figure size 432x288 with 1 Axes>"
            ],
            "image/png": "[encoded data removed]"
          },
          "metadata": {
            "needs_background": "light"
          }
        }
      ],
      "source": [
        "import matplotlib.pyplot as plt\n",
        "disArr = []\n",
        "for i in range(len(val)+len(test)):\n",
        "  disArr.append(np.linalg.norm(simulation1[len(X_train)+windowSizeX+i]-listOfPredictions[i]))\n",
        "\n",
        "plt.plot(disArr[:])  "
      ]
    },
    {
      "cell_type": "code",
      "execution_count": 23,
      "metadata": {
        "id": "LuehIDzY8P1I",
        "colab": {
          "base_uri": "https://localhost:8080/"
        },
        "outputId": "badc6b9a-45ec-46ed-d957-1bc82828efc1"
      },
      "outputs": [
        {
          "output_type": "execute_result",
          "data": {
            "text/plain": [
              "2500"
            ]
          },
          "metadata": {},
          "execution_count": 23
        }
      ],
      "source": [
        "len(disArr)\n"
      ]
    },
    {
      "cell_type": "code",
      "source": [
        "simulation1.shape"
      ],
      "metadata": {
        "colab": {
          "base_uri": "https://localhost:8080/"
        },
        "id": "28gEb8fR3nZy",
        "outputId": "35e9993b-3fab-4781-cdc9-cb85b32b7c63"
      },
      "execution_count": 24,
      "outputs": [
        {
          "output_type": "execute_result",
          "data": {
            "text/plain": [
              "(10000, 8)"
            ]
          },
          "metadata": {},
          "execution_count": 24
        }
      ]
    },
    {
      "cell_type": "code",
      "execution_count": 25,
      "metadata": {
        "id": "LYecNFs6ur2T"
      },
      "outputs": [],
      "source": [
        "bodies=[]\n",
        "bodies.append(Body([-1, 0],[0.4662036860, 0.4323657300],1,\"body1\"))\n",
        "bodies.append(Body([0,0],[-0.93240737, -0.86473146],1.1,\"body2\"))\n",
        "bodies.append(Body([1, 0],[0.4662036850, 0.4323657300],1,\"body3\"))\n",
        "bodies.append(Body([2, -0.24308753],[-0.4662036850, -0.4323657300],1,\"body4\"))\n",
        "\n",
        "\n",
        "simulation2 = simulateOnTimeStep(bodies,0.01,100000,10)"
      ]
    },
    {
      "cell_type": "code",
      "execution_count": 26,
      "metadata": {
        "id": "A5UUdwkIuw9E",
        "colab": {
          "base_uri": "https://localhost:8080/",
          "height": 301
        },
        "outputId": "bb5339b3-6a7a-46f4-e04d-dc1056a2987e"
      },
      "outputs": [
        {
          "output_type": "stream",
          "name": "stderr",
          "text": [
            "/usr/local/lib/python3.7/dist-packages/ipykernel_launcher.py:1: VisibleDeprecationWarning: Creating an ndarray from ragged nested sequences (which is a list-or-tuple of lists-or-tuples-or ndarrays with different lengths or shapes) is deprecated. If you meant to do this, you must specify 'dtype=object' when creating the ndarray.\n",
            "  \"\"\"Entry point for launching an IPython kernel.\n"
          ]
        },
        {
          "output_type": "error",
          "ename": "ValueError",
          "evalue": "ignored",
          "traceback": [
            "\u001b[0;31m---------------------------------------------------------------------------\u001b[0m",
            "\u001b[0;31mValueError\u001b[0m                                Traceback (most recent call last)",
            "\u001b[0;32m<ipython-input-26-2de46e25771d>\u001b[0m in \u001b[0;36m<module>\u001b[0;34m()\u001b[0m\n\u001b[0;32m----> 1\u001b[0;31m \u001b[0mdistance\u001b[0m \u001b[0;34m=\u001b[0m \u001b[0msimulation1\u001b[0m \u001b[0;34m-\u001b[0m \u001b[0msimulation2\u001b[0m\u001b[0;34m\u001b[0m\u001b[0;34m\u001b[0m\u001b[0m\n\u001b[0m\u001b[1;32m      2\u001b[0m \u001b[0mcurentDis\u001b[0m\u001b[0;34m=\u001b[0m\u001b[0;36m0\u001b[0m\u001b[0;34m\u001b[0m\u001b[0;34m\u001b[0m\u001b[0m\n\u001b[1;32m      3\u001b[0m \u001b[0mdisArr\u001b[0m \u001b[0;34m=\u001b[0m \u001b[0;34m[\u001b[0m\u001b[0;34m]\u001b[0m\u001b[0;34m\u001b[0m\u001b[0;34m\u001b[0m\u001b[0m\n\u001b[1;32m      4\u001b[0m \u001b[0;32mfor\u001b[0m \u001b[0mi\u001b[0m \u001b[0;32min\u001b[0m \u001b[0mrange\u001b[0m\u001b[0;34m(\u001b[0m\u001b[0;36m100000\u001b[0m\u001b[0;34m)\u001b[0m\u001b[0;34m:\u001b[0m\u001b[0;34m\u001b[0m\u001b[0;34m\u001b[0m\u001b[0m\n\u001b[1;32m      5\u001b[0m   \u001b[0;32mfor\u001b[0m \u001b[0mj\u001b[0m \u001b[0;32min\u001b[0m \u001b[0mrange\u001b[0m\u001b[0;34m(\u001b[0m\u001b[0;36m4\u001b[0m\u001b[0;34m)\u001b[0m\u001b[0;34m:\u001b[0m\u001b[0;34m\u001b[0m\u001b[0;34m\u001b[0m\u001b[0m\n",
            "\u001b[0;31mValueError\u001b[0m: could not broadcast input array from shape (10000,4,2) into shape (10000,)"
          ]
        }
      ],
      "source": [
        "distance = simulation1 - simulation2\n",
        "curentDis=0\n",
        "disArr = []\n",
        "for i in range(100000):\n",
        "  for j in range(4):\n",
        "    curentDis = curentDis + math.sqrt(distance[i][j][0]**2 + distance[i][j][1]**2) \n",
        "  disArr.append(curentDis)\n",
        "  curentDis=0"
      ]
    },
    {
      "cell_type": "code",
      "execution_count": null,
      "metadata": {
        "id": "kay3tR8myegL"
      },
      "outputs": [],
      "source": [
        ""
      ]
    },
    {
      "cell_type": "code",
      "execution_count": null,
      "metadata": {
        "id": "M6spMqcILZ5c"
      },
      "outputs": [],
      "source": [
        "time=[]\n",
        "for i in range(100000):\n",
        "  time.append(i*0.01)\n",
        "plt.plot(time[0:10000],disArr[0:10000])\n",
        "plt.show()"
      ]
    },
    {
      "cell_type": "code",
      "execution_count": null,
      "metadata": {
        "id": "fLOve8ovQo6m"
      },
      "outputs": [],
      "source": [
        "disArr = np.array(disArr)\n",
        "shiftdisArr=disArr[1:]\n",
        "shiftdisArr=np.append(shiftdisArr,[0])\n",
        "len(shiftdisArr)\n"
      ]
    },
    {
      "cell_type": "code",
      "execution_count": null,
      "metadata": {
        "id": "h1Zmm3WPA4lf"
      },
      "outputs": [],
      "source": [
        "disArrderiv = (shiftdisArr - disArr)/0.01"
      ]
    },
    {
      "cell_type": "code",
      "execution_count": null,
      "metadata": {
        "id": "comlUzy1Bt4A"
      },
      "outputs": [],
      "source": [
        ""
      ]
    },
    {
      "cell_type": "code",
      "execution_count": null,
      "metadata": {
        "id": "C1bwq35R__4-"
      },
      "outputs": [],
      "source": [
        ""
      ]
    },
    {
      "cell_type": "code",
      "execution_count": null,
      "metadata": {
        "id": "f2BUe5tTU0mc"
      },
      "outputs": [],
      "source": [
        "time=[]\n",
        "for i in range(100000):\n",
        "  time.append(i*0.01)\n",
        "plt.plot(time[500:40000],disArrderiv[500:40000])\n",
        "plt.show()"
      ]
    },
    {
      "cell_type": "markdown",
      "metadata": {
        "id": "EAcK26G39BPL"
      },
      "source": [
        "7.79577126e+02, -9.26696926e+01],\n",
        "        [-5.58506324e+02, -3.53116807e+02],\n",
        "        [-2.21070801e+02,  4.45786500e+02]],\n",
        "\n",
        "       [[ 7.79584934e+02, -9.26706237e+01],\n",
        "        [-5.58511912e+02, -3.53120340e+02],\n",
        "        [-2.21073022e+02,  4.45790964e+02]],\n",
        "\n",
        "       [[ 7.79592742e+02, -9.26715547e+01],\n",
        "        [-5.58517500e+02, -3.53123872e+02],\n",
        "        [-2.21075242e+02,  4.45795427e+02]]])\n",
        "\n",
        "\n",
        "\n",
        "\n",
        "array([[[-9.70004360e-01,  2.43087530e-01],\n",
        "        [ 0.00000000e+00,  1.00000000e-03],\n",
        "        [ 9.70004360e-01, -2.43087530e-01]],\n",
        "\n",
        "       [[-9.69536336e-01,  2.43519441e-01],\n",
        "        [-9.32409492e-04,  1.35266072e-04],\n",
        "        [ 9.70468746e-01, -2.42654707e-01]],\n",
        "\n",
        "       [[-9.69067097e-01,  2.43951046e-01],\n",
        "        [-1.86482529e-03, -7.29463332e-04],\n",
        "        [ 9.70931923e-01, -2.42221583e-01]],\n",
        "\n",
        "       ...,\n",
        "\n",
        "       [[ 2.27972866e-01,  5.47142180e-01],\n",
        "        [-5.44147288e-02,  9.10547188e-02],\n",
        "        [-1.73558137e-01, -6.37196899e-01]],\n",
        "\n",
        "       [[ 2.28379125e-01,  5.46270579e-01],\n",
        "        [-5.53558817e-02,  9.23559792e-02],\n",
        "        [-1.73023244e-01, -6.37626558e-01]],\n",
        "\n",
        "       [[ 2.28783319e-01,  5.45395410e-01],\n",
        "        [-5.62954630e-02,  9.36583987e-02],\n",
        "        [-1.72487856e-01, -6.38053809e-01]]])\n",
        "\n",
        "\n",
        "\n",
        "\n",
        "\n",
        "\n",
        "\n",
        "\n",
        "\n",
        "\n",
        "\n",
        "\n",
        "\n",
        "\n",
        "\n",
        "\n"
      ]
    },
    {
      "cell_type": "code",
      "execution_count": null,
      "metadata": {
        "id": "pJPBvhY3QnLY"
      },
      "outputs": [],
      "source": [
        ""
      ]
    },
    {
      "cell_type": "code",
      "execution_count": null,
      "metadata": {
        "id": "r-oDRhtVpTpv"
      },
      "outputs": [],
      "source": [
        ""
      ]
    },
    {
      "cell_type": "markdown",
      "metadata": {
        "id": "CWHmnaXlL-UU"
      },
      "source": [
        "test"
      ]
    },
    {
      "cell_type": "code",
      "execution_count": null,
      "metadata": {
        "id": "_mQ0NXGxQpMo"
      },
      "outputs": [],
      "source": [
        ""
      ]
    },
    {
      "cell_type": "code",
      "execution_count": null,
      "metadata": {
        "id": "OrR93jf9jgDx"
      },
      "outputs": [],
      "source": [
        ""
      ]
    }
  ],
  "metadata": {
    "accelerator": "GPU",
    "colab": {
      "collapsed_sections": [],
      "name": "ThreeBodySimulation (3).ipynb",
      "provenance": [],
      "include_colab_link": true
    },
    "gpuClass": "standard",
    "kernelspec": {
      "display_name": "Python 3",
      "name": "python3"
    },
    "language_info": {
      "name": "python"
    }
  },
  "nbformat": 4,
  "nbformat_minor": 0
}