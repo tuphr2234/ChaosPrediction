{
  "cells": [
    {
      "cell_type": "markdown",
      "metadata": {
        "id": "view-in-github",
        "colab_type": "text"
      },
      "source": [
        "<a href=\"https://colab.research.google.com/github/tuphr2234/ChaosPredition/blob/main/ThreeBodySimulation_(3).ipynb\" target=\"_parent\"><img src=\"https://colab.research.google.com/assets/colab-badge.svg\" alt=\"Open In Colab\"/></a>"
      ]
    },
    {
      "cell_type": "markdown",
      "metadata": {
        "id": "4TDAWMjwIKbl"
      },
      "source": [
        "Build Simulation"
      ]
    },
    {
      "cell_type": "code",
      "execution_count": 1,
      "metadata": {
        "id": "h_D93EjYjFie"
      },
      "outputs": [],
      "source": [
        "import math\n",
        "import pandas as pd\n",
        "import numpy as np\n",
        "import matplotlib.pyplot as plt\n",
        "import matplotlib.animation as animation\n",
        "import tensorflow as tf\n",
        "import os\n",
        "from pathlib import Path  \n",
        "\n",
        "\n",
        "G=1\n",
        "\n",
        "\n",
        "class Body:\n",
        "  \n",
        "  prevPosition=np.array([0,0])\n",
        "  position=np.array([0,0])\n",
        "  velocity=np.array([0,0])\n",
        "  force=np.array([0,0])\n",
        "  acceleration=np.array([0,0])\n",
        "  mass=0\n",
        "\n",
        "  def __init__(self,position,velocity,mass,name):\n",
        "    self.position=np.array(position)\n",
        "    self.velocity=np.array(velocity)\n",
        "    #self.acceleration=np.array(acceleration)\n",
        "    self.mass=mass\n",
        "    self.prevPosition=np.array(position)\n",
        "    self.name = name\n",
        "\n",
        "\n",
        "  def setPosition(self,t):\n",
        "    self.prevPosition = self.position\n",
        "    self.position=self.position+self.velocity*t+(self.acceleration/2)* t**2\n",
        "  \n",
        "    \n",
        "\n",
        "\n",
        "  def setVelocity(self,t):\n",
        "    self.velocity=self.velocity+self.acceleration*t\n",
        "  \n",
        "\n",
        "  def getForce(self,body):\n",
        "    softening = 0.00001\n",
        "    Distance = body.prevPosition - self.position\n",
        "    Rsquare = Distance[0]**2 + Distance[1]**2 + softening\n",
        "    F = G* self.mass*body.mass / Rsquare  \n",
        "    normalizeDis = Distance / math.sqrt(Rsquare)\n",
        "    F = F*normalizeDis\n",
        "    \n",
        "    #print(f\"body {self.name} force is {F} \")\n",
        "    \n",
        "    return F\n",
        "\n",
        "  def setAcceleration(self,bodies):\n",
        "    F=np.array([0,0])\n",
        "    for body in bodies:\n",
        "      F=F+self.getForce(body)\n",
        "    self.acceleration = F/self.mass\n",
        "   # print(f\" {self.name} acceleration is {self.acceleration}\")"
      ]
    },
    {
      "cell_type": "code",
      "execution_count": 2,
      "metadata": {
        "id": "3N3yCUu4PPDX"
      },
      "outputs": [],
      "source": [
        "def simulateOnTimeStep(bodies,t,steps,interval_in_data): # bodies: list of bodies. t: timestep . steps: number of steps. interval_in_data : frequency of rows taken to dataset: if equals 1 than it is every step\n",
        "  dataset = []\n",
        "  time = []\n",
        "\n",
        "  for i in range(steps):\n",
        "      list1=[]\n",
        "      for body in bodies:\n",
        "        list1.append(body.position)\n",
        "      if i % interval_in_data ==0:\n",
        "        dataset += list1\n",
        "        time.append(i * t)\n",
        "      \n",
        "      for i,body in enumerate(bodies):\n",
        "        body.setAcceleration([b for b in bodies if b is not body])\n",
        "        body.setVelocity(t)\n",
        "        body.setPosition(t)\n",
        "       \n",
        "        \n",
        "      for body in bodies:\n",
        "        #plt.plot([body.prevPosition[0],body.position[0]],[body.prevPosition[1],body.position[1]])\n",
        "        body.prevPosition = body.position\n",
        "  #plt.show()\n",
        "    \n",
        "\n",
        "  return np.array(dataset).reshape(steps//interval_in_data,len(bodies),2),time\n",
        "\n"
      ]
    },
    {
      "cell_type": "code",
      "source": [
        "def numpyToPandas(simulation,numOfBodies):\n",
        "  columns = []\n",
        "\n",
        "  for i in range(numOfBodies):\n",
        "    columns.append(f'Body{i+1} x')\n",
        "    columns.append(f'Body{i+1} y')\n",
        "  simulation_reshaped = simulation.reshape(len(simulation), numOfBodies*2 )\n",
        "\n",
        "  df = pd.DataFrame(simulation_reshaped, columns = columns)\n",
        "  return df\n"
      ],
      "metadata": {
        "id": "uyz_2jL4t6QF"
      },
      "execution_count": 3,
      "outputs": []
    },
    {
      "cell_type": "markdown",
      "metadata": {
        "id": "aFmLiPZMDQZ0"
      },
      "source": [
        "Add Filters"
      ]
    },
    {
      "cell_type": "code",
      "execution_count": 4,
      "metadata": {
        "id": "eBPe3vx-DVyb"
      },
      "outputs": [],
      "source": [
        "#def addNoise(simulation):\n",
        "#def removeBody(simulation)"
      ]
    },
    {
      "cell_type": "markdown",
      "metadata": {
        "id": "cr0DATa23lkK"
      },
      "source": [
        "Save Simulation"
      ]
    },
    {
      "cell_type": "code",
      "execution_count": 5,
      "metadata": {
        "id": "K3LKWQt83uFP"
      },
      "outputs": [],
      "source": [
        "## save simulation as csv\n",
        "def saveSimulation(simulation,numOfBodies,simulation_name):\n",
        "  df = numpyToPandas(simulation,numOfBodies) \n",
        "  df.to_csv(f'/content/{simulation_name}.csv',index=False)\n",
        "  \n",
        "def loadSimulation(df):\n",
        "  return pd.DataFrame.to_numpy(df)  "
      ]
    },
    {
      "cell_type": "markdown",
      "metadata": {
        "id": "vQlYUvwaISvu"
      },
      "source": [
        "Prepare Dataset "
      ]
    },
    {
      "cell_type": "code",
      "execution_count": 6,
      "metadata": {
        "id": "-NmBUcC3I5LO"
      },
      "outputs": [],
      "source": [
        "def prepareData(simulation,window_size_X):\n",
        "  X = []\n",
        "  y = []\n",
        "  for i in range(len(simulation)-window_size_X):\n",
        "    row = [bodies for bodies in simulation[i:i+window_size_X]]  ### adding time is an option\n",
        "    X.append(row)\n",
        "    label = simulation[i+window_size_X]\n",
        "    y.append(label)\n",
        "  return np.array(X) , np.array(y)  "
      ]
    },
    {
      "cell_type": "code",
      "execution_count": 7,
      "metadata": {
        "id": "Tfy7w3HsJU5P"
      },
      "outputs": [],
      "source": [
        "def prepareData2(simulation,window_size_X,window_size_y): \n",
        "  X = []\n",
        "  y = []\n",
        "  for i in range(len(simulation)-window_size_X):\n",
        "    row = simulation[i:i+window_size_X]  \n",
        "    X.append(row)\n",
        "    label =  simulation[i+window_size_X:i+window_size_X + window_size_y]#######################################\n",
        "    y.append(label)\n",
        "\n",
        "  return np.array(X) , np.array(y)\n"
      ]
    },
    {
      "cell_type": "code",
      "execution_count": 8,
      "metadata": {
        "id": "_l71q3WAbOke"
      },
      "outputs": [],
      "source": [
        "def splitToTrainValidTest(dataset,testPercentage):\n",
        "  trainLen = round((len(dataset)*(1-testPercentage-0.05)))\n",
        "  valLen = round((len(dataset)*0.05))\n",
        "  train_set = dataset[:trainLen]\n",
        "  val_set = dataset[trainLen:trainLen+valLen]\n",
        "  test_set = dataset[trainLen+valLen:]\n",
        "  return train_set,val_set,test_set"
      ]
    },
    {
      "cell_type": "code",
      "execution_count": 9,
      "metadata": {
        "id": "fNpP_KDhHKuQ"
      },
      "outputs": [],
      "source": [
        "def drawSimulation(simulation):\n",
        "  prev = simulation[0]\n",
        "  numOfBodies = len(simulation[0])\n",
        "\n",
        "  for i,sim in enumerate(simulation):\n",
        "    for j in range(0,len(sim),2):\n",
        "      plt.plot([prev[j],sim[j]],[prev[j+1],sim[j+1]])\n",
        "      prev[j] = sim[j]\n",
        "      prev[j+1] = sim[j+1]\n",
        "  plt.show()\n",
        "  #plt.clf()\n"
      ]
    },
    {
      "cell_type": "code",
      "source": [
        "def showBodiesMovmentInGraph(simulation,trueForX):\n",
        " arr = []\n",
        " for i in range(0,len(simulation),2):\n",
        "    for sim in simulation:\n",
        "      arr.append(sim[i])\n",
        "\n",
        "\n",
        " plt.plot(arr)"
      ],
      "metadata": {
        "id": "J9HQSryLlGpc"
      },
      "execution_count": 10,
      "outputs": []
    },
    {
      "cell_type": "code",
      "source": [
        ""
      ],
      "metadata": {
        "id": "2uhRcc74BEXs"
      },
      "execution_count": 10,
      "outputs": []
    },
    {
      "cell_type": "code",
      "source": [
        ""
      ],
      "metadata": {
        "id": "cpZLYBcVBWdn"
      },
      "execution_count": 10,
      "outputs": []
    },
    {
      "cell_type": "markdown",
      "metadata": {
        "id": "5BntFiYXOd44"
      },
      "source": [
        "Preprocessing/Postprocessing"
      ]
    },
    {
      "cell_type": "code",
      "execution_count": 10,
      "metadata": {
        "id": "EF80L_VWOhvb"
      },
      "outputs": [],
      "source": [
        "\n"
      ]
    },
    {
      "cell_type": "markdown",
      "metadata": {
        "id": "JkwyKYUNOlJ5"
      },
      "source": [
        "Model"
      ]
    },
    {
      "cell_type": "code",
      "execution_count": 58,
      "metadata": {
        "id": "t1xoIIT1QZb_"
      },
      "outputs": [],
      "source": [
        "from tensorflow.keras.models import Sequential\n",
        "from tensorflow.keras.layers import *\n",
        "from tensorflow.keras.callbacks import ModelCheckpoint\n",
        "from tensorflow.keras.losses import MeanSquaredError\n",
        "from tensorflow.keras.metrics import RootMeanSquaredError\n",
        "from tensorflow.keras.optimizers import Adam\n",
        "from tensorflow.keras.optimizers.schedules import ExponentialDecay\n",
        "from tensorflow.keras.preprocessing.sequence import TimeseriesGenerator\n",
        "def buildModelCNN(window_size_X,numberOfBodies):\n",
        "  model = Sequential()\n",
        "  model.add(InputLayer((window_size_X,numberOfBodies*2)))#model.add(InputLayer((window_size_X,numberOfBodies*2)))\n",
        "  model.add(Conv1D(64, kernel_size=2))\n",
        "  #model.add(Dropout(0.2))\n",
        "  model.add(Conv1D(32, kernel_size=2))\n",
        "  #model.add(TimeDistributed(conv_1d))\n",
        "  model.add(Flatten())\n",
        "  #model.add(LSTM(32))\n",
        "  #model.add(Dropout(0.2))\n",
        "  model.add(Dense(16, 'relu'))\n",
        "  model.add(Dense(numberOfBodies*2, 'linear'))\n",
        "  model.summary()\n",
        "  return model\n",
        "\n",
        "\n",
        "\n",
        "def buildModelCNN2(window_size_X,window_size_y,numberOfBodies):\n",
        "  model = Sequential()\n",
        "  model.add(InputLayer((window_size_X,numberOfBodies*2)))#model.add(InputLayer((window_size_X,numberOfBodies*2)))\n",
        "  model.add(Conv1D(64, kernel_size=2))\n",
        "  #model.add(Dropout(0.2))\n",
        "  model.add(Conv1D(32, kernel_size=2))\n",
        "  #model.add(TimeDistributed(conv_1d))\n",
        "  model.add(Flatten())\n",
        "  #model.add(LSTM(32))\n",
        "  #model.add(Dropout(0.2))\n",
        "  model.add(Dense(16, 'relu'))\n",
        "  model.add(Dense(numberOfBodies*2*window_size_y, 'linear'))\n",
        "  model.add(tf.keras.layers.Reshape((window_size_y, numberOfBodies*2)))\n",
        "  model.summary()\n",
        "  return model"
      ]
    },
    {
      "cell_type": "code",
      "source": [
        "def preprocessSimulation(simulation):\n",
        "  shape = simulation[0].shape\n",
        "  newSimulation = np.append(simulation[1:],[np.zeros(shape)],axis=0) - simulation\n",
        "  newSimulation = newSimulation[:-1]\n",
        "  #for i,s in enumerate(newSimulation):\n",
        "  #  s = s / np.linalg.norm(simulation[i])\n",
        "  return newSimulation"
      ],
      "metadata": {
        "id": "bmAH9y73-g7K"
      },
      "execution_count": 12,
      "outputs": []
    },
    {
      "cell_type": "code",
      "source": [
        "def postprocess(lastKnownElement , listOfPredictedChanges):\n",
        "  listOfPredictions = []\n",
        "  for pred in listOfPredictedChanges:\n",
        "    #newElement = (pred * np.linalg.norm(lastKnownElement)) + lastKnownElement\n",
        "    newElement = pred  + lastKnownElement\n",
        "    listOfPredictions.append(newElement)\n",
        "    lastKnownElement = newElement\n",
        "  return np.array(listOfPredictions)  \n"
      ],
      "metadata": {
        "id": "qbQToROHTnr0"
      },
      "execution_count": 13,
      "outputs": []
    },
    {
      "cell_type": "markdown",
      "metadata": {
        "id": "YHN2E_WZcMwI"
      },
      "source": [
        "Training Model"
      ]
    },
    {
      "cell_type": "code",
      "source": [
        "#position,velocity,mass\n",
        "#%%timeit\n",
        "bodies=[]\n",
        "bodies.append(Body([-0.97000436, 0.24308753],[0.4662036850, 0.4323657300],1,\"body1\"))\n",
        "bodies.append(Body([0,0],[-0.93240737, -0.86473146],1,\"body2\"))\n",
        "bodies.append(Body([0.97000436, -0.24308753],[0.4662036850, 0.4323657300],1,\"body3\"))\n",
        "#bodies.append(Body([2, -0.24308753],[-0.4662036850, 0.4323657300],1,\"body4\"))\n",
        "\n",
        " #r1(0) = −r3(0) = (−0.97000436, 0.24308753);\n",
        " # r2(0) = (0,0); v1(0) = v3(0) = (0.4662036850, 0.4323657300);\n",
        " # v2(0) = (−0.93240737, −0.86473146). The values are obtained from Chenciner & Montgomery (2000).\n",
        "\n",
        "numOfBodies=len(bodies)\n",
        "##t: timestep . steps: number of steps. interval_in_data\n",
        "timestep = 0.001 # actual seconds\n",
        "steps = 122000\n",
        "interval_in_data = 10\n",
        "\n",
        "simulation1,timesteps = simulateOnTimeStep(bodies,timestep,steps,interval_in_data)\n",
        "simulation1=simulation1.reshape(len(simulation1), numOfBodies*2 )\n",
        "saveSimulation(simulation1,numOfBodies,\"N-Body Simulation\")"
      ],
      "metadata": {
        "id": "EYCRyk7h_AGq"
      },
      "execution_count": 14,
      "outputs": []
    },
    {
      "cell_type": "code",
      "source": [
        "drawSimulation(simulation1)"
      ],
      "metadata": {
        "id": "sku5JwPo4KxR"
      },
      "execution_count": 15,
      "outputs": []
    },
    {
      "cell_type": "code",
      "source": [
        "simulation1 = loadSimulation(pd.read_csv('/content/N-Body Simulation.csv'))"
      ],
      "metadata": {
        "id": "n3nwT0WDNKuj"
      },
      "execution_count": 60,
      "outputs": []
    },
    {
      "cell_type": "code",
      "source": [
        "numOfBodies = simulation1.shape[1] // 2"
      ],
      "metadata": {
        "id": "goH0XOFJ2MBp"
      },
      "execution_count": 61,
      "outputs": []
    },
    {
      "cell_type": "code",
      "execution_count": 70,
      "metadata": {
        "id": "IWvEtpy8YWDV",
        "colab": {
          "base_uri": "https://localhost:8080/"
        },
        "outputId": "382a45be-766f-403d-bcce-8542254dd149"
      },
      "outputs": [
        {
          "output_type": "stream",
          "name": "stdout",
          "text": [
            "Model: \"sequential_6\"\n",
            "_________________________________________________________________\n",
            " Layer (type)                Output Shape              Param #   \n",
            "=================================================================\n",
            " conv1d_12 (Conv1D)          (None, 7, 64)             832       \n",
            "                                                                 \n",
            " conv1d_13 (Conv1D)          (None, 6, 32)             4128      \n",
            "                                                                 \n",
            " flatten_6 (Flatten)         (None, 192)               0         \n",
            "                                                                 \n",
            " dense_12 (Dense)            (None, 16)                3088      \n",
            "                                                                 \n",
            " dense_13 (Dense)            (None, 6)                 102       \n",
            "                                                                 \n",
            "=================================================================\n",
            "Total params: 8,150\n",
            "Trainable params: 8,150\n",
            "Non-trainable params: 0\n",
            "_________________________________________________________________\n"
          ]
        }
      ],
      "source": [
        "from sklearn.preprocessing import MinMaxScaler\n",
        "from sklearn.preprocessing import StandardScaler\n",
        "from scipy.signal import hilbert\n",
        "from scipy.fft import fft, ifft\n",
        "scaled = False \n",
        "windowSizeX= 8\n",
        "windowSizeY = 10\n",
        "#batch = 6\n",
        "\n",
        "diffSimulation1 = np.diff(simulation1,axis = 0)\n",
        "\n",
        "train, val, test = splitToTrainValidTest(diffSimulation1,0.2)\n",
        "\n",
        "if scaled:\n",
        "  scaler = StandardScaler()\n",
        "  scaler.fit(simulation1[:len(train)+len(val)])\n",
        "  #valScaler.fit(train)  ### train / val as input ? \n",
        "\n",
        "  train = scaler.transform(train)\n",
        "  val = scaler.transform(val)\n",
        "  #train = hilbert(train)\n",
        "  #val = hilbert(val)\n",
        "#y_train = scaler.fit(train)\n",
        "\n",
        "#train = preprocessSimulation(train)\n",
        "#val = preprocessSimulation(val)\n",
        "\n",
        "\n",
        "\n",
        "#train2, val2, test2 = splitToTrainValidTest(simulation2,0.2)\n",
        "\n",
        "\n",
        "X_train, y_train = prepareData(train,windowSizeX)\n",
        "X_val, y_val = prepareData(val,windowSizeX)\n",
        "X_test, y_test = prepareData(test,windowSizeX)\n",
        "\n",
        "\n",
        "\n",
        "\n",
        "model =  buildModelCNN(windowSizeX,numOfBodies)\n",
        "cp1 = ModelCheckpoint('model/', save_best_only=True)\n",
        "model.compile(loss=MeanSquaredError(), optimizer=Adam(learning_rate=0.0001), metrics=[RootMeanSquaredError()])\n",
        "\n",
        "\n",
        "#X_train2, y_train2 = prepareData(train2,windowSizeX)\n",
        "#X_val2, y_val2 = prepareData(val2,windowSizeX)\n",
        "#X_tes2t, y_test2 = prepareData(test2,windowSizeX)\n",
        "\n",
        "#generator = TimeseriesGenerator(train_scaled,train_scaled,length = len(test),batch_size=batch)"
      ]
    },
    {
      "cell_type": "code",
      "source": [
        ""
      ],
      "metadata": {
        "id": "wiXevZHJ25p6"
      },
      "execution_count": 52,
      "outputs": []
    },
    {
      "cell_type": "code",
      "execution_count": 71,
      "metadata": {
        "id": "wfb7-Rz2-IrH",
        "colab": {
          "base_uri": "https://localhost:8080/"
        },
        "outputId": "3bc4c8c8-5bce-49e0-ea87-ac80f37b2053"
      },
      "outputs": [
        {
          "output_type": "stream",
          "name": "stdout",
          "text": [
            "Epoch 1/100\n",
            "276/286 [===========================>..] - ETA: 0s - loss: 8.4360e-06 - root_mean_squared_error: 0.0029INFO:tensorflow:Assets written to: model/assets\n",
            "286/286 [==============================] - 2s 6ms/step - loss: 8.1780e-06 - root_mean_squared_error: 0.0029 - val_loss: 1.9101e-06 - val_root_mean_squared_error: 0.0014\n",
            "Epoch 2/100\n",
            "273/286 [===========================>..] - ETA: 0s - loss: 3.6630e-07 - root_mean_squared_error: 6.0523e-04INFO:tensorflow:Assets written to: model/assets\n",
            "286/286 [==============================] - 2s 6ms/step - loss: 3.6279e-07 - root_mean_squared_error: 6.0232e-04 - val_loss: 9.9668e-07 - val_root_mean_squared_error: 9.9834e-04\n",
            "Epoch 3/100\n",
            "280/286 [============================>.] - ETA: 0s - loss: 2.7467e-07 - root_mean_squared_error: 5.2409e-04INFO:tensorflow:Assets written to: model/assets\n",
            "286/286 [==============================] - 2s 6ms/step - loss: 2.7416e-07 - root_mean_squared_error: 5.2361e-04 - val_loss: 8.8078e-07 - val_root_mean_squared_error: 9.3850e-04\n",
            "Epoch 4/100\n",
            "283/286 [============================>.] - ETA: 0s - loss: 2.5076e-07 - root_mean_squared_error: 5.0076e-04INFO:tensorflow:Assets written to: model/assets\n",
            "286/286 [==============================] - 2s 8ms/step - loss: 2.5059e-07 - root_mean_squared_error: 5.0059e-04 - val_loss: 8.6755e-07 - val_root_mean_squared_error: 9.3142e-04\n",
            "Epoch 5/100\n",
            "275/286 [===========================>..] - ETA: 0s - loss: 2.3353e-07 - root_mean_squared_error: 4.8325e-04INFO:tensorflow:Assets written to: model/assets\n",
            "286/286 [==============================] - 2s 5ms/step - loss: 2.3339e-07 - root_mean_squared_error: 4.8311e-04 - val_loss: 8.1455e-07 - val_root_mean_squared_error: 9.0252e-04\n",
            "Epoch 6/100\n",
            "285/286 [============================>.] - ETA: 0s - loss: 2.2024e-07 - root_mean_squared_error: 4.6930e-04INFO:tensorflow:Assets written to: model/assets\n",
            "286/286 [==============================] - 6s 21ms/step - loss: 2.2018e-07 - root_mean_squared_error: 4.6923e-04 - val_loss: 6.9630e-07 - val_root_mean_squared_error: 8.3445e-04\n",
            "Epoch 7/100\n",
            "286/286 [==============================] - ETA: 0s - loss: 2.0435e-07 - root_mean_squared_error: 4.5205e-04INFO:tensorflow:Assets written to: model/assets\n",
            "286/286 [==============================] - 2s 6ms/step - loss: 2.0435e-07 - root_mean_squared_error: 4.5205e-04 - val_loss: 6.9626e-07 - val_root_mean_squared_error: 8.3442e-04\n",
            "Epoch 8/100\n",
            "273/286 [===========================>..] - ETA: 0s - loss: 1.9328e-07 - root_mean_squared_error: 4.3963e-04INFO:tensorflow:Assets written to: model/assets\n",
            "286/286 [==============================] - 2s 6ms/step - loss: 1.9259e-07 - root_mean_squared_error: 4.3885e-04 - val_loss: 6.6176e-07 - val_root_mean_squared_error: 8.1349e-04\n",
            "Epoch 9/100\n",
            "282/286 [============================>.] - ETA: 0s - loss: 1.7289e-07 - root_mean_squared_error: 4.1580e-04INFO:tensorflow:Assets written to: model/assets\n",
            "286/286 [==============================] - 2s 6ms/step - loss: 1.7269e-07 - root_mean_squared_error: 4.1556e-04 - val_loss: 5.5300e-07 - val_root_mean_squared_error: 7.4364e-04\n",
            "Epoch 10/100\n",
            "286/286 [==============================] - 1s 3ms/step - loss: 1.6529e-07 - root_mean_squared_error: 4.0655e-04 - val_loss: 5.5455e-07 - val_root_mean_squared_error: 7.4468e-04\n",
            "Epoch 11/100\n",
            "283/286 [============================>.] - ETA: 0s - loss: 1.5584e-07 - root_mean_squared_error: 3.9476e-04INFO:tensorflow:Assets written to: model/assets\n",
            "286/286 [==============================] - 2s 5ms/step - loss: 1.5593e-07 - root_mean_squared_error: 3.9488e-04 - val_loss: 5.0728e-07 - val_root_mean_squared_error: 7.1224e-04\n",
            "Epoch 12/100\n",
            "286/286 [==============================] - 1s 3ms/step - loss: 1.4406e-07 - root_mean_squared_error: 3.7955e-04 - val_loss: 5.1764e-07 - val_root_mean_squared_error: 7.1947e-04\n",
            "Epoch 13/100\n",
            "274/286 [===========================>..] - ETA: 0s - loss: 1.3488e-07 - root_mean_squared_error: 3.6726e-04INFO:tensorflow:Assets written to: model/assets\n",
            "286/286 [==============================] - 2s 5ms/step - loss: 1.3513e-07 - root_mean_squared_error: 3.6760e-04 - val_loss: 4.9191e-07 - val_root_mean_squared_error: 7.0136e-04\n",
            "Epoch 14/100\n",
            "281/286 [============================>.] - ETA: 0s - loss: 1.2737e-07 - root_mean_squared_error: 3.5689e-04INFO:tensorflow:Assets written to: model/assets\n",
            "286/286 [==============================] - 2s 6ms/step - loss: 1.2722e-07 - root_mean_squared_error: 3.5668e-04 - val_loss: 4.0622e-07 - val_root_mean_squared_error: 6.3735e-04\n",
            "Epoch 15/100\n",
            "280/286 [============================>.] - ETA: 0s - loss: 1.1861e-07 - root_mean_squared_error: 3.4439e-04INFO:tensorflow:Assets written to: model/assets\n",
            "286/286 [==============================] - 2s 6ms/step - loss: 1.1841e-07 - root_mean_squared_error: 3.4410e-04 - val_loss: 3.9198e-07 - val_root_mean_squared_error: 6.2608e-04\n",
            "Epoch 16/100\n",
            "277/286 [============================>.] - ETA: 0s - loss: 1.0916e-07 - root_mean_squared_error: 3.3039e-04INFO:tensorflow:Assets written to: model/assets\n",
            "286/286 [==============================] - 2s 6ms/step - loss: 1.0898e-07 - root_mean_squared_error: 3.3012e-04 - val_loss: 3.6576e-07 - val_root_mean_squared_error: 6.0478e-04\n",
            "Epoch 17/100\n",
            "282/286 [============================>.] - ETA: 0s - loss: 1.0457e-07 - root_mean_squared_error: 3.2337e-04INFO:tensorflow:Assets written to: model/assets\n",
            "286/286 [==============================] - 2s 6ms/step - loss: 1.0466e-07 - root_mean_squared_error: 3.2351e-04 - val_loss: 3.3389e-07 - val_root_mean_squared_error: 5.7784e-04\n",
            "Epoch 18/100\n",
            "281/286 [============================>.] - ETA: 0s - loss: 9.6237e-08 - root_mean_squared_error: 3.1022e-04INFO:tensorflow:Assets written to: model/assets\n",
            "286/286 [==============================] - 2s 5ms/step - loss: 9.5986e-08 - root_mean_squared_error: 3.0982e-04 - val_loss: 3.0776e-07 - val_root_mean_squared_error: 5.5476e-04\n",
            "Epoch 19/100\n",
            "280/286 [============================>.] - ETA: 0s - loss: 8.7271e-08 - root_mean_squared_error: 2.9542e-04INFO:tensorflow:Assets written to: model/assets\n",
            "286/286 [==============================] - 2s 6ms/step - loss: 8.7175e-08 - root_mean_squared_error: 2.9525e-04 - val_loss: 2.8603e-07 - val_root_mean_squared_error: 5.3482e-04\n",
            "Epoch 20/100\n",
            "271/286 [===========================>..] - ETA: 0s - loss: 7.1859e-08 - root_mean_squared_error: 2.6806e-04INFO:tensorflow:Assets written to: model/assets\n",
            "286/286 [==============================] - 2s 5ms/step - loss: 7.1902e-08 - root_mean_squared_error: 2.6815e-04 - val_loss: 2.5165e-07 - val_root_mean_squared_error: 5.0165e-04\n",
            "Epoch 21/100\n",
            "286/286 [==============================] - 1s 3ms/step - loss: 6.6776e-08 - root_mean_squared_error: 2.5841e-04 - val_loss: 2.7357e-07 - val_root_mean_squared_error: 5.2304e-04\n",
            "Epoch 22/100\n",
            "280/286 [============================>.] - ETA: 0s - loss: 6.0509e-08 - root_mean_squared_error: 2.4599e-04INFO:tensorflow:Assets written to: model/assets\n",
            "286/286 [==============================] - 2s 5ms/step - loss: 6.0690e-08 - root_mean_squared_error: 2.4635e-04 - val_loss: 2.4051e-07 - val_root_mean_squared_error: 4.9042e-04\n",
            "Epoch 23/100\n",
            "282/286 [============================>.] - ETA: 0s - loss: 5.9431e-08 - root_mean_squared_error: 2.4379e-04INFO:tensorflow:Assets written to: model/assets\n",
            "286/286 [==============================] - 2s 6ms/step - loss: 5.9309e-08 - root_mean_squared_error: 2.4354e-04 - val_loss: 2.2982e-07 - val_root_mean_squared_error: 4.7939e-04\n",
            "Epoch 24/100\n",
            "280/286 [============================>.] - ETA: 0s - loss: 5.4483e-08 - root_mean_squared_error: 2.3342e-04INFO:tensorflow:Assets written to: model/assets\n",
            "286/286 [==============================] - 2s 6ms/step - loss: 5.4407e-08 - root_mean_squared_error: 2.3325e-04 - val_loss: 2.0808e-07 - val_root_mean_squared_error: 4.5616e-04\n",
            "Epoch 25/100\n",
            "286/286 [==============================] - ETA: 0s - loss: 5.3972e-08 - root_mean_squared_error: 2.3232e-04INFO:tensorflow:Assets written to: model/assets\n",
            "286/286 [==============================] - 2s 6ms/step - loss: 5.3972e-08 - root_mean_squared_error: 2.3232e-04 - val_loss: 2.0065e-07 - val_root_mean_squared_error: 4.4794e-04\n",
            "Epoch 26/100\n",
            "279/286 [============================>.] - ETA: 0s - loss: 4.9261e-08 - root_mean_squared_error: 2.2195e-04INFO:tensorflow:Assets written to: model/assets\n",
            "286/286 [==============================] - 2s 6ms/step - loss: 4.9233e-08 - root_mean_squared_error: 2.2189e-04 - val_loss: 1.8542e-07 - val_root_mean_squared_error: 4.3060e-04\n",
            "Epoch 27/100\n",
            "279/286 [============================>.] - ETA: 0s - loss: 4.7562e-08 - root_mean_squared_error: 2.1809e-04INFO:tensorflow:Assets written to: model/assets\n",
            "286/286 [==============================] - 2s 5ms/step - loss: 4.7537e-08 - root_mean_squared_error: 2.1803e-04 - val_loss: 1.7607e-07 - val_root_mean_squared_error: 4.1960e-04\n",
            "Epoch 28/100\n",
            "286/286 [==============================] - 1s 3ms/step - loss: 4.6376e-08 - root_mean_squared_error: 2.1535e-04 - val_loss: 1.7799e-07 - val_root_mean_squared_error: 4.2188e-04\n",
            "Epoch 29/100\n",
            "283/286 [============================>.] - ETA: 0s - loss: 4.3903e-08 - root_mean_squared_error: 2.0953e-04INFO:tensorflow:Assets written to: model/assets\n",
            "286/286 [==============================] - 2s 6ms/step - loss: 4.3909e-08 - root_mean_squared_error: 2.0955e-04 - val_loss: 1.7053e-07 - val_root_mean_squared_error: 4.1296e-04\n",
            "Epoch 30/100\n",
            "277/286 [============================>.] - ETA: 0s - loss: 4.1268e-08 - root_mean_squared_error: 2.0315e-04INFO:tensorflow:Assets written to: model/assets\n",
            "286/286 [==============================] - 2s 6ms/step - loss: 4.1125e-08 - root_mean_squared_error: 2.0279e-04 - val_loss: 1.4942e-07 - val_root_mean_squared_error: 3.8655e-04\n",
            "Epoch 31/100\n",
            "279/286 [============================>.] - ETA: 0s - loss: 3.9018e-08 - root_mean_squared_error: 1.9753e-04INFO:tensorflow:Assets written to: model/assets\n",
            "286/286 [==============================] - 2s 6ms/step - loss: 3.9077e-08 - root_mean_squared_error: 1.9768e-04 - val_loss: 1.4455e-07 - val_root_mean_squared_error: 3.8020e-04\n",
            "Epoch 32/100\n",
            "274/286 [===========================>..] - ETA: 0s - loss: 3.7131e-08 - root_mean_squared_error: 1.9269e-04INFO:tensorflow:Assets written to: model/assets\n",
            "286/286 [==============================] - 2s 6ms/step - loss: 3.7126e-08 - root_mean_squared_error: 1.9268e-04 - val_loss: 1.4426e-07 - val_root_mean_squared_error: 3.7982e-04\n",
            "Epoch 33/100\n",
            "276/286 [===========================>..] - ETA: 0s - loss: 3.5218e-08 - root_mean_squared_error: 1.8767e-04INFO:tensorflow:Assets written to: model/assets\n",
            "286/286 [==============================] - 2s 7ms/step - loss: 3.5301e-08 - root_mean_squared_error: 1.8788e-04 - val_loss: 1.2742e-07 - val_root_mean_squared_error: 3.5696e-04\n",
            "Epoch 34/100\n",
            "286/286 [==============================] - 1s 3ms/step - loss: 3.4232e-08 - root_mean_squared_error: 1.8502e-04 - val_loss: 1.3576e-07 - val_root_mean_squared_error: 3.6846e-04\n",
            "Epoch 35/100\n",
            "276/286 [===========================>..] - ETA: 0s - loss: 3.1936e-08 - root_mean_squared_error: 1.7871e-04INFO:tensorflow:Assets written to: model/assets\n",
            "286/286 [==============================] - 2s 6ms/step - loss: 3.1899e-08 - root_mean_squared_error: 1.7860e-04 - val_loss: 1.2123e-07 - val_root_mean_squared_error: 3.4818e-04\n",
            "Epoch 36/100\n",
            "286/286 [==============================] - 1s 3ms/step - loss: 3.0847e-08 - root_mean_squared_error: 1.7563e-04 - val_loss: 1.2406e-07 - val_root_mean_squared_error: 3.5222e-04\n",
            "Epoch 37/100\n",
            "277/286 [============================>.] - ETA: 0s - loss: 2.8351e-08 - root_mean_squared_error: 1.6838e-04INFO:tensorflow:Assets written to: model/assets\n",
            "286/286 [==============================] - 2s 6ms/step - loss: 2.8282e-08 - root_mean_squared_error: 1.6817e-04 - val_loss: 1.0594e-07 - val_root_mean_squared_error: 3.2548e-04\n",
            "Epoch 38/100\n",
            "279/286 [============================>.] - ETA: 0s - loss: 2.6806e-08 - root_mean_squared_error: 1.6372e-04INFO:tensorflow:Assets written to: model/assets\n",
            "286/286 [==============================] - 2s 6ms/step - loss: 2.6797e-08 - root_mean_squared_error: 1.6370e-04 - val_loss: 1.0341e-07 - val_root_mean_squared_error: 3.2157e-04\n",
            "Epoch 39/100\n",
            "277/286 [============================>.] - ETA: 0s - loss: 2.6125e-08 - root_mean_squared_error: 1.6163e-04INFO:tensorflow:Assets written to: model/assets\n",
            "286/286 [==============================] - 2s 6ms/step - loss: 2.6074e-08 - root_mean_squared_error: 1.6148e-04 - val_loss: 1.0261e-07 - val_root_mean_squared_error: 3.2033e-04\n",
            "Epoch 40/100\n",
            "280/286 [============================>.] - ETA: 0s - loss: 2.3802e-08 - root_mean_squared_error: 1.5428e-04INFO:tensorflow:Assets written to: model/assets\n",
            "286/286 [==============================] - 2s 6ms/step - loss: 2.3854e-08 - root_mean_squared_error: 1.5445e-04 - val_loss: 8.6595e-08 - val_root_mean_squared_error: 2.9427e-04\n",
            "Epoch 41/100\n",
            "286/286 [==============================] - 1s 3ms/step - loss: 2.3884e-08 - root_mean_squared_error: 1.5454e-04 - val_loss: 9.5249e-08 - val_root_mean_squared_error: 3.0862e-04\n",
            "Epoch 42/100\n",
            "281/286 [============================>.] - ETA: 0s - loss: 2.2356e-08 - root_mean_squared_error: 1.4952e-04INFO:tensorflow:Assets written to: model/assets\n",
            "286/286 [==============================] - 2s 6ms/step - loss: 2.2309e-08 - root_mean_squared_error: 1.4936e-04 - val_loss: 8.4346e-08 - val_root_mean_squared_error: 2.9042e-04\n",
            "Epoch 43/100\n",
            "286/286 [==============================] - 1s 3ms/step - loss: 2.1370e-08 - root_mean_squared_error: 1.4618e-04 - val_loss: 8.5150e-08 - val_root_mean_squared_error: 2.9180e-04\n",
            "Epoch 44/100\n",
            "273/286 [===========================>..] - ETA: 0s - loss: 2.0321e-08 - root_mean_squared_error: 1.4255e-04INFO:tensorflow:Assets written to: model/assets\n",
            "286/286 [==============================] - 2s 6ms/step - loss: 2.0504e-08 - root_mean_squared_error: 1.4319e-04 - val_loss: 8.3277e-08 - val_root_mean_squared_error: 2.8858e-04\n",
            "Epoch 45/100\n",
            "277/286 [============================>.] - ETA: 0s - loss: 1.9546e-08 - root_mean_squared_error: 1.3981e-04INFO:tensorflow:Assets written to: model/assets\n",
            "286/286 [==============================] - 2s 6ms/step - loss: 1.9484e-08 - root_mean_squared_error: 1.3958e-04 - val_loss: 7.1070e-08 - val_root_mean_squared_error: 2.6659e-04\n",
            "Epoch 46/100\n",
            "284/286 [============================>.] - ETA: 0s - loss: 1.7690e-08 - root_mean_squared_error: 1.3300e-04INFO:tensorflow:Assets written to: model/assets\n",
            "286/286 [==============================] - 2s 6ms/step - loss: 1.7718e-08 - root_mean_squared_error: 1.3311e-04 - val_loss: 6.9346e-08 - val_root_mean_squared_error: 2.6334e-04\n",
            "Epoch 47/100\n",
            "286/286 [==============================] - 1s 5ms/step - loss: 1.6574e-08 - root_mean_squared_error: 1.2874e-04 - val_loss: 7.2574e-08 - val_root_mean_squared_error: 2.6940e-04\n",
            "Epoch 48/100\n",
            "286/286 [==============================] - 1s 4ms/step - loss: 1.6554e-08 - root_mean_squared_error: 1.2866e-04 - val_loss: 6.9450e-08 - val_root_mean_squared_error: 2.6353e-04\n",
            "Epoch 49/100\n",
            "279/286 [============================>.] - ETA: 0s - loss: 1.5718e-08 - root_mean_squared_error: 1.2537e-04INFO:tensorflow:Assets written to: model/assets\n",
            "286/286 [==============================] - 2s 6ms/step - loss: 1.5654e-08 - root_mean_squared_error: 1.2512e-04 - val_loss: 5.9033e-08 - val_root_mean_squared_error: 2.4297e-04\n",
            "Epoch 50/100\n",
            "271/286 [===========================>..] - ETA: 0s - loss: 1.4846e-08 - root_mean_squared_error: 1.2184e-04INFO:tensorflow:Assets written to: model/assets\n",
            "286/286 [==============================] - 2s 6ms/step - loss: 1.4803e-08 - root_mean_squared_error: 1.2167e-04 - val_loss: 5.6856e-08 - val_root_mean_squared_error: 2.3845e-04\n",
            "Epoch 51/100\n",
            "286/286 [==============================] - 1s 4ms/step - loss: 1.4276e-08 - root_mean_squared_error: 1.1948e-04 - val_loss: 6.0788e-08 - val_root_mean_squared_error: 2.4655e-04\n",
            "Epoch 52/100\n",
            "284/286 [============================>.] - ETA: 0s - loss: 1.3352e-08 - root_mean_squared_error: 1.1555e-04INFO:tensorflow:Assets written to: model/assets\n",
            "286/286 [==============================] - 2s 6ms/step - loss: 1.3359e-08 - root_mean_squared_error: 1.1558e-04 - val_loss: 5.2969e-08 - val_root_mean_squared_error: 2.3015e-04\n",
            "Epoch 53/100\n",
            "286/286 [==============================] - 1s 3ms/step - loss: 1.2995e-08 - root_mean_squared_error: 1.1400e-04 - val_loss: 5.3059e-08 - val_root_mean_squared_error: 2.3035e-04\n",
            "Epoch 54/100\n",
            "286/286 [==============================] - 1s 4ms/step - loss: 1.3153e-08 - root_mean_squared_error: 1.1469e-04 - val_loss: 5.6849e-08 - val_root_mean_squared_error: 2.3843e-04\n",
            "Epoch 55/100\n",
            "286/286 [==============================] - ETA: 0s - loss: 1.1965e-08 - root_mean_squared_error: 1.0939e-04INFO:tensorflow:Assets written to: model/assets\n",
            "286/286 [==============================] - 2s 6ms/step - loss: 1.1965e-08 - root_mean_squared_error: 1.0939e-04 - val_loss: 4.9522e-08 - val_root_mean_squared_error: 2.2254e-04\n",
            "Epoch 56/100\n",
            "278/286 [============================>.] - ETA: 0s - loss: 1.1459e-08 - root_mean_squared_error: 1.0705e-04INFO:tensorflow:Assets written to: model/assets\n",
            "286/286 [==============================] - 2s 6ms/step - loss: 1.1431e-08 - root_mean_squared_error: 1.0692e-04 - val_loss: 4.7428e-08 - val_root_mean_squared_error: 2.1778e-04\n",
            "Epoch 57/100\n",
            "286/286 [==============================] - 1s 3ms/step - loss: 1.1539e-08 - root_mean_squared_error: 1.0742e-04 - val_loss: 5.0904e-08 - val_root_mean_squared_error: 2.2562e-04\n",
            "Epoch 58/100\n",
            "286/286 [==============================] - 1s 4ms/step - loss: 1.0293e-08 - root_mean_squared_error: 1.0146e-04 - val_loss: 5.1650e-08 - val_root_mean_squared_error: 2.2727e-04\n",
            "Epoch 59/100\n",
            "286/286 [==============================] - 1s 3ms/step - loss: 1.0428e-08 - root_mean_squared_error: 1.0212e-04 - val_loss: 4.8235e-08 - val_root_mean_squared_error: 2.1962e-04\n",
            "Epoch 60/100\n",
            "285/286 [============================>.] - ETA: 0s - loss: 1.0593e-08 - root_mean_squared_error: 1.0292e-04INFO:tensorflow:Assets written to: model/assets\n",
            "286/286 [==============================] - 2s 6ms/step - loss: 1.0588e-08 - root_mean_squared_error: 1.0290e-04 - val_loss: 4.5305e-08 - val_root_mean_squared_error: 2.1285e-04\n",
            "Epoch 61/100\n",
            "286/286 [==============================] - 1s 3ms/step - loss: 1.0008e-08 - root_mean_squared_error: 1.0004e-04 - val_loss: 4.6469e-08 - val_root_mean_squared_error: 2.1557e-04\n",
            "Epoch 62/100\n",
            "280/286 [============================>.] - ETA: 0s - loss: 1.0267e-08 - root_mean_squared_error: 1.0132e-04INFO:tensorflow:Assets written to: model/assets\n",
            "286/286 [==============================] - 2s 6ms/step - loss: 1.0274e-08 - root_mean_squared_error: 1.0136e-04 - val_loss: 3.9877e-08 - val_root_mean_squared_error: 1.9969e-04\n",
            "Epoch 63/100\n",
            "281/286 [============================>.] - ETA: 0s - loss: 9.1494e-09 - root_mean_squared_error: 9.5653e-05INFO:tensorflow:Assets written to: model/assets\n",
            "286/286 [==============================] - 2s 6ms/step - loss: 9.1174e-09 - root_mean_squared_error: 9.5485e-05 - val_loss: 3.6449e-08 - val_root_mean_squared_error: 1.9092e-04\n",
            "Epoch 64/100\n",
            "286/286 [==============================] - 1s 4ms/step - loss: 9.2850e-09 - root_mean_squared_error: 9.6358e-05 - val_loss: 4.5887e-08 - val_root_mean_squared_error: 2.1421e-04\n",
            "Epoch 65/100\n",
            "277/286 [============================>.] - ETA: 0s - loss: 8.9268e-09 - root_mean_squared_error: 9.4482e-05INFO:tensorflow:Assets written to: model/assets\n",
            "286/286 [==============================] - 2s 6ms/step - loss: 8.9057e-09 - root_mean_squared_error: 9.4370e-05 - val_loss: 3.5864e-08 - val_root_mean_squared_error: 1.8938e-04\n",
            "Epoch 66/100\n",
            "286/286 [==============================] - 1s 3ms/step - loss: 8.9848e-09 - root_mean_squared_error: 9.4788e-05 - val_loss: 3.6409e-08 - val_root_mean_squared_error: 1.9081e-04\n",
            "Epoch 67/100\n",
            "286/286 [==============================] - 1s 3ms/step - loss: 8.6645e-09 - root_mean_squared_error: 9.3083e-05 - val_loss: 3.8610e-08 - val_root_mean_squared_error: 1.9649e-04\n",
            "Epoch 68/100\n",
            "286/286 [==============================] - 1s 4ms/step - loss: 8.9142e-09 - root_mean_squared_error: 9.4415e-05 - val_loss: 3.6160e-08 - val_root_mean_squared_error: 1.9016e-04\n",
            "Epoch 69/100\n",
            "272/286 [===========================>..] - ETA: 0s - loss: 8.0995e-09 - root_mean_squared_error: 8.9997e-05INFO:tensorflow:Assets written to: model/assets\n",
            "286/286 [==============================] - 2s 6ms/step - loss: 8.0705e-09 - root_mean_squared_error: 8.9836e-05 - val_loss: 3.2748e-08 - val_root_mean_squared_error: 1.8096e-04\n",
            "Epoch 70/100\n",
            "286/286 [==============================] - 1s 4ms/step - loss: 7.3452e-09 - root_mean_squared_error: 8.5704e-05 - val_loss: 3.5665e-08 - val_root_mean_squared_error: 1.8885e-04\n",
            "Epoch 71/100\n",
            "286/286 [==============================] - 1s 3ms/step - loss: 7.8099e-09 - root_mean_squared_error: 8.8374e-05 - val_loss: 3.5797e-08 - val_root_mean_squared_error: 1.8920e-04\n",
            "Epoch 72/100\n",
            "274/286 [===========================>..] - ETA: 0s - loss: 7.9799e-09 - root_mean_squared_error: 8.9330e-05INFO:tensorflow:Assets written to: model/assets\n",
            "286/286 [==============================] - 2s 6ms/step - loss: 7.9403e-09 - root_mean_squared_error: 8.9108e-05 - val_loss: 3.1991e-08 - val_root_mean_squared_error: 1.7886e-04\n",
            "Epoch 73/100\n",
            "270/286 [===========================>..] - ETA: 0s - loss: 7.6050e-09 - root_mean_squared_error: 8.7207e-05INFO:tensorflow:Assets written to: model/assets\n",
            "286/286 [==============================] - 2s 6ms/step - loss: 7.5885e-09 - root_mean_squared_error: 8.7112e-05 - val_loss: 3.1840e-08 - val_root_mean_squared_error: 1.7844e-04\n",
            "Epoch 74/100\n",
            "286/286 [==============================] - 1s 3ms/step - loss: 7.1441e-09 - root_mean_squared_error: 8.4523e-05 - val_loss: 3.4954e-08 - val_root_mean_squared_error: 1.8696e-04\n",
            "Epoch 75/100\n",
            "286/286 [==============================] - 1s 4ms/step - loss: 7.8827e-09 - root_mean_squared_error: 8.8784e-05 - val_loss: 3.7077e-08 - val_root_mean_squared_error: 1.9255e-04\n",
            "Epoch 76/100\n",
            "286/286 [==============================] - 1s 4ms/step - loss: 7.2536e-09 - root_mean_squared_error: 8.5168e-05 - val_loss: 3.6206e-08 - val_root_mean_squared_error: 1.9028e-04\n",
            "Epoch 77/100\n",
            "277/286 [============================>.] - ETA: 0s - loss: 7.3712e-09 - root_mean_squared_error: 8.5856e-05INFO:tensorflow:Assets written to: model/assets\n",
            "286/286 [==============================] - 2s 6ms/step - loss: 7.3805e-09 - root_mean_squared_error: 8.5910e-05 - val_loss: 3.1761e-08 - val_root_mean_squared_error: 1.7822e-04\n",
            "Epoch 78/100\n",
            "286/286 [==============================] - 1s 4ms/step - loss: 7.2350e-09 - root_mean_squared_error: 8.5059e-05 - val_loss: 3.2866e-08 - val_root_mean_squared_error: 1.8129e-04\n",
            "Epoch 79/100\n",
            "274/286 [===========================>..] - ETA: 0s - loss: 6.4780e-09 - root_mean_squared_error: 8.0486e-05INFO:tensorflow:Assets written to: model/assets\n",
            "286/286 [==============================] - 2s 6ms/step - loss: 6.4956e-09 - root_mean_squared_error: 8.0595e-05 - val_loss: 2.6235e-08 - val_root_mean_squared_error: 1.6197e-04\n",
            "Epoch 80/100\n",
            "286/286 [==============================] - 1s 4ms/step - loss: 6.5027e-09 - root_mean_squared_error: 8.0639e-05 - val_loss: 3.0542e-08 - val_root_mean_squared_error: 1.7476e-04\n",
            "Epoch 81/100\n",
            "286/286 [==============================] - 1s 3ms/step - loss: 7.3069e-09 - root_mean_squared_error: 8.5480e-05 - val_loss: 2.6579e-08 - val_root_mean_squared_error: 1.6303e-04\n",
            "Epoch 82/100\n",
            "286/286 [==============================] - 1s 4ms/step - loss: 6.7187e-09 - root_mean_squared_error: 8.1968e-05 - val_loss: 2.6671e-08 - val_root_mean_squared_error: 1.6331e-04\n",
            "Epoch 83/100\n",
            "272/286 [===========================>..] - ETA: 0s - loss: 6.1884e-09 - root_mean_squared_error: 7.8666e-05INFO:tensorflow:Assets written to: model/assets\n",
            "286/286 [==============================] - 2s 6ms/step - loss: 6.1795e-09 - root_mean_squared_error: 7.8610e-05 - val_loss: 2.6106e-08 - val_root_mean_squared_error: 1.6157e-04\n",
            "Epoch 84/100\n",
            "276/286 [===========================>..] - ETA: 0s - loss: 6.6528e-09 - root_mean_squared_error: 8.1565e-05INFO:tensorflow:Assets written to: model/assets\n",
            "286/286 [==============================] - 2s 6ms/step - loss: 6.6065e-09 - root_mean_squared_error: 8.1280e-05 - val_loss: 2.4756e-08 - val_root_mean_squared_error: 1.5734e-04\n",
            "Epoch 85/100\n",
            "286/286 [==============================] - 1s 3ms/step - loss: 6.5183e-09 - root_mean_squared_error: 8.0736e-05 - val_loss: 3.0577e-08 - val_root_mean_squared_error: 1.7486e-04\n",
            "Epoch 86/100\n",
            "286/286 [==============================] - 1s 4ms/step - loss: 5.9835e-09 - root_mean_squared_error: 7.7353e-05 - val_loss: 2.4992e-08 - val_root_mean_squared_error: 1.5809e-04\n",
            "Epoch 87/100\n",
            "286/286 [==============================] - 1s 4ms/step - loss: 5.5142e-09 - root_mean_squared_error: 7.4258e-05 - val_loss: 2.6372e-08 - val_root_mean_squared_error: 1.6239e-04\n",
            "Epoch 88/100\n",
            "279/286 [============================>.] - ETA: 0s - loss: 6.3613e-09 - root_mean_squared_error: 7.9758e-05INFO:tensorflow:Assets written to: model/assets\n",
            "286/286 [==============================] - 2s 6ms/step - loss: 6.3151e-09 - root_mean_squared_error: 7.9468e-05 - val_loss: 2.3251e-08 - val_root_mean_squared_error: 1.5248e-04\n",
            "Epoch 89/100\n",
            "286/286 [==============================] - 1s 3ms/step - loss: 5.7483e-09 - root_mean_squared_error: 7.5817e-05 - val_loss: 2.4036e-08 - val_root_mean_squared_error: 1.5503e-04\n",
            "Epoch 90/100\n",
            "286/286 [==============================] - 1s 3ms/step - loss: 6.1698e-09 - root_mean_squared_error: 7.8548e-05 - val_loss: 2.5346e-08 - val_root_mean_squared_error: 1.5920e-04\n",
            "Epoch 91/100\n",
            "286/286 [==============================] - 1s 4ms/step - loss: 5.8181e-09 - root_mean_squared_error: 7.6276e-05 - val_loss: 3.0796e-08 - val_root_mean_squared_error: 1.7549e-04\n",
            "Epoch 92/100\n",
            "286/286 [==============================] - 1s 4ms/step - loss: 6.3404e-09 - root_mean_squared_error: 7.9627e-05 - val_loss: 2.3892e-08 - val_root_mean_squared_error: 1.5457e-04\n",
            "Epoch 93/100\n",
            "286/286 [==============================] - 1s 3ms/step - loss: 5.7402e-09 - root_mean_squared_error: 7.5764e-05 - val_loss: 2.3407e-08 - val_root_mean_squared_error: 1.5299e-04\n",
            "Epoch 94/100\n",
            "286/286 [==============================] - 1s 3ms/step - loss: 5.6073e-09 - root_mean_squared_error: 7.4882e-05 - val_loss: 2.4056e-08 - val_root_mean_squared_error: 1.5510e-04\n",
            "Epoch 95/100\n",
            "286/286 [==============================] - 1s 3ms/step - loss: 5.7509e-09 - root_mean_squared_error: 7.5834e-05 - val_loss: 2.4187e-08 - val_root_mean_squared_error: 1.5552e-04\n",
            "Epoch 96/100\n",
            "286/286 [==============================] - ETA: 0s - loss: 5.9160e-09 - root_mean_squared_error: 7.6916e-05INFO:tensorflow:Assets written to: model/assets\n",
            "286/286 [==============================] - 2s 6ms/step - loss: 5.9160e-09 - root_mean_squared_error: 7.6916e-05 - val_loss: 2.1863e-08 - val_root_mean_squared_error: 1.4786e-04\n",
            "Epoch 97/100\n",
            "285/286 [============================>.] - ETA: 0s - loss: 5.2675e-09 - root_mean_squared_error: 7.2578e-05INFO:tensorflow:Assets written to: model/assets\n",
            "286/286 [==============================] - 2s 6ms/step - loss: 5.2706e-09 - root_mean_squared_error: 7.2599e-05 - val_loss: 1.9705e-08 - val_root_mean_squared_error: 1.4038e-04\n",
            "Epoch 98/100\n",
            "286/286 [==============================] - 1s 3ms/step - loss: 5.7699e-09 - root_mean_squared_error: 7.5960e-05 - val_loss: 2.4421e-08 - val_root_mean_squared_error: 1.5627e-04\n",
            "Epoch 99/100\n",
            "286/286 [==============================] - 1s 4ms/step - loss: 5.3633e-09 - root_mean_squared_error: 7.3235e-05 - val_loss: 2.0329e-08 - val_root_mean_squared_error: 1.4258e-04\n",
            "Epoch 100/100\n",
            "286/286 [==============================] - 1s 3ms/step - loss: 5.7418e-09 - root_mean_squared_error: 7.5775e-05 - val_loss: 2.4288e-08 - val_root_mean_squared_error: 1.5585e-04\n"
          ]
        },
        {
          "output_type": "execute_result",
          "data": {
            "text/plain": [
              "<keras.callbacks.History at 0x7f4d18caf810>"
            ]
          },
          "metadata": {},
          "execution_count": 71
        }
      ],
      "source": [
        "#for i in range(100):\n",
        "  #model.fit(X_train, y_train, validation_data=(X_val, y_val), epochs=2, callbacks=[cp1])\n",
        "  #model.fit(X_train2, y_train2, validation_data=(X_val2, y_val2), epochs=2, callbacks=[cp1])\n",
        "model.fit(X_train, y_train, validation_data=(X_val, y_val), epochs=100, callbacks=[cp1])"
      ]
    },
    {
      "cell_type": "code",
      "execution_count": 72,
      "metadata": {
        "id": "LyBfk-DU1nfB"
      },
      "outputs": [],
      "source": [
        "#history = model.fit_generator(generator,epochs=100,verbose=1)"
      ]
    },
    {
      "cell_type": "markdown",
      "metadata": {
        "id": "Rhk15oVWvwCL"
      },
      "source": [
        "Predictions"
      ]
    },
    {
      "cell_type": "code",
      "execution_count": 73,
      "metadata": {
        "id": "uQHf2mwmvuPN"
      },
      "outputs": [],
      "source": [
        "from sklearn.metrics import mean_squared_error"
      ]
    },
    {
      "cell_type": "code",
      "source": [
        "predictions = model.predict(X_test)          ###############  LOCAL RMSE  (prediction per window on test set)\n",
        "#predictions = postprocess(val[-1],predictions)\n",
        "#predictions = scaler.inverse_transform(predictions)\n",
        "print(math.sqrt(mean_squared_error(test[windowSizeX:],predictions)))\n"
      ],
      "metadata": {
        "colab": {
          "base_uri": "https://localhost:8080/"
        },
        "id": "7RAT1QYFEZ6M",
        "outputId": "f073f62e-a907-41e4-ab4e-df03f9200158"
      },
      "execution_count": 74,
      "outputs": [
        {
          "output_type": "stream",
          "name": "stdout",
          "text": [
            "0.0009461696807144728\n"
          ]
        }
      ]
    },
    {
      "cell_type": "code",
      "execution_count": 75,
      "metadata": {
        "id": "EnTNFFfIOkJC"
      },
      "outputs": [],
      "source": [
        "def slidingWindowActualPredictions(model,windowArr,windowSize,NumOfBodies,predictionsRequestedNumber):\n",
        "  \n",
        "\n",
        "  actualPredictionArr =[]\n",
        "  for i in range(predictionsRequestedNumber):\n",
        "\n",
        "    prediction = model.predict(windowArr[-1:]) ### predict from last window\n",
        "    actualPredictionArr.append(prediction)\n",
        "    temp = np.zeros([windowSize,numOfBodies*2])\n",
        "    temp = temp + windowArr[-1]\n",
        "    temp =temp[1:]\n",
        "    newWindow = np.append(temp.reshape(windowSize-1,numOfBodies*2),prediction)\n",
        "    newWindow = newWindow.reshape(windowSize,numOfBodies*2)\n",
        "    lengthX = len(windowArr)\n",
        "    windowArr = np.append(windowArr,newWindow) ### add new window that the last vector is the prediction \n",
        "    windowArr = windowArr.reshape(lengthX+1,windowSize,numOfBodies*2)\n",
        "\n",
        "  return actualPredictionArr"
      ]
    },
    {
      "cell_type": "code",
      "execution_count": 76,
      "metadata": {
        "id": "1SFrwSvrMZ1d"
      },
      "outputs": [],
      "source": [
        "import math\n",
        "\n",
        "listOfPredictions = slidingWindowActualPredictions(model,X_train,windowSizeX,numOfBodies,len(val)+len(test))\n",
        "listOfPredictions =np.array(listOfPredictions)\n",
        "listOfPredictions = listOfPredictions.squeeze()\n",
        "\n",
        "listOfPredictionsTrue = postprocess(simulation1[len(X_train)+windowSizeX-1],listOfPredictions)\n",
        "\n",
        "if scaled:\n",
        "  listOfPredictionsTrue = scaler.inverse_transform(listOfPredictionsTrue)\n"
      ]
    },
    {
      "cell_type": "code",
      "source": [
        "listOfPredictions[1110]"
      ],
      "metadata": {
        "colab": {
          "base_uri": "https://localhost:8080/"
        },
        "id": "vrjhGOUvczUX",
        "outputId": "f2724669-8a2c-41fd-8d26-96d573fbbf9e"
      },
      "execution_count": 77,
      "outputs": [
        {
          "output_type": "execute_result",
          "data": {
            "text/plain": [
              "array([-0.00015201,  0.00925076, -0.00118435, -0.01178099,  0.00141039,\n",
              "        0.00288922], dtype=float32)"
            ]
          },
          "metadata": {},
          "execution_count": 77
        }
      ]
    },
    {
      "cell_type": "code",
      "execution_count": 78,
      "metadata": {
        "id": "Eh4mEj6KwB6F",
        "colab": {
          "base_uri": "https://localhost:8080/"
        },
        "outputId": "422ddc40-0254-4645-e0c6-e628b5df3c29"
      },
      "outputs": [
        {
          "output_type": "stream",
          "name": "stdout",
          "text": [
            "8.060150427000764\n"
          ]
        }
      ],
      "source": [
        "print(math.sqrt(mean_squared_error(simulation1[len(X_train)+windowSizeX+1:],listOfPredictionsTrue))) ##### ACTUAL RMSE #####\n"
      ]
    },
    {
      "cell_type": "code",
      "execution_count": 79,
      "metadata": {
        "id": "zLhJtfqxVcOm",
        "colab": {
          "base_uri": "https://localhost:8080/"
        },
        "outputId": "2d69578c-f9fd-4c00-96b3-f7a7a7cf5729"
      },
      "outputs": [
        {
          "output_type": "stream",
          "name": "stdout",
          "text": [
            "[-0.00205589  0.00713611  0.00494935 -0.01458202 -0.00289346  0.0074459 ]\n",
            "[[-0.00205589  0.00713611  0.00494935 -0.01458202 -0.00289346  0.0074459 ]]\n",
            "[-0.00209689  0.00704937  0.00477673 -0.01459039 -0.00285097  0.0074453 ]\n"
          ]
        }
      ],
      "source": [
        "print((diffSimulation1[len(X_train)+windowSizeX-1]))\n",
        "\n",
        "print((train[-1:]))\n",
        "\n",
        "print(listOfPredictions[0])\n",
        "if scaled:\n",
        "  print((scaler.inverse_transform(model.predict(X_train[-1:]))))"
      ]
    },
    {
      "cell_type": "code",
      "execution_count": 80,
      "metadata": {
        "id": "Rgzd9Tbv9kBn",
        "colab": {
          "base_uri": "https://localhost:8080/",
          "height": 283
        },
        "outputId": "00d99273-88f9-4c9a-930b-c1162ed5b164"
      },
      "outputs": [
        {
          "output_type": "execute_result",
          "data": {
            "text/plain": [
              "[<matplotlib.lines.Line2D at 0x7f4d1896b950>]"
            ]
          },
          "metadata": {},
          "execution_count": 80
        },
        {
          "output_type": "display_data",
          "data": {
            "text/plain": [
              "<Figure size 432x288 with 1 Axes>"
            ],
            "image/png": "[encoded data removed]"
          },
          "metadata": {
            "needs_background": "light"
          }
        }
      ],
      "source": [
        "import matplotlib.pyplot as plt\n",
        "disArr = []\n",
        "for i in range(len(val)+len(test)):\n",
        "  disArr.append(np.linalg.norm(simulation1[len(X_train)+windowSizeX+i+1]-listOfPredictionsTrue[i]))\n",
        "\n",
        "plt.plot(disArr)  "
      ]
    },
    {
      "cell_type": "code",
      "source": [
        "drawSimulation(simulation1[len(X_train)+windowSizeX+1:len(X_train)+windowSizeX+11])"
      ],
      "metadata": {
        "colab": {
          "base_uri": "https://localhost:8080/",
          "height": 268
        },
        "id": "GOIM2jG_xrd-",
        "outputId": "05eeb6ed-9658-4d93-fb68-3d732f8bdd18"
      },
      "execution_count": 81,
      "outputs": [
        {
          "output_type": "display_data",
          "data": {
            "text/plain": [
              "<Figure size 432x288 with 1 Axes>"
            ],
            "image/png": "[encoded data removed]"
          },
          "metadata": {
            "needs_background": "light"
          }
        }
      ]
    },
    {
      "cell_type": "code",
      "execution_count": 82,
      "metadata": {
        "id": "LuehIDzY8P1I",
        "colab": {
          "base_uri": "https://localhost:8080/",
          "height": 265
        },
        "outputId": "d716ccc0-d4b8-46ee-efd8-e29270946e93"
      },
      "outputs": [
        {
          "output_type": "display_data",
          "data": {
            "text/plain": [
              "<Figure size 432x288 with 1 Axes>"
            ],
            "image/png": "[encoded data removed]"
          },
          "metadata": {
            "needs_background": "light"
          }
        }
      ],
      "source": [
        "drawSimulation(listOfPredictionsTrue[0:10])"
      ]
    }
  ],
  "metadata": {
    "accelerator": "GPU",
    "colab": {
      "collapsed_sections": [],
      "name": "ThreeBodySimulation (3).ipynb",
      "provenance": [],
      "include_colab_link": true
    },
    "gpuClass": "standard",
    "kernelspec": {
      "display_name": "Python 3",
      "name": "python3"
    },
    "language_info": {
      "name": "python"
    }
  },
  "nbformat": 4,
  "nbformat_minor": 0
}