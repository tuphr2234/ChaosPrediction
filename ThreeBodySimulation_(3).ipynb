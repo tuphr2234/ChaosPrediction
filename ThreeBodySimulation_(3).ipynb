{
  "cells": [
    {
      "cell_type": "markdown",
      "metadata": {
        "id": "view-in-github",
        "colab_type": "text"
      },
      "source": [
        "<a href=\"https://colab.research.google.com/github/tuphr2234/ChaosPredition/blob/main/ThreeBodySimulation_(3).ipynb\" target=\"_parent\"><img src=\"https://colab.research.google.com/assets/colab-badge.svg\" alt=\"Open In Colab\"/></a>"
      ]
    },
    {
      "cell_type": "markdown",
      "metadata": {
        "id": "4TDAWMjwIKbl"
      },
      "source": [
        "Build Simulation"
      ]
    },
    {
      "cell_type": "code",
      "execution_count": 1,
      "metadata": {
        "id": "h_D93EjYjFie"
      },
      "outputs": [],
      "source": [
        "import math\n",
        "import pandas as pd\n",
        "import numpy as np\n",
        "import matplotlib.pyplot as plt\n",
        "import matplotlib.animation as animation\n",
        "import tensorflow as tf\n",
        "import os\n",
        "from pathlib import Path  \n",
        "\n",
        "\n",
        "G=1\n",
        "\n",
        "\n",
        "class Body:\n",
        "  \n",
        "  prevPosition=np.array([0,0])\n",
        "  position=np.array([0,0])\n",
        "  velocity=np.array([0,0])\n",
        "  force=np.array([0,0])\n",
        "  acceleration=np.array([0,0])\n",
        "  mass=0\n",
        "\n",
        "  def __init__(self,position,velocity,mass,name):\n",
        "    self.position=np.array(position)\n",
        "    self.velocity=np.array(velocity)\n",
        "    #self.acceleration=np.array(acceleration)\n",
        "    self.mass=mass\n",
        "    self.prevPosition=np.array(position)\n",
        "    self.name = name\n",
        "\n",
        "\n",
        "  def setPosition(self,t):\n",
        "    self.prevPosition = self.position\n",
        "    self.position=self.position+self.velocity*t+(self.acceleration/2)* t**2\n",
        "  \n",
        "    \n",
        "\n",
        "\n",
        "  def setVelocity(self,t):\n",
        "    self.velocity=self.velocity+self.acceleration*t\n",
        "  \n",
        "\n",
        "  def getForce(self,body):\n",
        "    softening = 0.00001\n",
        "    Distance = body.prevPosition - self.position\n",
        "    Rsquare = Distance[0]**2 + Distance[1]**2 + softening\n",
        "    F = G* self.mass*body.mass / Rsquare  \n",
        "    normalizeDis = Distance / math.sqrt(Rsquare)\n",
        "    F = F*normalizeDis\n",
        "    \n",
        "    #print(f\"body {self.name} force is {F} \")\n",
        "    \n",
        "    return F\n",
        "\n",
        "  def setAcceleration(self,bodies):\n",
        "    F=np.array([0,0])\n",
        "    for body in bodies:\n",
        "      F=F+self.getForce(body)\n",
        "    self.acceleration = F/self.mass\n",
        "   # print(f\" {self.name} acceleration is {self.acceleration}\")"
      ]
    },
    {
      "cell_type": "code",
      "execution_count": 2,
      "metadata": {
        "id": "3N3yCUu4PPDX"
      },
      "outputs": [],
      "source": [
        "def simulateOnTimeStep(bodies,t,steps,interval_in_data): # bodies: list of bodies. t: timestep . steps: number of steps. interval_in_data : frequency of rows taken to dataset: if equals 1 than it is every step\n",
        "  dataset = []\n",
        "  time = []\n",
        "\n",
        "  for i in range(steps):\n",
        "      list1=[]\n",
        "      for body in bodies:\n",
        "        list1.append(body.position)\n",
        "      if i % interval_in_data ==0:\n",
        "        dataset += list1\n",
        "        time.append(i * t)\n",
        "      \n",
        "      for i,body in enumerate(bodies):\n",
        "        body.setAcceleration([b for b in bodies if b is not body])\n",
        "        body.setVelocity(t)\n",
        "        body.setPosition(t)\n",
        "       \n",
        "        \n",
        "      for body in bodies:\n",
        "        #plt.plot([body.prevPosition[0],body.position[0]],[body.prevPosition[1],body.position[1]])\n",
        "        body.prevPosition = body.position\n",
        "  #plt.show()\n",
        "    \n",
        "\n",
        "  return np.array(dataset).reshape(steps//interval_in_data,len(bodies),2),time\n",
        "\n"
      ]
    },
    {
      "cell_type": "code",
      "source": [
        "def numpyToPandas(simulation,numOfBodies):\n",
        "  columns = []\n",
        "\n",
        "  for i in range(numOfBodies):\n",
        "    columns.append(f'Body{i+1} x')\n",
        "    columns.append(f'Body{i+1} y')\n",
        "  simulation_reshaped = simulation.reshape(len(simulation), numOfBodies*2 )\n",
        "\n",
        "  df = pd.DataFrame(simulation_reshaped, columns = columns)\n",
        "  return df\n"
      ],
      "metadata": {
        "id": "uyz_2jL4t6QF"
      },
      "execution_count": 3,
      "outputs": []
    },
    {
      "cell_type": "markdown",
      "metadata": {
        "id": "aFmLiPZMDQZ0"
      },
      "source": [
        "Add Filters"
      ]
    },
    {
      "cell_type": "code",
      "execution_count": 4,
      "metadata": {
        "id": "eBPe3vx-DVyb"
      },
      "outputs": [],
      "source": [
        "#def addNoise(simulation):\n",
        "#def removeBody(simulation)"
      ]
    },
    {
      "cell_type": "markdown",
      "metadata": {
        "id": "cr0DATa23lkK"
      },
      "source": [
        "Save Simulation"
      ]
    },
    {
      "cell_type": "code",
      "execution_count": 5,
      "metadata": {
        "id": "K3LKWQt83uFP"
      },
      "outputs": [],
      "source": [
        "## save simulation as csv\n",
        "def saveSimulation(simulation,numOfBodies,simulation_name):\n",
        "  df = numpyToPandas(simulation,numOfBodies) \n",
        "  df.to_csv(f'/content/{simulation_name}.csv',index=False)\n",
        "  \n",
        "def loadSimulation(df):\n",
        "  return pd.DataFrame.to_numpy(df)  "
      ]
    },
    {
      "cell_type": "markdown",
      "metadata": {
        "id": "vQlYUvwaISvu"
      },
      "source": [
        "Prepare Dataset "
      ]
    },
    {
      "cell_type": "code",
      "execution_count": 6,
      "metadata": {
        "id": "-NmBUcC3I5LO"
      },
      "outputs": [],
      "source": [
        "def prepareData(simulation,window_size_X):\n",
        "  X = []\n",
        "  y = []\n",
        "  for i in range(len(simulation)-window_size_X):\n",
        "    row = [bodies for bodies in simulation[i:i+window_size_X]]  ### adding time is an option\n",
        "    X.append(row)\n",
        "    label = simulation[i+window_size_X]\n",
        "    y.append(label)\n",
        "  return np.array(X) , np.array(y)  "
      ]
    },
    {
      "cell_type": "code",
      "execution_count": 34,
      "metadata": {
        "id": "Tfy7w3HsJU5P"
      },
      "outputs": [],
      "source": [
        "def prepareData2(simulation,window_size_X,window_size_y): \n",
        "  X = []\n",
        "  y = []\n",
        "  for i in range(len(simulation)-window_size_X - window_size_y):\n",
        "    row = [bodies for bodies in simulation[i:i+window_size_X]]  \n",
        "    X.append(row)\n",
        "    label =  [bodies for bodies in simulation[i+window_size_X:i+window_size_X + window_size_y]]#######################################\n",
        "    y.append(label)\n",
        "\n",
        "  return np.array(X) , np.array(y)\n"
      ]
    },
    {
      "cell_type": "code",
      "execution_count": 8,
      "metadata": {
        "id": "_l71q3WAbOke"
      },
      "outputs": [],
      "source": [
        "def splitToTrainValidTest(dataset,testPercentage):\n",
        "  trainLen = round((len(dataset)*(1-testPercentage-0.05)))\n",
        "  valLen = round((len(dataset)*0.05))\n",
        "  train_set = dataset[:trainLen]\n",
        "  val_set = dataset[trainLen:trainLen+valLen]\n",
        "  test_set = dataset[trainLen+valLen:]\n",
        "  return train_set,val_set,test_set"
      ]
    },
    {
      "cell_type": "code",
      "execution_count": 9,
      "metadata": {
        "id": "fNpP_KDhHKuQ"
      },
      "outputs": [],
      "source": [
        "def drawSimulation(simulation):\n",
        "  prev = simulation[0]\n",
        "  numOfBodies = len(simulation[0])\n",
        "\n",
        "  for i,sim in enumerate(simulation):\n",
        "    for j in range(0,len(sim),2):\n",
        "      plt.plot([prev[j],sim[j]],[prev[j+1],sim[j+1]])\n",
        "      prev[j] = sim[j]\n",
        "      prev[j+1] = sim[j+1]\n",
        "  plt.show()\n",
        "  #plt.clf()\n"
      ]
    },
    {
      "cell_type": "code",
      "source": [
        "def showBodiesMovmentInGraph(simulation,trueForX):\n",
        " arr = []\n",
        " for i in range(0,len(simulation),2):\n",
        "    for sim in simulation:\n",
        "      arr.append(sim[i])\n",
        "\n",
        "\n",
        " plt.plot(arr)"
      ],
      "metadata": {
        "id": "J9HQSryLlGpc"
      },
      "execution_count": 10,
      "outputs": []
    },
    {
      "cell_type": "code",
      "source": [
        ""
      ],
      "metadata": {
        "id": "2uhRcc74BEXs"
      },
      "execution_count": 10,
      "outputs": []
    },
    {
      "cell_type": "code",
      "source": [
        ""
      ],
      "metadata": {
        "id": "cpZLYBcVBWdn"
      },
      "execution_count": 10,
      "outputs": []
    },
    {
      "cell_type": "markdown",
      "metadata": {
        "id": "5BntFiYXOd44"
      },
      "source": [
        "Preprocessing/Postprocessing"
      ]
    },
    {
      "cell_type": "code",
      "execution_count": 10,
      "metadata": {
        "id": "EF80L_VWOhvb"
      },
      "outputs": [],
      "source": [
        "\n"
      ]
    },
    {
      "cell_type": "markdown",
      "metadata": {
        "id": "JkwyKYUNOlJ5"
      },
      "source": [
        "Model"
      ]
    },
    {
      "cell_type": "code",
      "execution_count": 11,
      "metadata": {
        "id": "t1xoIIT1QZb_"
      },
      "outputs": [],
      "source": [
        "from tensorflow.keras.models import Sequential\n",
        "from tensorflow.keras.layers import *\n",
        "from tensorflow.keras.callbacks import ModelCheckpoint\n",
        "from tensorflow.keras.losses import MeanSquaredError\n",
        "from tensorflow.keras.metrics import RootMeanSquaredError\n",
        "from tensorflow.keras.optimizers import Adam\n",
        "from tensorflow.keras.optimizers.schedules import ExponentialDecay\n",
        "from tensorflow.keras.preprocessing.sequence import TimeseriesGenerator\n",
        "def buildModelCNN(window_size_X,numberOfBodies): ### One step at a time - autoreggresive model \n",
        "  model = Sequential()\n",
        "  model.add(InputLayer((window_size_X,numberOfBodies*2)))#model.add(InputLayer((window_size_X,numberOfBodies*2)))\n",
        "  model.add(Conv1D(64, kernel_size=2))\n",
        "  #model.add(Dropout(0.2))\n",
        "  model.add(Conv1D(32, kernel_size=2))\n",
        "  #model.add(TimeDistributed(conv_1d))\n",
        "  model.add(Flatten())\n",
        "  #model.add(LSTM(32))\n",
        "  #model.add(Dropout(0.2))\n",
        "  model.add(Dense(16, 'relu'))\n",
        "  model.add(Dense(numberOfBodies*2, 'linear'))\n",
        "  model.summary()\n",
        "  return model\n",
        "\n",
        "\n",
        "\n",
        "def buildModelCNN2(window_size_X,window_size_y,numberOfBodies): ### Multiple predictions at a time\n",
        "  model = Sequential()\n",
        "  model.add(InputLayer((window_size_X,numberOfBodies*2)))#model.add(InputLayer((window_size_X,numberOfBodies*2)))\n",
        "  model.add(Conv1D(64, kernel_size=2)) ###\n",
        "  #model.add(Dropout(0.2))\n",
        "  model.add(Conv1D(32, kernel_size=2)) ###\n",
        "  #model.add(TimeDistributed(conv_1d))\n",
        "  model.add(Flatten())\n",
        "  #model.add(LSTM(32))\n",
        "  #model.add(Dropout(0.2))\n",
        "  model.add(Dense(16, 'relu'))\n",
        "  model.add(Dense(units =  window_size_y*numberOfBodies*2, activation ='linear'))\n",
        "  model.add(tf.keras.layers.Reshape([window_size_y, numberOfBodies*2]))\n",
        "  model.summary()\n",
        "  return model"
      ]
    },
    {
      "cell_type": "code",
      "source": [
        "def preprocessSimulation(simulation):\n",
        "  shape = simulation[0].shape\n",
        "  newSimulation = np.append(simulation[1:],[np.zeros(shape)],axis=0) - simulation\n",
        "  newSimulation = newSimulation[:-1]\n",
        "  #for i,s in enumerate(newSimulation):\n",
        "  #  s = s / np.linalg.norm(simulation[i])\n",
        "  return newSimulation"
      ],
      "metadata": {
        "id": "bmAH9y73-g7K"
      },
      "execution_count": 12,
      "outputs": []
    },
    {
      "cell_type": "code",
      "source": [
        "def postprocess(lastKnownElement , listOfPredictedChanges):\n",
        "  listOfPredictions = []\n",
        "  for pred in listOfPredictedChanges:\n",
        "    #newElement = (pred * np.linalg.norm(lastKnownElement)) + lastKnownElement\n",
        "    newElement = pred  + lastKnownElement\n",
        "    listOfPredictions.append(newElement)\n",
        "    lastKnownElement = newElement\n",
        "  return np.array(listOfPredictions)  \n"
      ],
      "metadata": {
        "id": "qbQToROHTnr0"
      },
      "execution_count": 13,
      "outputs": []
    },
    {
      "cell_type": "markdown",
      "metadata": {
        "id": "YHN2E_WZcMwI"
      },
      "source": [
        "Training Model"
      ]
    },
    {
      "cell_type": "code",
      "source": [
        "#position,velocity,mass\n",
        "#%%timeit\n",
        "bodies=[]\n",
        "bodies.append(Body([-0.97000436, 0.24308753],[0.4662036850, 0.4323657300],1,\"body1\"))\n",
        "bodies.append(Body([0,0],[-0.93240737, -0.86473146],1,\"body2\"))\n",
        "bodies.append(Body([0.97000436, -0.24308753],[0.4662036850, 0.4323657300],1,\"body3\"))\n",
        "#bodies.append(Body([2, -0.24308753],[-0.4662036850, 0.4323657300],1,\"body4\"))\n",
        "\n",
        " #r1(0) = −r3(0) = (−0.97000436, 0.24308753);\n",
        " # r2(0) = (0,0); v1(0) = v3(0) = (0.4662036850, 0.4323657300);\n",
        " # v2(0) = (−0.93240737, −0.86473146). The values are obtained from Chenciner & Montgomery (2000).\n",
        "\n",
        "numOfBodies=len(bodies)\n",
        "##t: timestep . steps: number of steps. interval_in_data\n",
        "timestep = 0.001 # actual seconds\n",
        "steps = 122000\n",
        "interval_in_data = 10\n",
        "\n",
        "simulation1,timesteps = simulateOnTimeStep(bodies,timestep,steps,interval_in_data)\n",
        "simulation1=simulation1.reshape(len(simulation1), numOfBodies*2 )\n",
        "saveSimulation(simulation1,numOfBodies,\"N-Body Simulation\")"
      ],
      "metadata": {
        "id": "EYCRyk7h_AGq"
      },
      "execution_count": 14,
      "outputs": []
    },
    {
      "cell_type": "code",
      "source": [
        "drawSimulation(simulation1)"
      ],
      "metadata": {
        "colab": {
          "base_uri": "https://localhost:8080/",
          "height": 266
        },
        "id": "sku5JwPo4KxR",
        "outputId": "36cb26d8-3305-45ac-8f2a-734770b6507b"
      },
      "execution_count": 74,
      "outputs": [
        {
          "output_type": "display_data",
          "data": {
            "text/plain": [
              "<Figure size 432x288 with 1 Axes>"
            ],
            "image/png": "[encoded data removed]"
          },
          "metadata": {
            "needs_background": "light"
          }
        }
      ]
    },
    {
      "cell_type": "code",
      "source": [
        "simulation1 = loadSimulation(pd.read_csv('/content/N-Body Simulation.csv'))"
      ],
      "metadata": {
        "id": "n3nwT0WDNKuj"
      },
      "execution_count": 16,
      "outputs": []
    },
    {
      "cell_type": "code",
      "source": [
        "numOfBodies = simulation1.shape[1] // 2"
      ],
      "metadata": {
        "id": "goH0XOFJ2MBp"
      },
      "execution_count": 17,
      "outputs": []
    },
    {
      "cell_type": "code",
      "execution_count": 56,
      "metadata": {
        "id": "IWvEtpy8YWDV",
        "colab": {
          "base_uri": "https://localhost:8080/"
        },
        "outputId": "8e1b6378-7eb6-4cc5-e709-8861d8e72c6c"
      },
      "outputs": [
        {
          "output_type": "stream",
          "name": "stdout",
          "text": [
            "Model: \"sequential_2\"\n",
            "_________________________________________________________________\n",
            " Layer (type)                Output Shape              Param #   \n",
            "=================================================================\n",
            " conv1d_4 (Conv1D)           (None, 1219, 64)          832       \n",
            "                                                                 \n",
            " conv1d_5 (Conv1D)           (None, 1218, 32)          4128      \n",
            "                                                                 \n",
            " flatten_2 (Flatten)         (None, 38976)             0         \n",
            "                                                                 \n",
            " dense_4 (Dense)             (None, 16)                623632    \n",
            "                                                                 \n",
            " dense_5 (Dense)             (None, 3660)              62220     \n",
            "                                                                 \n",
            " reshape_2 (Reshape)         (None, 610, 6)            0         \n",
            "                                                                 \n",
            "=================================================================\n",
            "Total params: 690,812\n",
            "Trainable params: 690,812\n",
            "Non-trainable params: 0\n",
            "_________________________________________________________________\n"
          ]
        }
      ],
      "source": [
        "#from sklearn.preprocessing import MinMaxScaler\n",
        "from sklearn.preprocessing import StandardScaler\n",
        "from scipy.signal import hilbert\n",
        "scaled = False \n",
        "\n",
        "#batch = 6\n",
        "\n",
        "diffSimulation1 = np.diff(simulation1,axis = 0)\n",
        "\n",
        "train, val, test = splitToTrainValidTest(diffSimulation1,0.2)\n",
        "\n",
        "\n",
        "windowSizeX= len(val)*2\n",
        "windowSizeY = len(val)\n",
        "\n",
        "\n",
        "\n",
        "\n",
        "if scaled:\n",
        "  scaler = StandardScaler()\n",
        "  scaler.fit(simulation1[:len(train)+len(val)])\n",
        "  #valScaler.fit(train)  ### train / val as input ? \n",
        "\n",
        "  train = scaler.transform(train)\n",
        "  val = scaler.transform(val)\n",
        "  #train = hilbert(train)\n",
        "  #val = hilbert(val)\n",
        "#y_train = scaler.fit(train)\n",
        "\n",
        "#train = preprocessSimulation(train)\n",
        "#val = preprocessSimulation(val)\n",
        "\n",
        "\n",
        "\n",
        "#train2, val2, test2 = splitToTrainValidTest(simulation2,0.2)\n",
        "\n",
        "\n",
        "#X_train, y_train = prepareData(train,windowSizeX)\n",
        "#X_val, y_val = prepareData(val,windowSizeX)\n",
        "#X_test, y_test = prepareData(test,windowSizeX)\n",
        "\n",
        "\n",
        "X_train, y_train = prepareData2(train,windowSizeX,windowSizeY)\n",
        "X_val, y_val = prepareData2(val,windowSizeX,windowSizeY)\n",
        "X_test, y_test = prepareData2(test,windowSizeX,windowSizeY)\n",
        "\n",
        "\n",
        "model =  buildModelCNN2(windowSizeX,windowSizeY,numOfBodies)\n",
        "cp1 = ModelCheckpoint('model/', save_best_only=True)\n",
        "model.compile(loss=MeanSquaredError(), optimizer=Adam(learning_rate=0.0001), metrics=[RootMeanSquaredError()])\n",
        "\n",
        "\n",
        "#X_train2, y_train2 = prepareData(train2,windowSizeX)\n",
        "#X_val2, y_val2 = prepareData(val2,windowSizeX)\n",
        "#X_tes2t, y_test2 = prepareData(test2,windowSizeX)\n",
        "\n",
        "#generator = TimeseriesGenerator(train_scaled,train_scaled,length = len(test),batch_size=batch)"
      ]
    },
    {
      "cell_type": "code",
      "source": [
        ""
      ],
      "metadata": {
        "id": "wiXevZHJ25p6"
      },
      "execution_count": null,
      "outputs": []
    },
    {
      "cell_type": "code",
      "execution_count": 66,
      "metadata": {
        "id": "wfb7-Rz2-IrH",
        "colab": {
          "base_uri": "https://localhost:8080/"
        },
        "outputId": "589e6b03-d9a8-43e3-8250-323165880f45"
      },
      "outputs": [
        {
          "output_type": "stream",
          "name": "stdout",
          "text": [
            "Epoch 1/100\n",
            "229/229 [==============================] - ETA: 0s - loss: 2.6399e-06 - root_mean_squared_error: 0.0016WARNING:tensorflow:Can save best model only with val_loss available, skipping.\n"
          ]
        },
        {
          "output_type": "stream",
          "name": "stderr",
          "text": [
            "WARNING:tensorflow:Can save best model only with val_loss available, skipping.\n"
          ]
        },
        {
          "output_type": "stream",
          "name": "stdout",
          "text": [
            "\b\b\b\b\b\b\b\b\b\b\b\b\b\b\b\b\b\b\b\b\b\b\b\b\b\b\b\b\b\b\b\b\b\b\b\b\b\b\b\b\b\b\b\b\b\b\b\b\b\b\b\b\b\b\b\b\b\b\b\b\b\b\b\b\b\b\b\b\b\b\b\b\b\b\b\b\b\b\b\b\b\b\b\b\b\b\b\b\b\b\b\b\b\b\b\b\b\b\b\b\b\b\b\r229/229 [==============================] - 15s 66ms/step - loss: 2.6399e-06 - root_mean_squared_error: 0.0016\n",
            "Epoch 2/100\n",
            "229/229 [==============================] - ETA: 0s - loss: 2.6049e-06 - root_mean_squared_error: 0.0016WARNING:tensorflow:Can save best model only with val_loss available, skipping.\n"
          ]
        },
        {
          "output_type": "stream",
          "name": "stderr",
          "text": [
            "WARNING:tensorflow:Can save best model only with val_loss available, skipping.\n"
          ]
        },
        {
          "output_type": "stream",
          "name": "stdout",
          "text": [
            "\b\b\b\b\b\b\b\b\b\b\b\b\b\b\b\b\b\b\b\b\b\b\b\b\b\b\b\b\b\b\b\b\b\b\b\b\b\b\b\b\b\b\b\b\b\b\b\b\b\b\b\b\b\b\b\b\b\b\b\b\b\b\b\b\b\b\b\b\b\b\b\b\b\b\b\b\b\b\b\b\b\b\b\b\b\b\b\b\b\b\b\b\b\b\b\b\b\b\b\b\b\b\b\r229/229 [==============================] - 16s 69ms/step - loss: 2.6049e-06 - root_mean_squared_error: 0.0016\n",
            "Epoch 3/100\n",
            "228/229 [============================>.] - ETA: 0s - loss: 2.5866e-06 - root_mean_squared_error: 0.0016WARNING:tensorflow:Can save best model only with val_loss available, skipping.\n"
          ]
        },
        {
          "output_type": "stream",
          "name": "stderr",
          "text": [
            "WARNING:tensorflow:Can save best model only with val_loss available, skipping.\n"
          ]
        },
        {
          "output_type": "stream",
          "name": "stdout",
          "text": [
            "\b\b\b\b\b\b\b\b\b\b\b\b\b\b\b\b\b\b\b\b\b\b\b\b\b\b\b\b\b\b\b\b\b\b\b\b\b\b\b\b\b\b\b\b\b\b\b\b\b\b\b\b\b\b\b\b\b\b\b\b\b\b\b\b\b\b\b\b\b\b\b\b\b\b\b\b\b\b\b\b\b\b\b\b\b\b\b\b\b\b\b\b\b\b\b\b\b\b\b\b\b\b\b\r229/229 [==============================] - 16s 70ms/step - loss: 2.5868e-06 - root_mean_squared_error: 0.0016\n",
            "Epoch 4/100\n",
            "228/229 [============================>.] - ETA: 0s - loss: 2.5848e-06 - root_mean_squared_error: 0.0016WARNING:tensorflow:Can save best model only with val_loss available, skipping.\n"
          ]
        },
        {
          "output_type": "stream",
          "name": "stderr",
          "text": [
            "WARNING:tensorflow:Can save best model only with val_loss available, skipping.\n"
          ]
        },
        {
          "output_type": "stream",
          "name": "stdout",
          "text": [
            "\b\b\b\b\b\b\b\b\b\b\b\b\b\b\b\b\b\b\b\b\b\b\b\b\b\b\b\b\b\b\b\b\b\b\b\b\b\b\b\b\b\b\b\b\b\b\b\b\b\b\b\b\b\b\b\b\b\b\b\b\b\b\b\b\b\b\b\b\b\b\b\b\b\b\b\b\b\b\b\b\b\b\b\b\b\b\b\b\b\b\b\b\b\b\b\b\b\b\b\b\b\b\b\r229/229 [==============================] - 15s 65ms/step - loss: 2.5850e-06 - root_mean_squared_error: 0.0016\n",
            "Epoch 5/100\n",
            "229/229 [==============================] - ETA: 0s - loss: 2.5613e-06 - root_mean_squared_error: 0.0016WARNING:tensorflow:Can save best model only with val_loss available, skipping.\n"
          ]
        },
        {
          "output_type": "stream",
          "name": "stderr",
          "text": [
            "WARNING:tensorflow:Can save best model only with val_loss available, skipping.\n"
          ]
        },
        {
          "output_type": "stream",
          "name": "stdout",
          "text": [
            "\b\b\b\b\b\b\b\b\b\b\b\b\b\b\b\b\b\b\b\b\b\b\b\b\b\b\b\b\b\b\b\b\b\b\b\b\b\b\b\b\b\b\b\b\b\b\b\b\b\b\b\b\b\b\b\b\b\b\b\b\b\b\b\b\b\b\b\b\b\b\b\b\b\b\b\b\b\b\b\b\b\b\b\b\b\b\b\b\b\b\b\b\b\b\b\b\b\b\b\b\b\b\b\r229/229 [==============================] - 15s 66ms/step - loss: 2.5613e-06 - root_mean_squared_error: 0.0016\n",
            "Epoch 6/100\n",
            "229/229 [==============================] - ETA: 0s - loss: 2.5448e-06 - root_mean_squared_error: 0.0016WARNING:tensorflow:Can save best model only with val_loss available, skipping.\n"
          ]
        },
        {
          "output_type": "stream",
          "name": "stderr",
          "text": [
            "WARNING:tensorflow:Can save best model only with val_loss available, skipping.\n"
          ]
        },
        {
          "output_type": "stream",
          "name": "stdout",
          "text": [
            "\b\b\b\b\b\b\b\b\b\b\b\b\b\b\b\b\b\b\b\b\b\b\b\b\b\b\b\b\b\b\b\b\b\b\b\b\b\b\b\b\b\b\b\b\b\b\b\b\b\b\b\b\b\b\b\b\b\b\b\b\b\b\b\b\b\b\b\b\b\b\b\b\b\b\b\b\b\b\b\b\b\b\b\b\b\b\b\b\b\b\b\b\b\b\b\b\b\b\b\b\b\b\b\r229/229 [==============================] - 16s 68ms/step - loss: 2.5448e-06 - root_mean_squared_error: 0.0016\n",
            "Epoch 7/100\n",
            "228/229 [============================>.] - ETA: 0s - loss: 2.5448e-06 - root_mean_squared_error: 0.0016WARNING:tensorflow:Can save best model only with val_loss available, skipping.\n"
          ]
        },
        {
          "output_type": "stream",
          "name": "stderr",
          "text": [
            "WARNING:tensorflow:Can save best model only with val_loss available, skipping.\n"
          ]
        },
        {
          "output_type": "stream",
          "name": "stdout",
          "text": [
            "\b\b\b\b\b\b\b\b\b\b\b\b\b\b\b\b\b\b\b\b\b\b\b\b\b\b\b\b\b\b\b\b\b\b\b\b\b\b\b\b\b\b\b\b\b\b\b\b\b\b\b\b\b\b\b\b\b\b\b\b\b\b\b\b\b\b\b\b\b\b\b\b\b\b\b\b\b\b\b\b\b\b\b\b\b\b\b\b\b\b\b\b\b\b\b\b\b\b\b\b\b\b\b\r229/229 [==============================] - 17s 72ms/step - loss: 2.5449e-06 - root_mean_squared_error: 0.0016\n",
            "Epoch 8/100\n",
            "228/229 [============================>.] - ETA: 0s - loss: 2.5160e-06 - root_mean_squared_error: 0.0016WARNING:tensorflow:Can save best model only with val_loss available, skipping.\n"
          ]
        },
        {
          "output_type": "stream",
          "name": "stderr",
          "text": [
            "WARNING:tensorflow:Can save best model only with val_loss available, skipping.\n"
          ]
        },
        {
          "output_type": "stream",
          "name": "stdout",
          "text": [
            "\b\b\b\b\b\b\b\b\b\b\b\b\b\b\b\b\b\b\b\b\b\b\b\b\b\b\b\b\b\b\b\b\b\b\b\b\b\b\b\b\b\b\b\b\b\b\b\b\b\b\b\b\b\b\b\b\b\b\b\b\b\b\b\b\b\b\b\b\b\b\b\b\b\b\b\b\b\b\b\b\b\b\b\b\b\b\b\b\b\b\b\b\b\b\b\b\b\b\b\b\b\b\b\r229/229 [==============================] - 16s 69ms/step - loss: 2.5168e-06 - root_mean_squared_error: 0.0016\n",
            "Epoch 9/100\n",
            "229/229 [==============================] - ETA: 0s - loss: 2.4938e-06 - root_mean_squared_error: 0.0016WARNING:tensorflow:Can save best model only with val_loss available, skipping.\n"
          ]
        },
        {
          "output_type": "stream",
          "name": "stderr",
          "text": [
            "WARNING:tensorflow:Can save best model only with val_loss available, skipping.\n"
          ]
        },
        {
          "output_type": "stream",
          "name": "stdout",
          "text": [
            "\b\b\b\b\b\b\b\b\b\b\b\b\b\b\b\b\b\b\b\b\b\b\b\b\b\b\b\b\b\b\b\b\b\b\b\b\b\b\b\b\b\b\b\b\b\b\b\b\b\b\b\b\b\b\b\b\b\b\b\b\b\b\b\b\b\b\b\b\b\b\b\b\b\b\b\b\b\b\b\b\b\b\b\b\b\b\b\b\b\b\b\b\b\b\b\b\b\b\b\b\b\b\b\r229/229 [==============================] - 15s 65ms/step - loss: 2.4938e-06 - root_mean_squared_error: 0.0016\n",
            "Epoch 10/100\n",
            "228/229 [============================>.] - ETA: 0s - loss: 2.4942e-06 - root_mean_squared_error: 0.0016WARNING:tensorflow:Can save best model only with val_loss available, skipping.\n"
          ]
        },
        {
          "output_type": "stream",
          "name": "stderr",
          "text": [
            "WARNING:tensorflow:Can save best model only with val_loss available, skipping.\n"
          ]
        },
        {
          "output_type": "stream",
          "name": "stdout",
          "text": [
            "\b\b\b\b\b\b\b\b\b\b\b\b\b\b\b\b\b\b\b\b\b\b\b\b\b\b\b\b\b\b\b\b\b\b\b\b\b\b\b\b\b\b\b\b\b\b\b\b\b\b\b\b\b\b\b\b\b\b\b\b\b\b\b\b\b\b\b\b\b\b\b\b\b\b\b\b\b\b\b\b\b\b\b\b\b\b\b\b\b\b\b\b\b\b\b\b\b\b\b\b\b\b\b\r229/229 [==============================] - 16s 68ms/step - loss: 2.4953e-06 - root_mean_squared_error: 0.0016\n",
            "Epoch 11/100\n",
            "229/229 [==============================] - ETA: 0s - loss: 2.4563e-06 - root_mean_squared_error: 0.0016WARNING:tensorflow:Can save best model only with val_loss available, skipping.\n"
          ]
        },
        {
          "output_type": "stream",
          "name": "stderr",
          "text": [
            "WARNING:tensorflow:Can save best model only with val_loss available, skipping.\n"
          ]
        },
        {
          "output_type": "stream",
          "name": "stdout",
          "text": [
            "\b\b\b\b\b\b\b\b\b\b\b\b\b\b\b\b\b\b\b\b\b\b\b\b\b\b\b\b\b\b\b\b\b\b\b\b\b\b\b\b\b\b\b\b\b\b\b\b\b\b\b\b\b\b\b\b\b\b\b\b\b\b\b\b\b\b\b\b\b\b\b\b\b\b\b\b\b\b\b\b\b\b\b\b\b\b\b\b\b\b\b\b\b\b\b\b\b\b\b\b\b\b\b\r229/229 [==============================] - 16s 68ms/step - loss: 2.4563e-06 - root_mean_squared_error: 0.0016\n",
            "Epoch 12/100\n",
            "229/229 [==============================] - ETA: 0s - loss: 2.4495e-06 - root_mean_squared_error: 0.0016WARNING:tensorflow:Can save best model only with val_loss available, skipping.\n"
          ]
        },
        {
          "output_type": "stream",
          "name": "stderr",
          "text": [
            "WARNING:tensorflow:Can save best model only with val_loss available, skipping.\n"
          ]
        },
        {
          "output_type": "stream",
          "name": "stdout",
          "text": [
            "\b\b\b\b\b\b\b\b\b\b\b\b\b\b\b\b\b\b\b\b\b\b\b\b\b\b\b\b\b\b\b\b\b\b\b\b\b\b\b\b\b\b\b\b\b\b\b\b\b\b\b\b\b\b\b\b\b\b\b\b\b\b\b\b\b\b\b\b\b\b\b\b\b\b\b\b\b\b\b\b\b\b\b\b\b\b\b\b\b\b\b\b\b\b\b\b\b\b\b\b\b\b\b\r229/229 [==============================] - 16s 68ms/step - loss: 2.4495e-06 - root_mean_squared_error: 0.0016\n",
            "Epoch 13/100\n",
            "228/229 [============================>.] - ETA: 0s - loss: 2.4285e-06 - root_mean_squared_error: 0.0016WARNING:tensorflow:Can save best model only with val_loss available, skipping.\n"
          ]
        },
        {
          "output_type": "stream",
          "name": "stderr",
          "text": [
            "WARNING:tensorflow:Can save best model only with val_loss available, skipping.\n"
          ]
        },
        {
          "output_type": "stream",
          "name": "stdout",
          "text": [
            "\b\b\b\b\b\b\b\b\b\b\b\b\b\b\b\b\b\b\b\b\b\b\b\b\b\b\b\b\b\b\b\b\b\b\b\b\b\b\b\b\b\b\b\b\b\b\b\b\b\b\b\b\b\b\b\b\b\b\b\b\b\b\b\b\b\b\b\b\b\b\b\b\b\b\b\b\b\b\b\b\b\b\b\b\b\b\b\b\b\b\b\b\b\b\b\b\b\b\b\b\b\b\b\r229/229 [==============================] - 16s 69ms/step - loss: 2.4290e-06 - root_mean_squared_error: 0.0016\n",
            "Epoch 14/100\n",
            "229/229 [==============================] - ETA: 0s - loss: 2.4396e-06 - root_mean_squared_error: 0.0016WARNING:tensorflow:Can save best model only with val_loss available, skipping.\n"
          ]
        },
        {
          "output_type": "stream",
          "name": "stderr",
          "text": [
            "WARNING:tensorflow:Can save best model only with val_loss available, skipping.\n"
          ]
        },
        {
          "output_type": "stream",
          "name": "stdout",
          "text": [
            "\b\b\b\b\b\b\b\b\b\b\b\b\b\b\b\b\b\b\b\b\b\b\b\b\b\b\b\b\b\b\b\b\b\b\b\b\b\b\b\b\b\b\b\b\b\b\b\b\b\b\b\b\b\b\b\b\b\b\b\b\b\b\b\b\b\b\b\b\b\b\b\b\b\b\b\b\b\b\b\b\b\b\b\b\b\b\b\b\b\b\b\b\b\b\b\b\b\b\b\b\b\b\b\r229/229 [==============================] - 16s 68ms/step - loss: 2.4396e-06 - root_mean_squared_error: 0.0016\n",
            "Epoch 15/100\n",
            "229/229 [==============================] - ETA: 0s - loss: 2.3966e-06 - root_mean_squared_error: 0.0015WARNING:tensorflow:Can save best model only with val_loss available, skipping.\n"
          ]
        },
        {
          "output_type": "stream",
          "name": "stderr",
          "text": [
            "WARNING:tensorflow:Can save best model only with val_loss available, skipping.\n"
          ]
        },
        {
          "output_type": "stream",
          "name": "stdout",
          "text": [
            "\b\b\b\b\b\b\b\b\b\b\b\b\b\b\b\b\b\b\b\b\b\b\b\b\b\b\b\b\b\b\b\b\b\b\b\b\b\b\b\b\b\b\b\b\b\b\b\b\b\b\b\b\b\b\b\b\b\b\b\b\b\b\b\b\b\b\b\b\b\b\b\b\b\b\b\b\b\b\b\b\b\b\b\b\b\b\b\b\b\b\b\b\b\b\b\b\b\b\b\b\b\b\b\r229/229 [==============================] - 17s 72ms/step - loss: 2.3966e-06 - root_mean_squared_error: 0.0015\n",
            "Epoch 16/100\n",
            "229/229 [==============================] - ETA: 0s - loss: 2.4028e-06 - root_mean_squared_error: 0.0016WARNING:tensorflow:Can save best model only with val_loss available, skipping.\n"
          ]
        },
        {
          "output_type": "stream",
          "name": "stderr",
          "text": [
            "WARNING:tensorflow:Can save best model only with val_loss available, skipping.\n"
          ]
        },
        {
          "output_type": "stream",
          "name": "stdout",
          "text": [
            "\b\b\b\b\b\b\b\b\b\b\b\b\b\b\b\b\b\b\b\b\b\b\b\b\b\b\b\b\b\b\b\b\b\b\b\b\b\b\b\b\b\b\b\b\b\b\b\b\b\b\b\b\b\b\b\b\b\b\b\b\b\b\b\b\b\b\b\b\b\b\b\b\b\b\b\b\b\b\b\b\b\b\b\b\b\b\b\b\b\b\b\b\b\b\b\b\b\b\b\b\b\b\b\r229/229 [==============================] - 15s 66ms/step - loss: 2.4028e-06 - root_mean_squared_error: 0.0016\n",
            "Epoch 17/100\n",
            "229/229 [==============================] - ETA: 0s - loss: 2.3774e-06 - root_mean_squared_error: 0.0015WARNING:tensorflow:Can save best model only with val_loss available, skipping.\n"
          ]
        },
        {
          "output_type": "stream",
          "name": "stderr",
          "text": [
            "WARNING:tensorflow:Can save best model only with val_loss available, skipping.\n"
          ]
        },
        {
          "output_type": "stream",
          "name": "stdout",
          "text": [
            "\b\b\b\b\b\b\b\b\b\b\b\b\b\b\b\b\b\b\b\b\b\b\b\b\b\b\b\b\b\b\b\b\b\b\b\b\b\b\b\b\b\b\b\b\b\b\b\b\b\b\b\b\b\b\b\b\b\b\b\b\b\b\b\b\b\b\b\b\b\b\b\b\b\b\b\b\b\b\b\b\b\b\b\b\b\b\b\b\b\b\b\b\b\b\b\b\b\b\b\b\b\b\b\r229/229 [==============================] - 15s 66ms/step - loss: 2.3774e-06 - root_mean_squared_error: 0.0015\n",
            "Epoch 18/100\n",
            "228/229 [============================>.] - ETA: 0s - loss: 2.3674e-06 - root_mean_squared_error: 0.0015WARNING:tensorflow:Can save best model only with val_loss available, skipping.\n"
          ]
        },
        {
          "output_type": "stream",
          "name": "stderr",
          "text": [
            "WARNING:tensorflow:Can save best model only with val_loss available, skipping.\n"
          ]
        },
        {
          "output_type": "stream",
          "name": "stdout",
          "text": [
            "\b\b\b\b\b\b\b\b\b\b\b\b\b\b\b\b\b\b\b\b\b\b\b\b\b\b\b\b\b\b\b\b\b\b\b\b\b\b\b\b\b\b\b\b\b\b\b\b\b\b\b\b\b\b\b\b\b\b\b\b\b\b\b\b\b\b\b\b\b\b\b\b\b\b\b\b\b\b\b\b\b\b\b\b\b\b\b\b\b\b\b\b\b\b\b\b\b\b\b\b\b\b\b\r229/229 [==============================] - 15s 67ms/step - loss: 2.3674e-06 - root_mean_squared_error: 0.0015\n",
            "Epoch 19/100\n",
            "229/229 [==============================] - ETA: 0s - loss: 2.3602e-06 - root_mean_squared_error: 0.0015WARNING:tensorflow:Can save best model only with val_loss available, skipping.\n"
          ]
        },
        {
          "output_type": "stream",
          "name": "stderr",
          "text": [
            "WARNING:tensorflow:Can save best model only with val_loss available, skipping.\n"
          ]
        },
        {
          "output_type": "stream",
          "name": "stdout",
          "text": [
            "\b\b\b\b\b\b\b\b\b\b\b\b\b\b\b\b\b\b\b\b\b\b\b\b\b\b\b\b\b\b\b\b\b\b\b\b\b\b\b\b\b\b\b\b\b\b\b\b\b\b\b\b\b\b\b\b\b\b\b\b\b\b\b\b\b\b\b\b\b\b\b\b\b\b\b\b\b\b\b\b\b\b\b\b\b\b\b\b\b\b\b\b\b\b\b\b\b\b\b\b\b\b\b\r229/229 [==============================] - 16s 69ms/step - loss: 2.3602e-06 - root_mean_squared_error: 0.0015\n",
            "Epoch 20/100\n",
            "228/229 [============================>.] - ETA: 0s - loss: 2.3447e-06 - root_mean_squared_error: 0.0015WARNING:tensorflow:Can save best model only with val_loss available, skipping.\n"
          ]
        },
        {
          "output_type": "stream",
          "name": "stderr",
          "text": [
            "WARNING:tensorflow:Can save best model only with val_loss available, skipping.\n"
          ]
        },
        {
          "output_type": "stream",
          "name": "stdout",
          "text": [
            "\b\b\b\b\b\b\b\b\b\b\b\b\b\b\b\b\b\b\b\b\b\b\b\b\b\b\b\b\b\b\b\b\b\b\b\b\b\b\b\b\b\b\b\b\b\b\b\b\b\b\b\b\b\b\b\b\b\b\b\b\b\b\b\b\b\b\b\b\b\b\b\b\b\b\b\b\b\b\b\b\b\b\b\b\b\b\b\b\b\b\b\b\b\b\b\b\b\b\b\b\b\b\b\r229/229 [==============================] - 15s 64ms/step - loss: 2.3452e-06 - root_mean_squared_error: 0.0015\n",
            "Epoch 21/100\n",
            "228/229 [============================>.] - ETA: 0s - loss: 2.3362e-06 - root_mean_squared_error: 0.0015WARNING:tensorflow:Can save best model only with val_loss available, skipping.\n"
          ]
        },
        {
          "output_type": "stream",
          "name": "stderr",
          "text": [
            "WARNING:tensorflow:Can save best model only with val_loss available, skipping.\n"
          ]
        },
        {
          "output_type": "stream",
          "name": "stdout",
          "text": [
            "\b\b\b\b\b\b\b\b\b\b\b\b\b\b\b\b\b\b\b\b\b\b\b\b\b\b\b\b\b\b\b\b\b\b\b\b\b\b\b\b\b\b\b\b\b\b\b\b\b\b\b\b\b\b\b\b\b\b\b\b\b\b\b\b\b\b\b\b\b\b\b\b\b\b\b\b\b\b\b\b\b\b\b\b\b\b\b\b\b\b\b\b\b\b\b\b\b\b\b\b\b\b\b\r229/229 [==============================] - 15s 66ms/step - loss: 2.3366e-06 - root_mean_squared_error: 0.0015\n",
            "Epoch 22/100\n",
            "229/229 [==============================] - ETA: 0s - loss: 2.3021e-06 - root_mean_squared_error: 0.0015WARNING:tensorflow:Can save best model only with val_loss available, skipping.\n"
          ]
        },
        {
          "output_type": "stream",
          "name": "stderr",
          "text": [
            "WARNING:tensorflow:Can save best model only with val_loss available, skipping.\n"
          ]
        },
        {
          "output_type": "stream",
          "name": "stdout",
          "text": [
            "\b\b\b\b\b\b\b\b\b\b\b\b\b\b\b\b\b\b\b\b\b\b\b\b\b\b\b\b\b\b\b\b\b\b\b\b\b\b\b\b\b\b\b\b\b\b\b\b\b\b\b\b\b\b\b\b\b\b\b\b\b\b\b\b\b\b\b\b\b\b\b\b\b\b\b\b\b\b\b\b\b\b\b\b\b\b\b\b\b\b\b\b\b\b\b\b\b\b\b\b\b\b\b\r229/229 [==============================] - 15s 66ms/step - loss: 2.3021e-06 - root_mean_squared_error: 0.0015\n",
            "Epoch 23/100\n",
            "229/229 [==============================] - ETA: 0s - loss: 2.3129e-06 - root_mean_squared_error: 0.0015WARNING:tensorflow:Can save best model only with val_loss available, skipping.\n"
          ]
        },
        {
          "output_type": "stream",
          "name": "stderr",
          "text": [
            "WARNING:tensorflow:Can save best model only with val_loss available, skipping.\n"
          ]
        },
        {
          "output_type": "stream",
          "name": "stdout",
          "text": [
            "\b\b\b\b\b\b\b\b\b\b\b\b\b\b\b\b\b\b\b\b\b\b\b\b\b\b\b\b\b\b\b\b\b\b\b\b\b\b\b\b\b\b\b\b\b\b\b\b\b\b\b\b\b\b\b\b\b\b\b\b\b\b\b\b\b\b\b\b\b\b\b\b\b\b\b\b\b\b\b\b\b\b\b\b\b\b\b\b\b\b\b\b\b\b\b\b\b\b\b\b\b\b\b\r229/229 [==============================] - 16s 70ms/step - loss: 2.3129e-06 - root_mean_squared_error: 0.0015\n",
            "Epoch 24/100\n",
            "229/229 [==============================] - ETA: 0s - loss: 2.3059e-06 - root_mean_squared_error: 0.0015WARNING:tensorflow:Can save best model only with val_loss available, skipping.\n"
          ]
        },
        {
          "output_type": "stream",
          "name": "stderr",
          "text": [
            "WARNING:tensorflow:Can save best model only with val_loss available, skipping.\n"
          ]
        },
        {
          "output_type": "stream",
          "name": "stdout",
          "text": [
            "\b\b\b\b\b\b\b\b\b\b\b\b\b\b\b\b\b\b\b\b\b\b\b\b\b\b\b\b\b\b\b\b\b\b\b\b\b\b\b\b\b\b\b\b\b\b\b\b\b\b\b\b\b\b\b\b\b\b\b\b\b\b\b\b\b\b\b\b\b\b\b\b\b\b\b\b\b\b\b\b\b\b\b\b\b\b\b\b\b\b\b\b\b\b\b\b\b\b\b\b\b\b\b\r229/229 [==============================] - 16s 71ms/step - loss: 2.3059e-06 - root_mean_squared_error: 0.0015\n",
            "Epoch 25/100\n",
            "229/229 [==============================] - ETA: 0s - loss: 2.2693e-06 - root_mean_squared_error: 0.0015WARNING:tensorflow:Can save best model only with val_loss available, skipping.\n"
          ]
        },
        {
          "output_type": "stream",
          "name": "stderr",
          "text": [
            "WARNING:tensorflow:Can save best model only with val_loss available, skipping.\n"
          ]
        },
        {
          "output_type": "stream",
          "name": "stdout",
          "text": [
            "\b\b\b\b\b\b\b\b\b\b\b\b\b\b\b\b\b\b\b\b\b\b\b\b\b\b\b\b\b\b\b\b\b\b\b\b\b\b\b\b\b\b\b\b\b\b\b\b\b\b\b\b\b\b\b\b\b\b\b\b\b\b\b\b\b\b\b\b\b\b\b\b\b\b\b\b\b\b\b\b\b\b\b\b\b\b\b\b\b\b\b\b\b\b\b\b\b\b\b\b\b\b\b\r229/229 [==============================] - 15s 66ms/step - loss: 2.2693e-06 - root_mean_squared_error: 0.0015\n",
            "Epoch 26/100\n",
            "228/229 [============================>.] - ETA: 0s - loss: 2.2616e-06 - root_mean_squared_error: 0.0015WARNING:tensorflow:Can save best model only with val_loss available, skipping.\n"
          ]
        },
        {
          "output_type": "stream",
          "name": "stderr",
          "text": [
            "WARNING:tensorflow:Can save best model only with val_loss available, skipping.\n"
          ]
        },
        {
          "output_type": "stream",
          "name": "stdout",
          "text": [
            "\b\b\b\b\b\b\b\b\b\b\b\b\b\b\b\b\b\b\b\b\b\b\b\b\b\b\b\b\b\b\b\b\b\b\b\b\b\b\b\b\b\b\b\b\b\b\b\b\b\b\b\b\b\b\b\b\b\b\b\b\b\b\b\b\b\b\b\b\b\b\b\b\b\b\b\b\b\b\b\b\b\b\b\b\b\b\b\b\b\b\b\b\b\b\b\b\b\b\b\b\b\b\b\r229/229 [==============================] - 15s 67ms/step - loss: 2.2609e-06 - root_mean_squared_error: 0.0015\n",
            "Epoch 27/100\n",
            "228/229 [============================>.] - ETA: 0s - loss: 2.2472e-06 - root_mean_squared_error: 0.0015WARNING:tensorflow:Can save best model only with val_loss available, skipping.\n"
          ]
        },
        {
          "output_type": "stream",
          "name": "stderr",
          "text": [
            "WARNING:tensorflow:Can save best model only with val_loss available, skipping.\n"
          ]
        },
        {
          "output_type": "stream",
          "name": "stdout",
          "text": [
            "\b\b\b\b\b\b\b\b\b\b\b\b\b\b\b\b\b\b\b\b\b\b\b\b\b\b\b\b\b\b\b\b\b\b\b\b\b\b\b\b\b\b\b\b\b\b\b\b\b\b\b\b\b\b\b\b\b\b\b\b\b\b\b\b\b\b\b\b\b\b\b\b\b\b\b\b\b\b\b\b\b\b\b\b\b\b\b\b\b\b\b\b\b\b\b\b\b\b\b\b\b\b\b\r229/229 [==============================] - 15s 65ms/step - loss: 2.2473e-06 - root_mean_squared_error: 0.0015\n",
            "Epoch 28/100\n",
            "229/229 [==============================] - ETA: 0s - loss: 2.2483e-06 - root_mean_squared_error: 0.0015WARNING:tensorflow:Can save best model only with val_loss available, skipping.\n"
          ]
        },
        {
          "output_type": "stream",
          "name": "stderr",
          "text": [
            "WARNING:tensorflow:Can save best model only with val_loss available, skipping.\n"
          ]
        },
        {
          "output_type": "stream",
          "name": "stdout",
          "text": [
            "\b\b\b\b\b\b\b\b\b\b\b\b\b\b\b\b\b\b\b\b\b\b\b\b\b\b\b\b\b\b\b\b\b\b\b\b\b\b\b\b\b\b\b\b\b\b\b\b\b\b\b\b\b\b\b\b\b\b\b\b\b\b\b\b\b\b\b\b\b\b\b\b\b\b\b\b\b\b\b\b\b\b\b\b\b\b\b\b\b\b\b\b\b\b\b\b\b\b\b\b\b\b\b\r229/229 [==============================] - 15s 65ms/step - loss: 2.2483e-06 - root_mean_squared_error: 0.0015\n",
            "Epoch 29/100\n",
            "228/229 [============================>.] - ETA: 0s - loss: 2.2393e-06 - root_mean_squared_error: 0.0015WARNING:tensorflow:Can save best model only with val_loss available, skipping.\n"
          ]
        },
        {
          "output_type": "stream",
          "name": "stderr",
          "text": [
            "WARNING:tensorflow:Can save best model only with val_loss available, skipping.\n"
          ]
        },
        {
          "output_type": "stream",
          "name": "stdout",
          "text": [
            "\b\b\b\b\b\b\b\b\b\b\b\b\b\b\b\b\b\b\b\b\b\b\b\b\b\b\b\b\b\b\b\b\b\b\b\b\b\b\b\b\b\b\b\b\b\b\b\b\b\b\b\b\b\b\b\b\b\b\b\b\b\b\b\b\b\b\b\b\b\b\b\b\b\b\b\b\b\b\b\b\b\b\b\b\b\b\b\b\b\b\b\b\b\b\b\b\b\b\b\b\b\b\b\r229/229 [==============================] - 15s 67ms/step - loss: 2.2394e-06 - root_mean_squared_error: 0.0015\n",
            "Epoch 30/100\n",
            "228/229 [============================>.] - ETA: 0s - loss: 2.2134e-06 - root_mean_squared_error: 0.0015WARNING:tensorflow:Can save best model only with val_loss available, skipping.\n"
          ]
        },
        {
          "output_type": "stream",
          "name": "stderr",
          "text": [
            "WARNING:tensorflow:Can save best model only with val_loss available, skipping.\n"
          ]
        },
        {
          "output_type": "stream",
          "name": "stdout",
          "text": [
            "\b\b\b\b\b\b\b\b\b\b\b\b\b\b\b\b\b\b\b\b\b\b\b\b\b\b\b\b\b\b\b\b\b\b\b\b\b\b\b\b\b\b\b\b\b\b\b\b\b\b\b\b\b\b\b\b\b\b\b\b\b\b\b\b\b\b\b\b\b\b\b\b\b\b\b\b\b\b\b\b\b\b\b\b\b\b\b\b\b\b\b\b\b\b\b\b\b\b\b\b\b\b\b\r229/229 [==============================] - 15s 66ms/step - loss: 2.2136e-06 - root_mean_squared_error: 0.0015\n",
            "Epoch 31/100\n",
            "229/229 [==============================] - ETA: 0s - loss: 2.1936e-06 - root_mean_squared_error: 0.0015WARNING:tensorflow:Can save best model only with val_loss available, skipping.\n"
          ]
        },
        {
          "output_type": "stream",
          "name": "stderr",
          "text": [
            "WARNING:tensorflow:Can save best model only with val_loss available, skipping.\n"
          ]
        },
        {
          "output_type": "stream",
          "name": "stdout",
          "text": [
            "\b\b\b\b\b\b\b\b\b\b\b\b\b\b\b\b\b\b\b\b\b\b\b\b\b\b\b\b\b\b\b\b\b\b\b\b\b\b\b\b\b\b\b\b\b\b\b\b\b\b\b\b\b\b\b\b\b\b\b\b\b\b\b\b\b\b\b\b\b\b\b\b\b\b\b\b\b\b\b\b\b\b\b\b\b\b\b\b\b\b\b\b\b\b\b\b\b\b\b\b\b\b\b\r229/229 [==============================] - 15s 67ms/step - loss: 2.1936e-06 - root_mean_squared_error: 0.0015\n",
            "Epoch 32/100\n",
            "229/229 [==============================] - ETA: 0s - loss: 2.2007e-06 - root_mean_squared_error: 0.0015WARNING:tensorflow:Can save best model only with val_loss available, skipping.\n"
          ]
        },
        {
          "output_type": "stream",
          "name": "stderr",
          "text": [
            "WARNING:tensorflow:Can save best model only with val_loss available, skipping.\n"
          ]
        },
        {
          "output_type": "stream",
          "name": "stdout",
          "text": [
            "\b\b\b\b\b\b\b\b\b\b\b\b\b\b\b\b\b\b\b\b\b\b\b\b\b\b\b\b\b\b\b\b\b\b\b\b\b\b\b\b\b\b\b\b\b\b\b\b\b\b\b\b\b\b\b\b\b\b\b\b\b\b\b\b\b\b\b\b\b\b\b\b\b\b\b\b\b\b\b\b\b\b\b\b\b\b\b\b\b\b\b\b\b\b\b\b\b\b\b\b\b\b\b\r229/229 [==============================] - 16s 71ms/step - loss: 2.2007e-06 - root_mean_squared_error: 0.0015\n",
            "Epoch 33/100\n",
            "228/229 [============================>.] - ETA: 0s - loss: 2.1798e-06 - root_mean_squared_error: 0.0015WARNING:tensorflow:Can save best model only with val_loss available, skipping.\n"
          ]
        },
        {
          "output_type": "stream",
          "name": "stderr",
          "text": [
            "WARNING:tensorflow:Can save best model only with val_loss available, skipping.\n"
          ]
        },
        {
          "output_type": "stream",
          "name": "stdout",
          "text": [
            "\b\b\b\b\b\b\b\b\b\b\b\b\b\b\b\b\b\b\b\b\b\b\b\b\b\b\b\b\b\b\b\b\b\b\b\b\b\b\b\b\b\b\b\b\b\b\b\b\b\b\b\b\b\b\b\b\b\b\b\b\b\b\b\b\b\b\b\b\b\b\b\b\b\b\b\b\b\b\b\b\b\b\b\b\b\b\b\b\b\b\b\b\b\b\b\b\b\b\b\b\b\b\b\r229/229 [==============================] - 16s 69ms/step - loss: 2.1795e-06 - root_mean_squared_error: 0.0015\n",
            "Epoch 34/100\n",
            "228/229 [============================>.] - ETA: 0s - loss: 2.2080e-06 - root_mean_squared_error: 0.0015WARNING:tensorflow:Can save best model only with val_loss available, skipping.\n"
          ]
        },
        {
          "output_type": "stream",
          "name": "stderr",
          "text": [
            "WARNING:tensorflow:Can save best model only with val_loss available, skipping.\n"
          ]
        },
        {
          "output_type": "stream",
          "name": "stdout",
          "text": [
            "\b\b\b\b\b\b\b\b\b\b\b\b\b\b\b\b\b\b\b\b\b\b\b\b\b\b\b\b\b\b\b\b\b\b\b\b\b\b\b\b\b\b\b\b\b\b\b\b\b\b\b\b\b\b\b\b\b\b\b\b\b\b\b\b\b\b\b\b\b\b\b\b\b\b\b\b\b\b\b\b\b\b\b\b\b\b\b\b\b\b\b\b\b\b\b\b\b\b\b\b\b\b\b\r229/229 [==============================] - 15s 67ms/step - loss: 2.2078e-06 - root_mean_squared_error: 0.0015\n",
            "Epoch 35/100\n",
            "228/229 [============================>.] - ETA: 0s - loss: 2.1554e-06 - root_mean_squared_error: 0.0015WARNING:tensorflow:Can save best model only with val_loss available, skipping.\n"
          ]
        },
        {
          "output_type": "stream",
          "name": "stderr",
          "text": [
            "WARNING:tensorflow:Can save best model only with val_loss available, skipping.\n"
          ]
        },
        {
          "output_type": "stream",
          "name": "stdout",
          "text": [
            "\b\b\b\b\b\b\b\b\b\b\b\b\b\b\b\b\b\b\b\b\b\b\b\b\b\b\b\b\b\b\b\b\b\b\b\b\b\b\b\b\b\b\b\b\b\b\b\b\b\b\b\b\b\b\b\b\b\b\b\b\b\b\b\b\b\b\b\b\b\b\b\b\b\b\b\b\b\b\b\b\b\b\b\b\b\b\b\b\b\b\b\b\b\b\b\b\b\b\b\b\b\b\b\r229/229 [==============================] - 15s 65ms/step - loss: 2.1546e-06 - root_mean_squared_error: 0.0015\n",
            "Epoch 36/100\n",
            "228/229 [============================>.] - ETA: 0s - loss: 2.1615e-06 - root_mean_squared_error: 0.0015WARNING:tensorflow:Can save best model only with val_loss available, skipping.\n"
          ]
        },
        {
          "output_type": "stream",
          "name": "stderr",
          "text": [
            "WARNING:tensorflow:Can save best model only with val_loss available, skipping.\n"
          ]
        },
        {
          "output_type": "stream",
          "name": "stdout",
          "text": [
            "\b\b\b\b\b\b\b\b\b\b\b\b\b\b\b\b\b\b\b\b\b\b\b\b\b\b\b\b\b\b\b\b\b\b\b\b\b\b\b\b\b\b\b\b\b\b\b\b\b\b\b\b\b\b\b\b\b\b\b\b\b\b\b\b\b\b\b\b\b\b\b\b\b\b\b\b\b\b\b\b\b\b\b\b\b\b\b\b\b\b\b\b\b\b\b\b\b\b\b\b\b\b\b\r229/229 [==============================] - 16s 69ms/step - loss: 2.1617e-06 - root_mean_squared_error: 0.0015\n",
            "Epoch 37/100\n",
            "229/229 [==============================] - ETA: 0s - loss: 2.1462e-06 - root_mean_squared_error: 0.0015WARNING:tensorflow:Can save best model only with val_loss available, skipping.\n"
          ]
        },
        {
          "output_type": "stream",
          "name": "stderr",
          "text": [
            "WARNING:tensorflow:Can save best model only with val_loss available, skipping.\n"
          ]
        },
        {
          "output_type": "stream",
          "name": "stdout",
          "text": [
            "\b\b\b\b\b\b\b\b\b\b\b\b\b\b\b\b\b\b\b\b\b\b\b\b\b\b\b\b\b\b\b\b\b\b\b\b\b\b\b\b\b\b\b\b\b\b\b\b\b\b\b\b\b\b\b\b\b\b\b\b\b\b\b\b\b\b\b\b\b\b\b\b\b\b\b\b\b\b\b\b\b\b\b\b\b\b\b\b\b\b\b\b\b\b\b\b\b\b\b\b\b\b\b\r229/229 [==============================] - 16s 71ms/step - loss: 2.1462e-06 - root_mean_squared_error: 0.0015\n",
            "Epoch 38/100\n",
            "229/229 [==============================] - ETA: 0s - loss: 2.1465e-06 - root_mean_squared_error: 0.0015WARNING:tensorflow:Can save best model only with val_loss available, skipping.\n"
          ]
        },
        {
          "output_type": "stream",
          "name": "stderr",
          "text": [
            "WARNING:tensorflow:Can save best model only with val_loss available, skipping.\n"
          ]
        },
        {
          "output_type": "stream",
          "name": "stdout",
          "text": [
            "\b\b\b\b\b\b\b\b\b\b\b\b\b\b\b\b\b\b\b\b\b\b\b\b\b\b\b\b\b\b\b\b\b\b\b\b\b\b\b\b\b\b\b\b\b\b\b\b\b\b\b\b\b\b\b\b\b\b\b\b\b\b\b\b\b\b\b\b\b\b\b\b\b\b\b\b\b\b\b\b\b\b\b\b\b\b\b\b\b\b\b\b\b\b\b\b\b\b\b\b\b\b\b\r229/229 [==============================] - 15s 67ms/step - loss: 2.1465e-06 - root_mean_squared_error: 0.0015\n",
            "Epoch 39/100\n",
            "229/229 [==============================] - ETA: 0s - loss: 2.1343e-06 - root_mean_squared_error: 0.0015WARNING:tensorflow:Can save best model only with val_loss available, skipping.\n"
          ]
        },
        {
          "output_type": "stream",
          "name": "stderr",
          "text": [
            "WARNING:tensorflow:Can save best model only with val_loss available, skipping.\n"
          ]
        },
        {
          "output_type": "stream",
          "name": "stdout",
          "text": [
            "\b\b\b\b\b\b\b\b\b\b\b\b\b\b\b\b\b\b\b\b\b\b\b\b\b\b\b\b\b\b\b\b\b\b\b\b\b\b\b\b\b\b\b\b\b\b\b\b\b\b\b\b\b\b\b\b\b\b\b\b\b\b\b\b\b\b\b\b\b\b\b\b\b\b\b\b\b\b\b\b\b\b\b\b\b\b\b\b\b\b\b\b\b\b\b\b\b\b\b\b\b\b\b\r229/229 [==============================] - 16s 69ms/step - loss: 2.1343e-06 - root_mean_squared_error: 0.0015\n",
            "Epoch 40/100\n",
            "229/229 [==============================] - ETA: 0s - loss: 2.1379e-06 - root_mean_squared_error: 0.0015WARNING:tensorflow:Can save best model only with val_loss available, skipping.\n"
          ]
        },
        {
          "output_type": "stream",
          "name": "stderr",
          "text": [
            "WARNING:tensorflow:Can save best model only with val_loss available, skipping.\n"
          ]
        },
        {
          "output_type": "stream",
          "name": "stdout",
          "text": [
            "\b\b\b\b\b\b\b\b\b\b\b\b\b\b\b\b\b\b\b\b\b\b\b\b\b\b\b\b\b\b\b\b\b\b\b\b\b\b\b\b\b\b\b\b\b\b\b\b\b\b\b\b\b\b\b\b\b\b\b\b\b\b\b\b\b\b\b\b\b\b\b\b\b\b\b\b\b\b\b\b\b\b\b\b\b\b\b\b\b\b\b\b\b\b\b\b\b\b\b\b\b\b\b\r229/229 [==============================] - 16s 71ms/step - loss: 2.1379e-06 - root_mean_squared_error: 0.0015\n",
            "Epoch 41/100\n",
            "229/229 [==============================] - ETA: 0s - loss: 2.1335e-06 - root_mean_squared_error: 0.0015WARNING:tensorflow:Can save best model only with val_loss available, skipping.\n"
          ]
        },
        {
          "output_type": "stream",
          "name": "stderr",
          "text": [
            "WARNING:tensorflow:Can save best model only with val_loss available, skipping.\n"
          ]
        },
        {
          "output_type": "stream",
          "name": "stdout",
          "text": [
            "\b\b\b\b\b\b\b\b\b\b\b\b\b\b\b\b\b\b\b\b\b\b\b\b\b\b\b\b\b\b\b\b\b\b\b\b\b\b\b\b\b\b\b\b\b\b\b\b\b\b\b\b\b\b\b\b\b\b\b\b\b\b\b\b\b\b\b\b\b\b\b\b\b\b\b\b\b\b\b\b\b\b\b\b\b\b\b\b\b\b\b\b\b\b\b\b\b\b\b\b\b\b\b\r229/229 [==============================] - 16s 70ms/step - loss: 2.1335e-06 - root_mean_squared_error: 0.0015\n",
            "Epoch 42/100\n",
            "228/229 [============================>.] - ETA: 0s - loss: 2.1170e-06 - root_mean_squared_error: 0.0015WARNING:tensorflow:Can save best model only with val_loss available, skipping.\n"
          ]
        },
        {
          "output_type": "stream",
          "name": "stderr",
          "text": [
            "WARNING:tensorflow:Can save best model only with val_loss available, skipping.\n"
          ]
        },
        {
          "output_type": "stream",
          "name": "stdout",
          "text": [
            "\b\b\b\b\b\b\b\b\b\b\b\b\b\b\b\b\b\b\b\b\b\b\b\b\b\b\b\b\b\b\b\b\b\b\b\b\b\b\b\b\b\b\b\b\b\b\b\b\b\b\b\b\b\b\b\b\b\b\b\b\b\b\b\b\b\b\b\b\b\b\b\b\b\b\b\b\b\b\b\b\b\b\b\b\b\b\b\b\b\b\b\b\b\b\b\b\b\b\b\b\b\b\b\r229/229 [==============================] - 15s 65ms/step - loss: 2.1176e-06 - root_mean_squared_error: 0.0015\n",
            "Epoch 43/100\n",
            "228/229 [============================>.] - ETA: 0s - loss: 2.1084e-06 - root_mean_squared_error: 0.0015WARNING:tensorflow:Can save best model only with val_loss available, skipping.\n"
          ]
        },
        {
          "output_type": "stream",
          "name": "stderr",
          "text": [
            "WARNING:tensorflow:Can save best model only with val_loss available, skipping.\n"
          ]
        },
        {
          "output_type": "stream",
          "name": "stdout",
          "text": [
            "\b\b\b\b\b\b\b\b\b\b\b\b\b\b\b\b\b\b\b\b\b\b\b\b\b\b\b\b\b\b\b\b\b\b\b\b\b\b\b\b\b\b\b\b\b\b\b\b\b\b\b\b\b\b\b\b\b\b\b\b\b\b\b\b\b\b\b\b\b\b\b\b\b\b\b\b\b\b\b\b\b\b\b\b\b\b\b\b\b\b\b\b\b\b\b\b\b\b\b\b\b\b\b\r229/229 [==============================] - 15s 67ms/step - loss: 2.1085e-06 - root_mean_squared_error: 0.0015\n",
            "Epoch 44/100\n",
            "228/229 [============================>.] - ETA: 0s - loss: 2.1039e-06 - root_mean_squared_error: 0.0015WARNING:tensorflow:Can save best model only with val_loss available, skipping.\n"
          ]
        },
        {
          "output_type": "stream",
          "name": "stderr",
          "text": [
            "WARNING:tensorflow:Can save best model only with val_loss available, skipping.\n"
          ]
        },
        {
          "output_type": "stream",
          "name": "stdout",
          "text": [
            "\b\b\b\b\b\b\b\b\b\b\b\b\b\b\b\b\b\b\b\b\b\b\b\b\b\b\b\b\b\b\b\b\b\b\b\b\b\b\b\b\b\b\b\b\b\b\b\b\b\b\b\b\b\b\b\b\b\b\b\b\b\b\b\b\b\b\b\b\b\b\b\b\b\b\b\b\b\b\b\b\b\b\b\b\b\b\b\b\b\b\b\b\b\b\b\b\b\b\b\b\b\b\b\r229/229 [==============================] - 14s 63ms/step - loss: 2.1047e-06 - root_mean_squared_error: 0.0015\n",
            "Epoch 45/100\n",
            "229/229 [==============================] - ETA: 0s - loss: 2.1069e-06 - root_mean_squared_error: 0.0015WARNING:tensorflow:Can save best model only with val_loss available, skipping.\n"
          ]
        },
        {
          "output_type": "stream",
          "name": "stderr",
          "text": [
            "WARNING:tensorflow:Can save best model only with val_loss available, skipping.\n"
          ]
        },
        {
          "output_type": "stream",
          "name": "stdout",
          "text": [
            "\b\b\b\b\b\b\b\b\b\b\b\b\b\b\b\b\b\b\b\b\b\b\b\b\b\b\b\b\b\b\b\b\b\b\b\b\b\b\b\b\b\b\b\b\b\b\b\b\b\b\b\b\b\b\b\b\b\b\b\b\b\b\b\b\b\b\b\b\b\b\b\b\b\b\b\b\b\b\b\b\b\b\b\b\b\b\b\b\b\b\b\b\b\b\b\b\b\b\b\b\b\b\b\r229/229 [==============================] - 16s 68ms/step - loss: 2.1069e-06 - root_mean_squared_error: 0.0015\n",
            "Epoch 46/100\n",
            "228/229 [============================>.] - ETA: 0s - loss: 2.0852e-06 - root_mean_squared_error: 0.0014WARNING:tensorflow:Can save best model only with val_loss available, skipping.\n"
          ]
        },
        {
          "output_type": "stream",
          "name": "stderr",
          "text": [
            "WARNING:tensorflow:Can save best model only with val_loss available, skipping.\n"
          ]
        },
        {
          "output_type": "stream",
          "name": "stdout",
          "text": [
            "\b\b\b\b\b\b\b\b\b\b\b\b\b\b\b\b\b\b\b\b\b\b\b\b\b\b\b\b\b\b\b\b\b\b\b\b\b\b\b\b\b\b\b\b\b\b\b\b\b\b\b\b\b\b\b\b\b\b\b\b\b\b\b\b\b\b\b\b\b\b\b\b\b\b\b\b\b\b\b\b\b\b\b\b\b\b\b\b\b\b\b\b\b\b\b\b\b\b\b\b\b\b\b\r229/229 [==============================] - 15s 67ms/step - loss: 2.0846e-06 - root_mean_squared_error: 0.0014\n",
            "Epoch 47/100\n",
            "229/229 [==============================] - ETA: 0s - loss: 2.0763e-06 - root_mean_squared_error: 0.0014WARNING:tensorflow:Can save best model only with val_loss available, skipping.\n"
          ]
        },
        {
          "output_type": "stream",
          "name": "stderr",
          "text": [
            "WARNING:tensorflow:Can save best model only with val_loss available, skipping.\n"
          ]
        },
        {
          "output_type": "stream",
          "name": "stdout",
          "text": [
            "\b\b\b\b\b\b\b\b\b\b\b\b\b\b\b\b\b\b\b\b\b\b\b\b\b\b\b\b\b\b\b\b\b\b\b\b\b\b\b\b\b\b\b\b\b\b\b\b\b\b\b\b\b\b\b\b\b\b\b\b\b\b\b\b\b\b\b\b\b\b\b\b\b\b\b\b\b\b\b\b\b\b\b\b\b\b\b\b\b\b\b\b\b\b\b\b\b\b\b\b\b\b\b\r229/229 [==============================] - 16s 68ms/step - loss: 2.0763e-06 - root_mean_squared_error: 0.0014\n",
            "Epoch 48/100\n",
            "229/229 [==============================] - ETA: 0s - loss: 2.0793e-06 - root_mean_squared_error: 0.0014WARNING:tensorflow:Can save best model only with val_loss available, skipping.\n"
          ]
        },
        {
          "output_type": "stream",
          "name": "stderr",
          "text": [
            "WARNING:tensorflow:Can save best model only with val_loss available, skipping.\n"
          ]
        },
        {
          "output_type": "stream",
          "name": "stdout",
          "text": [
            "\b\b\b\b\b\b\b\b\b\b\b\b\b\b\b\b\b\b\b\b\b\b\b\b\b\b\b\b\b\b\b\b\b\b\b\b\b\b\b\b\b\b\b\b\b\b\b\b\b\b\b\b\b\b\b\b\b\b\b\b\b\b\b\b\b\b\b\b\b\b\b\b\b\b\b\b\b\b\b\b\b\b\b\b\b\b\b\b\b\b\b\b\b\b\b\b\b\b\b\b\b\b\b\r229/229 [==============================] - 16s 70ms/step - loss: 2.0793e-06 - root_mean_squared_error: 0.0014\n",
            "Epoch 49/100\n",
            "228/229 [============================>.] - ETA: 0s - loss: 2.0694e-06 - root_mean_squared_error: 0.0014WARNING:tensorflow:Can save best model only with val_loss available, skipping.\n"
          ]
        },
        {
          "output_type": "stream",
          "name": "stderr",
          "text": [
            "WARNING:tensorflow:Can save best model only with val_loss available, skipping.\n"
          ]
        },
        {
          "output_type": "stream",
          "name": "stdout",
          "text": [
            "\b\b\b\b\b\b\b\b\b\b\b\b\b\b\b\b\b\b\b\b\b\b\b\b\b\b\b\b\b\b\b\b\b\b\b\b\b\b\b\b\b\b\b\b\b\b\b\b\b\b\b\b\b\b\b\b\b\b\b\b\b\b\b\b\b\b\b\b\b\b\b\b\b\b\b\b\b\b\b\b\b\b\b\b\b\b\b\b\b\b\b\b\b\b\b\b\b\b\b\b\b\b\b\r229/229 [==============================] - 16s 69ms/step - loss: 2.0695e-06 - root_mean_squared_error: 0.0014\n",
            "Epoch 50/100\n",
            "229/229 [==============================] - ETA: 0s - loss: 2.0560e-06 - root_mean_squared_error: 0.0014WARNING:tensorflow:Can save best model only with val_loss available, skipping.\n"
          ]
        },
        {
          "output_type": "stream",
          "name": "stderr",
          "text": [
            "WARNING:tensorflow:Can save best model only with val_loss available, skipping.\n"
          ]
        },
        {
          "output_type": "stream",
          "name": "stdout",
          "text": [
            "\b\b\b\b\b\b\b\b\b\b\b\b\b\b\b\b\b\b\b\b\b\b\b\b\b\b\b\b\b\b\b\b\b\b\b\b\b\b\b\b\b\b\b\b\b\b\b\b\b\b\b\b\b\b\b\b\b\b\b\b\b\b\b\b\b\b\b\b\b\b\b\b\b\b\b\b\b\b\b\b\b\b\b\b\b\b\b\b\b\b\b\b\b\b\b\b\b\b\b\b\b\b\b\r229/229 [==============================] - 15s 67ms/step - loss: 2.0560e-06 - root_mean_squared_error: 0.0014\n",
            "Epoch 51/100\n",
            "229/229 [==============================] - ETA: 0s - loss: 2.0473e-06 - root_mean_squared_error: 0.0014WARNING:tensorflow:Can save best model only with val_loss available, skipping.\n"
          ]
        },
        {
          "output_type": "stream",
          "name": "stderr",
          "text": [
            "WARNING:tensorflow:Can save best model only with val_loss available, skipping.\n"
          ]
        },
        {
          "output_type": "stream",
          "name": "stdout",
          "text": [
            "\b\b\b\b\b\b\b\b\b\b\b\b\b\b\b\b\b\b\b\b\b\b\b\b\b\b\b\b\b\b\b\b\b\b\b\b\b\b\b\b\b\b\b\b\b\b\b\b\b\b\b\b\b\b\b\b\b\b\b\b\b\b\b\b\b\b\b\b\b\b\b\b\b\b\b\b\b\b\b\b\b\b\b\b\b\b\b\b\b\b\b\b\b\b\b\b\b\b\b\b\b\b\b\r229/229 [==============================] - 16s 69ms/step - loss: 2.0473e-06 - root_mean_squared_error: 0.0014\n",
            "Epoch 52/100\n",
            "228/229 [============================>.] - ETA: 0s - loss: 2.0525e-06 - root_mean_squared_error: 0.0014WARNING:tensorflow:Can save best model only with val_loss available, skipping.\n"
          ]
        },
        {
          "output_type": "stream",
          "name": "stderr",
          "text": [
            "WARNING:tensorflow:Can save best model only with val_loss available, skipping.\n"
          ]
        },
        {
          "output_type": "stream",
          "name": "stdout",
          "text": [
            "\b\b\b\b\b\b\b\b\b\b\b\b\b\b\b\b\b\b\b\b\b\b\b\b\b\b\b\b\b\b\b\b\b\b\b\b\b\b\b\b\b\b\b\b\b\b\b\b\b\b\b\b\b\b\b\b\b\b\b\b\b\b\b\b\b\b\b\b\b\b\b\b\b\b\b\b\b\b\b\b\b\b\b\b\b\b\b\b\b\b\b\b\b\b\b\b\b\b\b\b\b\b\b\r229/229 [==============================] - 15s 66ms/step - loss: 2.0524e-06 - root_mean_squared_error: 0.0014\n",
            "Epoch 53/100\n",
            "229/229 [==============================] - ETA: 0s - loss: 2.0436e-06 - root_mean_squared_error: 0.0014WARNING:tensorflow:Can save best model only with val_loss available, skipping.\n"
          ]
        },
        {
          "output_type": "stream",
          "name": "stderr",
          "text": [
            "WARNING:tensorflow:Can save best model only with val_loss available, skipping.\n"
          ]
        },
        {
          "output_type": "stream",
          "name": "stdout",
          "text": [
            "\b\b\b\b\b\b\b\b\b\b\b\b\b\b\b\b\b\b\b\b\b\b\b\b\b\b\b\b\b\b\b\b\b\b\b\b\b\b\b\b\b\b\b\b\b\b\b\b\b\b\b\b\b\b\b\b\b\b\b\b\b\b\b\b\b\b\b\b\b\b\b\b\b\b\b\b\b\b\b\b\b\b\b\b\b\b\b\b\b\b\b\b\b\b\b\b\b\b\b\b\b\b\b\r229/229 [==============================] - 15s 65ms/step - loss: 2.0436e-06 - root_mean_squared_error: 0.0014\n",
            "Epoch 54/100\n",
            "229/229 [==============================] - ETA: 0s - loss: 2.0361e-06 - root_mean_squared_error: 0.0014WARNING:tensorflow:Can save best model only with val_loss available, skipping.\n"
          ]
        },
        {
          "output_type": "stream",
          "name": "stderr",
          "text": [
            "WARNING:tensorflow:Can save best model only with val_loss available, skipping.\n"
          ]
        },
        {
          "output_type": "stream",
          "name": "stdout",
          "text": [
            "\b\b\b\b\b\b\b\b\b\b\b\b\b\b\b\b\b\b\b\b\b\b\b\b\b\b\b\b\b\b\b\b\b\b\b\b\b\b\b\b\b\b\b\b\b\b\b\b\b\b\b\b\b\b\b\b\b\b\b\b\b\b\b\b\b\b\b\b\b\b\b\b\b\b\b\b\b\b\b\b\b\b\b\b\b\b\b\b\b\b\b\b\b\b\b\b\b\b\b\b\b\b\b\r229/229 [==============================] - 15s 66ms/step - loss: 2.0361e-06 - root_mean_squared_error: 0.0014\n",
            "Epoch 55/100\n",
            "228/229 [============================>.] - ETA: 0s - loss: 2.0262e-06 - root_mean_squared_error: 0.0014WARNING:tensorflow:Can save best model only with val_loss available, skipping.\n"
          ]
        },
        {
          "output_type": "stream",
          "name": "stderr",
          "text": [
            "WARNING:tensorflow:Can save best model only with val_loss available, skipping.\n"
          ]
        },
        {
          "output_type": "stream",
          "name": "stdout",
          "text": [
            "\b\b\b\b\b\b\b\b\b\b\b\b\b\b\b\b\b\b\b\b\b\b\b\b\b\b\b\b\b\b\b\b\b\b\b\b\b\b\b\b\b\b\b\b\b\b\b\b\b\b\b\b\b\b\b\b\b\b\b\b\b\b\b\b\b\b\b\b\b\b\b\b\b\b\b\b\b\b\b\b\b\b\b\b\b\b\b\b\b\b\b\b\b\b\b\b\b\b\b\b\b\b\b\r229/229 [==============================] - 15s 67ms/step - loss: 2.0264e-06 - root_mean_squared_error: 0.0014\n",
            "Epoch 56/100\n",
            "228/229 [============================>.] - ETA: 0s - loss: 2.0173e-06 - root_mean_squared_error: 0.0014WARNING:tensorflow:Can save best model only with val_loss available, skipping.\n"
          ]
        },
        {
          "output_type": "stream",
          "name": "stderr",
          "text": [
            "WARNING:tensorflow:Can save best model only with val_loss available, skipping.\n"
          ]
        },
        {
          "output_type": "stream",
          "name": "stdout",
          "text": [
            "\b\b\b\b\b\b\b\b\b\b\b\b\b\b\b\b\b\b\b\b\b\b\b\b\b\b\b\b\b\b\b\b\b\b\b\b\b\b\b\b\b\b\b\b\b\b\b\b\b\b\b\b\b\b\b\b\b\b\b\b\b\b\b\b\b\b\b\b\b\b\b\b\b\b\b\b\b\b\b\b\b\b\b\b\b\b\b\b\b\b\b\b\b\b\b\b\b\b\b\b\b\b\b\r229/229 [==============================] - 15s 66ms/step - loss: 2.0177e-06 - root_mean_squared_error: 0.0014\n",
            "Epoch 57/100\n",
            "229/229 [==============================] - ETA: 0s - loss: 2.0309e-06 - root_mean_squared_error: 0.0014WARNING:tensorflow:Can save best model only with val_loss available, skipping.\n"
          ]
        },
        {
          "output_type": "stream",
          "name": "stderr",
          "text": [
            "WARNING:tensorflow:Can save best model only with val_loss available, skipping.\n"
          ]
        },
        {
          "output_type": "stream",
          "name": "stdout",
          "text": [
            "\b\b\b\b\b\b\b\b\b\b\b\b\b\b\b\b\b\b\b\b\b\b\b\b\b\b\b\b\b\b\b\b\b\b\b\b\b\b\b\b\b\b\b\b\b\b\b\b\b\b\b\b\b\b\b\b\b\b\b\b\b\b\b\b\b\b\b\b\b\b\b\b\b\b\b\b\b\b\b\b\b\b\b\b\b\b\b\b\b\b\b\b\b\b\b\b\b\b\b\b\b\b\b\r229/229 [==============================] - 15s 65ms/step - loss: 2.0309e-06 - root_mean_squared_error: 0.0014\n",
            "Epoch 58/100\n",
            "228/229 [============================>.] - ETA: 0s - loss: 2.0178e-06 - root_mean_squared_error: 0.0014WARNING:tensorflow:Can save best model only with val_loss available, skipping.\n"
          ]
        },
        {
          "output_type": "stream",
          "name": "stderr",
          "text": [
            "WARNING:tensorflow:Can save best model only with val_loss available, skipping.\n"
          ]
        },
        {
          "output_type": "stream",
          "name": "stdout",
          "text": [
            "\b\b\b\b\b\b\b\b\b\b\b\b\b\b\b\b\b\b\b\b\b\b\b\b\b\b\b\b\b\b\b\b\b\b\b\b\b\b\b\b\b\b\b\b\b\b\b\b\b\b\b\b\b\b\b\b\b\b\b\b\b\b\b\b\b\b\b\b\b\b\b\b\b\b\b\b\b\b\b\b\b\b\b\b\b\b\b\b\b\b\b\b\b\b\b\b\b\b\b\b\b\b\b\r229/229 [==============================] - 17s 73ms/step - loss: 2.0172e-06 - root_mean_squared_error: 0.0014\n",
            "Epoch 59/100\n",
            "229/229 [==============================] - ETA: 0s - loss: 2.0264e-06 - root_mean_squared_error: 0.0014WARNING:tensorflow:Can save best model only with val_loss available, skipping.\n"
          ]
        },
        {
          "output_type": "stream",
          "name": "stderr",
          "text": [
            "WARNING:tensorflow:Can save best model only with val_loss available, skipping.\n"
          ]
        },
        {
          "output_type": "stream",
          "name": "stdout",
          "text": [
            "\b\b\b\b\b\b\b\b\b\b\b\b\b\b\b\b\b\b\b\b\b\b\b\b\b\b\b\b\b\b\b\b\b\b\b\b\b\b\b\b\b\b\b\b\b\b\b\b\b\b\b\b\b\b\b\b\b\b\b\b\b\b\b\b\b\b\b\b\b\b\b\b\b\b\b\b\b\b\b\b\b\b\b\b\b\b\b\b\b\b\b\b\b\b\b\b\b\b\b\b\b\b\b\r229/229 [==============================] - 15s 66ms/step - loss: 2.0264e-06 - root_mean_squared_error: 0.0014\n",
            "Epoch 60/100\n",
            "229/229 [==============================] - ETA: 0s - loss: 2.0099e-06 - root_mean_squared_error: 0.0014WARNING:tensorflow:Can save best model only with val_loss available, skipping.\n"
          ]
        },
        {
          "output_type": "stream",
          "name": "stderr",
          "text": [
            "WARNING:tensorflow:Can save best model only with val_loss available, skipping.\n"
          ]
        },
        {
          "output_type": "stream",
          "name": "stdout",
          "text": [
            "\b\b\b\b\b\b\b\b\b\b\b\b\b\b\b\b\b\b\b\b\b\b\b\b\b\b\b\b\b\b\b\b\b\b\b\b\b\b\b\b\b\b\b\b\b\b\b\b\b\b\b\b\b\b\b\b\b\b\b\b\b\b\b\b\b\b\b\b\b\b\b\b\b\b\b\b\b\b\b\b\b\b\b\b\b\b\b\b\b\b\b\b\b\b\b\b\b\b\b\b\b\b\b\r229/229 [==============================] - 15s 66ms/step - loss: 2.0099e-06 - root_mean_squared_error: 0.0014\n",
            "Epoch 61/100\n",
            "228/229 [============================>.] - ETA: 0s - loss: 2.0093e-06 - root_mean_squared_error: 0.0014WARNING:tensorflow:Can save best model only with val_loss available, skipping.\n"
          ]
        },
        {
          "output_type": "stream",
          "name": "stderr",
          "text": [
            "WARNING:tensorflow:Can save best model only with val_loss available, skipping.\n"
          ]
        },
        {
          "output_type": "stream",
          "name": "stdout",
          "text": [
            "\b\b\b\b\b\b\b\b\b\b\b\b\b\b\b\b\b\b\b\b\b\b\b\b\b\b\b\b\b\b\b\b\b\b\b\b\b\b\b\b\b\b\b\b\b\b\b\b\b\b\b\b\b\b\b\b\b\b\b\b\b\b\b\b\b\b\b\b\b\b\b\b\b\b\b\b\b\b\b\b\b\b\b\b\b\b\b\b\b\b\b\b\b\b\b\b\b\b\b\b\b\b\b\r229/229 [==============================] - 15s 67ms/step - loss: 2.0092e-06 - root_mean_squared_error: 0.0014\n",
            "Epoch 62/100\n",
            "228/229 [============================>.] - ETA: 0s - loss: 1.9877e-06 - root_mean_squared_error: 0.0014WARNING:tensorflow:Can save best model only with val_loss available, skipping.\n"
          ]
        },
        {
          "output_type": "stream",
          "name": "stderr",
          "text": [
            "WARNING:tensorflow:Can save best model only with val_loss available, skipping.\n"
          ]
        },
        {
          "output_type": "stream",
          "name": "stdout",
          "text": [
            "\b\b\b\b\b\b\b\b\b\b\b\b\b\b\b\b\b\b\b\b\b\b\b\b\b\b\b\b\b\b\b\b\b\b\b\b\b\b\b\b\b\b\b\b\b\b\b\b\b\b\b\b\b\b\b\b\b\b\b\b\b\b\b\b\b\b\b\b\b\b\b\b\b\b\b\b\b\b\b\b\b\b\b\b\b\b\b\b\b\b\b\b\b\b\b\b\b\b\b\b\b\b\b\r229/229 [==============================] - 15s 66ms/step - loss: 1.9880e-06 - root_mean_squared_error: 0.0014\n",
            "Epoch 63/100\n",
            "229/229 [==============================] - ETA: 0s - loss: 1.9936e-06 - root_mean_squared_error: 0.0014WARNING:tensorflow:Can save best model only with val_loss available, skipping.\n"
          ]
        },
        {
          "output_type": "stream",
          "name": "stderr",
          "text": [
            "WARNING:tensorflow:Can save best model only with val_loss available, skipping.\n"
          ]
        },
        {
          "output_type": "stream",
          "name": "stdout",
          "text": [
            "\b\b\b\b\b\b\b\b\b\b\b\b\b\b\b\b\b\b\b\b\b\b\b\b\b\b\b\b\b\b\b\b\b\b\b\b\b\b\b\b\b\b\b\b\b\b\b\b\b\b\b\b\b\b\b\b\b\b\b\b\b\b\b\b\b\b\b\b\b\b\b\b\b\b\b\b\b\b\b\b\b\b\b\b\b\b\b\b\b\b\b\b\b\b\b\b\b\b\b\b\b\b\b\r229/229 [==============================] - 16s 69ms/step - loss: 1.9936e-06 - root_mean_squared_error: 0.0014\n",
            "Epoch 64/100\n",
            "228/229 [============================>.] - ETA: 0s - loss: 1.9795e-06 - root_mean_squared_error: 0.0014WARNING:tensorflow:Can save best model only with val_loss available, skipping.\n"
          ]
        },
        {
          "output_type": "stream",
          "name": "stderr",
          "text": [
            "WARNING:tensorflow:Can save best model only with val_loss available, skipping.\n"
          ]
        },
        {
          "output_type": "stream",
          "name": "stdout",
          "text": [
            "\b\b\b\b\b\b\b\b\b\b\b\b\b\b\b\b\b\b\b\b\b\b\b\b\b\b\b\b\b\b\b\b\b\b\b\b\b\b\b\b\b\b\b\b\b\b\b\b\b\b\b\b\b\b\b\b\b\b\b\b\b\b\b\b\b\b\b\b\b\b\b\b\b\b\b\b\b\b\b\b\b\b\b\b\b\b\b\b\b\b\b\b\b\b\b\b\b\b\b\b\b\b\b\r229/229 [==============================] - 15s 65ms/step - loss: 1.9798e-06 - root_mean_squared_error: 0.0014\n",
            "Epoch 65/100\n",
            "228/229 [============================>.] - ETA: 0s - loss: 1.9650e-06 - root_mean_squared_error: 0.0014WARNING:tensorflow:Can save best model only with val_loss available, skipping.\n"
          ]
        },
        {
          "output_type": "stream",
          "name": "stderr",
          "text": [
            "WARNING:tensorflow:Can save best model only with val_loss available, skipping.\n"
          ]
        },
        {
          "output_type": "stream",
          "name": "stdout",
          "text": [
            "\b\b\b\b\b\b\b\b\b\b\b\b\b\b\b\b\b\b\b\b\b\b\b\b\b\b\b\b\b\b\b\b\b\b\b\b\b\b\b\b\b\b\b\b\b\b\b\b\b\b\b\b\b\b\b\b\b\b\b\b\b\b\b\b\b\b\b\b\b\b\b\b\b\b\b\b\b\b\b\b\b\b\b\b\b\b\b\b\b\b\b\b\b\b\b\b\b\b\b\b\b\b\b\r229/229 [==============================] - 16s 68ms/step - loss: 1.9660e-06 - root_mean_squared_error: 0.0014\n",
            "Epoch 66/100\n",
            "228/229 [============================>.] - ETA: 0s - loss: 1.9784e-06 - root_mean_squared_error: 0.0014WARNING:tensorflow:Can save best model only with val_loss available, skipping.\n"
          ]
        },
        {
          "output_type": "stream",
          "name": "stderr",
          "text": [
            "WARNING:tensorflow:Can save best model only with val_loss available, skipping.\n"
          ]
        },
        {
          "output_type": "stream",
          "name": "stdout",
          "text": [
            "\b\b\b\b\b\b\b\b\b\b\b\b\b\b\b\b\b\b\b\b\b\b\b\b\b\b\b\b\b\b\b\b\b\b\b\b\b\b\b\b\b\b\b\b\b\b\b\b\b\b\b\b\b\b\b\b\b\b\b\b\b\b\b\b\b\b\b\b\b\b\b\b\b\b\b\b\b\b\b\b\b\b\b\b\b\b\b\b\b\b\b\b\b\b\b\b\b\b\b\b\b\b\b\r229/229 [==============================] - 15s 66ms/step - loss: 1.9779e-06 - root_mean_squared_error: 0.0014\n",
            "Epoch 67/100\n",
            "228/229 [============================>.] - ETA: 0s - loss: 1.9693e-06 - root_mean_squared_error: 0.0014WARNING:tensorflow:Can save best model only with val_loss available, skipping.\n"
          ]
        },
        {
          "output_type": "stream",
          "name": "stderr",
          "text": [
            "WARNING:tensorflow:Can save best model only with val_loss available, skipping.\n"
          ]
        },
        {
          "output_type": "stream",
          "name": "stdout",
          "text": [
            "\b\b\b\b\b\b\b\b\b\b\b\b\b\b\b\b\b\b\b\b\b\b\b\b\b\b\b\b\b\b\b\b\b\b\b\b\b\b\b\b\b\b\b\b\b\b\b\b\b\b\b\b\b\b\b\b\b\b\b\b\b\b\b\b\b\b\b\b\b\b\b\b\b\b\b\b\b\b\b\b\b\b\b\b\b\b\b\b\b\b\b\b\b\b\b\b\b\b\b\b\b\b\b\r229/229 [==============================] - 16s 69ms/step - loss: 1.9698e-06 - root_mean_squared_error: 0.0014\n",
            "Epoch 68/100\n",
            "229/229 [==============================] - ETA: 0s - loss: 1.9728e-06 - root_mean_squared_error: 0.0014WARNING:tensorflow:Can save best model only with val_loss available, skipping.\n"
          ]
        },
        {
          "output_type": "stream",
          "name": "stderr",
          "text": [
            "WARNING:tensorflow:Can save best model only with val_loss available, skipping.\n"
          ]
        },
        {
          "output_type": "stream",
          "name": "stdout",
          "text": [
            "\b\b\b\b\b\b\b\b\b\b\b\b\b\b\b\b\b\b\b\b\b\b\b\b\b\b\b\b\b\b\b\b\b\b\b\b\b\b\b\b\b\b\b\b\b\b\b\b\b\b\b\b\b\b\b\b\b\b\b\b\b\b\b\b\b\b\b\b\b\b\b\b\b\b\b\b\b\b\b\b\b\b\b\b\b\b\b\b\b\b\b\b\b\b\b\b\b\b\b\b\b\b\b\r229/229 [==============================] - 16s 68ms/step - loss: 1.9728e-06 - root_mean_squared_error: 0.0014\n",
            "Epoch 69/100\n",
            "229/229 [==============================] - ETA: 0s - loss: 1.9484e-06 - root_mean_squared_error: 0.0014WARNING:tensorflow:Can save best model only with val_loss available, skipping.\n"
          ]
        },
        {
          "output_type": "stream",
          "name": "stderr",
          "text": [
            "WARNING:tensorflow:Can save best model only with val_loss available, skipping.\n"
          ]
        },
        {
          "output_type": "stream",
          "name": "stdout",
          "text": [
            "\b\b\b\b\b\b\b\b\b\b\b\b\b\b\b\b\b\b\b\b\b\b\b\b\b\b\b\b\b\b\b\b\b\b\b\b\b\b\b\b\b\b\b\b\b\b\b\b\b\b\b\b\b\b\b\b\b\b\b\b\b\b\b\b\b\b\b\b\b\b\b\b\b\b\b\b\b\b\b\b\b\b\b\b\b\b\b\b\b\b\b\b\b\b\b\b\b\b\b\b\b\b\b\r229/229 [==============================] - 16s 69ms/step - loss: 1.9484e-06 - root_mean_squared_error: 0.0014\n",
            "Epoch 70/100\n",
            "228/229 [============================>.] - ETA: 0s - loss: 1.9527e-06 - root_mean_squared_error: 0.0014WARNING:tensorflow:Can save best model only with val_loss available, skipping.\n"
          ]
        },
        {
          "output_type": "stream",
          "name": "stderr",
          "text": [
            "WARNING:tensorflow:Can save best model only with val_loss available, skipping.\n"
          ]
        },
        {
          "output_type": "stream",
          "name": "stdout",
          "text": [
            "\b\b\b\b\b\b\b\b\b\b\b\b\b\b\b\b\b\b\b\b\b\b\b\b\b\b\b\b\b\b\b\b\b\b\b\b\b\b\b\b\b\b\b\b\b\b\b\b\b\b\b\b\b\b\b\b\b\b\b\b\b\b\b\b\b\b\b\b\b\b\b\b\b\b\b\b\b\b\b\b\b\b\b\b\b\b\b\b\b\b\b\b\b\b\b\b\b\b\b\b\b\b\b\r229/229 [==============================] - 15s 66ms/step - loss: 1.9522e-06 - root_mean_squared_error: 0.0014\n",
            "Epoch 71/100\n",
            "228/229 [============================>.] - ETA: 0s - loss: 1.9633e-06 - root_mean_squared_error: 0.0014WARNING:tensorflow:Can save best model only with val_loss available, skipping.\n"
          ]
        },
        {
          "output_type": "stream",
          "name": "stderr",
          "text": [
            "WARNING:tensorflow:Can save best model only with val_loss available, skipping.\n"
          ]
        },
        {
          "output_type": "stream",
          "name": "stdout",
          "text": [
            "\b\b\b\b\b\b\b\b\b\b\b\b\b\b\b\b\b\b\b\b\b\b\b\b\b\b\b\b\b\b\b\b\b\b\b\b\b\b\b\b\b\b\b\b\b\b\b\b\b\b\b\b\b\b\b\b\b\b\b\b\b\b\b\b\b\b\b\b\b\b\b\b\b\b\b\b\b\b\b\b\b\b\b\b\b\b\b\b\b\b\b\b\b\b\b\b\b\b\b\b\b\b\b\r229/229 [==============================] - 15s 66ms/step - loss: 1.9631e-06 - root_mean_squared_error: 0.0014\n",
            "Epoch 72/100\n",
            "229/229 [==============================] - ETA: 0s - loss: 1.9584e-06 - root_mean_squared_error: 0.0014WARNING:tensorflow:Can save best model only with val_loss available, skipping.\n"
          ]
        },
        {
          "output_type": "stream",
          "name": "stderr",
          "text": [
            "WARNING:tensorflow:Can save best model only with val_loss available, skipping.\n"
          ]
        },
        {
          "output_type": "stream",
          "name": "stdout",
          "text": [
            "\b\b\b\b\b\b\b\b\b\b\b\b\b\b\b\b\b\b\b\b\b\b\b\b\b\b\b\b\b\b\b\b\b\b\b\b\b\b\b\b\b\b\b\b\b\b\b\b\b\b\b\b\b\b\b\b\b\b\b\b\b\b\b\b\b\b\b\b\b\b\b\b\b\b\b\b\b\b\b\b\b\b\b\b\b\b\b\b\b\b\b\b\b\b\b\b\b\b\b\b\b\b\b\r229/229 [==============================] - 16s 68ms/step - loss: 1.9584e-06 - root_mean_squared_error: 0.0014\n",
            "Epoch 73/100\n",
            "229/229 [==============================] - ETA: 0s - loss: 1.9491e-06 - root_mean_squared_error: 0.0014WARNING:tensorflow:Can save best model only with val_loss available, skipping.\n"
          ]
        },
        {
          "output_type": "stream",
          "name": "stderr",
          "text": [
            "WARNING:tensorflow:Can save best model only with val_loss available, skipping.\n"
          ]
        },
        {
          "output_type": "stream",
          "name": "stdout",
          "text": [
            "\b\b\b\b\b\b\b\b\b\b\b\b\b\b\b\b\b\b\b\b\b\b\b\b\b\b\b\b\b\b\b\b\b\b\b\b\b\b\b\b\b\b\b\b\b\b\b\b\b\b\b\b\b\b\b\b\b\b\b\b\b\b\b\b\b\b\b\b\b\b\b\b\b\b\b\b\b\b\b\b\b\b\b\b\b\b\b\b\b\b\b\b\b\b\b\b\b\b\b\b\b\b\b\r229/229 [==============================] - 15s 67ms/step - loss: 1.9491e-06 - root_mean_squared_error: 0.0014\n",
            "Epoch 74/100\n",
            "228/229 [============================>.] - ETA: 0s - loss: 1.9514e-06 - root_mean_squared_error: 0.0014WARNING:tensorflow:Can save best model only with val_loss available, skipping.\n"
          ]
        },
        {
          "output_type": "stream",
          "name": "stderr",
          "text": [
            "WARNING:tensorflow:Can save best model only with val_loss available, skipping.\n"
          ]
        },
        {
          "output_type": "stream",
          "name": "stdout",
          "text": [
            "\b\b\b\b\b\b\b\b\b\b\b\b\b\b\b\b\b\b\b\b\b\b\b\b\b\b\b\b\b\b\b\b\b\b\b\b\b\b\b\b\b\b\b\b\b\b\b\b\b\b\b\b\b\b\b\b\b\b\b\b\b\b\b\b\b\b\b\b\b\b\b\b\b\b\b\b\b\b\b\b\b\b\b\b\b\b\b\b\b\b\b\b\b\b\b\b\b\b\b\b\b\b\b\r229/229 [==============================] - 16s 68ms/step - loss: 1.9504e-06 - root_mean_squared_error: 0.0014\n",
            "Epoch 75/100\n",
            "229/229 [==============================] - ETA: 0s - loss: 1.9379e-06 - root_mean_squared_error: 0.0014WARNING:tensorflow:Can save best model only with val_loss available, skipping.\n"
          ]
        },
        {
          "output_type": "stream",
          "name": "stderr",
          "text": [
            "WARNING:tensorflow:Can save best model only with val_loss available, skipping.\n"
          ]
        },
        {
          "output_type": "stream",
          "name": "stdout",
          "text": [
            "\b\b\b\b\b\b\b\b\b\b\b\b\b\b\b\b\b\b\b\b\b\b\b\b\b\b\b\b\b\b\b\b\b\b\b\b\b\b\b\b\b\b\b\b\b\b\b\b\b\b\b\b\b\b\b\b\b\b\b\b\b\b\b\b\b\b\b\b\b\b\b\b\b\b\b\b\b\b\b\b\b\b\b\b\b\b\b\b\b\b\b\b\b\b\b\b\b\b\b\b\b\b\b\r229/229 [==============================] - 16s 71ms/step - loss: 1.9379e-06 - root_mean_squared_error: 0.0014\n",
            "Epoch 76/100\n",
            "228/229 [============================>.] - ETA: 0s - loss: 1.9377e-06 - root_mean_squared_error: 0.0014WARNING:tensorflow:Can save best model only with val_loss available, skipping.\n"
          ]
        },
        {
          "output_type": "stream",
          "name": "stderr",
          "text": [
            "WARNING:tensorflow:Can save best model only with val_loss available, skipping.\n"
          ]
        },
        {
          "output_type": "stream",
          "name": "stdout",
          "text": [
            "\b\b\b\b\b\b\b\b\b\b\b\b\b\b\b\b\b\b\b\b\b\b\b\b\b\b\b\b\b\b\b\b\b\b\b\b\b\b\b\b\b\b\b\b\b\b\b\b\b\b\b\b\b\b\b\b\b\b\b\b\b\b\b\b\b\b\b\b\b\b\b\b\b\b\b\b\b\b\b\b\b\b\b\b\b\b\b\b\b\b\b\b\b\b\b\b\b\b\b\b\b\b\b\r229/229 [==============================] - 15s 67ms/step - loss: 1.9380e-06 - root_mean_squared_error: 0.0014\n",
            "Epoch 77/100\n",
            "229/229 [==============================] - ETA: 0s - loss: 1.9406e-06 - root_mean_squared_error: 0.0014WARNING:tensorflow:Can save best model only with val_loss available, skipping.\n"
          ]
        },
        {
          "output_type": "stream",
          "name": "stderr",
          "text": [
            "WARNING:tensorflow:Can save best model only with val_loss available, skipping.\n"
          ]
        },
        {
          "output_type": "stream",
          "name": "stdout",
          "text": [
            "\b\b\b\b\b\b\b\b\b\b\b\b\b\b\b\b\b\b\b\b\b\b\b\b\b\b\b\b\b\b\b\b\b\b\b\b\b\b\b\b\b\b\b\b\b\b\b\b\b\b\b\b\b\b\b\b\b\b\b\b\b\b\b\b\b\b\b\b\b\b\b\b\b\b\b\b\b\b\b\b\b\b\b\b\b\b\b\b\b\b\b\b\b\b\b\b\b\b\b\b\b\b\b\r229/229 [==============================] - 16s 68ms/step - loss: 1.9406e-06 - root_mean_squared_error: 0.0014\n",
            "Epoch 78/100\n",
            "229/229 [==============================] - ETA: 0s - loss: 1.9176e-06 - root_mean_squared_error: 0.0014WARNING:tensorflow:Can save best model only with val_loss available, skipping.\n"
          ]
        },
        {
          "output_type": "stream",
          "name": "stderr",
          "text": [
            "WARNING:tensorflow:Can save best model only with val_loss available, skipping.\n"
          ]
        },
        {
          "output_type": "stream",
          "name": "stdout",
          "text": [
            "\b\b\b\b\b\b\b\b\b\b\b\b\b\b\b\b\b\b\b\b\b\b\b\b\b\b\b\b\b\b\b\b\b\b\b\b\b\b\b\b\b\b\b\b\b\b\b\b\b\b\b\b\b\b\b\b\b\b\b\b\b\b\b\b\b\b\b\b\b\b\b\b\b\b\b\b\b\b\b\b\b\b\b\b\b\b\b\b\b\b\b\b\b\b\b\b\b\b\b\b\b\b\b\r229/229 [==============================] - 16s 70ms/step - loss: 1.9176e-06 - root_mean_squared_error: 0.0014\n",
            "Epoch 79/100\n",
            "229/229 [==============================] - ETA: 0s - loss: 1.9380e-06 - root_mean_squared_error: 0.0014WARNING:tensorflow:Can save best model only with val_loss available, skipping.\n"
          ]
        },
        {
          "output_type": "stream",
          "name": "stderr",
          "text": [
            "WARNING:tensorflow:Can save best model only with val_loss available, skipping.\n"
          ]
        },
        {
          "output_type": "stream",
          "name": "stdout",
          "text": [
            "\b\b\b\b\b\b\b\b\b\b\b\b\b\b\b\b\b\b\b\b\b\b\b\b\b\b\b\b\b\b\b\b\b\b\b\b\b\b\b\b\b\b\b\b\b\b\b\b\b\b\b\b\b\b\b\b\b\b\b\b\b\b\b\b\b\b\b\b\b\b\b\b\b\b\b\b\b\b\b\b\b\b\b\b\b\b\b\b\b\b\b\b\b\b\b\b\b\b\b\b\b\b\b\r229/229 [==============================] - 15s 67ms/step - loss: 1.9380e-06 - root_mean_squared_error: 0.0014\n",
            "Epoch 80/100\n",
            "228/229 [============================>.] - ETA: 0s - loss: 1.9178e-06 - root_mean_squared_error: 0.0014WARNING:tensorflow:Can save best model only with val_loss available, skipping.\n"
          ]
        },
        {
          "output_type": "stream",
          "name": "stderr",
          "text": [
            "WARNING:tensorflow:Can save best model only with val_loss available, skipping.\n"
          ]
        },
        {
          "output_type": "stream",
          "name": "stdout",
          "text": [
            "\b\b\b\b\b\b\b\b\b\b\b\b\b\b\b\b\b\b\b\b\b\b\b\b\b\b\b\b\b\b\b\b\b\b\b\b\b\b\b\b\b\b\b\b\b\b\b\b\b\b\b\b\b\b\b\b\b\b\b\b\b\b\b\b\b\b\b\b\b\b\b\b\b\b\b\b\b\b\b\b\b\b\b\b\b\b\b\b\b\b\b\b\b\b\b\b\b\b\b\b\b\b\b\r229/229 [==============================] - 16s 69ms/step - loss: 1.9180e-06 - root_mean_squared_error: 0.0014\n",
            "Epoch 81/100\n",
            "228/229 [============================>.] - ETA: 0s - loss: 1.9015e-06 - root_mean_squared_error: 0.0014WARNING:tensorflow:Can save best model only with val_loss available, skipping.\n"
          ]
        },
        {
          "output_type": "stream",
          "name": "stderr",
          "text": [
            "WARNING:tensorflow:Can save best model only with val_loss available, skipping.\n"
          ]
        },
        {
          "output_type": "stream",
          "name": "stdout",
          "text": [
            "\b\b\b\b\b\b\b\b\b\b\b\b\b\b\b\b\b\b\b\b\b\b\b\b\b\b\b\b\b\b\b\b\b\b\b\b\b\b\b\b\b\b\b\b\b\b\b\b\b\b\b\b\b\b\b\b\b\b\b\b\b\b\b\b\b\b\b\b\b\b\b\b\b\b\b\b\b\b\b\b\b\b\b\b\b\b\b\b\b\b\b\b\b\b\b\b\b\b\b\b\b\b\b\r229/229 [==============================] - 15s 67ms/step - loss: 1.9013e-06 - root_mean_squared_error: 0.0014\n",
            "Epoch 82/100\n",
            "229/229 [==============================] - ETA: 0s - loss: 1.9127e-06 - root_mean_squared_error: 0.0014WARNING:tensorflow:Can save best model only with val_loss available, skipping.\n"
          ]
        },
        {
          "output_type": "stream",
          "name": "stderr",
          "text": [
            "WARNING:tensorflow:Can save best model only with val_loss available, skipping.\n"
          ]
        },
        {
          "output_type": "stream",
          "name": "stdout",
          "text": [
            "\b\b\b\b\b\b\b\b\b\b\b\b\b\b\b\b\b\b\b\b\b\b\b\b\b\b\b\b\b\b\b\b\b\b\b\b\b\b\b\b\b\b\b\b\b\b\b\b\b\b\b\b\b\b\b\b\b\b\b\b\b\b\b\b\b\b\b\b\b\b\b\b\b\b\b\b\b\b\b\b\b\b\b\b\b\b\b\b\b\b\b\b\b\b\b\b\b\b\b\b\b\b\b\r229/229 [==============================] - 15s 67ms/step - loss: 1.9127e-06 - root_mean_squared_error: 0.0014\n",
            "Epoch 83/100\n",
            "228/229 [============================>.] - ETA: 0s - loss: 1.9169e-06 - root_mean_squared_error: 0.0014WARNING:tensorflow:Can save best model only with val_loss available, skipping.\n"
          ]
        },
        {
          "output_type": "stream",
          "name": "stderr",
          "text": [
            "WARNING:tensorflow:Can save best model only with val_loss available, skipping.\n"
          ]
        },
        {
          "output_type": "stream",
          "name": "stdout",
          "text": [
            "\b\b\b\b\b\b\b\b\b\b\b\b\b\b\b\b\b\b\b\b\b\b\b\b\b\b\b\b\b\b\b\b\b\b\b\b\b\b\b\b\b\b\b\b\b\b\b\b\b\b\b\b\b\b\b\b\b\b\b\b\b\b\b\b\b\b\b\b\b\b\b\b\b\b\b\b\b\b\b\b\b\b\b\b\b\b\b\b\b\b\b\b\b\b\b\b\b\b\b\b\b\b\b\r229/229 [==============================] - 16s 70ms/step - loss: 1.9162e-06 - root_mean_squared_error: 0.0014\n",
            "Epoch 84/100\n",
            "229/229 [==============================] - ETA: 0s - loss: 1.9160e-06 - root_mean_squared_error: 0.0014WARNING:tensorflow:Can save best model only with val_loss available, skipping.\n"
          ]
        },
        {
          "output_type": "stream",
          "name": "stderr",
          "text": [
            "WARNING:tensorflow:Can save best model only with val_loss available, skipping.\n"
          ]
        },
        {
          "output_type": "stream",
          "name": "stdout",
          "text": [
            "\b\b\b\b\b\b\b\b\b\b\b\b\b\b\b\b\b\b\b\b\b\b\b\b\b\b\b\b\b\b\b\b\b\b\b\b\b\b\b\b\b\b\b\b\b\b\b\b\b\b\b\b\b\b\b\b\b\b\b\b\b\b\b\b\b\b\b\b\b\b\b\b\b\b\b\b\b\b\b\b\b\b\b\b\b\b\b\b\b\b\b\b\b\b\b\b\b\b\b\b\b\b\b\r229/229 [==============================] - 16s 69ms/step - loss: 1.9160e-06 - root_mean_squared_error: 0.0014\n",
            "Epoch 85/100\n",
            "228/229 [============================>.] - ETA: 0s - loss: 1.9200e-06 - root_mean_squared_error: 0.0014WARNING:tensorflow:Can save best model only with val_loss available, skipping.\n"
          ]
        },
        {
          "output_type": "stream",
          "name": "stderr",
          "text": [
            "WARNING:tensorflow:Can save best model only with val_loss available, skipping.\n"
          ]
        },
        {
          "output_type": "stream",
          "name": "stdout",
          "text": [
            "\b\b\b\b\b\b\b\b\b\b\b\b\b\b\b\b\b\b\b\b\b\b\b\b\b\b\b\b\b\b\b\b\b\b\b\b\b\b\b\b\b\b\b\b\b\b\b\b\b\b\b\b\b\b\b\b\b\b\b\b\b\b\b\b\b\b\b\b\b\b\b\b\b\b\b\b\b\b\b\b\b\b\b\b\b\b\b\b\b\b\b\b\b\b\b\b\b\b\b\b\b\b\b\r229/229 [==============================] - 15s 65ms/step - loss: 1.9202e-06 - root_mean_squared_error: 0.0014\n",
            "Epoch 86/100\n",
            "228/229 [============================>.] - ETA: 0s - loss: 1.9024e-06 - root_mean_squared_error: 0.0014WARNING:tensorflow:Can save best model only with val_loss available, skipping.\n"
          ]
        },
        {
          "output_type": "stream",
          "name": "stderr",
          "text": [
            "WARNING:tensorflow:Can save best model only with val_loss available, skipping.\n"
          ]
        },
        {
          "output_type": "stream",
          "name": "stdout",
          "text": [
            "\b\b\b\b\b\b\b\b\b\b\b\b\b\b\b\b\b\b\b\b\b\b\b\b\b\b\b\b\b\b\b\b\b\b\b\b\b\b\b\b\b\b\b\b\b\b\b\b\b\b\b\b\b\b\b\b\b\b\b\b\b\b\b\b\b\b\b\b\b\b\b\b\b\b\b\b\b\b\b\b\b\b\b\b\b\b\b\b\b\b\b\b\b\b\b\b\b\b\b\b\b\b\b\r229/229 [==============================] - 16s 70ms/step - loss: 1.9033e-06 - root_mean_squared_error: 0.0014\n",
            "Epoch 87/100\n",
            "228/229 [============================>.] - ETA: 0s - loss: 1.9023e-06 - root_mean_squared_error: 0.0014WARNING:tensorflow:Can save best model only with val_loss available, skipping.\n"
          ]
        },
        {
          "output_type": "stream",
          "name": "stderr",
          "text": [
            "WARNING:tensorflow:Can save best model only with val_loss available, skipping.\n"
          ]
        },
        {
          "output_type": "stream",
          "name": "stdout",
          "text": [
            "\b\b\b\b\b\b\b\b\b\b\b\b\b\b\b\b\b\b\b\b\b\b\b\b\b\b\b\b\b\b\b\b\b\b\b\b\b\b\b\b\b\b\b\b\b\b\b\b\b\b\b\b\b\b\b\b\b\b\b\b\b\b\b\b\b\b\b\b\b\b\b\b\b\b\b\b\b\b\b\b\b\b\b\b\b\b\b\b\b\b\b\b\b\b\b\b\b\b\b\b\b\b\b\r229/229 [==============================] - 15s 66ms/step - loss: 1.9027e-06 - root_mean_squared_error: 0.0014\n",
            "Epoch 88/100\n",
            "229/229 [==============================] - ETA: 0s - loss: 1.8924e-06 - root_mean_squared_error: 0.0014WARNING:tensorflow:Can save best model only with val_loss available, skipping.\n"
          ]
        },
        {
          "output_type": "stream",
          "name": "stderr",
          "text": [
            "WARNING:tensorflow:Can save best model only with val_loss available, skipping.\n"
          ]
        },
        {
          "output_type": "stream",
          "name": "stdout",
          "text": [
            "\b\b\b\b\b\b\b\b\b\b\b\b\b\b\b\b\b\b\b\b\b\b\b\b\b\b\b\b\b\b\b\b\b\b\b\b\b\b\b\b\b\b\b\b\b\b\b\b\b\b\b\b\b\b\b\b\b\b\b\b\b\b\b\b\b\b\b\b\b\b\b\b\b\b\b\b\b\b\b\b\b\b\b\b\b\b\b\b\b\b\b\b\b\b\b\b\b\b\b\b\b\b\b\r229/229 [==============================] - 15s 66ms/step - loss: 1.8924e-06 - root_mean_squared_error: 0.0014\n",
            "Epoch 89/100\n",
            "229/229 [==============================] - ETA: 0s - loss: 1.8966e-06 - root_mean_squared_error: 0.0014WARNING:tensorflow:Can save best model only with val_loss available, skipping.\n"
          ]
        },
        {
          "output_type": "stream",
          "name": "stderr",
          "text": [
            "WARNING:tensorflow:Can save best model only with val_loss available, skipping.\n"
          ]
        },
        {
          "output_type": "stream",
          "name": "stdout",
          "text": [
            "\b\b\b\b\b\b\b\b\b\b\b\b\b\b\b\b\b\b\b\b\b\b\b\b\b\b\b\b\b\b\b\b\b\b\b\b\b\b\b\b\b\b\b\b\b\b\b\b\b\b\b\b\b\b\b\b\b\b\b\b\b\b\b\b\b\b\b\b\b\b\b\b\b\b\b\b\b\b\b\b\b\b\b\b\b\b\b\b\b\b\b\b\b\b\b\b\b\b\b\b\b\b\b\r229/229 [==============================] - 15s 67ms/step - loss: 1.8966e-06 - root_mean_squared_error: 0.0014\n",
            "Epoch 90/100\n",
            "229/229 [==============================] - ETA: 0s - loss: 1.8944e-06 - root_mean_squared_error: 0.0014WARNING:tensorflow:Can save best model only with val_loss available, skipping.\n"
          ]
        },
        {
          "output_type": "stream",
          "name": "stderr",
          "text": [
            "WARNING:tensorflow:Can save best model only with val_loss available, skipping.\n"
          ]
        },
        {
          "output_type": "stream",
          "name": "stdout",
          "text": [
            "\b\b\b\b\b\b\b\b\b\b\b\b\b\b\b\b\b\b\b\b\b\b\b\b\b\b\b\b\b\b\b\b\b\b\b\b\b\b\b\b\b\b\b\b\b\b\b\b\b\b\b\b\b\b\b\b\b\b\b\b\b\b\b\b\b\b\b\b\b\b\b\b\b\b\b\b\b\b\b\b\b\b\b\b\b\b\b\b\b\b\b\b\b\b\b\b\b\b\b\b\b\b\b\r229/229 [==============================] - 15s 64ms/step - loss: 1.8944e-06 - root_mean_squared_error: 0.0014\n",
            "Epoch 91/100\n",
            "229/229 [==============================] - ETA: 0s - loss: 1.9068e-06 - root_mean_squared_error: 0.0014WARNING:tensorflow:Can save best model only with val_loss available, skipping.\n"
          ]
        },
        {
          "output_type": "stream",
          "name": "stderr",
          "text": [
            "WARNING:tensorflow:Can save best model only with val_loss available, skipping.\n"
          ]
        },
        {
          "output_type": "stream",
          "name": "stdout",
          "text": [
            "\b\b\b\b\b\b\b\b\b\b\b\b\b\b\b\b\b\b\b\b\b\b\b\b\b\b\b\b\b\b\b\b\b\b\b\b\b\b\b\b\b\b\b\b\b\b\b\b\b\b\b\b\b\b\b\b\b\b\b\b\b\b\b\b\b\b\b\b\b\b\b\b\b\b\b\b\b\b\b\b\b\b\b\b\b\b\b\b\b\b\b\b\b\b\b\b\b\b\b\b\b\b\b\r229/229 [==============================] - 15s 68ms/step - loss: 1.9068e-06 - root_mean_squared_error: 0.0014\n",
            "Epoch 92/100\n",
            "228/229 [============================>.] - ETA: 0s - loss: 1.8921e-06 - root_mean_squared_error: 0.0014WARNING:tensorflow:Can save best model only with val_loss available, skipping.\n"
          ]
        },
        {
          "output_type": "stream",
          "name": "stderr",
          "text": [
            "WARNING:tensorflow:Can save best model only with val_loss available, skipping.\n"
          ]
        },
        {
          "output_type": "stream",
          "name": "stdout",
          "text": [
            "\b\b\b\b\b\b\b\b\b\b\b\b\b\b\b\b\b\b\b\b\b\b\b\b\b\b\b\b\b\b\b\b\b\b\b\b\b\b\b\b\b\b\b\b\b\b\b\b\b\b\b\b\b\b\b\b\b\b\b\b\b\b\b\b\b\b\b\b\b\b\b\b\b\b\b\b\b\b\b\b\b\b\b\b\b\b\b\b\b\b\b\b\b\b\b\b\b\b\b\b\b\b\b\r229/229 [==============================] - 16s 68ms/step - loss: 1.8917e-06 - root_mean_squared_error: 0.0014\n",
            "Epoch 93/100\n",
            "228/229 [============================>.] - ETA: 0s - loss: 1.8765e-06 - root_mean_squared_error: 0.0014WARNING:tensorflow:Can save best model only with val_loss available, skipping.\n"
          ]
        },
        {
          "output_type": "stream",
          "name": "stderr",
          "text": [
            "WARNING:tensorflow:Can save best model only with val_loss available, skipping.\n"
          ]
        },
        {
          "output_type": "stream",
          "name": "stdout",
          "text": [
            "\b\b\b\b\b\b\b\b\b\b\b\b\b\b\b\b\b\b\b\b\b\b\b\b\b\b\b\b\b\b\b\b\b\b\b\b\b\b\b\b\b\b\b\b\b\b\b\b\b\b\b\b\b\b\b\b\b\b\b\b\b\b\b\b\b\b\b\b\b\b\b\b\b\b\b\b\b\b\b\b\b\b\b\b\b\b\b\b\b\b\b\b\b\b\b\b\b\b\b\b\b\b\b\r229/229 [==============================] - 16s 70ms/step - loss: 1.8765e-06 - root_mean_squared_error: 0.0014\n",
            "Epoch 94/100\n",
            "229/229 [==============================] - ETA: 0s - loss: 1.8800e-06 - root_mean_squared_error: 0.0014WARNING:tensorflow:Can save best model only with val_loss available, skipping.\n"
          ]
        },
        {
          "output_type": "stream",
          "name": "stderr",
          "text": [
            "WARNING:tensorflow:Can save best model only with val_loss available, skipping.\n"
          ]
        },
        {
          "output_type": "stream",
          "name": "stdout",
          "text": [
            "\b\b\b\b\b\b\b\b\b\b\b\b\b\b\b\b\b\b\b\b\b\b\b\b\b\b\b\b\b\b\b\b\b\b\b\b\b\b\b\b\b\b\b\b\b\b\b\b\b\b\b\b\b\b\b\b\b\b\b\b\b\b\b\b\b\b\b\b\b\b\b\b\b\b\b\b\b\b\b\b\b\b\b\b\b\b\b\b\b\b\b\b\b\b\b\b\b\b\b\b\b\b\b\r229/229 [==============================] - 15s 65ms/step - loss: 1.8800e-06 - root_mean_squared_error: 0.0014\n",
            "Epoch 95/100\n",
            "228/229 [============================>.] - ETA: 0s - loss: 1.8710e-06 - root_mean_squared_error: 0.0014WARNING:tensorflow:Can save best model only with val_loss available, skipping.\n"
          ]
        },
        {
          "output_type": "stream",
          "name": "stderr",
          "text": [
            "WARNING:tensorflow:Can save best model only with val_loss available, skipping.\n"
          ]
        },
        {
          "output_type": "stream",
          "name": "stdout",
          "text": [
            "\b\b\b\b\b\b\b\b\b\b\b\b\b\b\b\b\b\b\b\b\b\b\b\b\b\b\b\b\b\b\b\b\b\b\b\b\b\b\b\b\b\b\b\b\b\b\b\b\b\b\b\b\b\b\b\b\b\b\b\b\b\b\b\b\b\b\b\b\b\b\b\b\b\b\b\b\b\b\b\b\b\b\b\b\b\b\b\b\b\b\b\b\b\b\b\b\b\b\b\b\b\b\b\r229/229 [==============================] - 15s 67ms/step - loss: 1.8707e-06 - root_mean_squared_error: 0.0014\n",
            "Epoch 96/100\n",
            "228/229 [============================>.] - ETA: 0s - loss: 1.9122e-06 - root_mean_squared_error: 0.0014WARNING:tensorflow:Can save best model only with val_loss available, skipping.\n"
          ]
        },
        {
          "output_type": "stream",
          "name": "stderr",
          "text": [
            "WARNING:tensorflow:Can save best model only with val_loss available, skipping.\n"
          ]
        },
        {
          "output_type": "stream",
          "name": "stdout",
          "text": [
            "\b\b\b\b\b\b\b\b\b\b\b\b\b\b\b\b\b\b\b\b\b\b\b\b\b\b\b\b\b\b\b\b\b\b\b\b\b\b\b\b\b\b\b\b\b\b\b\b\b\b\b\b\b\b\b\b\b\b\b\b\b\b\b\b\b\b\b\b\b\b\b\b\b\b\b\b\b\b\b\b\b\b\b\b\b\b\b\b\b\b\b\b\b\b\b\b\b\b\b\b\b\b\b\r229/229 [==============================] - 16s 68ms/step - loss: 1.9122e-06 - root_mean_squared_error: 0.0014\n",
            "Epoch 97/100\n",
            "229/229 [==============================] - ETA: 0s - loss: 1.8606e-06 - root_mean_squared_error: 0.0014WARNING:tensorflow:Can save best model only with val_loss available, skipping.\n"
          ]
        },
        {
          "output_type": "stream",
          "name": "stderr",
          "text": [
            "WARNING:tensorflow:Can save best model only with val_loss available, skipping.\n"
          ]
        },
        {
          "output_type": "stream",
          "name": "stdout",
          "text": [
            "\b\b\b\b\b\b\b\b\b\b\b\b\b\b\b\b\b\b\b\b\b\b\b\b\b\b\b\b\b\b\b\b\b\b\b\b\b\b\b\b\b\b\b\b\b\b\b\b\b\b\b\b\b\b\b\b\b\b\b\b\b\b\b\b\b\b\b\b\b\b\b\b\b\b\b\b\b\b\b\b\b\b\b\b\b\b\b\b\b\b\b\b\b\b\b\b\b\b\b\b\b\b\b\r229/229 [==============================] - 15s 66ms/step - loss: 1.8606e-06 - root_mean_squared_error: 0.0014\n",
            "Epoch 98/100\n",
            "228/229 [============================>.] - ETA: 0s - loss: 1.8853e-06 - root_mean_squared_error: 0.0014WARNING:tensorflow:Can save best model only with val_loss available, skipping.\n"
          ]
        },
        {
          "output_type": "stream",
          "name": "stderr",
          "text": [
            "WARNING:tensorflow:Can save best model only with val_loss available, skipping.\n"
          ]
        },
        {
          "output_type": "stream",
          "name": "stdout",
          "text": [
            "\b\b\b\b\b\b\b\b\b\b\b\b\b\b\b\b\b\b\b\b\b\b\b\b\b\b\b\b\b\b\b\b\b\b\b\b\b\b\b\b\b\b\b\b\b\b\b\b\b\b\b\b\b\b\b\b\b\b\b\b\b\b\b\b\b\b\b\b\b\b\b\b\b\b\b\b\b\b\b\b\b\b\b\b\b\b\b\b\b\b\b\b\b\b\b\b\b\b\b\b\b\b\b\r229/229 [==============================] - 15s 66ms/step - loss: 1.8863e-06 - root_mean_squared_error: 0.0014\n",
            "Epoch 99/100\n",
            "228/229 [============================>.] - ETA: 0s - loss: 1.8671e-06 - root_mean_squared_error: 0.0014WARNING:tensorflow:Can save best model only with val_loss available, skipping.\n"
          ]
        },
        {
          "output_type": "stream",
          "name": "stderr",
          "text": [
            "WARNING:tensorflow:Can save best model only with val_loss available, skipping.\n"
          ]
        },
        {
          "output_type": "stream",
          "name": "stdout",
          "text": [
            "\b\b\b\b\b\b\b\b\b\b\b\b\b\b\b\b\b\b\b\b\b\b\b\b\b\b\b\b\b\b\b\b\b\b\b\b\b\b\b\b\b\b\b\b\b\b\b\b\b\b\b\b\b\b\b\b\b\b\b\b\b\b\b\b\b\b\b\b\b\b\b\b\b\b\b\b\b\b\b\b\b\b\b\b\b\b\b\b\b\b\b\b\b\b\b\b\b\b\b\b\b\b\b\r229/229 [==============================] - 15s 65ms/step - loss: 1.8669e-06 - root_mean_squared_error: 0.0014\n",
            "Epoch 100/100\n",
            "229/229 [==============================] - ETA: 0s - loss: 1.8653e-06 - root_mean_squared_error: 0.0014WARNING:tensorflow:Can save best model only with val_loss available, skipping.\n"
          ]
        },
        {
          "output_type": "stream",
          "name": "stderr",
          "text": [
            "WARNING:tensorflow:Can save best model only with val_loss available, skipping.\n"
          ]
        },
        {
          "output_type": "stream",
          "name": "stdout",
          "text": [
            "\b\b\b\b\b\b\b\b\b\b\b\b\b\b\b\b\b\b\b\b\b\b\b\b\b\b\b\b\b\b\b\b\b\b\b\b\b\b\b\b\b\b\b\b\b\b\b\b\b\b\b\b\b\b\b\b\b\b\b\b\b\b\b\b\b\b\b\b\b\b\b\b\b\b\b\b\b\b\b\b\b\b\b\b\b\b\b\b\b\b\b\b\b\b\b\b\b\b\b\b\b\b\b\r229/229 [==============================] - 15s 68ms/step - loss: 1.8653e-06 - root_mean_squared_error: 0.0014\n"
          ]
        },
        {
          "output_type": "execute_result",
          "data": {
            "text/plain": [
              "<keras.callbacks.History at 0x7f10684ef110>"
            ]
          },
          "metadata": {},
          "execution_count": 66
        }
      ],
      "source": [
        "#for i in range(100):\n",
        "  #model.fit(X_train, y_train, validation_data=(X_val, y_val), epochs=2, callbacks=[cp1])\n",
        "  #model.fit(X_train2, y_train2, validation_data=(X_val2, y_val2), epochs=2, callbacks=[cp1])\n",
        "model.fit(X_train, y_train, validation_data=(X_val, y_val), epochs=100, callbacks=[cp1])"
      ]
    },
    {
      "cell_type": "code",
      "execution_count": 21,
      "metadata": {
        "id": "LyBfk-DU1nfB"
      },
      "outputs": [],
      "source": [
        "#history = model.fit_generator(generator,epochs=100,verbose=1)"
      ]
    },
    {
      "cell_type": "markdown",
      "metadata": {
        "id": "Rhk15oVWvwCL"
      },
      "source": [
        "Predictions"
      ]
    },
    {
      "cell_type": "code",
      "execution_count": 22,
      "metadata": {
        "id": "uQHf2mwmvuPN"
      },
      "outputs": [],
      "source": [
        "from sklearn.metrics import mean_squared_error"
      ]
    },
    {
      "cell_type": "code",
      "source": [
        "predictions = model.predict(X_test)          ###############  LOCAL RMSE  (prediction per window on test set)\n",
        "#predictions = postprocess(val[-1],predictions)\n",
        "#predictions = scaler.inverse_transform(predictions)\n",
        "#print(math.sqrt(mean_squared_error(y_test,predictions)))\n",
        "print(math.sqrt(mean_squared_error(y_test.reshape(len(X_test),windowSizeY*numOfBodies*2),predictions.reshape(len(X_test),windowSizeY*numOfBodies*2))))\n"
      ],
      "metadata": {
        "colab": {
          "base_uri": "https://localhost:8080/"
        },
        "id": "7RAT1QYFEZ6M",
        "outputId": "8fe0026a-6d86-4b5b-da69-809fdb28dabe"
      },
      "execution_count": 67,
      "outputs": [
        {
          "output_type": "stream",
          "name": "stdout",
          "text": [
            "0.06636478880308677\n"
          ]
        }
      ]
    },
    {
      "cell_type": "code",
      "source": [
        "predictions = model.predict(X_train[-1:])\n",
        "predictions=predictions.squeeze()\n",
        "predictions.shape\n",
        "print(math.sqrt(mean_squared_error(predictions,val)))\n"
      ],
      "metadata": {
        "colab": {
          "base_uri": "https://localhost:8080/"
        },
        "id": "Xvx4g5G4MiqF",
        "outputId": "4257b10d-78e6-49f5-cb7e-f7bd5fac22b6"
      },
      "execution_count": 68,
      "outputs": [
        {
          "output_type": "stream",
          "name": "stdout",
          "text": [
            "0.014396740025948738\n"
          ]
        }
      ]
    },
    {
      "cell_type": "code",
      "execution_count": null,
      "metadata": {
        "id": "EnTNFFfIOkJC"
      },
      "outputs": [],
      "source": [
        "def slidingWindowActualPredictions(model,windowArr,windowSize,NumOfBodies,predictionsRequestedNumber): ### One step at a time autoregresion\n",
        "  \n",
        "\n",
        "  actualPredictionArr =[]\n",
        "  for i in range(predictionsRequestedNumber):\n",
        "\n",
        "    prediction = model.predict(windowArr[-1:]) ### predict from last window\n",
        "    actualPredictionArr.append(prediction)\n",
        "    temp = np.zeros([windowSize,numOfBodies*2])\n",
        "    temp = temp + windowArr[-1]\n",
        "    temp =temp[1:]\n",
        "    newWindow = np.append(temp.reshape(windowSize-1,numOfBodies*2),prediction)\n",
        "    newWindow = newWindow.reshape(windowSize,numOfBodies*2)\n",
        "    lengthX = len(windowArr)\n",
        "    windowArr = np.append(windowArr,newWindow) ### add new window that the last vector is the prediction \n",
        "    windowArr = windowArr.reshape(lengthX+1,windowSize,numOfBodies*2)\n",
        "\n",
        "  return actualPredictionArr"
      ]
    },
    {
      "cell_type": "code",
      "execution_count": null,
      "metadata": {
        "id": "1SFrwSvrMZ1d"
      },
      "outputs": [],
      "source": [
        "import math\n",
        "\n",
        "listOfPredictions = slidingWindowActualPredictions(model,X_train,windowSizeX,numOfBodies,len(val)+len(test))\n",
        "listOfPredictions =np.array(listOfPredictions)\n",
        "listOfPredictions = listOfPredictions.squeeze()\n",
        "\n",
        "listOfPredictionsTrue = postprocess(simulation1[len(X_train)+windowSizeX-1],listOfPredictions)\n",
        "\n",
        "if scaled:\n",
        "  listOfPredictionsTrue = scaler.inverse_transform(listOfPredictionsTrue)\n"
      ]
    },
    {
      "cell_type": "code",
      "source": [
        "actualPredictions = postprocess(simulation1[len(X_train)+windowSizeX-1],predictions)"
      ],
      "metadata": {
        "id": "vrjhGOUvczUX"
      },
      "execution_count": 69,
      "outputs": []
    },
    {
      "cell_type": "code",
      "execution_count": 70,
      "metadata": {
        "id": "Eh4mEj6KwB6F",
        "colab": {
          "base_uri": "https://localhost:8080/"
        },
        "outputId": "3a9b1499-9944-4a70-9ae4-ae2de27fb582"
      },
      "outputs": [
        {
          "output_type": "stream",
          "name": "stdout",
          "text": [
            "1.0247303315449758\n"
          ]
        }
      ],
      "source": [
        "#print(math.sqrt(mean_squared_error(simulation1[len(X_train)+windowSizeX+1:],listOfPredictionsTrue))) ##### ACTUAL RMSE #####\n",
        "print(math.sqrt(mean_squared_error(postprocess(simulation1[len(X_train)+windowSizeX-1],val),actualPredictions))) ##### ACTUAL RMSE #####\n"
      ]
    },
    {
      "cell_type": "code",
      "execution_count": null,
      "metadata": {
        "id": "zLhJtfqxVcOm"
      },
      "outputs": [],
      "source": [
        "print((diffSimulation1[len(X_train)+windowSizeX-1]))\n",
        "\n",
        "print((train[-1:]))\n",
        "\n",
        "print(listOfPredictions[0])\n",
        "if scaled:\n",
        "  print((scaler.inverse_transform(model.predict(X_train[-1:]))))"
      ]
    },
    {
      "cell_type": "code",
      "execution_count": 73,
      "metadata": {
        "id": "Rgzd9Tbv9kBn",
        "colab": {
          "base_uri": "https://localhost:8080/",
          "height": 283
        },
        "outputId": "5a019e05-f122-4f32-da53-477f4af3a960"
      },
      "outputs": [
        {
          "output_type": "execute_result",
          "data": {
            "text/plain": [
              "[<matplotlib.lines.Line2D at 0x7f106e0e2d90>]"
            ]
          },
          "metadata": {},
          "execution_count": 73
        },
        {
          "output_type": "display_data",
          "data": {
            "text/plain": [
              "<Figure size 432x288 with 1 Axes>"
            ],
            "image/png": "[encoded data removed]"
          },
          "metadata": {
            "needs_background": "light"
          }
        }
      ],
      "source": [
        "import matplotlib.pyplot as plt\n",
        "disArr = []\n",
        "#for i in range(len(val)+len(test)):\n",
        "  #disArr.append(np.linalg.norm(simulation1[len(X_train)+windowSizeX+i+1]-listOfPredictionsTrue[i]))\n",
        "for i in range(len(val)):\n",
        "  disArr.append(np.linalg.norm(postprocess(simulation1[len(X_train)+windowSizeX-1],val)[i]-actualPredictions[i]))\n",
        "\n",
        "plt.plot(disArr)  "
      ]
    },
    {
      "cell_type": "code",
      "source": [
        "#drawSimulation(simulation1[len(X_train)+windowSizeX+2:len(X_train)+windowSizeX+31])\n",
        "drawSimulation(simulation1[len(X_train)+windowSizeX-1 : len(X_train)+windowSizeX-1 + len(val)])"
      ],
      "metadata": {
        "colab": {
          "base_uri": "https://localhost:8080/",
          "height": 265
        },
        "id": "GOIM2jG_xrd-",
        "outputId": "d4411858-05f6-40cf-e8d1-42d6a5b264fc"
      },
      "execution_count": 65,
      "outputs": [
        {
          "output_type": "display_data",
          "data": {
            "text/plain": [
              "<Figure size 432x288 with 1 Axes>"
            ],
            "image/png": "[encoded data removed]"
          },
          "metadata": {
            "needs_background": "light"
          }
        }
      ]
    },
    {
      "cell_type": "code",
      "execution_count": 72,
      "metadata": {
        "id": "LuehIDzY8P1I",
        "colab": {
          "base_uri": "https://localhost:8080/",
          "height": 269
        },
        "outputId": "ddd0dcd5-db90-448a-ea66-217dfb337fb0"
      },
      "outputs": [
        {
          "output_type": "display_data",
          "data": {
            "text/plain": [
              "<Figure size 432x288 with 1 Axes>"
            ],
            "image/png": "[encoded data removed]"
          },
          "metadata": {
            "needs_background": "light"
          }
        }
      ],
      "source": [
        "#drawSimulation(listOfPredictionsTrue[1:30])\n",
        "drawSimulation(actualPredictions)"
      ]
    }
  ],
  "metadata": {
    "accelerator": "GPU",
    "colab": {
      "collapsed_sections": [],
      "name": "ThreeBodySimulation (3).ipynb",
      "provenance": [],
      "include_colab_link": true
    },
    "gpuClass": "standard",
    "kernelspec": {
      "display_name": "Python 3",
      "name": "python3"
    },
    "language_info": {
      "name": "python"
    }
  },
  "nbformat": 4,
  "nbformat_minor": 0
}