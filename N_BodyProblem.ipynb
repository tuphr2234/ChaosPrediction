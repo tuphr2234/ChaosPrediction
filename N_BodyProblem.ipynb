{
  "cells": [
    {
      "cell_type": "markdown",
      "metadata": {
        "id": "puVij6IXXkkU"
      },
      "source": [
        "# Testing"
      ]
    },
    {
      "cell_type": "markdown",
      "metadata": {
        "id": "4TDAWMjwIKbl"
      },
      "source": [
        "#Build Simulation"
      ]
    },
    {
      "cell_type": "code",
      "execution_count": 2,
      "metadata": {
        "id": "6Dw2J7K6JlOb"
      },
      "outputs": [],
      "source": [
        "#pip install anvil-uplink"
      ]
    },
    {
      "cell_type": "code",
      "execution_count": 3,
      "metadata": {
        "id": "_ifFcEHWO4hF"
      },
      "outputs": [],
      "source": [
        "#import anvil.server\n",
        "#anvil.server.connect(\"TZUCDKSZYSBTNKHSPELDSW6R-FXNZELV7D3LNEDCN\") ## M2SHTQKH2FUIJQQXXX4VKXEB-I37SIP4DTE6Z5NM3"
      ]
    },
    {
      "cell_type": "code",
      "execution_count": 4,
      "metadata": {
        "id": "h_D93EjYjFie"
      },
      "outputs": [],
      "source": [
        "import math\n",
        "import pandas as pd\n",
        "import numpy as np\n",
        "import matplotlib.pyplot as plt\n",
        "import matplotlib.animation as animation\n",
        "import tensorflow as tf\n",
        "from pathlib import Path  \n",
        "\n",
        "\n",
        "G=1\n",
        "\n",
        "\n",
        "class Body:\n",
        "  \n",
        "  prevPosition=np.array([0,0])\n",
        "  position=np.array([0,0])\n",
        "  velocity=np.array([0,0])\n",
        "  force=np.array([0,0])\n",
        "  acceleration=np.array([0,0])\n",
        "  mass=0\n",
        "\n",
        "  def __init__(self,position=[0,0],velocity=[0,0],mass=1,name=\"newBody\"):\n",
        "    self.position=np.array(position)\n",
        "    self.velocity=np.array(velocity)\n",
        "    #self.acceleration=np.array(acceleration)\n",
        "    self.mass=mass\n",
        "    self.prevPosition=np.array(position)\n",
        "    self.name = name\n",
        "\n",
        "\n",
        "  def setInitialPostion(self,position):\n",
        "    self.postion = np.array(position)\n",
        "    self.prevPosition=np.array(position)\n",
        "\n",
        "    \n",
        "  def setInitialVelocity(self,velocity):\n",
        "    self.velocity = np.array(velocity)\n",
        "\n",
        "   \n",
        "  def setInitialMass(self,mass):\n",
        "    self.mass = mass\n",
        "\n",
        "\n",
        "\n",
        "\n",
        "  def setPosition(self,t):\n",
        "    self.prevPosition = self.position\n",
        "    self.position=self.position+self.velocity*t+(self.acceleration/2)* t**2\n",
        "  \n",
        "\n",
        "  def setVelocity(self,t):\n",
        "    self.velocity=self.velocity+self.acceleration*t\n",
        "  \n",
        "\n",
        "  def getForce(self,body):\n",
        "    softening = 0.01\n",
        "    Distance = body.prevPosition - self.position\n",
        "    Rsquare = Distance[0]**2 + Distance[1]**2 + softening\n",
        "    #F = G* self.mass*body.mass / Rsquare  \n",
        "    F = (G* self.mass*body.mass / Rsquare) #- 0.001 / (Rsquare * Rsquare) ### Lennard-Jones like force\n",
        "    normalizeDis = Distance / math.sqrt(Rsquare)\n",
        "    F = F*normalizeDis\n",
        "    if math.sqrt(Rsquare) < softening:\n",
        "      F = -F \n",
        "    \n",
        "    return F\n",
        "\n",
        "  def setAcceleration(self,bodies):\n",
        "    F=np.array([0,0])\n",
        "    for body in bodies:\n",
        "      F=F+self.getForce(body)\n",
        "    self.acceleration = F/self.mass\n",
        "   # print(f\" {self.name} acceleration is {self.acceleration}\")"
      ]
    },
    {
      "cell_type": "code",
      "execution_count": 5,
      "metadata": {
        "id": "7_ijHO2ldXrp"
      },
      "outputs": [],
      "source": [
        "def centerOfMass(vect):\n",
        "  out =np.array([0,0])\n",
        "  for i in range(0,len(vect),2):\n",
        "    out = out + np.array(vect[i],vect[i+1])\n",
        "  return out / (len(vect)//2) "
      ]
    },
    {
      "cell_type": "code",
      "execution_count": 6,
      "metadata": {
        "id": "EdS3kfsSOURI"
      },
      "outputs": [],
      "source": [
        "def subtractCenterOfMass(simulation):\n",
        "  for i in range(len(simulation)):\n",
        "    add = np.zeros(len(simulation[0]))\n",
        "    for j in range(0,len(add),2):\n",
        "       add[j] =centerOfMass(simulation[i])[0]\n",
        "       add[j+1] =centerOfMass(simulation[i])[1] \n",
        "    simulation[i] = simulation[i] - add"
      ]
    },
    {
      "cell_type": "code",
      "execution_count": 7,
      "metadata": {
        "id": "76Fzkp53SaS3"
      },
      "outputs": [],
      "source": [
        "def subtractCenterOfMass(simulation):\n",
        "  for i in range(len(simulation)):\n",
        "    add = np.zeros(len(simulation[0]))\n",
        "    for j in range(0,len(add),2):\n",
        "       add[j] =centerOfMass(simulation[i])[0]\n",
        "       add[j+1] =centerOfMass(simulation[i])[1] \n",
        "    simulation[i] = simulation[i] + add"
      ]
    },
    {
      "cell_type": "code",
      "execution_count": 8,
      "metadata": {
        "id": "3N3yCUu4PPDX"
      },
      "outputs": [],
      "source": [
        "\n",
        "def simulateOnTimeStep(bodies,t,steps,interval_in_data): # bodies: list of bodies. t: timestep . steps: number of steps. interval_in_data : frequency of rows taken to dataset: if equals 1 than it is every step\n",
        "  dataset = []\n",
        "\n",
        "  for i in range(steps):\n",
        "      list1=[]\n",
        "      for body in bodies:\n",
        "        list1.append(body.position)\n",
        "      if i % interval_in_data ==0:\n",
        "        dataset += list1\n",
        "      \n",
        "      for i,body in enumerate(bodies):\n",
        "        body.setAcceleration([b for b in bodies if b is not body])\n",
        "        body.setVelocity(t)\n",
        "        body.setPosition(t)\n",
        "       \n",
        "        \n",
        "      for body in bodies:\n",
        "        body.prevPosition = body.position\n",
        "    \n",
        "\n",
        "  return np.array(dataset).reshape(steps//interval_in_data,len(bodies),2)\n",
        "\n"
      ]
    },
    {
      "cell_type": "code",
      "execution_count": 9,
      "metadata": {
        "id": "uyz_2jL4t6QF"
      },
      "outputs": [],
      "source": [
        "def numpyToPandas(simulation,numOfBodies):\n",
        "  columns = []\n",
        "\n",
        "  for i in range(numOfBodies):\n",
        "    columns.append(f'Body{i+1} x')\n",
        "    columns.append(f'Body{i+1} y')\n",
        "  simulation_reshaped = simulation.reshape(len(simulation), numOfBodies*2 )\n",
        "\n",
        "  df = pd.DataFrame(simulation_reshaped, columns = columns)\n",
        "  return df\n"
      ]
    },
    {
      "cell_type": "markdown",
      "metadata": {
        "id": "aFmLiPZMDQZ0"
      },
      "source": [
        "#Add Filters"
      ]
    },
    {
      "cell_type": "code",
      "execution_count": 10,
      "metadata": {
        "id": "eBPe3vx-DVyb"
      },
      "outputs": [],
      "source": [
        "def addNoise(simulation):\n",
        "  noise = np.random.normal(0, .1, simulation.shape)\n",
        "  return simulation + noise\n",
        "def removeBody(simulation, bodyNum):\n",
        "  del1 = np.delete(simulation,(bodyNum-1)*2,1)\n",
        "  return np.delete(del1,(bodyNum-1)*2,1)"
      ]
    },
    {
      "cell_type": "markdown",
      "metadata": {
        "id": "cr0DATa23lkK"
      },
      "source": [
        "#Save Simulation"
      ]
    },
    {
      "cell_type": "code",
      "execution_count": 11,
      "metadata": {
        "id": "K3LKWQt83uFP"
      },
      "outputs": [],
      "source": [
        "## save simulation as csv\n",
        "def saveSimulation(simulation,numOfBodies,simulation_name):\n",
        "  df = numpyToPandas(simulation,numOfBodies) \n",
        "  df.to_csv(f'/content/{simulation_name}.csv',index=False)\n",
        "  \n",
        "def loadSimulation(df):\n",
        "  global runTime_simulation\n",
        "  runTime_simulation = pd.DataFrame.to_numpy(df)\n",
        "  return runTime_simulation"
      ]
    },
    {
      "cell_type": "markdown",
      "metadata": {
        "id": "vQlYUvwaISvu"
      },
      "source": [
        "#Prepare Dataset "
      ]
    },
    {
      "cell_type": "code",
      "execution_count": 12,
      "metadata": {
        "id": "Tfy7w3HsJU5P"
      },
      "outputs": [],
      "source": [
        "def prepareData(simulation,window_size_X,window_size_y): \n",
        "  X = []\n",
        "  y = []\n",
        "  for i in range(len(simulation)-window_size_X - window_size_y):\n",
        "    row = [bodies for bodies in simulation[i:i+window_size_X]]  \n",
        "    X.append(row)\n",
        "    label =  [bodies for bodies in simulation[i+window_size_X:i+window_size_X + window_size_y]]#######################################\n",
        "    y.append(label)\n",
        "\n",
        "  return np.array(X) , np.array(y)\n"
      ]
    },
    {
      "cell_type": "code",
      "execution_count": 14,
      "metadata": {
        "id": "_l71q3WAbOke"
      },
      "outputs": [],
      "source": [
        "def splitToTrainValidTest(dataset,testPercentage=0.1):\n",
        "  trainLen = round((len(dataset)*(1-testPercentage-0.1)))\n",
        "  valLen = round((len(dataset)*0.1))\n",
        "  train_set = dataset[:trainLen]\n",
        "  val_set = dataset[trainLen:trainLen+valLen]\n",
        "  test_set = dataset[trainLen+valLen:]\n",
        "  return train_set,val_set,test_set"
      ]
    },
    {
      "cell_type": "markdown",
      "source": [
        "#Draw"
      ],
      "metadata": {
        "id": "GQfVECK0WVoU"
      }
    },
    {
      "cell_type": "code",
      "execution_count": 15,
      "metadata": {
        "id": "fNpP_KDhHKuQ"
      },
      "outputs": [],
      "source": [
        "def drawSimulation(simulation):\n",
        "  prev = np.copy(simulation[0])\n",
        "  numOfBodies = len(simulation[0])\n",
        "  from random import randint\n",
        "  colors = []\n",
        "\n",
        " # for i in range(30):\n",
        "   # colors.append('#%06X' % i *  randint(0, 0xFFFFFF)) ## \n",
        "\n",
        "  colors = ['red','green','blue','yellow','black','brown','purple','pink','orange','turquoise']\n",
        "  for i,sim in enumerate(simulation):\n",
        "    #if i == 0:\n",
        "      #continue\n",
        "    for j in range(0,len(sim),2):\n",
        "      plt.plot([prev[j],sim[j]],[prev[j+1],sim[j+1]],  color = colors[j // 2])\n",
        "      prev[j] = np.copy(sim[j])\n",
        "      prev[j+1] = np.copy(sim[j+1])\n",
        "  plt.show()\n"
      ]
    },
    {
      "cell_type": "code",
      "execution_count": 16,
      "metadata": {
        "id": "J9HQSryLlGpc"
      },
      "outputs": [],
      "source": [
        "def showBodiesMovmentInGraph(simulation):\n",
        "  plt.title(\"X body coordinate\")\n",
        "  for i in range(0,len(simulation.columns),2):\n",
        "      df = simulation.iloc[:,i]\n",
        "      plt.plot(df)\n",
        "  plt.show()\n",
        "  plt.title(\"Y body coordinate\")\n",
        "  for i in range(1,len(simulation.columns),2):\n",
        "      df = simulation.iloc[:,i]\n",
        "      plt.plot(df)\n",
        "  plt.show()"
      ]
    },
    {
      "cell_type": "markdown",
      "metadata": {
        "id": "JkwyKYUNOlJ5"
      },
      "source": [
        "#Models"
      ]
    },
    {
      "cell_type": "code",
      "source": [
        "#@title\n",
        "from tensorflow.keras.models import Sequential\n",
        "from tensorflow.keras.layers import *\n",
        "from tensorflow.keras.callbacks import ModelCheckpoint\n",
        "from tensorflow.keras.losses import MeanSquaredError\n",
        "from tensorflow.keras.metrics import RootMeanSquaredError\n",
        "from tensorflow.keras.optimizers import Adam\n",
        "from tensorflow.keras.optimizers.schedules import ExponentialDecay\n",
        "from tensorflow.keras.preprocessing.sequence import TimeseriesGenerator\n",
        "\n",
        "def buildModelCNN(window_size_X,window_size_y,numberOfBodies): \n",
        "    model = Sequential()\n",
        "    model.add(InputLayer((window_size_X,numberOfBodies*2,1)))\n",
        "\n",
        "\n",
        "    model.add(tf.keras.layers.Conv2D(64, 3, padding=\"same\", activation=\"relu\"))\n",
        "    model.add(tf.keras.layers.Conv2D(32, 3, padding=\"same\", activation=\"relu\"))\n",
        "    model.add(MaxPooling2D(pool_size=(2, 2)))\n",
        "    model.add(Dropout(0.2))\n",
        "    model.add(tf.keras.layers.Conv2D(32, 3, padding=\"same\", activation=\"relu\"))\n",
        "    model.add(tf.keras.layers.Conv2D(32, 3, padding=\"same\", activation=\"relu\"))\n",
        "    model.add(MaxPooling2D(pool_size=(2, 2)))\n",
        "    model.add(Dropout(0.2))\n",
        "    model.add(tf.keras.layers.Conv2D(32, 3, padding=\"same\", activation=\"relu\"))\n",
        "    model.add(tf.keras.layers.Conv2D(32, 3, padding=\"same\", activation=\"relu\"))\n",
        "    #model.add(MaxPooling2D(pool_size=(2, 2)))\n",
        "    model.add(Flatten())\n",
        "\n",
        "    model.add(Dense(units =  window_size_y*numberOfBodies*2, activation ='linear'))\n",
        "    model.add(tf.keras.layers.Reshape([window_size_y, numberOfBodies*2]))\n",
        "\n",
        "    model.summary()\n",
        "\n",
        "    return model"
      ],
      "metadata": {
        "id": "SJRTpXXb53dZ"
      },
      "execution_count": null,
      "outputs": []
    },
    {
      "cell_type": "code",
      "source": [
        "#@title\n",
        "def DenseNet(window_size_X,window_size_y,numberOfBodies):\n",
        "\n",
        "    inputs = Input(shape=(window_size_X, numberOfBodies*2, 1))\n",
        "\n",
        "    # first dense block\n",
        "    x = Conv2D(32, (3, 3), padding='same', activation='relu')(inputs)\n",
        "    x = Concatenate()([inputs, x])\n",
        "\n",
        "    # second dense block\n",
        "    x = Conv2D(64, (3, 3), padding='same', activation='relu')(x)\n",
        "    x = Concatenate()([inputs, x])\n",
        "\n",
        "    # third dense block\n",
        "    x = Conv2D(128, (3, 3), padding='same', activation='relu')(x)\n",
        "    x = Concatenate()([inputs, x])\n",
        "\n",
        "    # output layer\n",
        "    x = Conv2D(32, (3, 3), padding='same', activation='relu')(x)\n",
        "    x = Flatten()(x)\n",
        "\n",
        "    x = Dense(window_size_y * numberOfBodies*2, activation='linear')(x)\n",
        "    output = (tf.keras.layers.Reshape([window_size_y, numberOfBodies*2]))(x)\n",
        "    model = Model(inputs=inputs, outputs=output)\n",
        "    model.summary()\n",
        "    return model\n"
      ],
      "metadata": {
        "id": "ME6-_i3u89oz"
      },
      "execution_count": null,
      "outputs": []
    },
    {
      "cell_type": "code",
      "source": [
        "#@title\n",
        "from tensorflow.keras.models import Model, Sequential\n",
        "from tensorflow.keras.layers import *\n",
        "\n",
        "class ResNetBlock(Layer):\n",
        "\n",
        "  def __init__(self, out_channels, first_stride=1):\n",
        "    super().__init__()\n",
        "\n",
        "    first_padding = 'same'\n",
        "   # if first_stride != 1:\n",
        "      #first_padding = 'valid'\n",
        "\n",
        "    self.conv_sequence = Sequential([\n",
        "                            Conv2D(out_channels, 3, \n",
        "                                   first_stride, padding=first_padding),\n",
        "                            BatchNormalization(),\n",
        "                            ReLU(),\n",
        "\n",
        "                            Conv2D(out_channels, 3, \n",
        "                                   1, padding='same'),\n",
        "                            BatchNormalization(),\n",
        "                            ReLU()\n",
        "    ])\n",
        "\n",
        "  def call(self, inputs):\n",
        "    x = self.conv_sequence(inputs)\n",
        "    \n",
        "    if x.shape == inputs.shape:\n",
        "      x = x + inputs\n",
        "    return x\n",
        "\n",
        "#layer = ResNetBlock(4)\n",
        "#print(layer)"
      ],
      "metadata": {
        "id": "aR0rXOfL1SpV"
      },
      "execution_count": null,
      "outputs": []
    },
    {
      "cell_type": "code",
      "source": [
        "#@title\n",
        "class ResNet(Model):\n",
        "  def __init__(self,window_size_X,window_size_y,numberOfBodies):\n",
        "    super(ResNet, self).__init__()\n",
        "    \n",
        "    self.conv_1 = Sequential([Conv2D(64, 7, 2,input_shape=(window_size_X, numberOfBodies*2, 1)),\n",
        "                              ReLU(),\n",
        "                              MaxPooling2D(3, 2)\n",
        "                  ])\n",
        "    \n",
        "    self.resnet_chains = Sequential([ResNetBlock(64), ResNetBlock(64)] +\n",
        "                                    [ResNetBlock(128, 2), ResNetBlock(128)] +\n",
        "                                    [ResNetBlock(256, 2), ResNetBlock(256)] +\n",
        "                                    [ResNetBlock(512, 2), ResNetBlock(512)])\n",
        "  \n",
        "    self.out = Sequential([GlobalAveragePooling2D(),\n",
        "                           Dense(window_size_y*numberOfBodies*2, activation='linear'),\n",
        "                           Reshape([window_size_y, numberOfBodies*2])\n",
        "    ])\n",
        "    \n",
        "  def call(self, x):\n",
        "    x = self.conv_1(x)\n",
        "    x = self.resnet_chains(x)\n",
        "    x = self.out(x)\n",
        "    return x\n",
        "\n",
        "#print(model)"
      ],
      "metadata": {
        "id": "NYDhv4_61VIY"
      },
      "execution_count": null,
      "outputs": []
    },
    {
      "cell_type": "code",
      "execution_count": null,
      "metadata": {
        "id": "rH7rdqLc9ZYe"
      },
      "outputs": [],
      "source": [
        "#@title\n",
        "def buildModelLSTM(window_size_X,window_size_y,numberOfBodies): \n",
        " # model.add(InputLayer((window_size_X,numberOfBodies*2)))\n",
        "\n",
        "  model = keras.Sequential()\n",
        "  model.add(keras.layers.LSTM(128, kernel_initializer='he_uniform', batch_input_shape=(None, window_size_X, numberOfBodies*2), return_sequences=True, name='encoder_1'))\n",
        "  model.add(keras.layers.LSTM(64, kernel_initializer='he_uniform', return_sequences=True, name='encoder_2'))\n",
        "  model.add(keras.layers.LSTM(32, kernel_initializer='he_uniform', return_sequences=True, name='encoder_3'))\n",
        "\n",
        "  model.add(Dense(units =  window_size_y*numberOfBodies*2, activation ='linear'))\n",
        "  model.add(tf.keras.layers.Reshape([window_size_y, numberOfBodies*2]))\n",
        "  model.summary()\n",
        "  return model"
      ]
    },
    {
      "cell_type": "code",
      "execution_count": null,
      "metadata": {
        "id": "vwXqeZ6odWR7"
      },
      "outputs": [],
      "source": [
        "#@title\n",
        "!pip install tensorflow-wavelets\n"
      ]
    },
    {
      "cell_type": "code",
      "execution_count": null,
      "metadata": {
        "id": "hh1oKtmcJbuJ"
      },
      "outputs": [],
      "source": [
        "#@title\n",
        "import tensorflow_wavelets.Layers.DWT as DWT\n",
        "import tensorflow_wavelets.Layers.DTCWT as DTCWT\n",
        "import tensorflow_wavelets.Layers.DMWT as DMWT\n",
        "import tensorflow_wavelets.Layers.Threshold as Threshold\n",
        "\n",
        "\n",
        "def waveletModel(window_size_X,window_size_y,numberOfBodies,waveletName = 'haar'): # pywt.wavelist(family)  https://www.kaggle.com/code/theoviel/denoising-with-direct-wavelet-transform \n",
        "    model = keras.Sequential()\n",
        "    model.add(keras.Input(shape=(window_size_X,numberOfBodies*2, 1)))  # model.add(keras.Input(shape=(window_size_X,numberOfBodies*2, 1)))\n",
        "    model.add(DWT.DWT(name=waveletName,concat=0)) # cmor \\ coif10 \\ db4 \\ db38 \n",
        "    model.add(Conv2D(32, kernel_size=(3,3)))\n",
        "    model.add(keras.layers.Flatten())\n",
        "    \n",
        "\n",
        "    model.add(keras.layers.Dense(units =  window_size_y*numberOfBodies*2, activation ='linear'))\n",
        "    model.add(tf.keras.layers.Reshape([window_size_y, numberOfBodies*2]))\n",
        "    model.summary()\n",
        "    return model"
      ]
    },
    {
      "cell_type": "code",
      "execution_count": null,
      "metadata": {
        "id": "pxZr7FpIX1PE"
      },
      "outputs": [],
      "source": [
        "#@title\n",
        "from tensorflow.keras import layers\n",
        "def wavelet(window_size_X,window_size_y,numberOfBodies,waveletName = 'ghm'):\n",
        "    x_inp = layers.Input(shape=(window_size_X,numberOfBodies*2, 1))\n",
        "    x = DMWT(waveletName)(x_inp)\n",
        "    x = Threshold.Threshold(algo='sure', mode='hard')(x) # use \"soft\" or \"hard\"\n",
        "    x = IDMWT(waveletName)(x)\n",
        "    model = Model(x_inp, x, name=\"MyModel\")\n",
        "    model.summary()\n",
        "    return model"
      ]
    },
    {
      "cell_type": "code",
      "source": [
        "#@title\n",
        "\n",
        "def U_Net(window_size_X,window_size_y,numberOfBodies):\n",
        "\n",
        "    inputs = tf.keras.layers.Input((window_size_X,  numberOfBodies*2))\n",
        "\n",
        "    c1 = tf.keras.layers.Conv1D(16, 3, activation='relu', kernel_initializer='he_normal', padding='same')(inputs)\n",
        "    c1 = tf.keras.layers.Dropout(0.1)(c1)\n",
        "    c1 = tf.keras.layers.Conv1D(16, 3, activation='relu', padding='same')(c1)\n",
        "    p1 = tf.keras.layers.MaxPooling1D(2)(c1)\n",
        "\n",
        "    c2 = tf.keras.layers.Conv1D(32, 3, activation='relu', kernel_initializer='he_normal', padding='same')(c1)\n",
        "    c2 = tf.keras.layers.Dropout(0.1)(c2)\n",
        "    c2 = tf.keras.layers.Conv1D(32, 3, activation='relu', kernel_initializer='he_normal', padding='same')(c2)\n",
        "    p2 = tf.keras.layers.MaxPooling1D(2)(c2)\n",
        "\n",
        "    c3 = tf.keras.layers.Conv1D(64, 3, activation='relu', kernel_initializer='he_normal', padding='same')(c2)\n",
        "    c3 = tf.keras.layers.Dropout(0.2)(c3)\n",
        "    c3 = tf.keras.layers.Conv1D(64, 3, activation='relu', kernel_initializer='he_normal', padding='same')(c3)\n",
        "    p3 = tf.keras.layers.MaxPooling1D(2)(c3)\n",
        "\n",
        "    c4 = tf.keras.layers.Conv1D(128, 3, activation='relu', kernel_initializer='he_normal', padding='same')(c3)\n",
        "    c4 = tf.keras.layers.Dropout(0.2)(c4)\n",
        "    c4 = tf.keras.layers.Conv1D(128, 3, activation='relu', kernel_initializer='he_normal', padding='same')(c4)\n",
        "    p4 = tf.keras.layers.MaxPooling1D(pool_size=2)(c4)\n",
        "\n",
        "    c5 = tf.keras.layers.Conv1D(256, 3, activation='relu', kernel_initializer='he_normal', padding='same')(c4)\n",
        "    c5 = tf.keras.layers.Dropout(0.3)(c5)\n",
        "    c5 = tf.keras.layers.Conv1D(256, 3, activation='relu', kernel_initializer='he_normal', padding='same')(c5)\n",
        "\n",
        "    #Expansive path \n",
        "    u6 = tf.keras.layers.Conv1DTranspose(128, 3, strides=1, padding='same')(c5)\n",
        "    u6 = tf.keras.layers.concatenate([u6, c4])\n",
        "    c6 = tf.keras.layers.Conv1D(128, 3, activation='relu', kernel_initializer='he_normal', padding='same')(u6)\n",
        "    c6 = tf.keras.layers.Dropout(0.2)(c6)\n",
        "    c6 = tf.keras.layers.Conv1D(128, 3, activation='relu', kernel_initializer='he_normal', padding='same')(c6)\n",
        "\n",
        "    u7 = tf.keras.layers.Conv1DTranspose(64, 3, strides=1, padding='same')(c6)\n",
        "    u7 = tf.keras.layers.concatenate([u7, c3])\n",
        "    c7 = tf.keras.layers.Conv1D(64, 3, activation='relu', kernel_initializer='he_normal', padding='same')(u7)\n",
        "    c7 = tf.keras.layers.Dropout(0.2)(c7)\n",
        "    c7 = tf.keras.layers.Conv1D(64, 3, activation='relu', kernel_initializer='he_normal', padding='same')(c7)\n",
        "\n",
        "    u8 = tf.keras.layers.Conv1DTranspose(32, 2, strides=1, padding='same')(c7)\n",
        "    u8 = tf.keras.layers.concatenate([u8, c2])\n",
        "    c8 = tf.keras.layers.Conv1D(32, 3, activation='relu', kernel_initializer='he_normal', padding='same')(u8)\n",
        "    c8 = tf.keras.layers.Dropout(0.1)(c8)\n",
        "    c8 = tf.keras.layers.Conv1D(32, 3, activation='relu', kernel_initializer='he_normal', padding='same')(c8)\n",
        "\n",
        "    u9 = tf.keras.layers.Conv1DTranspose(16, 2, strides=1, padding='same')(c8)\n",
        "    u9 = tf.keras.layers.concatenate([u9, c1])\n",
        "    c9 = tf.keras.layers.Conv1D(16, 3, activation='relu', kernel_initializer='he_normal', padding='same')(u9)\n",
        "    c9 = tf.keras.layers.Dropout(0.1)(c9)\n",
        "    c9 = tf.keras.layers.Conv1D(16, 3, activation='relu', kernel_initializer='he_normal', padding='same')(c9)\n",
        "    c9 = Flatten()(c9)\n",
        "\n",
        "    output = Dense(window_size_y * numberOfBodies*2, activation='linear')(c9)\n",
        "    output = (tf.keras.layers.Reshape([window_size_y, numberOfBodies*2]))(output)   \n",
        "\n",
        "    model = tf.keras.Model(inputs=[inputs], outputs=output)\n",
        "    model.summary()\n",
        "    return model    "
      ],
      "metadata": {
        "id": "8aGSb5PjQV4e"
      },
      "execution_count": null,
      "outputs": []
    },
    {
      "cell_type": "code",
      "execution_count": null,
      "metadata": {
        "id": "ZFg8LTbWexSD"
      },
      "outputs": [],
      "source": [
        "#@title\n",
        "### Inception\n",
        "\n",
        "\n",
        "from tensorflow.keras.layers import *\n",
        "from tensorflow.keras.models import Model\n",
        "\n",
        "def inception_module(x, base_channels=32):\n",
        "  #a = Conv2D(base_channels*2, 1, 1, activation='relu')(x)\n",
        "  \n",
        "  \n",
        "  b_1 = Conv2D(base_channels*2, 3, 1, activation='relu')(x)\n",
        "  b_2 = Conv2D(base_channels*4, 3, 1, padding='same', activation='relu')(b_1)\n",
        "  #b_2 =BatchNormalization()(b_2)\n",
        "\n",
        "  c_1 = Conv2D(base_channels, 3, 1, activation='relu')(x)\n",
        "  c_2 = Conv2D(base_channels, 5, 1, padding='same', activation='relu')(c_1)\n",
        "  #c_2 =BatchNormalization()(c_2)\n",
        "\n",
        "\n",
        "  d_1 = MaxPooling2D(3, 1, padding='same')(x)\n",
        "  d_2 = Conv2D(base_channels, 1, 1, activation='relu')(d_1)\n",
        "\n",
        "\n",
        "\n",
        "\n",
        "  return Concatenate(axis=-1)([b_2, c_2])\n",
        "\n",
        "def Inceptionmodel(window_size_X,window_size_y,numberOfBodies):\n",
        "\n",
        "  inp = Input((window_size_X, numberOfBodies*2, 1))\n",
        "\n",
        "  maps_1 = inception_module(inp)\n",
        "  maps_2 = inception_module(maps_1, base_channels=16)\n",
        "  #maps_3 = inception_module(maps_2, base_channels=32)\n",
        "  #maps_4 = inception_module(maps_3, base_channels=16)\n",
        "  #gap = GlobalMaxPooling2D()(maps_4)\n",
        "  flatten = Flatten()(maps_4)\n",
        "\n",
        "  output = Dense(window_size_y * numberOfBodies*2, activation='linear')(flatten)\n",
        "  output = (tf.keras.layers.Reshape([window_size_y, numberOfBodies*2]))(output)\n",
        "  model = Model(inputs=inp, outputs=output)\n",
        "  model.summary()\n",
        "  return model\n",
        "  \n",
        "  "
      ]
    },
    {
      "cell_type": "code",
      "source": [
        "#@title\n",
        "# add reduction factor\n",
        "class Autoencoder(Model):\n",
        "\n",
        "  def __init__(self,window_size_X =100, numberOfBodies =3,reduction_factor = 20):\n",
        "   \n",
        "    super(Autoencoder, self).__init__()\n",
        "    self.encoder = tf.keras.Sequential([\n",
        "    layers.Input(shape=(window_size_X, numberOfBodies*2, 1)),\n",
        "    layers.Conv2D(16, (3, 3), activation='relu', padding='same', strides=2),\n",
        "    layers.Conv2D(8, (3, 3), activation='relu', padding='same', strides=2),\n",
        "    layers.Flatten(),\n",
        "    layers.Dense((window_size_X//reduction_factor)*numberOfBodies*2, activation='relu'),\n",
        "    layers.Reshape([window_size_X//reduction_factor, numberOfBodies*2,1])  \n",
        "    ])\n",
        "\n",
        "    self.decoder = tf.keras.Sequential([\n",
        "    layers.Input(shape=((window_size_X//reduction_factor),numberOfBodies*2,1)),\n",
        "    layers.Conv2DTranspose(8, kernel_size=3, strides=2, activation='relu', padding='same'),\n",
        "    layers.Conv2DTranspose(16, kernel_size=3, strides=2, activation='relu', padding='same'),\n",
        "    layers.Conv2D(1, kernel_size=(3, 3), activation='relu', padding='same'),\n",
        "    layers.Flatten(),\n",
        "    layers.Dense(units = window_size_X* numberOfBodies*2, activation='linear'),\n",
        "    layers.Reshape([window_size_X, numberOfBodies*2])\n",
        "\n",
        "\n",
        "    ])\n",
        " \n",
        "\n",
        "\n",
        "  def call(self, x):\n",
        "    encoded = self.encoder(x)\n",
        "    decoded = self.decoder(encoded)\n",
        "    return decoded\n",
        "\n",
        "  \n"
      ],
      "metadata": {
        "id": "eUGzxyy5Kuuf"
      },
      "execution_count": null,
      "outputs": []
    },
    {
      "cell_type": "code",
      "source": [],
      "metadata": {
        "id": "WYfbBqPDzqOn"
      },
      "execution_count": null,
      "outputs": []
    },
    {
      "cell_type": "code",
      "execution_count": null,
      "metadata": {
        "id": "wChnAqid77p_"
      },
      "outputs": [],
      "source": [
        "#@title\n",
        "### Inception\n",
        "\n",
        "\n",
        "from tensorflow.keras.layers import *\n",
        "from tensorflow.keras.models import Model\n",
        "\n",
        "def inception_module_wavelet(x, base_channels=32):\n",
        "  #a = Conv2D(base_channels*2, 1, 1, activation='relu')(x)\n",
        "  \n",
        "  b_0 = DWT.DWT(name='haar',concat=0)(x)\n",
        "  b_1 = Conv2D(base_channels*2, 3, 1, activation='relu')(b_0)\n",
        "  b_2 = Conv2D(base_channels*4, 3, 1, padding='same', activation='relu')(b_1)\n",
        "\n",
        "  #b_2 =BatchNormalization()(b_2)\n",
        "  \n",
        "  c_0 = DWT.DWT(name='haar',concat=0)(x)\n",
        "  c_1 = Conv2D(base_channels, 3, 1, activation='relu')(c_0)\n",
        "  c_2 = Conv2D(base_channels, 5, 1, padding='same', activation='relu')(c_1)\n",
        "  #c_2 =BatchNormalization()(c_2)\n",
        "\n",
        "\n",
        "  d_1 = DWT.DWT(name='coif10',concat=0)(x) \n",
        "  d_2 = Conv2D(base_channels, 1, 1, activation='relu')(d_1)\n",
        "\n",
        "\n",
        "\n",
        "\n",
        "  return Concatenate(axis=-1)([b_2, c_2])\n",
        "\n",
        "def InceptionmodelWavelet(window_size_X,window_size_y,numberOfBodies):\n",
        "\n",
        "  inp = Input((window_size_X, numberOfBodies*2, 1))\n",
        "\n",
        "  maps_1 = inception_module_wavelet(inp)\n",
        "  maps_2 = inception_module_wavelet(maps_1, base_channels=32)\n",
        "  \n",
        "  #gap = GlobalMaxPooling2D()(maps_2)\n",
        "  flatten = Flatten()(maps_2)\n",
        "\n",
        "  output = Dense(window_size_y * numberOfBodies*2, activation='linear')(flatten)\n",
        "  output = (tf.keras.layers.Reshape([window_size_y, numberOfBodies*2]))(output)\n",
        "  model = Model(inputs=inp, outputs=output)\n",
        "  model.summary()\n",
        "  return model\n"
      ]
    },
    {
      "cell_type": "code",
      "execution_count": null,
      "metadata": {
        "id": "PCtmllYkTIPl"
      },
      "outputs": [],
      "source": [
        "#@title\n",
        "## Transformer\n",
        "\n",
        "from tensorflow import keras\n",
        "from tensorflow.keras import layers\n",
        "\n",
        "def transformer_encoder(inputs, head_size, num_heads, ff_dim, dropout=0):\n",
        "    # Normalization and Attention\n",
        "    x = layers.LayerNormalization(epsilon=1e-6)(inputs)\n",
        "    x = layers.MultiHeadAttention(\n",
        "        key_dim=head_size, num_heads=num_heads, dropout=dropout\n",
        "    )(x, x)\n",
        "    x = layers.Dropout(dropout)(x)\n",
        "    res = x + inputs\n",
        "\n",
        "    # Feed Forward Part\n",
        "    x = layers.LayerNormalization(epsilon=1e-6)(res)\n",
        "    x = layers.Conv2D(filters=ff_dim, kernel_size=1, activation=\"relu\")(x)\n",
        "    x = layers.Dropout(dropout)(x)\n",
        "    x = layers.Conv2D(filters=inputs.shape[-1], kernel_size=1)(x)\n",
        "    return x + res\n",
        "\n",
        "\n",
        "def transformerModel(\n",
        "    window_size_X=100,\n",
        "    head_size=256,\n",
        "    num_heads=4,\n",
        "    ff_dim=4,\n",
        "    num_transformer_blocks=4,\n",
        "    mlp_units=[128],\n",
        "    dropout=0.4,\n",
        "    mlp_dropout=0.25,\n",
        "    window_size_y=100,\n",
        "    numberOfBodies=3\n",
        "):\n",
        "    inputs = keras.Input(shape=(window_size_X, numberOfBodies*2, 1))\n",
        "    x = inputs\n",
        "    for _ in range(num_transformer_blocks):\n",
        "        x = transformer_encoder(x, head_size, num_heads, ff_dim, dropout)\n",
        "    \n",
        "    x = Flatten()(x)\n",
        "\n",
        "   # x = layers.GlobalAveragePooling2D(data_format=\"channels_first\")(x)\n",
        "\n",
        "    for dim in mlp_units:\n",
        "        x = layers.Dense(dim, activation=\"relu\")(x)\n",
        "        x = layers.Dropout(mlp_dropout)(x)\n",
        "    outputs = layers.Dense(units =  window_size_y*numberOfBodies*2, activation ='linear')(x)\n",
        "    outputs = (tf.keras.layers.Reshape([window_size_y, numberOfBodies*2]))(outputs)\n",
        "\n",
        "    return keras.Model(inputs, outputs)  \n",
        "    "
      ]
    },
    {
      "cell_type": "code",
      "source": [
        "#@title\n",
        "def cnnLstm(window_size_X,window_size_y,numberOfBodies):\n",
        "    x = tf.keras.layers.Conv2D(32, 3, padding=\"same\", activation=\"relu\", input_shape=(window_size_X, numberOfBodies*2, 1))\n",
        "    x = tf.keras.layers.TimeDistributed(x)\n",
        "    x = Flatten()(x)\n",
        "    x = LSTM(64)(x)\n",
        "    return x\n"
      ],
      "metadata": {
        "id": "dV995k-lpQFV"
      },
      "execution_count": null,
      "outputs": []
    },
    {
      "cell_type": "markdown",
      "source": [
        "# Prediction functions"
      ],
      "metadata": {
        "id": "mNEKAHNeVc92"
      }
    },
    {
      "cell_type": "code",
      "source": [
        "\n",
        "def autoRegressivePrediction(model,window,predictionLength,slideSize =1,numOfBodies = 3):\n",
        "  predictions = []\n",
        "  for i in range(predictionLength):\n",
        "    pred = model.predict(window)\n",
        "    predictions.append(pred.squeeze().squeeze())\n",
        "    window = np.concatenate((window,pred),axis = 1)\n",
        "    print(window.shape)\n",
        "\n",
        "    window = window[:,slideSize:,:]\n",
        "    print(window.shape)\n",
        "    print(\"fsdf\")\n",
        "  return predictions"
      ],
      "metadata": {
        "id": "d4EwHy_58UfV"
      },
      "execution_count": null,
      "outputs": []
    },
    {
      "cell_type": "code",
      "source": [
        "#InceptionmodelWavelet(100,100,3)"
      ],
      "metadata": {
        "id": "mRaNaZFtMmkd"
      },
      "execution_count": null,
      "outputs": []
    },
    {
      "cell_type": "code",
      "execution_count": null,
      "metadata": {
        "id": "AuJS_3n52Cz6"
      },
      "outputs": [],
      "source": [
        "def predict(model,X_window,initialVector):\n",
        "  predictions = model.predict(X_window)\n",
        "  predictions = predictions.squeeze()\n",
        "  return postprocess(initialVector,predictions)"
      ]
    },
    {
      "cell_type": "code",
      "execution_count": null,
      "metadata": {
        "id": "Ke8YQMgcgxC5"
      },
      "outputs": [],
      "source": [
        "def draw_real_vs_prediction(real,simulated,i=0,j=100):\n",
        "  plt.title(f\"Real Trajectory in range {i}-{j}\")\n",
        "  drawSimulation(real[i:j])\n",
        "  plt.title(f\"Predicted Trajectory in range {i}-{j}\")\n",
        "  drawSimulation(simulated[i:j])\n"
      ]
    },
    {
      "cell_type": "code",
      "source": [],
      "metadata": {
        "id": "8ObpR9XjSJPM"
      },
      "execution_count": null,
      "outputs": []
    },
    {
      "cell_type": "code",
      "execution_count": null,
      "metadata": {
        "id": "bmAH9y73-g7K"
      },
      "outputs": [],
      "source": [
        "def preprocessSimulation(simulation):\n",
        "  shape = simulation[0].shape\n",
        "  newSimulation = np.append(simulation[1:],[np.zeros(shape)],axis=0) - simulation\n",
        "  newSimulation = newSimulation[:-1]\n",
        "  for i,s in enumerate(newSimulation):\n",
        "    s = s / np.linalg.norm(simulation[i])\n",
        "  return newSimulation"
      ]
    },
    {
      "cell_type": "code",
      "execution_count": null,
      "metadata": {
        "id": "qbQToROHTnr0"
      },
      "outputs": [],
      "source": [
        "def postprocess(lastKnownElement , listOfPredictedChanges):\n",
        "  listOfPredictions = []\n",
        "  listOfPredictedChanges = listOfPredictedChanges.squeeze()\n",
        "  for pred in listOfPredictedChanges:\n",
        "    #newElement = (pred * np.linalg.norm(lastKnownElement)) + lastKnownElement\n",
        "    newElement = pred  + lastKnownElement\n",
        "    listOfPredictions.append(newElement)\n",
        "    lastKnownElement = newElement\n",
        "  return np.array(listOfPredictions)  \n"
      ]
    },
    {
      "cell_type": "code",
      "execution_count": null,
      "metadata": {
        "id": "X2_-R8K2B3T2"
      },
      "outputs": [],
      "source": [
        "def rand(x):\n",
        "  return np.random.uniform(-x,x)\n"
      ]
    },
    {
      "cell_type": "code",
      "execution_count": null,
      "metadata": {
        "id": "fLkJjv7oh4Ub"
      },
      "outputs": [],
      "source": [
        "def createRandomSimulation(numOfBodies,timestep,steps,interval_in_data):\n",
        "  bodies =[]\n",
        "  for i in range(numOfBodies):\n",
        "    bodies.append( Body( np.array([rand(),rand()]), np.array([rand() , rand()]) , 1 ) )\n",
        "\n",
        "  simulation = simulateOnTimeStep(bodies,timestep,steps,interval_in_data)\n",
        "  simulation=simulation.reshape(len(simulation), numOfBodies*2 )\n",
        "  return simulation"
      ]
    },
    {
      "cell_type": "markdown",
      "metadata": {
        "id": "YHN2E_WZcMwI"
      },
      "source": [
        "# Training Model"
      ]
    },
    {
      "cell_type": "code",
      "execution_count": null,
      "metadata": {
        "id": "EYCRyk7h_AGq"
      },
      "outputs": [],
      "source": [
        "## generate random simulations\n",
        "\n",
        "# N = 20\n",
        "#Body(position,velocity,mass,name)\n",
        "#%%timeit\n",
        "'''\n",
        "for i in range(1,N):\n",
        "    bodies=[]\n",
        "    \n",
        "\n",
        "\n",
        "    bodies.append(Body([-0.97000436+rand(0.2), 0.24308753+rand(0.2)],[0.4662036850+rand(0.2), 0.4323657300+rand(0.2)],1,\"body1\"))\n",
        "    bodies.append(Body([0.97000436+rand(0.2), -0.24308753+rand(0.2)],[0.4662036850+rand(0.2), 0.4323657300+rand(0.2)],1,\"body2\"))\n",
        "    bodies.append(Body([0+rand(0.2), 0+rand(0.2)],[-0.93240737+rand(0.2), -0.86473146+rand(0.2)],1,\"body3\"))\n",
        "\n",
        "\n",
        "\n",
        "    #bodies.append(Body([rand(),rand()],[rand(),rand()],1,\"body1\"))\n",
        "    #bodies.append(Body([rand(),rand()],[rand(),rand()],1,\"body2\"))\n",
        "    #bodies.append(Body([rand(), rand()],[rand(),rand()],1,\"body3\"))\n",
        "    #bodies.append(Body([rand(), rand()],[rand(), rand()],1,\"body4\"))\n",
        "\n",
        "\n",
        "    ##########################################\n",
        "\n",
        "    # The 8 Figure motion initials\n",
        "\n",
        "    #bodies.append(Body([-0.97000436, 0.24308753],[0.4662036850, 0.4323657300],1,\"body1\"))\n",
        "    #bodies.append(Body([0.97000436, -0.24308753],[0.4662036850, 0.4323657300],1,\"body2\"))\n",
        "    #bodies.append(Body([0, 0],[-0.93240737, -0.86473146],1,\"body3\"))\n",
        "\n",
        "    ##########################################\n",
        "\n",
        "    numOfBodies=len(bodies)\n",
        "    ##t: timestep . steps: number of steps. interval_in_data\n",
        "    timestep = 0.0001 # actual seconds\n",
        "    steps = 1220000\n",
        "    #steps = 3000000\n",
        "    interval_in_data = 100\n",
        "\n",
        "    simulation1 = simulateOnTimeStep(bodies,timestep,steps,interval_in_data)\n",
        "    simulation1=simulation1.reshape(len(simulation1), numOfBodies*2 )\n",
        "    saveSimulation(simulation1,numOfBodies,f\"{numOfBodies}-Body Simulation{i}\")\n",
        "\n",
        "'''\n"
      ]
    },
    {
      "cell_type": "code",
      "source": [
        "bodies=[]\n",
        "\n",
        "bodies.append(Body([-0.91000436, 0.24308753],[0.5662036850, 0.4323657300],1,\"body1\"))\n",
        "bodies.append(Body([0.97000436, -0.24308753],[0.3662036850, 0.4323657300],1,\"body2\"))\n",
        "bodies.append(Body([0, 0],[-0.73240737, -0.76473146],1,\"body3\"))\n",
        "\n",
        "numOfBodies=len(bodies)\n",
        "##t: timestep . steps: number of steps. interval_in_data\n",
        "timestep = 0.00005 # actual seconds\n",
        "steps = 2220000\n",
        "#steps = 3000000\n",
        "interval_in_data = 500\n",
        "\n",
        "simulation1 = simulateOnTimeStep(bodies,timestep,steps,interval_in_data)\n"
      ],
      "metadata": {
        "id": "ncHTvNa2kPvA"
      },
      "execution_count": null,
      "outputs": []
    },
    {
      "cell_type": "code",
      "source": [
        "simulation1=simulation1.reshape(len(simulation1), numOfBodies*2 )\n"
      ],
      "metadata": {
        "id": "C7JCu6j0FtsC"
      },
      "execution_count": null,
      "outputs": []
    },
    {
      "cell_type": "code",
      "execution_count": null,
      "metadata": {
        "colab": {
          "base_uri": "https://localhost:8080/",
          "height": 265
        },
        "id": "1f5L3-aKszYl",
        "outputId": "54f329a3-712a-4b3a-e40b-df43844203eb"
      },
      "outputs": [
        {
          "output_type": "display_data",
          "data": {
            "text/plain": [
              "<Figure size 432x288 with 1 Axes>"
            ],
            "image/png": "[encoded data removed]"
          },
          "metadata": {
            "needs_background": "light"
          }
        }
      ],
      "source": [
        "drawSimulation(simulation1)\n",
        "saveSimulation(simulation1,numOfBodies,f\"{numOfBodies}-Body Simulation\")\n"
      ]
    },
    {
      "cell_type": "code",
      "execution_count": null,
      "metadata": {
        "id": "eJieSk6NCDrh",
        "colab": {
          "base_uri": "https://localhost:8080/",
          "height": 53
        },
        "outputId": "8a836f9a-f746-48b5-eb80-a1e5543687b7"
      },
      "outputs": [
        {
          "output_type": "execute_result",
          "data": {
            "text/plain": [
              "'\\n\\n##t: timestep . steps: number of steps. interval_in_data\\ntimestep = 0.001 # actual seconds\\nsteps = 122000\\n#steps = 3000000\\ninterval_in_data = 500\\n\\n\\ncreateRandomTrainingSetForPreTrainedModel()\\n'"
            ],
            "application/vnd.google.colaboratory.intrinsic+json": {
              "type": "string"
            }
          },
          "metadata": {},
          "execution_count": 105
        }
      ],
      "source": []
    },
    {
      "cell_type": "code",
      "execution_count": null,
      "metadata": {
        "id": "lN009Lf1m0Q2"
      },
      "outputs": [],
      "source": [
        "'''\n",
        "\n",
        "## When loading\n",
        "\n",
        "\n",
        "simulation1 = loadSimulation(pd.read_csv(f'/content/3-Body Simulation.csv'))\n",
        "numOfBodies = simulation1.shape[1] // 2\n",
        "\n",
        "drawSimulation(simulation1)\n",
        "'''"
      ]
    },
    {
      "cell_type": "code",
      "execution_count": null,
      "metadata": {
        "id": "n3nwT0WDNKuj",
        "colab": {
          "base_uri": "https://localhost:8080/",
          "height": 545
        },
        "outputId": "62464ac5-3dbe-4141-da35-0103d436c507"
      },
      "outputs": [
        {
          "output_type": "display_data",
          "data": {
            "text/plain": [
              "<Figure size 432x288 with 1 Axes>"
            ],
            "image/png": "[encoded data removed]"
          },
          "metadata": {
            "needs_background": "light"
          }
        },
        {
          "output_type": "display_data",
          "data": {
            "text/plain": [
              "<Figure size 432x288 with 1 Axes>"
            ],
            "image/png": "[encoded data removed]"
          },
          "metadata": {
            "needs_background": "light"
          }
        }
      ],
      "source": [
        "showBodiesMovmentInGraph(numpyToPandas(simulation1,numOfBodies))\n",
        "#simulation1 = simulation1[:1200]\n",
        "#drawSimulation(simulation2)"
      ]
    },
    {
      "cell_type": "code",
      "execution_count": null,
      "metadata": {
        "id": "42o-jYv0HQpn",
        "colab": {
          "base_uri": "https://localhost:8080/",
          "height": 70
        },
        "outputId": "6785d25d-f4b7-43f4-a52d-e91d42d4da14"
      },
      "outputs": [
        {
          "output_type": "execute_result",
          "data": {
            "text/plain": [
              "\"\\nsimulations = []\\nfor i in range(1,18):\\n  simulations.append(loadSimulation(pd.read_csv(f'/content/3-Body Simulation{i}.csv')))\\n\\n#simulation2 = loadSimulation(pd.read_csv(f'/content/4-Body Simulation1.csv'))\\n#simulation3 = loadSimulation(pd.read_csv(f'/content/4-Body Simulation2.csv'))\\n#simulation4 = loadSimulation(pd.read_csv(f'/content/4-Body Simulation3.csv'))\\ndiff_simulations =[]\\nfor i in range(0,17):\\n  diff_simulations.append(simulations[i])\\n \\n\""
            ],
            "application/vnd.google.colaboratory.intrinsic+json": {
              "type": "string"
            }
          },
          "metadata": {},
          "execution_count": 108
        }
      ],
      "source": [
        "'''\n",
        "simulations = []\n",
        "for i in range(1,18):\n",
        "  simulations.append(loadSimulation(pd.read_csv(f'/content/3-Body Simulation{i}.csv')))\n",
        "\n",
        "#simulation2 = loadSimulation(pd.read_csv(f'/content/4-Body Simulation1.csv'))\n",
        "#simulation3 = loadSimulation(pd.read_csv(f'/content/4-Body Simulation2.csv'))\n",
        "#simulation4 = loadSimulation(pd.read_csv(f'/content/4-Body Simulation3.csv'))\n",
        "diff_simulations =[]\n",
        "for i in range(0,17):\n",
        "  diff_simulations.append(simulations[i])\n",
        " \n",
        "'''"
      ]
    },
    {
      "cell_type": "code",
      "source": [
        "#testSimulation = loadSimulation(pd.read_csv(f'/content/3-Body Simulation{19}.csv'))"
      ],
      "metadata": {
        "id": "REMRNcbgH2HW"
      },
      "execution_count": null,
      "outputs": []
    },
    {
      "cell_type": "code",
      "execution_count": null,
      "metadata": {
        "id": "1n4obQRO7w8P"
      },
      "outputs": [],
      "source": [
        "'''\n",
        "\n",
        "import pywt\n",
        "\n",
        "def madev(d, axis=None):\n",
        "    \"\"\" Mean absolute deviation of a signal \"\"\"\n",
        "    return np.mean(np.absolute(d - np.mean(d, axis)), axis)\n",
        "\n",
        "def wavelet_denoising(x, wavelet='db4', level=0):\n",
        "    coeff = pywt.wavedec(x, wavelet, mode=\"per\")\n",
        "    sigma = (1/0.6745) * madev(coeff[-level])\n",
        "    uthresh = sigma * np.sqrt(2 * np.log(len(x)))\n",
        "    coeff[1:] = (pywt.threshold(i, value=uthresh, mode='hard') for i in coeff[1:])\n",
        "    return pywt.waverec(coeff, wavelet, mode='per')\n",
        "\n",
        "'''\n"
      ]
    },
    {
      "cell_type": "code",
      "execution_count": null,
      "metadata": {
        "id": "FGEnnLELSpHK"
      },
      "outputs": [],
      "source": []
    },
    {
      "cell_type": "code",
      "execution_count": null,
      "metadata": {
        "id": "_ZUfSkNkO2vJ"
      },
      "outputs": [],
      "source": [
        "from scipy import stats \n",
        "#from sklearn.preprocessing import MinMaxScaler\n",
        "from sklearn.preprocessing import StandardScaler\n",
        "from scipy.signal import hilbert\n",
        "scaled = False \n",
        "\n",
        "batch = 4\n",
        "\n",
        "train, val, test = splitToTrainValidTest(simulation1,0.1)\n",
        "\n",
        "diff_train = np.diff(train,axis = 0)\n",
        "diff_val = np.diff(val,axis = 0)\n",
        "diff_test = np.diff(test,axis = 0)\n",
        "\n",
        "\n",
        "windowSizeX=100  #len(test)\n",
        "windowSizeY =100  #len(test)\n",
        "\n",
        "\n",
        "if scaled:\n",
        "  scaler = StandardScaler()\n",
        "  scaler.fit(simulation1[:len(train)+len(val)])\n",
        "  #valScaler.fit(train)  ### train / val as input ? \n",
        "\n",
        "  train = scaler.transform(train)\n",
        "  val = scaler.transform(val)\n",
        "\n",
        "\n",
        "\n",
        "X_train, y_train = prepareData(train,windowSizeX,windowSizeY )\n",
        "X_val, y_val = prepareData(val,windowSizeX,windowSizeY)\n",
        "X_test, y_test = prepareData(test,windowSizeX,windowSizeY)\n",
        "\n",
        "\n",
        "\n",
        "'''\n",
        "*** when building model based on multiple simulations\n",
        "\n",
        "simulations_X_train=[]\n",
        "simulations_y_train =[]\n",
        "\n",
        "for i in range(17):\n",
        "  X,y = prepareData(diff_simulations[i],windowSizeX,windowSizeY)\n",
        "  simulations_X_train.append(X)\n",
        "  simulations_y_train.append(y)\n",
        "\n",
        "simulations_X_train =np.array(simulations_X_train)\n",
        "simulations_y_train =np.array(simulations_y_train)\n",
        "\n",
        "## X_testSimulation, y_testSimulation = prepareData(testSimulation,windowSizeX,windowSizeY)\n",
        "\n",
        "mergedX = np.append(simulations_X_train[0],simulations_X_train[1],axis=0)\n",
        "for i in range(2,17):\n",
        "  mergedX = np.append(mergedX,simulations_X_train[i],axis=0)\n",
        "\n",
        "mergedy = np.append(simulations_y_train[0],simulations_y_train[1],axis=0)\n",
        "for i in range(2,17):\n",
        "  mergedy = np.append(mergedy,simulations_y_train[i],axis=0)\n",
        "\n",
        "'''"
      ]
    },
    {
      "cell_type": "code",
      "source": [],
      "metadata": {
        "id": "zCTJC93IIDBq"
      },
      "execution_count": null,
      "outputs": []
    },
    {
      "cell_type": "code",
      "source": [],
      "metadata": {
        "id": "KwFQgjMYwUp_"
      },
      "execution_count": null,
      "outputs": []
    },
    {
      "cell_type": "code",
      "source": [],
      "metadata": {
        "id": "kwCWrhiowvFx"
      },
      "execution_count": null,
      "outputs": []
    },
    {
      "cell_type": "code",
      "source": [],
      "metadata": {
        "id": "hkDlor5YZ8bo"
      },
      "execution_count": null,
      "outputs": []
    },
    {
      "cell_type": "code",
      "source": [],
      "metadata": {
        "id": "qTzBW-aza2x_"
      },
      "execution_count": null,
      "outputs": []
    },
    {
      "cell_type": "code",
      "execution_count": null,
      "metadata": {
        "id": "YxgejvX6gJEL",
        "colab": {
          "base_uri": "https://localhost:8080/"
        },
        "outputId": "8439e495-c548-4206-a298-2a9088ae8aed"
      },
      "outputs": [
        {
          "output_type": "stream",
          "name": "stdout",
          "text": [
            "Model: \"sequential_8\"\n",
            "_________________________________________________________________\n",
            " Layer (type)                Output Shape              Param #   \n",
            "=================================================================\n",
            " conv2d_81 (Conv2D)          (None, 100, 6, 64)        640       \n",
            "                                                                 \n",
            " conv2d_82 (Conv2D)          (None, 100, 6, 32)        51232     \n",
            "                                                                 \n",
            " max_pooling2d_28 (MaxPoolin  (None, 50, 3, 32)        0         \n",
            " g2D)                                                            \n",
            "                                                                 \n",
            " conv2d_83 (Conv2D)          (None, 50, 3, 32)         9248      \n",
            "                                                                 \n",
            " conv2d_84 (Conv2D)          (None, 50, 3, 32)         25632     \n",
            "                                                                 \n",
            " max_pooling2d_29 (MaxPoolin  (None, 25, 1, 32)        0         \n",
            " g2D)                                                            \n",
            "                                                                 \n",
            " conv2d_85 (Conv2D)          (None, 25, 1, 32)         9248      \n",
            "                                                                 \n",
            " conv2d_86 (Conv2D)          (None, 25, 1, 32)         25632     \n",
            "                                                                 \n",
            " flatten_10 (Flatten)        (None, 800)               0         \n",
            "                                                                 \n",
            " dense_12 (Dense)            (None, 600)               480600    \n",
            "                                                                 \n",
            " reshape_12 (Reshape)        (None, 100, 6)            0         \n",
            "                                                                 \n",
            "=================================================================\n",
            "Total params: 602,232\n",
            "Trainable params: 602,232\n",
            "Non-trainable params: 0\n",
            "_________________________________________________________________\n"
          ]
        }
      ],
      "source": [
        "model =  buildModelCNN(windowSizeX,windowSizeY,numOfBodies)\n",
        "#model =  buildModelLSTM(windowSizeX,windowSizeY,numOfBodies)\n",
        "#model = Inceptionmodel(windowSizeX,windowSizeY, numOfBodies)\n",
        "#model = InceptionmodelWavelet(windowSizeX,windowSizeY, numOfBodies)\n",
        "#model = wavelet(windowSizeX,windowSizeY, numOfBodies)\n",
        "#model = transformerModel(window_size_X=windowSizeX,window_size_y=windowSizeY,numberOfBodies=numOfBodies)\n",
        "#model = LSTMmodel(windowSizeX,windowSizeY, numOfBodies)\n",
        "#model = waveletModel(windowSizeX,windowSizeY, numOfBodies)\n",
        "#model = DenseNet(windowSizeX,windowSizeY,numOfBodies)\n",
        "#model = ResNet(windowSizeY,numOfBodies)\n",
        "#model = U_Net(windowSizeX,windowSizeY,numOfBodies)\n",
        "\n",
        "cp1 = ModelCheckpoint('model/', save_best_only=True)\n",
        "model.compile(loss=keras.losses.MeanSquaredError(), optimizer=Adam(learning_rate=0.0001), metrics=[RootMeanSquaredError()])"
      ]
    },
    {
      "cell_type": "code",
      "execution_count": null,
      "metadata": {
        "id": "lrqOlaDS-It-"
      },
      "outputs": [],
      "source": [
        "showBodiesMovmentInGraph(numpyToPandas(diff_train,numOfBodies))"
      ]
    },
    {
      "cell_type": "code",
      "execution_count": null,
      "metadata": {
        "id": "aUh7X6KQ5Cet"
      },
      "outputs": [],
      "source": [
        "history = model.fit(X_train,y_train, validation_data=(X_val, y_val), epochs=15, callbacks=[cp1],batch_size = 32)"
      ]
    },
    {
      "cell_type": "code",
      "execution_count": null,
      "metadata": {
        "id": "ekS8oN2gDTAL"
      },
      "outputs": [],
      "source": [
        "BATCH_SIZE = 32\n",
        "\n",
        "X_train_batchs = tf.data.Dataset.from_tensor_slices(X_train)\n",
        "X_train_batchs = X_train_batchs.batch(BATCH_SIZE)\n",
        "y_train_batchs = tf.data.Dataset.from_tensor_slices(y_train)\n",
        "y_train_batchs = y_train_batchs.batch(BATCH_SIZE)\n",
        "\n",
        "\n"
      ]
    },
    {
      "cell_type": "code",
      "execution_count": null,
      "metadata": {
        "id": "I1Q7zKwceQYX"
      },
      "outputs": [],
      "source": [
        "model =  Inceptionmodel(windowSizeX,windowSizeY,numOfBodies) ## X window predicts y window\n",
        "inv_model =  Inceptionmodel(windowSizeY,windowSizeX,numOfBodies) ## y window predicts X window"
      ]
    },
    {
      "cell_type": "code",
      "execution_count": null,
      "metadata": {
        "id": "121PxvexBL7v"
      },
      "outputs": [],
      "source": [
        "\n",
        "\n",
        "\n",
        "num_epochs = 5\n",
        "\n",
        "\n",
        "optimizer = keras.optimizers.Adam()\n",
        "loss_fn = keras.losses.MeanSquaredError()\n",
        "RMSE = keras.metrics.RootMeanSquaredError()\n",
        "\n",
        "# Training Loop\n",
        "for epoch in range(num_epochs):\n",
        "    print(f\"\\nStart of Training Epoch {epoch}\")\n",
        "    for  X, y in zip(X_train_batchs,y_train_batchs):\n",
        "        \n",
        "        with tf.GradientTape() as tape:\n",
        "            y_pred = model(X, training=True)\n",
        "            loss = loss_fn(y, y_pred)  \n",
        "        \n",
        "        with tf.GradientTape() as tape2:\n",
        "            X_pred_inv = inv_model(y_pred, training=True)\n",
        "            loss_inv =  loss_fn(X,X_pred_inv) \n",
        "\n",
        "        gradients = tape.gradient(loss, model.trainable_weights)\n",
        "        optimizer.apply_gradients(zip(gradients, model.trainable_weights))\n",
        "        \n",
        "        gradients_inv = tape2.gradient(loss_inv, inv_model.trainable_weights)\n",
        "        optimizer.apply_gradients(zip(gradients_inv, inv_model.trainable_weights))\n",
        "\n",
        "\n",
        "        RMSE.update_state(y, y_pred)\n",
        "\n",
        "    RMSE_value = RMSE.result()\n",
        "    print(f\"RMSE over epoch {RMSE_value}\")\n",
        "    RMSE.reset_states()\n",
        "\n"
      ]
    },
    {
      "cell_type": "code",
      "execution_count": null,
      "metadata": {
        "colab": {
          "base_uri": "https://localhost:8080/"
        },
        "id": "EiZpPF9XPaCU",
        "outputId": "ba85b0d9-4544-4559-8ab1-2972a931c8cc"
      },
      "outputs": [
        {
          "output_type": "stream",
          "name": "stdout",
          "text": [
            "RMSE over Test Set: 3.8336613178253174\n"
          ]
        }
      ],
      "source": [
        "\n",
        "# Test Loop\n",
        "for  X, y in zip(X_val,y_val):\n",
        "    X =  np.expand_dims(X, axis=0)\n",
        "    y = np.expand_dims(y, axis=0)\n",
        "    y_pred = model(X, training=True)\n",
        "    RMSE.update_state(y, y_pred)\n",
        "\n",
        "RMSE_value = RMSE.result()\n",
        "print(f\"RMSE over Test Set: {RMSE_value}\")\n",
        "RMSE.reset_states()    "
      ]
    },
    {
      "cell_type": "code",
      "execution_count": null,
      "metadata": {
        "id": "g75xjjesFuQh"
      },
      "outputs": [],
      "source": [
        "plt.plot(history.history['loss']) # 1.7*e^-5\n",
        "plt.plot(history.history['val_loss'])\n",
        "plt.title('model loss')\n",
        "plt.ylabel('loss')\n",
        "plt.xlabel('epoch')\n",
        "plt.legend(['train', 'val'], loc='upper left')\n",
        "plt.show()"
      ]
    },
    {
      "cell_type": "code",
      "execution_count": null,
      "metadata": {
        "id": "LyBfk-DU1nfB"
      },
      "outputs": [],
      "source": [
        "#history = model.fit_generator(generator,epochs=100,verbose=1)"
      ]
    },
    {
      "cell_type": "markdown",
      "metadata": {
        "id": "Rhk15oVWvwCL"
      },
      "source": [
        "Predictions"
      ]
    },
    {
      "cell_type": "code",
      "execution_count": null,
      "metadata": {
        "id": "uQHf2mwmvuPN"
      },
      "outputs": [],
      "source": [
        "from sklearn.metrics import mean_squared_error"
      ]
    },
    {
      "cell_type": "code",
      "execution_count": null,
      "metadata": {
        "id": "Xvx4g5G4MiqF"
      },
      "outputs": [],
      "source": [
        "\n",
        "\n"
      ]
    },
    {
      "cell_type": "code",
      "execution_count": null,
      "metadata": {
        "id": "FXph2BRz8FEh"
      },
      "outputs": [],
      "source": [
        "\n"
      ]
    },
    {
      "cell_type": "code",
      "execution_count": null,
      "metadata": {
        "colab": {
          "base_uri": "https://localhost:8080/"
        },
        "id": "hsLYM1IBkn0w",
        "outputId": "d8bf6099-4292-43c6-f81b-3d6add3e3ad3"
      },
      "outputs": [
        {
          "output_type": "stream",
          "name": "stdout",
          "text": [
            "1/1 [==============================] - 0s 15ms/step\n",
            "0.6070785602646819\n"
          ]
        }
      ],
      "source": [
        "#predictions = predict(model,X_val[:1],val[100])\n",
        "predictions = model.predict(X_val[:1])\n",
        "\n",
        "#real = postprocess(val[100],y_val[:1])\n",
        "real = y_val[:1]\n",
        "real = real.squeeze()\n",
        "predictions = predictions.squeeze()\n",
        "print(math.sqrt(mean_squared_error(real,predictions)))"
      ]
    },
    {
      "cell_type": "code",
      "source": [],
      "metadata": {
        "colab": {
          "base_uri": "https://localhost:8080/"
        },
        "id": "oExWhU-sBkfA",
        "outputId": "1e300551-efcb-4ad5-e350-b636063d0795"
      },
      "execution_count": null,
      "outputs": [
        {
          "output_type": "execute_result",
          "data": {
            "text/plain": [
              "(100, 6)"
            ]
          },
          "metadata": {},
          "execution_count": 170
        }
      ]
    },
    {
      "cell_type": "code",
      "execution_count": null,
      "metadata": {
        "id": "fd99R299klhU"
      },
      "outputs": [],
      "source": []
    },
    {
      "cell_type": "code",
      "source": [],
      "metadata": {
        "id": "1ypiFOrEZHkG"
      },
      "execution_count": null,
      "outputs": []
    },
    {
      "cell_type": "code",
      "source": [],
      "metadata": {
        "id": "IHY63HGoa3a5"
      },
      "execution_count": null,
      "outputs": []
    },
    {
      "cell_type": "code",
      "execution_count": null,
      "metadata": {
        "id": "1SFrwSvrMZ1d"
      },
      "outputs": [],
      "source": [
        "#######  Autoregressive prediction - Only in case Y window is in size 1 ######\n",
        "'''\n",
        "iterations = 2\n",
        "predictionLength = windowSizeY * iterations\n",
        "import math\n",
        "\n",
        "#if windowSizeY == 1:\n",
        "\n",
        "predictions = autoRegressivePrediction(model,X_val[:1],iterations,slideSize = windowSizeY)\n",
        "    '''"
      ]
    },
    {
      "cell_type": "code",
      "source": [
        "predictions = np.array(predictions).reshape(iterations*windowSizeY,numOfBodies*2)"
      ],
      "metadata": {
        "id": "EFxTu8hevNLS"
      },
      "execution_count": null,
      "outputs": []
    },
    {
      "cell_type": "code",
      "execution_count": null,
      "metadata": {
        "id": "Rgzd9Tbv9kBn"
      },
      "outputs": [],
      "source": [
        "### Distance at each point throught the prediction\n",
        "import matplotlib.pyplot as plt\n",
        "disArr = []\n",
        "#for i in range(len(val)+len(test)):\n",
        "  #disArr.append(np.linalg.norm(simulation1[len(X_train)+windowSizeX+i+1]-listOfPredictionsTrue[i]))\n",
        "for i in range(windowSizeY):\n",
        "  disArr.append(np.linalg.norm(real[i]-predictions[i]))\n",
        "\n",
        "plt.plot(disArr)  "
      ]
    },
    {
      "cell_type": "code",
      "execution_count": null,
      "metadata": {
        "id": "diDYxqDlQN7C"
      },
      "outputs": [],
      "source": [
        "\n"
      ]
    },
    {
      "cell_type": "code",
      "execution_count": null,
      "metadata": {
        "id": "n0G9Z8salV1F"
      },
      "outputs": [],
      "source": [
        "\n",
        "draw_real_vs_prediction(real, predictions,0,100)"
      ]
    },
    {
      "cell_type": "markdown",
      "metadata": {
        "id": "bsMs0nvIrOgV"
      },
      "source": [
        "Double Pendulum"
      ]
    },
    {
      "cell_type": "code",
      "execution_count": null,
      "metadata": {
        "colab": {
          "base_uri": "https://localhost:8080/",
          "height": 261
        },
        "id": "45GlVBrFqmQI",
        "outputId": "102480ef-6ee4-4ae5-dbdd-c29dea8400ee"
      },
      "outputs": [
        {
          "output_type": "display_data",
          "data": {
            "text/plain": [
              "<Figure size 360x288 with 1 Axes>"
            ],
            "image/png": "[encoded data removed]"
          },
          "metadata": {
            "needs_background": "light"
          }
        }
      ],
      "source": [
        "####\n",
        "'''\n",
        "Source: https://matplotlib.org/stable/gallery/animation/double_pendulum.html\n",
        "'''\n",
        "####\n",
        "\n",
        "from numpy import sin, cos\n",
        "import numpy as np\n",
        "import matplotlib.pyplot as plt\n",
        "import matplotlib.animation as animation\n",
        "from collections import deque\n",
        "\n",
        "G = 9.8  # acceleration due to gravity, in m/s^2\n",
        "L1 = 1.0  # length of pendulum 1 in m\n",
        "L2 = 1.0  # length of pendulum 2 in m\n",
        "L = L1 + L2  # maximal length of the combined pendulum\n",
        "M1 = 1.0  # mass of pendulum 1 in kg\n",
        "M2 = 1.0  # mass of pendulum 2 in kg\n",
        "t_stop = 250  # how many seconds to simulate\n",
        "history_len = 500  # how many trajectory points to display\n",
        "\n",
        "\n",
        "def derivs(t, state):\n",
        "    dydx = np.zeros_like(state)\n",
        "\n",
        "    dydx[0] = state[1]\n",
        "\n",
        "    delta = state[2] - state[0]\n",
        "    den1 = (M1+M2) * L1 - M2 * L1 * cos(delta) * cos(delta)\n",
        "    dydx[1] = ((M2 * L1 * state[1] * state[1] * sin(delta) * cos(delta)\n",
        "                + M2 * G * sin(state[2]) * cos(delta)\n",
        "                + M2 * L2 * state[3] * state[3] * sin(delta)\n",
        "                - (M1+M2) * G * sin(state[0]))\n",
        "               / den1)\n",
        "\n",
        "    dydx[2] = state[3]\n",
        "\n",
        "    den2 = (L2/L1) * den1\n",
        "    dydx[3] = ((- M2 * L2 * state[3] * state[3] * sin(delta) * cos(delta)\n",
        "                + (M1+M2) * G * sin(state[0]) * cos(delta)\n",
        "                - (M1+M2) * L1 * state[1] * state[1] * sin(delta)\n",
        "                - (M1+M2) * G * sin(state[2]))\n",
        "               / den2)\n",
        "\n",
        "    return dydx\n",
        "\n",
        "# create a time array from 0..t_stop sampled at 0.02 second steps\n",
        "dt = 0.01\n",
        "t = np.arange(0, t_stop, dt)\n",
        "\n",
        "# th1 and th2 are the initial angles (degrees)\n",
        "# w10 and w20 are the initial angular velocities (degrees per second)\n",
        "th1 = 120.0\n",
        "w1 = 0.0\n",
        "th2 = -10.0\n",
        "w2 = 0.0\n",
        "\n",
        "# initial state\n",
        "state = np.radians([th1, w1, th2, w2])\n",
        "\n",
        "# integrate the ODE using Euler's method\n",
        "y = np.empty((len(t), 4))\n",
        "y[0] = state\n",
        "for i in range(1, len(t)):\n",
        "    y[i] = y[i - 1] + derivs(t[i - 1], y[i - 1]) * dt\n",
        "\n",
        "# A more accurate estimate could be obtained e.g. using scipy:\n",
        "#\n",
        "#   y = scipy.integrate.solve_ivp(derivs, t[[0, -1]], state, t_eval=t).y.T\n",
        "\n",
        "x1 = L1*sin(y[:, 0])\n",
        "y1 = -L1*cos(y[:, 0])\n",
        "\n",
        "x2 = L2*sin(y[:, 2]) + x1\n",
        "y2 = -L2*cos(y[:, 2]) + y1\n",
        "\n",
        "fig = plt.figure(figsize=(5, 4))\n",
        "ax = fig.add_subplot(autoscale_on=False, xlim=(-L, L), ylim=(-L, 1.))\n",
        "ax.set_aspect('equal')\n",
        "ax.grid()\n",
        "\n",
        "line, = ax.plot([], [], 'o-', lw=2)\n",
        "trace, = ax.plot([], [], '.-', lw=1, ms=2)\n",
        "time_template = 'time = %.1fs'\n",
        "time_text = ax.text(0.05, 0.9, '', transform=ax.transAxes)\n",
        "history_x, history_y = deque(maxlen=history_len), deque(maxlen=history_len)\n",
        "\n",
        "def animate(i):\n",
        "    thisx = [0, x1[i], x2[i]]\n",
        "    thisy = [0, y1[i], y2[i]]\n",
        "\n",
        "    if i == 0:\n",
        "        history_x.clear()\n",
        "        history_y.clear()\n",
        "\n",
        "    history_x.appendleft(thisx[2])\n",
        "    history_y.appendleft(thisy[2])\n",
        "\n",
        "    line.set_data(thisx, thisy)\n",
        "    trace.set_data(history_x, history_y)\n",
        "    time_text.set_text(time_template % (i*dt))\n",
        "    return line, trace, time_text\n",
        "\n",
        "\n",
        "ani = animation.FuncAnimation(\n",
        "    fig, animate, len(y), interval=dt*1000, blit=True)\n",
        "plt.show()\n"
      ]
    },
    {
      "cell_type": "code",
      "execution_count": null,
      "metadata": {
        "colab": {
          "base_uri": "https://localhost:8080/"
        },
        "id": "-e5liEW1qA6s",
        "outputId": "08b4927a-53cb-4829-a79c-527a9d65c936"
      },
      "outputs": [
        {
          "output_type": "execute_result",
          "data": {
            "text/plain": [
              "array([ 2.0943951 ,  0.        , -0.17453293,  0.        ])"
            ]
          },
          "metadata": {},
          "execution_count": 103
        }
      ],
      "source": [
        "state"
      ]
    },
    {
      "cell_type": "code",
      "execution_count": null,
      "metadata": {
        "colab": {
          "base_uri": "https://localhost:8080/"
        },
        "id": "No5aVWRspOXl",
        "outputId": "17219e46-0bff-4084-c883-0b8c72ce9978"
      },
      "outputs": [
        {
          "output_type": "execute_result",
          "data": {
            "text/plain": [
              "(25000, 4)"
            ]
          },
          "metadata": {},
          "execution_count": 104
        }
      ],
      "source": [
        "temp = np.array([x1,y1,x2,y2])\n",
        "pendulumSim = np.transpose(temp)\n",
        "pendulumSim.shape"
      ]
    },
    {
      "cell_type": "code",
      "execution_count": null,
      "metadata": {
        "colab": {
          "base_uri": "https://localhost:8080/",
          "height": 265
        },
        "id": "B9L92Q3Wmz44",
        "outputId": "fa98364b-e693-45da-bb79-f72bea60949c"
      },
      "outputs": [
        {
          "output_type": "display_data",
          "data": {
            "text/plain": [
              "<Figure size 432x288 with 1 Axes>"
            ],
            "image/png": "[encoded data removed]"
          },
          "metadata": {
            "needs_background": "light"
          }
        }
      ],
      "source": [
        "drawSimulation(pendulumSim[20250:20300])"
      ]
    },
    {
      "cell_type": "code",
      "execution_count": null,
      "metadata": {
        "id": "kSXyNaW6pW6A"
      },
      "outputs": [],
      "source": [
        "numOfBodies = 2\n",
        "#from sklearn.preprocessing import MinMaxScaler\n",
        "from sklearn.preprocessing import StandardScaler\n",
        "from scipy.signal import hilbert\n",
        "scaled = False \n",
        "\n",
        "batch = 128\n",
        "\n",
        "diffSimulation1 = np.diff(pendulumSim,axis = 0)\n",
        "#diffSimulation1 = preprocessSimulation(simulation1)\n",
        "#diffSimulation1 = np.diff(simulation1[:,2:8],axis = 0)\n",
        "train, val, test = splitToTrainValidTest(diffSimulation1,0.05)\n",
        "\n",
        "\n",
        "windowSizeX=300#len(test)\n",
        "windowSizeY =300#len(test)\n",
        "\n",
        "\n",
        "if scaled:\n",
        "  scaler = StandardScaler()\n",
        "  scaler.fit(simulation1[:len(train)+len(val)])\n",
        "  #valScaler.fit(train)  ### train / val as input ? \n",
        "\n",
        "  train = scaler.transform(train)\n",
        "  val = scaler.transform(val)\n",
        "  #train = hilbert(train)\n",
        "  #val = hilbert(val)\n",
        "\n",
        "X_train, y_train = prepareData(train,windowSizeX,windowSizeY)\n",
        "X_val, y_val = prepareData(val,windowSizeX,windowSizeY)\n",
        "X_test, y_test = prepareData(test,windowSizeX,windowSizeY)\n",
        "\n",
        "\n",
        "#generator = TimeseriesGenerator(train_scaled,train_scaled,length = len(test),batch_size=batch)"
      ]
    },
    {
      "cell_type": "code",
      "execution_count": null,
      "metadata": {
        "id": "V7f-bphsaDay"
      },
      "outputs": [],
      "source": [
        "model =  buildModelCNN(windowSizeX,windowSizeY,numOfBodies)\n",
        "#model =  buildModelLSTM(windowSizeX,windowSizeY,numOfBodies)\n",
        "#model = Inceptionmodel(windowSizeX,windowSizeY, numOfBodies)\n",
        "#model = InceptionmodelWavelet(windowSizeX,windowSizeY, numOfBodies)\n",
        "#model = wavelet(windowSizeX,windowSizeY, numOfBodies)\n",
        "#model = transformerModel(window_size_X=windowSizeX,window_size_y=windowSizeY,numberOfBodies=numOfBodies)\n",
        "#model = LSTMmodel(windowSizeX,windowSizeY, numOfBodies)\n",
        "#model = waveletModel(windowSizeX,windowSizeY, numOfBodies)\n",
        "\n",
        "\n",
        "cp1 = ModelCheckpoint('Inceptionmodel/', save_best_only=True)\n",
        "model.compile(loss=MeanSquaredError(), optimizer=Adam(learning_rate=0.001), metrics=[RootMeanSquaredError()])\n",
        "#Inceptionmodel.compile(loss=MeanSquaredError(), optimizer=Adam(learning_rate=0.001), metrics=[RootMeanSquaredError()])\n",
        "\n",
        "\n"
      ]
    },
    {
      "cell_type": "code",
      "execution_count": null,
      "metadata": {
        "id": "lFL7uKPOs_Eq"
      },
      "outputs": [],
      "source": [
        "showBodiesMovmentInGraph(numpyToPandas(diffSimulation1[500:2000],numOfBodies))"
      ]
    },
    {
      "cell_type": "code",
      "execution_count": null,
      "metadata": {
        "id": "_azqu2hns_tu"
      },
      "outputs": [],
      "source": [
        "history = model.fit(X_train, y_train, validation_data=(X_val, y_val), epochs=30, callbacks=[cp1])"
      ]
    },
    {
      "cell_type": "code",
      "execution_count": null,
      "metadata": {
        "colab": {
          "base_uri": "https://localhost:8080/",
          "height": 295
        },
        "id": "B63JyWxUtgtv",
        "outputId": "7c908d1d-115f-48fd-f048-09bb7f058811"
      },
      "outputs": [
        {
          "output_type": "display_data",
          "data": {
            "text/plain": [
              "<Figure size 432x288 with 1 Axes>"
            ],
            "image/png": "[encoded data removed]"
          },
          "metadata": {
            "needs_background": "light"
          }
        }
      ],
      "source": [
        "#plt.plot(history.history['loss'])\n",
        "plt.plot(history.history['val_loss'])\n",
        "plt.title('model loss')\n",
        "plt.ylabel('loss')\n",
        "plt.xlabel('epoch')\n",
        "plt.legend(['train', 'val'], loc='upper left')\n",
        "plt.show()"
      ]
    },
    {
      "cell_type": "code",
      "execution_count": null,
      "metadata": {
        "colab": {
          "base_uri": "https://localhost:8080/"
        },
        "id": "351k4T-tsiDC",
        "outputId": "26ce4097-67da-4392-f7fa-3bb33e52c6b4"
      },
      "outputs": [
        {
          "output_type": "execute_result",
          "data": {
            "text/plain": [
              "(1, 4)"
            ]
          },
          "metadata": {},
          "execution_count": 111
        }
      ],
      "source": [
        "val[:1][-1:].shape"
      ]
    },
    {
      "cell_type": "code",
      "execution_count": null,
      "metadata": {
        "colab": {
          "base_uri": "https://localhost:8080/"
        },
        "id": "11y2qAn4sLSH",
        "outputId": "5b964184-a7eb-4058-9a6e-cce1ced4070d"
      },
      "outputs": [
        {
          "output_type": "stream",
          "name": "stdout",
          "text": [
            "1/1 [==============================] - 0s 87ms/step\n"
          ]
        }
      ],
      "source": [
        "prediction = predict(model,X_test[:1],test[300]).squeeze()\n",
        "actual = postprocess(test[300],y_test[:1]).squeeze()"
      ]
    },
    {
      "cell_type": "code",
      "execution_count": null,
      "metadata": {
        "id": "gREmEDgLtu8T"
      },
      "outputs": [],
      "source": []
    },
    {
      "cell_type": "code",
      "execution_count": null,
      "metadata": {
        "colab": {
          "base_uri": "https://localhost:8080/",
          "height": 545
        },
        "id": "rBXt6AJ7uIzD",
        "outputId": "7eaf21f0-aa3c-46c6-c644-ddd22fba4a5a"
      },
      "outputs": [
        {
          "output_type": "display_data",
          "data": {
            "text/plain": [
              "<Figure size 432x288 with 1 Axes>"
            ],
            "image/png": "[encoded data removed]"
          },
          "metadata": {
            "needs_background": "light"
          }
        },
        {
          "output_type": "display_data",
          "data": {
            "text/plain": [
              "<Figure size 432x288 with 1 Axes>"
            ],
            "image/png": "[encoded data removed]"
          },
          "metadata": {
            "needs_background": "light"
          }
        }
      ],
      "source": [
        "#real = pendulumSim[len(X_train)+ windowSizeX: len(X_train) + windowSizeX + windowSizeY ]\n",
        "#simulated = actualPredictions\n",
        "draw_real_vs_prediction(actual, prediction,0,300)"
      ]
    },
    {
      "cell_type": "markdown",
      "metadata": {
        "id": "9OnUDSnDpNv_"
      },
      "source": [
        "# Anvil Setup"
      ]
    },
    {
      "cell_type": "markdown",
      "metadata": {
        "id": "WZwSzYzypeC8"
      },
      "source": [
        "Install Anvil uplink connection"
      ]
    },
    {
      "cell_type": "code",
      "execution_count": null,
      "metadata": {
        "id": "2gb6t4nkR13k",
        "colab": {
          "base_uri": "https://localhost:8080/"
        },
        "outputId": "5d917a32-7762-4d5f-ed27-f1d7284cd740"
      },
      "outputs": [
        {
          "output_type": "stream",
          "name": "stdout",
          "text": [
            "Looking in indexes: https://pypi.org/simple, https://us-python.pkg.dev/colab-wheels/public/simple/\n",
            "Requirement already satisfied: pandas in /usr/local/lib/python3.8/dist-packages (1.3.5)\n",
            "Requirement already satisfied: pytz>=2017.3 in /usr/local/lib/python3.8/dist-packages (from pandas) (2022.6)\n",
            "Requirement already satisfied: numpy>=1.17.3 in /usr/local/lib/python3.8/dist-packages (from pandas) (1.21.6)\n",
            "Requirement already satisfied: python-dateutil>=2.7.3 in /usr/local/lib/python3.8/dist-packages (from pandas) (2.8.2)\n",
            "Requirement already satisfied: six>=1.5 in /usr/local/lib/python3.8/dist-packages (from python-dateutil>=2.7.3->pandas) (1.15.0)\n"
          ]
        }
      ],
      "source": [
        "!pip install pandas"
      ]
    },
    {
      "cell_type": "markdown",
      "metadata": {
        "id": "yVWGJlK2mPuW"
      },
      "source": [
        "Install Anvil uplink connection"
      ]
    },
    {
      "cell_type": "code",
      "execution_count": null,
      "metadata": {
        "id": "NRACjTilpV7-",
        "colab": {
          "base_uri": "https://localhost:8080/",
          "height": 259
        },
        "outputId": "0384aa11-b5f4-49c2-ce18-84ce764fcee0"
      },
      "outputs": [
        {
          "output_type": "stream",
          "name": "stdout",
          "text": [
            "Looking in indexes: https://pypi.org/simple, https://us-python.pkg.dev/colab-wheels/public/simple/\n",
            "Requirement already satisfied: anvil-uplink in /usr/local/lib/python3.8/dist-packages (0.4.1)\n",
            "Collecting argparse\n",
            "  Using cached argparse-1.4.0-py2.py3-none-any.whl (23 kB)\n",
            "Requirement already satisfied: future in /usr/local/lib/python3.8/dist-packages (from anvil-uplink) (0.16.0)\n",
            "Requirement already satisfied: six in /usr/local/lib/python3.8/dist-packages (from anvil-uplink) (1.15.0)\n",
            "Requirement already satisfied: ws4py in /usr/local/lib/python3.8/dist-packages (from anvil-uplink) (0.5.1)\n",
            "Installing collected packages: argparse\n",
            "Successfully installed argparse-1.4.0\n"
          ]
        },
        {
          "output_type": "display_data",
          "data": {
            "application/vnd.colab-display-data+json": {
              "pip_warning": {
                "packages": [
                  "argparse"
                ]
              }
            }
          },
          "metadata": {}
        }
      ],
      "source": [
        "!pip install anvil-uplink"
      ]
    },
    {
      "cell_type": "markdown",
      "metadata": {
        "id": "2N-1YxoVpab9"
      },
      "source": [
        "Connect Colab with the Anvil project"
      ]
    },
    {
      "cell_type": "code",
      "execution_count": null,
      "metadata": {
        "id": "u3OYcJSTpRt0"
      },
      "outputs": [],
      "source": [
        "import anvil.server\n",
        "anvil.server.connect(\"M2SHTQKH2FUIJQQXXX4VKXEB-I37SIP4DTE6Z5NM3\")"
      ]
    },
    {
      "cell_type": "markdown",
      "metadata": {
        "id": "pxmjpJhlome2"
      },
      "source": [
        "# Simulation"
      ]
    },
    {
      "cell_type": "markdown",
      "metadata": {
        "id": "awqzzi6VsuS8"
      },
      "source": [
        "## General simulation functions"
      ]
    },
    {
      "cell_type": "markdown",
      "metadata": {
        "id": "IntMxz4cvFIz"
      },
      "source": [
        "### Calculate Simulation"
      ]
    },
    {
      "cell_type": "code",
      "execution_count": null,
      "metadata": {
        "id": "-uQmZ1gusv7V"
      },
      "outputs": [],
      "source": [
        "# calculate body simulation\n",
        "def simulate_on_time_step(bodies,t,steps,interval_in_data): # bodies: list of bodies. t: timestep . steps: number of steps. interval_in_data : frequency of rows taken to dataset: if equals 1 than it is every step\n",
        "  dataset = []\n",
        "  global runTime_simulation\n",
        "  for i in range(steps):\n",
        "      bodies_pos=[]\n",
        "      for body in bodies:\n",
        "        bodies_pos.append(body.position)\n",
        "      if i % interval_in_data == 0:\n",
        "        dataset += bodies_pos\n",
        "      \n",
        "      for i,body in enumerate(bodies):\n",
        "        body.setAcceleration([b for b in bodies if b is not body])\n",
        "        body.setVelocity(t)\n",
        "        body.setPosition(t)\n",
        "       \n",
        "      for body in bodies:\n",
        "        body.prevPosition = body.position\n",
        "    \n",
        "  three_body_simulation = np.array(dataset).reshape(steps//interval_in_data,len(bodies),2)\n",
        "  three_body_simulation = three_body_simulation.reshape(len(three_body_simulation), len(bodies)*2)\n",
        "  runTime_simulation = three_body_simulation"
      ]
    },
    {
      "cell_type": "code",
      "execution_count": null,
      "metadata": {
        "id": "qdxbjwF3UsbY"
      },
      "outputs": [],
      "source": [
        "# calculate pendulum simulation\n",
        "def simulate_double_pendulum(pendulum,timestep=0.01,simulation_time=10,Trajectory_points=500):\n",
        "  global runTime_simulation\n",
        "  total_length = pendulum.total_length\n",
        "  inner_pendulum = pendulum.get_pendulum(0)\n",
        "  outer_pendulum = pendulum.get_pendulum(1)\n",
        "\n",
        "  # build array of timesteps [0,timestep,2*timestep,...,simulation_time-timestep]\n",
        "  timesteps = np.arange(0, simulation_time, timestep)\n",
        "\n",
        "  # integrate the ordinary differential equations\n",
        "  y = integrate_ODE(timesteps,timestep,pendulum)\n",
        "\n",
        "  # calculate pendulum positions\n",
        "  x1 = inner_pendulum[0]*sin(y[:, 0])\n",
        "  y1 = -inner_pendulum[0]*cos(y[:, 0])\n",
        "\n",
        "  x2 = outer_pendulum[0]*sin(y[:, 2]) + x1\n",
        "  y2 = -outer_pendulum[0]*cos(y[:, 2]) + y1\n",
        "\n",
        "  # make deques for x and y of size [trajectory_points] each\n",
        "  history_x, history_y = deque(maxlen=Trajectory_points), deque(maxlen=Trajectory_points)\n",
        "\n",
        "  for i in range(len(y)):\n",
        "    thisx = [0, x1[i], x2[i]]\n",
        "    thisy = [0, y1[i], y2[i]]\n",
        "\n",
        "    if i == 0:\n",
        "        history_x.clear()\n",
        "        history_y.clear()\n",
        "\n",
        "    history_x.appendleft(thisx[2])\n",
        "    history_y.appendleft(thisy[2])\n",
        "\n",
        "  double_pendulum_simulation = np.transpose(np.array([x1,y1,x2,y2]))\n",
        "  runTime_simulation = double_pendulum_simulation\n",
        "  return runTime_simulation"
      ]
    },
    {
      "cell_type": "markdown",
      "metadata": {
        "id": "jJs0BiCk5bc8"
      },
      "source": [
        "### Create Simulation"
      ]
    },
    {
      "cell_type": "code",
      "execution_count": null,
      "metadata": {
        "id": "le7-QJpB5eZA"
      },
      "outputs": [],
      "source": [
        "# create random body simulation\n",
        "def createRandomSimulation(numOfBodies,timestep,steps,interval_in_data=1):\n",
        "  bodies =[]\n",
        "  for i in range(numOfBodies):\n",
        "    bodies.append( Body( np.array([np.random.uniform(-1,1),np.random.uniform(-1,1)]), np.array([np.random.uniform(-1,1) , np.random.uniform(-1,1)]) , 1 ) )\n",
        "\n",
        "  simulation = simulateOnTimeStep(bodies,timestep,steps,interval_in_data)\n",
        "  simulation=simulation.reshape(len(simulation), numOfBodies*2 )\n",
        "  return simulation"
      ]
    },
    {
      "cell_type": "markdown",
      "metadata": {
        "id": "l8UR-T3DyYyE"
      },
      "source": [
        "### Display Simulation"
      ]
    },
    {
      "cell_type": "code",
      "execution_count": null,
      "metadata": {
        "id": "ZoZH2AzWybUA"
      },
      "outputs": [],
      "source": [
        "# display the simulation (image)\n",
        "import anvil.mpl_util\n",
        "from PIL import Image\n",
        "import io\n",
        "\n",
        "def drawSimulation(simulation, simulation_name):\n",
        "  prev = np.copy(simulation[0])\n",
        "  numOfBodies = len(simulation[0])\n",
        "  from random import randint\n",
        "  colors = []\n",
        "\n",
        "  for i in range(30):\n",
        "    colors.append('#%06X' % randint(0, 0xFFFFFF))\n",
        "\n",
        "  #colors = ['red','green','blue','yellow','black','brown','purple','pink',]\n",
        "  mpl_fig = plt.figure()\n",
        "  print(type(simulation))\n",
        "  print(simulation)\n",
        "  for i,sim in enumerate(simulation):\n",
        "    #if i == 0:\n",
        "      #continue\n",
        "    for j in range(0,len(sim),2):\n",
        "      plt.plot([prev[j],sim[j]],[prev[j+1],sim[j+1]],  color = colors[j // 2])\n",
        "      prev[j] = np.copy(sim[j])\n",
        "      prev[j+1] = np.copy(sim[j+1])\n",
        "\n",
        "  plt.savefig(f\"/content/tmp/{simulation_name}\")\n",
        "  img = Image.open(f\"/content/tmp/{simulation_name}.png\",mode='r')\n",
        "  bs = io.BytesIO()\n",
        "  img.save(bs,format=\"PNG\")\n",
        "  return anvil.BlobMedia(\"image/png\", bs.getvalue(), name=simulation_name)"
      ]
    },
    {
      "cell_type": "code",
      "execution_count": null,
      "metadata": {
        "id": "9AmQUn2zy2aF"
      },
      "outputs": [],
      "source": [
        "# display body movment (image)\n",
        "def showBodiesMovmentInGraph(simulation):\n",
        "  plt.title(\"X body coordinate\")\n",
        "  for i in range(0,len(simulation.columns),2):\n",
        "      df = simulation.iloc[:,i]\n",
        "      plt.plot(df)\n",
        "  plt.show()\n",
        "  plt.title(\"Y body coordinate\")\n",
        "  for i in range(1,len(simulation.columns),2):\n",
        "      df = simulation.iloc[:,i]\n",
        "      plt.plot(df)\n",
        "  plt.show()"
      ]
    },
    {
      "cell_type": "markdown",
      "metadata": {
        "id": "U4p6WI69p5tF"
      },
      "source": [
        "## File Manipulation"
      ]
    },
    {
      "cell_type": "code",
      "execution_count": null,
      "metadata": {
        "id": "HbJchCHOHsux"
      },
      "outputs": [],
      "source": [
        "# create temp folder\n",
        "import os\n",
        "\n",
        "@anvil.server.callable\n",
        "def create_tmp_folder():\n",
        "  path = os.path.join('/content/', 'tmp')\n",
        "  if os.path.exists(path):\n",
        "    return\n",
        "  os.mkdir(path)"
      ]
    },
    {
      "cell_type": "code",
      "execution_count": null,
      "metadata": {
        "id": "4ADZv93PK1Ss"
      },
      "outputs": [],
      "source": [
        "# remove temp folder\n",
        "import shutil\n",
        "\n",
        "@anvil.server.callable\n",
        "def remove_tmp_folder():\n",
        "  dir_path = '/content/tmp'\n",
        "  shutil.rmtree(dir_path, ignore_errors=True)"
      ]
    },
    {
      "cell_type": "code",
      "execution_count": null,
      "metadata": {
        "id": "v8BN_RwwZhqh"
      },
      "outputs": [],
      "source": [
        "remove_tmp_folder()"
      ]
    },
    {
      "cell_type": "code",
      "execution_count": null,
      "metadata": {
        "id": "aZr4gqdevRPa"
      },
      "outputs": [],
      "source": [
        "# save current simulation as a .csv file\n",
        "def saveSimulation(simulation,numOfBodies,simulation_name):\n",
        "  df = numpyToPandas(simulation,numOfBodies)\n",
        "  df.to_csv(f'/content/tmp/{simulation_name}.csv',index=False)\n",
        "  \n",
        "# load simulation from a .csv file\n",
        "def loadSimulation(df):\n",
        "  global runTime_simulation\n",
        "  runTime_simulation = pd.DataFrame.to_numpy(df)\n",
        "  return runTime_simulation"
      ]
    },
    {
      "cell_type": "code",
      "execution_count": null,
      "metadata": {
        "id": "pRro_L7zoYFg"
      },
      "outputs": [],
      "source": [
        "import anvil.media\n",
        "\n",
        "# transfer a saved .csv file from colab to anvil\n",
        "@anvil.server.callable\n",
        "def get_sim_csv(simulation_name):\n",
        "  f = open(f'/content/tmp/{simulation_name}.csv', 'r')\n",
        "  data = f.read().encode('utf_8')\n",
        "  return anvil.BlobMedia(\"text/csv\", data , name=simulation_name)"
      ]
    },
    {
      "cell_type": "code",
      "execution_count": null,
      "metadata": {
        "id": "t2dF8Mmj5n7O"
      },
      "outputs": [],
      "source": [
        "import pandas as pd\n",
        "\n",
        "# transfer a loaded .csv file from anvil to colab\n",
        "@anvil.server.callable\n",
        "def store_data(file,file_name):\n",
        "  with anvil.media.TempFile(file) as f:\n",
        "    df = pd.read_csv(f)\n",
        "    df.to_csv(f'/content/tmp/{file_name}.csv',index=False)"
      ]
    },
    {
      "cell_type": "markdown",
      "metadata": {
        "id": "SqlyhXSzusJ1"
      },
      "source": [
        "### Simulation Filters"
      ]
    },
    {
      "cell_type": "code",
      "execution_count": null,
      "metadata": {
        "id": "61n0yJswuwVj"
      },
      "outputs": [],
      "source": [
        "# Add random noise to the simulation\n",
        "def addNoise(simulation):\n",
        "  noise = np.random.normal(0, .1, simulation.shape)\n",
        "  return simulation + noise\n",
        "\n",
        "# Remove a body from the simulation\n",
        "def removeBody(simulation, bodyNum):\n",
        "  del1 = np.delete(simulation,(bodyNum-1)*2,1)\n",
        "  return np.delete(del1,(bodyNum-1)*2,1)"
      ]
    },
    {
      "cell_type": "markdown",
      "metadata": {
        "id": "xSXRZnyRuVgu"
      },
      "source": [
        "## Additional functions"
      ]
    },
    {
      "cell_type": "code",
      "execution_count": null,
      "metadata": {
        "id": "S3_eVXIVuYVn"
      },
      "outputs": [],
      "source": [
        "# convert simulation to fit panda's format\n",
        "def numpyToPandas(simulation,numOfBodies):\n",
        "  columns = []\n",
        "\n",
        "  for i in range(numOfBodies):\n",
        "    columns.append(f'Body{i+1} x')\n",
        "    columns.append(f'Body{i+1} y')\n",
        "  simulation_reshaped = simulation.reshape(len(simulation), numOfBodies*2 )\n",
        "\n",
        "  df = pd.DataFrame(simulation_reshaped, columns = columns)\n",
        "  return df"
      ]
    },
    {
      "cell_type": "code",
      "execution_count": null,
      "metadata": {
        "id": "nzLeXovM4YjI"
      },
      "outputs": [],
      "source": [
        "# preprocess simulation\n",
        "def preprocessSimulation(simulation):\n",
        "  shape = simulation[0].shape\n",
        "  newSimulation = np.append(simulation[1:],[np.zeros(shape)],axis=0) - simulation\n",
        "  newSimulation = newSimulation[:-1]\n",
        "  for i,s in enumerate(newSimulation):\n",
        "    s = s / np.linalg.norm(simulation[i])\n",
        "  return newSimulation"
      ]
    },
    {
      "cell_type": "markdown",
      "metadata": {
        "id": "zVonAV0Ins_1"
      },
      "source": [
        "## Anvil - simulation functions"
      ]
    },
    {
      "cell_type": "code",
      "execution_count": null,
      "metadata": {
        "id": "IJcOTxi2fjvk"
      },
      "outputs": [],
      "source": [
        "@anvil.server.callable\n",
        "def make_body_simulation(simulation_name,bodylist,timesteps,steps,interval_in_data):\n",
        "  bodies = initialize_bodies(bodylist)\n",
        "  sim = simulate_on_time_step(bodies,timesteps,steps,interval_in_data)\n",
        "  saveSimulation(sim,len(bodylist),simulation_name)\n",
        "  #showBodiesMovmentInGraph(sim).show()\n",
        "  return drawSimulation(sim,simulation_name)"
      ]
    },
    {
      "cell_type": "code",
      "execution_count": null,
      "metadata": {
        "id": "5bYqWUfWDpzc"
      },
      "outputs": [],
      "source": [
        "# create pendulum simulation\n",
        "@anvil.server.callable\n",
        "def make_pendulum_simulation(simulation_name,doublePendulum,simulation_time,timestep,trajectory_points):\n",
        "  inner_pendulum = doublePendulum[0]\n",
        "  outer_pendulum = doublePendulum[1]\n",
        "  pendulum = double_pendulum([inner_pendulum[0],outer_pendulum[0]],[inner_pendulum[1],outer_pendulum[1]],\n",
        "                             [inner_pendulum[2],outer_pendulum[2]],[inner_pendulum[3],outer_pendulum[3]],\n",
        "                             simulation_name)\n",
        "  sim = simulate_double_pendulum(pendulum,timestep,simulation_time,trajectory_points)\n",
        "  saveSimulation(sim,2,simulation_name)\n",
        "  return drawSimulation(sim,simulation_name)"
      ]
    },
    {
      "cell_type": "code",
      "execution_count": null,
      "metadata": {
        "id": "_b8CiZQdAf1t"
      },
      "outputs": [],
      "source": [
        "import numpy as np\n",
        "from matplotlib import image\n",
        "\n",
        "@anvil.server.callable\n",
        "def make_simulation_from_csv(simulation_name):\n",
        "  df = pd.read_csv(f'/content/tmp/{simulation_name}.csv')\n",
        "  simulation = loadSimulation(df)\n",
        "  return drawSimulation(simulation,simulation_name)"
      ]
    },
    {
      "cell_type": "markdown",
      "metadata": {
        "id": "NnrjXTFS_WBT"
      },
      "source": [
        "## N-Body Problem"
      ]
    },
    {
      "cell_type": "markdown",
      "metadata": {
        "id": "FGciHyE3p8Ac"
      },
      "source": [
        "### The Body Class"
      ]
    },
    {
      "cell_type": "code",
      "execution_count": null,
      "metadata": {
        "id": "kVyapbdnp7sv"
      },
      "outputs": [],
      "source": [
        "import math\n",
        "import pandas as pd\n",
        "import numpy as np\n",
        "import matplotlib.pyplot as plt\n",
        "import matplotlib.animation as animation\n",
        "import tensorflow as tf\n",
        "from pathlib import Path\n",
        "\n",
        "G=1 # gravitational force\n",
        "@anvil.server.callable\n",
        "class Body:\n",
        "  # variables\n",
        "  prevPosition = np.array([0,0])\n",
        "  position = np.array([0,0])\n",
        "  velocity = np.array([0,0])\n",
        "  force = np.array([0,0])\n",
        "  acceleration = np.array([0,0])\n",
        "  mass = 0\n",
        "\n",
        "  # constructor\n",
        "  def __init__(self,position=[0,0],velocity=[0,0],mass=1,name=\"newBody\"):\n",
        "    self.position=np.array(position)\n",
        "    self.velocity=np.array(velocity)\n",
        "    #self.acceleration=np.array(acceleration)\n",
        "    self.mass=mass\n",
        "    self.prevPosition=np.array(position)\n",
        "    self.name = name\n",
        "\n",
        "  # set initial position\n",
        "  def setInitialPostion(self,position):\n",
        "    self.postion = np.array(position)\n",
        "    self.prevPosition=np.array(position)\n",
        "\n",
        "  # set initial velocity\n",
        "  def setInitialVelocity(self,velocity):\n",
        "    self.velocity = np.array(velocity)\n",
        "\n",
        "  # set initial mass\n",
        "  def setInitialMass(self,mass):\n",
        "    self.mass = mass\n",
        "\n",
        "  # update position\n",
        "  def setPosition(self,t):\n",
        "    self.prevPosition = self.position\n",
        "    self.position=self.position+self.velocity*t+(self.acceleration/2)* t**2\n",
        "  \n",
        "  # update velocity\n",
        "  def setVelocity(self,t):\n",
        "    self.velocity=self.velocity+self.acceleration*t\n",
        "  \n",
        "  # get force\n",
        "  def getForce(self,body):\n",
        "    softening = 0.01\n",
        "    Distance = body.prevPosition - self.position\n",
        "    Rsquare = Distance[0]**2 + Distance[1]**2 #+ softening\n",
        "  # F = G* self.mass*body.mass / Rsquare  \n",
        "    F = (G* self.mass*body.mass / Rsquare) - 0.001 / (Rsquare * Rsquare) ### Lennard-Jones like force\n",
        "    normalizeDis = Distance / math.sqrt(Rsquare)\n",
        "    F = F*normalizeDis\n",
        "  # if math.sqrt(Rsquare) < softening:\n",
        "    #  F = -F \n",
        "    return F\n",
        "\n",
        "  # update acceleration\n",
        "  def setAcceleration(self,bodies):\n",
        "    F=np.array([0,0])\n",
        "    for body in bodies:\n",
        "      F=F+self.getForce(body)\n",
        "    self.acceleration = F/self.mass\n",
        "   # print(f\" {self.name} acceleration is {self.acceleration}\")"
      ]
    },
    {
      "cell_type": "markdown",
      "metadata": {
        "id": "IVFZB6lCsRDZ"
      },
      "source": [
        "### Aditional Body functions"
      ]
    },
    {
      "cell_type": "markdown",
      "metadata": {
        "id": "XrFfMcZdslXl"
      },
      "source": [
        "calculate the center of mass of the generated bodies"
      ]
    },
    {
      "cell_type": "code",
      "execution_count": null,
      "metadata": {
        "id": "PA_9ROZZr08h"
      },
      "outputs": [],
      "source": [
        "# return the center of mass of the bodies\n",
        "def centerOfMass(bodies):\n",
        "  out =np.array([0,0])\n",
        "  for i in range(0,len(bodies),2):\n",
        "    out = out + np.array(bodies[i],bodies[i+1])\n",
        "  return out / (len(bodies)//2) "
      ]
    },
    {
      "cell_type": "code",
      "execution_count": null,
      "metadata": {
        "id": "ahEHdGmkEQLO"
      },
      "outputs": [],
      "source": [
        "# initialize bodies\n",
        "def initialize_bodies(bodylist):\n",
        "  bodies=[]\n",
        "  for i,body in enumerate(bodylist):\n",
        "    bodies.append(Body(body[0],body[1],1,\"body\"+str(i+1)))\n",
        "  return bodies"
      ]
    },
    {
      "cell_type": "markdown",
      "metadata": {
        "id": "OVi0--xj_sRe"
      },
      "source": [
        "## Double Pendulum"
      ]
    },
    {
      "cell_type": "markdown",
      "metadata": {
        "id": "WbMNN3KUEpjp"
      },
      "source": [
        "### The Double Pendulum Class"
      ]
    },
    {
      "cell_type": "code",
      "execution_count": null,
      "metadata": {
        "id": "rHKFVlvpUETV"
      },
      "outputs": [],
      "source": [
        "from numpy import sin, cos\n",
        "import numpy as np\n",
        "import matplotlib.pyplot as plt\n",
        "from collections import deque\n",
        "\n",
        "G_dp = 9.8  # acceleration due to gravity, in m/s^2\n",
        "\n",
        "class double_pendulum:\n",
        "  # variables\n",
        "  length = np.array([0,0])\n",
        "  total_length = 0\n",
        "  mass = np.array([0,0])\n",
        "  angle = np.array([0,0])\n",
        "  angular_velocity = np.array([0,0])\n",
        "  state = np.radians([0, 0, 0, 0])\n",
        "\n",
        "  # constructor\n",
        "  def __init__(self,length=[1,1],mass=[1,1],angle=[120.0,-10.0],angular_velocity=[0,0],name=\"newDoublePendulum\"):\n",
        "    self.length=np.array(length)\n",
        "    self.total_length = length[0] + length[1]\n",
        "    self.mass=np.array(mass)\n",
        "    self.angle=np.array(angle)\n",
        "    self.angular_velocity=np.array(angular_velocity)\n",
        "    self.state = np.radians([angle[0],angular_velocity[0],angle[1],angular_velocity[1]])\n",
        "    self.name = name\n",
        "\n",
        "  def get_pendulum(self,pendulum_id):\n",
        "    return [self.length[pendulum_id],self.mass[pendulum_id],self.angle[pendulum_id],self.angular_velocity[pendulum_id]]"
      ]
    },
    {
      "cell_type": "markdown",
      "metadata": {
        "id": "mu8fN5VqLttI"
      },
      "source": [
        "### Aditional pendulum functions"
      ]
    },
    {
      "cell_type": "code",
      "execution_count": null,
      "metadata": {
        "id": "TRSzm-PUMFcC"
      },
      "outputs": [],
      "source": [
        "# calculate derivatives\n",
        "def derivs(state,L1,M1,L2,M2):\n",
        "  \n",
        "  dydx = np.zeros_like(state)\n",
        "\n",
        "  dydx[0] = state[1]\n",
        "\n",
        "  delta_deg = state[2] - state[0]\n",
        "  den1 = (M1+M2) * L1 - M2 * L1 * cos(delta_deg) * cos(delta_deg)\n",
        "  dydx[1] = ((M2 * L1 * state[1] * state[1] * sin(delta_deg) * cos(delta_deg)\n",
        "              + M2 * G_dp * sin(state[2]) * cos(delta_deg)\n",
        "              + M2 * L2 * state[3] * state[3] * sin(delta_deg)\n",
        "              - (M1+M2) * G_dp * sin(state[0]))\n",
        "              / den1)\n",
        "\n",
        "  dydx[2] = state[3]\n",
        "\n",
        "  den2 = (L2/L1) * den1\n",
        "  dydx[3] = ((- M2 * L2 * state[3] * state[3] * sin(delta_deg) * cos(delta_deg)\n",
        "              + (M1+M2) * G_dp * sin(state[0]) * cos(delta_deg)\n",
        "              - (M1+M2) * L1 * state[1] * state[1] * sin(delta_deg)\n",
        "              - (M1+M2) * G_dp * sin(state[2]))\n",
        "              / den2)\n",
        "\n",
        "  return dydx"
      ]
    },
    {
      "cell_type": "code",
      "execution_count": null,
      "metadata": {
        "id": "K1zMHhKSMJ9D"
      },
      "outputs": [],
      "source": [
        "# integrate the Ordinary Differential Equation (ODE) using Euler's method\n",
        "def integrate_ODE(timesteps,dt,pendulum):\n",
        "  inner_pendulum = pendulum.get_pendulum(0)\n",
        "  outer_pendulum = pendulum.get_pendulum(1)\n",
        "  L1 = inner_pendulum[0]\n",
        "  M1 = inner_pendulum[1]\n",
        "  L2 = outer_pendulum[0]\n",
        "  M2 = outer_pendulum[1]\n",
        "\n",
        "  y = np.empty((len(timesteps), 4))\n",
        "  y[0] = pendulum.state\n",
        "  for i in range(1, len(timesteps)):\n",
        "      y[i] = y[i - 1] + derivs(y[i - 1],L1,M1,L2,M2) * dt\n",
        "  return y"
      ]
    },
    {
      "cell_type": "markdown",
      "metadata": {
        "id": "j3Xv3dBnv9FV"
      },
      "source": [
        "# Model Training"
      ]
    },
    {
      "cell_type": "markdown",
      "metadata": {
        "id": "jmqdpfChwDFv"
      },
      "source": [
        "### Prepare Simulation"
      ]
    },
    {
      "cell_type": "code",
      "execution_count": null,
      "metadata": {
        "id": "R48xKpIavu8L"
      },
      "outputs": [],
      "source": [
        "# prepare simulation for Model training\n",
        "def prepareData(simulation,window_size_X,window_size_y): \n",
        "  X = []\n",
        "  y = []\n",
        "  for i in range(len(simulation)-window_size_X - window_size_y):\n",
        "    row = [bodies for bodies in simulation[i:i+window_size_X]]  \n",
        "    X.append(row)\n",
        "    label =  [bodies for bodies in simulation[i+window_size_X:i+window_size_X + window_size_y]]#######################################\n",
        "    y.append(label)\n",
        "\n",
        "  return np.array(X) , np.array(y)"
      ]
    },
    {
      "cell_type": "markdown",
      "metadata": {
        "id": "2Od0-lw5xKui"
      },
      "source": [
        "### Model Pre-Training"
      ]
    },
    {
      "cell_type": "code",
      "execution_count": null,
      "metadata": {
        "id": "vnXlIKalwNLu"
      },
      "outputs": [],
      "source": [
        "# create random training set\n",
        "def createRandomTrainingSetForPreTrainedModel():\n",
        "    randomSimulations = []\n",
        "    numOfSimulations = 5\n",
        "    X_trainArr = [None]*numOfSimulations\n",
        "    y_trainArr = [None]*numOfSimulations\n",
        "    for i in range(numOfSimulations):\n",
        "      randomSimulations.append(createRandomSimulation(4,timestep,steps,interval_in_data))\n",
        "      X_trainArr[i], y_trainArr[i] = prepareData(train,windowSizeX,windowSizeY)\n",
        "\n",
        " #   for i in range(len(randomSimulations)):\n",
        "      saveSimulation(randomSimulations[i],numOfBodies,f\"{numOfBodies}-Body Simulation{i+20}\")\n",
        "\n",
        "\n",
        "    return X_trainArr, y_trainArr"
      ]
    },
    {
      "cell_type": "code",
      "execution_count": null,
      "metadata": {
        "id": "bfdGlQAtxBd-"
      },
      "outputs": [],
      "source": [
        "# train model on random simulation\n",
        "def trainOnRandomSimulations(epochs, numOfSimulations, X_trainArr,y_trainArr):\n",
        "\n",
        "    for i in range(epochs):\n",
        "      for j in range(numOfSimulations):\n",
        "      #model.fit(X_train, y_train, validation_data=(X_val, y_val), epochs=2, callbacks=[cp1])\n",
        "      #history = model.fit(X_train, y_train, epochs=1, callbacks=[cp1])\n",
        "        history = model.fit(X_trainArr[i], y_trainArr[i], epochs=1, callbacks=[cp1])"
      ]
    },
    {
      "cell_type": "code",
      "execution_count": null,
      "metadata": {
        "id": "OQ2igit9zOqj"
      },
      "outputs": [],
      "source": [
        "### Inception\n",
        "\n",
        "\n",
        "from tensorflow.keras.layers import *\n",
        "from tensorflow.keras.models import Model\n",
        "\n",
        "def inception_module(x, base_channels=32):\n",
        "  #a = Conv2D(base_channels*2, 1, 1, activation='relu')(x)\n",
        "  \n",
        "  \n",
        "  b_1 = Conv2D(base_channels*2, 3, 1, activation='relu')(x)\n",
        "  b_2 = Conv2D(base_channels*4, 3, 1, padding='same', activation='relu')(b_1)\n",
        "\n",
        "  c_1 = Conv2D(base_channels, 3, 1, activation='relu')(x)\n",
        "  c_2 = Conv2D(base_channels, 5, 1, padding='same', activation='relu')(c_1)\n",
        "\n",
        "\n",
        "  d_1 = MaxPooling2D(3, 1, padding='same')(x)\n",
        "  d_2 = Conv2D(base_channels, 1, 1, activation='relu')(d_1)\n",
        "\n",
        "\n",
        "\n",
        "\n",
        "  return Concatenate(axis=-1)([b_2, c_2])\n",
        "\n",
        "def Inceptionmodel(window_size_X,window_size_y,numberOfBodies):\n",
        "\n",
        "  inp = Input((window_size_X, numberOfBodies*2, 1))\n",
        "\n",
        "  maps_1 = inception_module(inp)\n",
        "  maps_2 = inception_module(maps_1, base_channels=16)\n",
        "  \n",
        "  #gap = GlobalMaxPooling2D()(maps_2)\n",
        "  flatten = Flatten()(maps_2)\n",
        "\n",
        "  output = Dense(window_size_y * numberOfBodies*2, activation='linear')(flatten)\n",
        "  output = (tf.keras.layers.Reshape([window_size_y, numberOfBodies*2]))(output)\n",
        "  model = Model(inputs=inp, outputs=output)\n",
        "  model.summary()\n",
        "  return model\n",
        "  \n",
        "  "
      ]
    },
    {
      "cell_type": "markdown",
      "metadata": {
        "id": "rnj3S6dXyGNt"
      },
      "source": [
        "### Split Simulation Data"
      ]
    },
    {
      "cell_type": "code",
      "execution_count": null,
      "metadata": {
        "id": "IJHdfzYsxlDx"
      },
      "outputs": [],
      "source": [
        "# split simulation data to training, validation & testing sets\n",
        "def splitToTrainValidTest(simulation,testPercentage=0.1):\n",
        "  trainLen = round((len(simulation)*(1-testPercentage-0.1)))\n",
        "  valLen = round((len(simulation)*0.1))\n",
        "  train_set = simulation[:trainLen]\n",
        "  val_set = simulation[trainLen:trainLen+valLen]\n",
        "  test_set = simulation[trainLen+valLen:]\n",
        "  return train_set,val_set,test_set"
      ]
    },
    {
      "cell_type": "markdown",
      "metadata": {
        "id": "n9mg1vx1z-FV"
      },
      "source": [
        "### Models"
      ]
    },
    {
      "cell_type": "markdown",
      "metadata": {
        "id": "w6hiOgDwzbuR"
      },
      "source": [
        "#### CNN (Convolutional Neural Network)"
      ]
    },
    {
      "cell_type": "code",
      "execution_count": null,
      "metadata": {
        "id": "r4duzckczY6H"
      },
      "outputs": [],
      "source": [
        "## CNN blocks\n",
        "\n",
        "from tensorflow.keras.models import Sequential\n",
        "from tensorflow.keras.layers import *\n",
        "from tensorflow.keras.callbacks import ModelCheckpoint\n",
        "from tensorflow.keras.losses import MeanSquaredError\n",
        "from tensorflow.keras.metrics import RootMeanSquaredError\n",
        "from tensorflow.keras.optimizers import Adam\n",
        "from tensorflow.keras.optimizers.schedules import ExponentialDecay\n",
        "from tensorflow.keras.preprocessing.sequence import TimeseriesGenerator\n",
        "\n",
        "def buildModelCNN(window_size_X,window_size_y,numberOfBodies): \n",
        "  model = Sequential()\n",
        " # model.add(InputLayer((window_size_X,numberOfBodies*2)))\n",
        "\n",
        "\n",
        "  model.add(tf.keras.layers.Conv2D(32, (3,3), padding=\"same\", activation=\"relu\", input_shape=(window_size_X, numberOfBodies*2, 1)))\n",
        "  model.add(tf.keras.layers.Conv2D(32, (5,5), padding=\"same\", activation=\"relu\", input_shape=(window_size_y, numberOfBodies*2, 1)))\n",
        "\n",
        "  #model.add(Conv1D(64, kernel_size=2)) ###\n",
        "  #model.add(Dropout(0.2))\n",
        " # model.add(Conv1D(32, kernel_size=(3,3))) ###\n",
        "  model.add(Flatten())\n",
        "  #model.add(LSTM(32))\n",
        "  #model.add(Dropout(0.2))\n",
        "  #model.add(Dense(16, 'relu'))\n",
        "  model.add(Dense(units =  window_size_y*numberOfBodies*2, activation ='linear'))\n",
        "  model.add(tf.keras.layers.Reshape([window_size_y, numberOfBodies*2]))\n",
        "  model.summary()\n",
        "  return model"
      ]
    },
    {
      "cell_type": "markdown",
      "metadata": {
        "id": "ZmkfkQ-kwWkI"
      },
      "source": [
        "XGBoost"
      ]
    },
    {
      "cell_type": "code",
      "execution_count": null,
      "metadata": {
        "id": "2dyH01UkwZbK"
      },
      "outputs": [],
      "source": [
        "from xgboost import XGBRegressor\n",
        "\n",
        "def XGBoostModel(X,y,estimators):\n",
        "  model = XGBRegressor(objective =\"reg:squarederror\",n_estimators = estimators)\n",
        "  return model"
      ]
    },
    {
      "cell_type": "markdown",
      "metadata": {
        "id": "zxeUu6Zd11Il"
      },
      "source": [
        "##### Inception"
      ]
    },
    {
      "cell_type": "code",
      "execution_count": null,
      "metadata": {
        "id": "sPHiS0mr1wig"
      },
      "outputs": [],
      "source": [
        "### Inception\n",
        "\n",
        "\n",
        "from tensorflow.keras.layers import *\n",
        "from tensorflow.keras.models import Model\n",
        "\n",
        "def inception_module(x, base_channels=32):\n",
        "  #a = Conv2D(base_channels*2, 1, 1, activation='relu')(x)\n",
        "\n",
        "  b_1 = Conv2D(base_channels*2, 3, 1, activation='relu')(x)\n",
        "  b_2 = Conv2D(base_channels*4, 3, 1, padding='same', activation='relu')(b_1)\n",
        "\n",
        "  c_1 = Conv2D(base_channels, 3, 1, activation='relu')(x)\n",
        "  c_2 = Conv2D(base_channels, 5, 1, padding='same', activation='relu')(c_1)\n",
        "\n",
        " # d_1 = MaxPooling2D(3, 1, padding='same')(x)\n",
        " # d_2 = Conv2D(base_channels, 1, 1, activation='relu')(d_1)\n",
        "\n",
        "\n",
        "\n",
        "\n",
        "  return Concatenate(axis=-1)([b_2, c_2])\n",
        "\n",
        "def Inceptionmodel(window_size_X,window_size_y,numberOfBodies):\n",
        "\n",
        "  inp = Input((window_size_X, numberOfBodies*2, 1))\n",
        "\n",
        "  maps_1 = inception_module(inp)\n",
        "  maps_2 = inception_module(maps_1, base_channels=16)\n",
        "  \n",
        "  #gap = GlobalMaxPooling2D()(maps_2)\n",
        "  flatten = Flatten()(maps_2)\n",
        "\n",
        "  output = Dense(window_size_y * numberOfBodies*2, activation='linear')(flatten)\n",
        "  output = (tf.keras.layers.Reshape([window_size_y, numberOfBodies*2]))(output)\n",
        "  model = Model(inputs=inp, outputs=output)\n",
        "  model.summary()\n",
        "  return model"
      ]
    },
    {
      "cell_type": "markdown",
      "metadata": {
        "id": "GIf1vtvq0CCH"
      },
      "source": [
        "#### LSTM (Long Short-Term Memory)"
      ]
    },
    {
      "cell_type": "markdown",
      "metadata": {
        "id": "HoVRzkm-0n2Z"
      },
      "source": [
        "#### GRU (Gated Recurrent Unit)"
      ]
    },
    {
      "cell_type": "markdown",
      "metadata": {
        "id": "NYcYXDFe2B3l"
      },
      "source": [
        "#### Transformer"
      ]
    },
    {
      "cell_type": "code",
      "execution_count": null,
      "metadata": {
        "id": "sbQD_2FG2Ksr"
      },
      "outputs": [],
      "source": [
        "## Transformer\n",
        "\n",
        "from tensorflow import keras\n",
        "from tensorflow.keras import layers\n",
        "\n",
        "def transformer_encoder(inputs, head_size, num_heads, ff_dim, dropout=0):\n",
        "    # Normalization and Attention\n",
        "    x = layers.LayerNormalization(epsilon=1e-6)(inputs)\n",
        "    x = layers.MultiHeadAttention(\n",
        "        key_dim=head_size, num_heads=num_heads, dropout=dropout\n",
        "    )(x, x)\n",
        "    x = layers.Dropout(dropout)(x)\n",
        "    res = x + inputs\n",
        "\n",
        "    # Feed Forward Part\n",
        "    x = layers.LayerNormalization(epsilon=1e-6)(res)\n",
        "    x = layers.Conv1D(filters=ff_dim, kernel_size=1, activation=\"relu\")(x)\n",
        "    x = layers.Dropout(dropout)(x)\n",
        "    x = layers.Conv1D(filters=inputs.shape[-1], kernel_size=1)(x)\n",
        "    return x + res\n",
        "\n",
        "\n",
        "def build_model(\n",
        "    window_size_X=100,\n",
        "    head_size=256,\n",
        "    num_heads=4,\n",
        "    ff_dim=4,\n",
        "    num_transformer_blocks=4,\n",
        "    mlp_units=[128],\n",
        "    dropout=0.4,\n",
        "    mlp_dropout=0.25,\n",
        "    window_size_y=100,\n",
        "    numberOfBodies=3\n",
        "):\n",
        "    inputs = keras.Input(shape=(window_size_X, numberOfBodies*2, 1))\n",
        "    x = inputs\n",
        "    for _ in range(num_transformer_blocks):\n",
        "        x = transformer_encoder(x, head_size, num_heads, ff_dim, dropout)\n",
        "\n",
        "    x = layers.GlobalAveragePooling2D(data_format=\"channels_first\")(x)\n",
        "    for dim in mlp_units:\n",
        "        x = layers.Dense(dim, activation=\"relu\")(x)\n",
        "        x = layers.Dropout(mlp_dropout)(x)\n",
        "    outputs = layers.Dense(units =  window_size_y*numberOfBodies*2, activation ='linear')(x)\n",
        "    outputs = (tf.keras.layers.Reshape([window_size_y, numberOfBodies*2]))(outputs)\n",
        "\n",
        "    return keras.Model(inputs, outputs)  \n",
        "    "
      ]
    },
    {
      "cell_type": "markdown",
      "metadata": {
        "id": "xhd1anGE2d52"
      },
      "source": [
        "### Model Prediction"
      ]
    },
    {
      "cell_type": "code",
      "execution_count": null,
      "metadata": {
        "id": "ap6T-oKHnxl3"
      },
      "outputs": [],
      "source": [
        "#model =  buildModelCNN(windowSizeX,windowSizeY,numOfBodies)\n",
        "#model =  buildModelLSTM(windowSizeX,windowSizeY,numOfBodies)\n",
        "#model = Inceptionmodel(windowSizeX,windowSizeY, numOfBodies)\n",
        "#model = InceptionmodelWavelet(windowSizeX,windowSizeY, numOfBodies)\n",
        "#model = wavelet(windowSizeX,windowSizeY, numOfBodies)\n",
        "#model = transformerModel(window_size_X=windowSizeX,window_size_y=windowSizeY,numberOfBodies=numOfBodies)\n",
        "#model = LSTMmodel(windowSizeX,windowSizeY, numOfBodies)\n",
        "#model = waveletModel(windowSizeX,windowSizeY, numOfBodies)\n",
        "#model = DenseNet(windowSizeX,windowSizeY,numOfBodies)\n",
        "model = ResNet(windowSizeY,numOfBodies)\n",
        "\n",
        "cp1 = ModelCheckpoint('model/', save_best_only=True)\n",
        "model.compile(loss=keras.losses.MeanSquaredError(), optimizer=Adam(learning_rate=0.0001), metrics=[RootMeanSquaredError()])"
      ]
    },
    {
      "cell_type": "code",
      "execution_count": null,
      "metadata": {
        "id": "Om712rQK2V0w"
      },
      "outputs": [],
      "source": [
        "# Model Prediction with \"sliding window\" method\n",
        "def slidingWindowActualPredictions(model,windowArr,windowSize,NumOfBodies,predictionsRequestedNumber): ### One step at a time autoregression\n",
        "  actualPredictionArr =[]\n",
        "  for i in range(predictionsRequestedNumber):\n",
        "\n",
        "    prediction = model.predict(windowArr[-1:]) ### predict from last window\n",
        "    actualPredictionArr.append(prediction)\n",
        "    temp = np.zeros([windowSize,numOfBodies*2])\n",
        "    temp = temp + windowArr[-1]\n",
        "    temp =temp[1:]\n",
        "    newWindow = np.append(temp.reshape(windowSize-1,numOfBodies*2),prediction)\n",
        "    newWindow = newWindow.reshape(windowSize,numOfBodies*2)\n",
        "    lengthX = len(windowArr)\n",
        "    windowArr = np.append(windowArr,newWindow) ### add new window that the last vector is the prediction \n",
        "    windowArr = windowArr.reshape(lengthX+1,windowSize,numOfBodies*2)\n",
        "\n",
        "  return actualPredictionArr"
      ]
    },
    {
      "cell_type": "code",
      "execution_count": null,
      "metadata": {
        "id": "0EPleTgI4p4a"
      },
      "outputs": [],
      "source": [
        "def postprocess(lastKnownElement , listOfPredictedChanges):\n",
        "  listOfPredictions = []\n",
        "  for pred in listOfPredictedChanges:\n",
        "    #newElement = (pred * np.linalg.norm(lastKnownElement)) + lastKnownElement\n",
        "    newElement = pred  + lastKnownElement\n",
        "    listOfPredictions.append(newElement)\n",
        "    lastKnownElement = newElement\n",
        "  return np.array(listOfPredictions)  \n"
      ]
    },
    {
      "cell_type": "markdown",
      "metadata": {
        "id": "zmTt-V66CCQg"
      },
      "source": [
        "#### Display Model Prediction + Simulation"
      ]
    },
    {
      "cell_type": "code",
      "execution_count": null,
      "metadata": {
        "id": "KiC0H2JCCI33"
      },
      "outputs": [],
      "source": [
        "windowSizeY = 100\n",
        "\n",
        "def draw_real_vs_prediction(real,pred,simulation_name,i=0,j=windowSizeY):\n",
        "  plt.title(f\"Real Trajectory in range {i}-{j}\")\n",
        "  drawSimulation(real[i:j], f'{simulation_name}_real')\n",
        "  plt.title(f\"Predicted Trajectory in range {i}-{j}\")\n",
        "  drawSimulation(pred[i:j], f'{simulation_name}_prediction')"
      ]
    },
    {
      "cell_type": "code",
      "source": [
        "@anvil.server.callable\n",
        "def make_model(model_type,windowSizeX=100,windowSizeY=100):\n",
        "  global runTime_model\n",
        "  global runTime_simulation\n",
        "  global history\n",
        "\n",
        "  global X_train\n",
        "  global y_train\n",
        "  global X_val\n",
        "  global y_val\n",
        "  global X_test\n",
        "  global y_test\n",
        "\n",
        "  numOfBodies = runTime_simulation.shape[1]//2\n",
        "  train,val,test = splitToTrainValidTest(runTime_simulation,0.1)\n",
        " \n",
        "  X_train,y_train = prepareData(train, windowSizeX,windowSizeY)\n",
        "  X_val,y_val = prepareData(val, windowSizeX,windowSizeY)\n",
        "  X_test,y_test = prepareData(test, windowSizeX,windowSizeY)\n",
        "\n",
        "  if model_type == \"LSTM\":\n",
        "    runTime_model = buildModelLSTM(windowSizeX,windowSizeY,numOfBodies)\n",
        "  if model_type == \"GRU\":\n",
        "    # runTime_model = buildModelGRU(windowSizeX,windowSizeY,numOfBodies) TODO\n",
        "    pass\n",
        "  if model_type == \"CNN\":\n",
        "    runTime_model = buildModelCNN(windowSizeX,windowSizeY,numOfBodies)\n",
        "\n",
        "  cp1 = ModelCheckpoint('model/', save_best_only=True)\n",
        "  runTime_model.compile(loss=keras.losses.MeanSquaredError(), optimizer=Adam(learning_rate=0.0001), metrics=[RootMeanSquaredError()])\n",
        "  history = runTime_model.fit(X_train,y_train, validation_data=(X_val, y_val), epochs=15, callbacks=[cp1],batch_size = 32)"
      ],
      "metadata": {
        "id": "56ZQqMQHnBgZ"
      },
      "execution_count": null,
      "outputs": []
    },
    {
      "cell_type": "code",
      "source": [
        "import anvil.mpl_util\n",
        "from PIL import Image\n",
        "import io\n",
        "\n",
        "@anvil.server.callable\n",
        "def show_loss(simulation_name):\n",
        "  global history\n",
        "  plt.plot(history.history['loss']) # 1.7*e^-5\n",
        "  plt.plot(history.history['val_loss'])\n",
        "  plt.title('model loss')\n",
        "  plt.ylabel('loss')\n",
        "  plt.xlabel('epoch')\n",
        "  plt.legend(['train', 'val'], loc='upper left')\n",
        "\n",
        "  plt.savefig(f\"/content/tmp/{simulation_name}_loss\")\n",
        "  img = Image.open(f\"/content/tmp/{simulation_name}_loss.png\",mode='r')\n",
        "  bs = io.BytesIO()\n",
        "  img.save(bs,format=\"PNG\")\n",
        "  return anvil.BlobMedia(\"image/png\", bs.getvalue(), name=simulation_name)"
      ],
      "metadata": {
        "id": "ewE1uBCJvZ0u"
      },
      "execution_count": null,
      "outputs": []
    },
    {
      "cell_type": "code",
      "source": [
        "\n",
        "@anvil.server.callable\n",
        "def get_prediction(simulation_name):\n",
        "  #predictions = predict(model,X_val[:1],val[100])\n",
        "  global X_test\n",
        "  global predictions\n",
        "  predictions = runTime_model.predict(X_test[:1])\n",
        "  return drawSimulation(predictions,f'{simulation_name}_prediction')\n",
        "\n",
        "@anvil.server.callable\n",
        "def get_real(simulation_name):\n",
        "  #real = postprocess(val[100],y_val[:1])\n",
        "  global predictions\n",
        "  global y_test\n",
        "  real = y_test[:1]\n",
        "  real = real.squeeze()\n",
        "  predictions = predictions.squeeze()\n",
        "  print(math.sqrt(mean_squared_error(real,predictions)))\n"
      ],
      "metadata": {
        "id": "tNJDjsGrvyH7"
      },
      "execution_count": null,
      "outputs": []
    },
    {
      "cell_type": "markdown",
      "metadata": {
        "id": "GmgmV6Lv5-y1"
      },
      "source": [
        "# Three body Flow Example"
      ]
    },
    {
      "cell_type": "markdown",
      "metadata": {
        "id": "GVN3kZII7BJX"
      },
      "source": [
        "### Select initial values"
      ]
    },
    {
      "cell_type": "code",
      "execution_count": null,
      "metadata": {
        "id": "rieT7srG59_h"
      },
      "outputs": [],
      "source": [
        "#Body(position,velocity,mass,name)\n",
        "#%%timeit\n",
        "bodies=[]\n",
        "bodies.append(Body([-0.97000436, 0.24308753],[0.466203685, 0.47236573],1,\"body1\"))\n",
        "bodies.append(Body([0.91000436, -0.24308753],[0.166203685, 0.43236573],1,\"body2\"))\n",
        "bodies.append(Body([0, 0],[-0.93240737, -0.86473146],1,\"body3\"))\n",
        "\n",
        "##########################################\n",
        "\n",
        "# The 8 Figure motion initials\n",
        "\n",
        "#bodies.append(Body([-0.97000436, 0.24308753],[0.4662036850, 0.4323657300],1,\"body1\"))\n",
        "#bodies.append(Body([0.97000436, -0.24308753],[0.4662036850, 0.4323657300],1,\"body2\"))\n",
        "#bodies.append(Body([0, 0],[-0.93240737, -0.86473146],1,\"body3\"))\n",
        "\n",
        "##########################################\n",
        "\n",
        "numOfBodies=len(bodies)\n",
        "##t: timestep . steps: number of steps. interval_in_data\n",
        "timestep = 0.001 # actual seconds\n",
        "steps = 222000\n",
        "#steps = 3000000\n",
        "interval_in_data = 500"
      ]
    },
    {
      "cell_type": "markdown",
      "metadata": {
        "id": "KSpt0-RE7WXl"
      },
      "source": [
        "### Create Simulation"
      ]
    },
    {
      "cell_type": "code",
      "execution_count": null,
      "metadata": {
        "id": "kW1i0Nv27Qhb"
      },
      "outputs": [],
      "source": [
        "# create simulation\n",
        "simulation1 = simulate_on_time_step(bodies,timestep,steps,interval_in_data)\n",
        "#simulation1=simulation1.reshape(len(simulation1), numOfBodies*2 )"
      ]
    },
    {
      "cell_type": "markdown",
      "metadata": {
        "id": "qSM6quKa7adP"
      },
      "source": [
        "### Display Simulation"
      ]
    },
    {
      "cell_type": "code",
      "execution_count": null,
      "metadata": {
        "id": "zdo9yggq6_DC",
        "colab": {
          "base_uri": "https://localhost:8080/",
          "height": 801
        },
        "outputId": "57a155b8-1eb4-493a-9d68-b09a6726af9f"
      },
      "outputs": [
        {
          "output_type": "stream",
          "name": "stdout",
          "text": [
            "<class 'numpy.ndarray'>\n",
            "[[-9.70004360e-01  2.43087530e-01  9.10004360e-01 -2.43087530e-01\n",
            "   0.00000000e+00  0.00000000e+00]\n",
            " [-5.67994235e-01  3.71005109e-01  8.47772680e-01 -9.94150343e-03\n",
            "  -4.89778445e-01 -3.41063605e-01]\n",
            " [ 1.67894996e-02  9.35620525e-02  4.98402654e-01  2.25162564e-01\n",
            "  -8.75192153e-01 -2.78724616e-01]\n",
            " ...\n",
            " [-2.20561135e+01  2.95185394e+00 -2.20666774e+01  2.92204699e+00\n",
            "  -2.20872091e+01  2.94609906e+00]\n",
            " [-2.21030542e+01  2.93987029e+00 -2.21343587e+01  2.93538939e+00\n",
            "  -2.21225870e+01  2.96474033e+00]\n",
            " [-2.21681294e+01  2.93517153e+00 -2.21866639e+01  2.96079429e+00\n",
            "  -2.21552067e+01  2.96403418e+00]]\n"
          ]
        },
        {
          "output_type": "display_data",
          "data": {
            "text/plain": [
              "<Figure size 432x288 with 1 Axes>"
            ],
            "image/png": "[encoded data removed]"
          },
          "metadata": {
            "needs_background": "light"
          }
        },
        {
          "output_type": "display_data",
          "data": {
            "text/plain": [
              "<Figure size 432x288 with 1 Axes>"
            ],
            "image/png": "[encoded data removed]"
          },
          "metadata": {
            "needs_background": "light"
          }
        }
      ],
      "source": [
        "create_tmp_folder()\n",
        "drawSimulation(simulation1,'3bodyExample')\n",
        "showBodiesMovmentInGraph(numpyToPandas(simulation1,numOfBodies))"
      ]
    },
    {
      "cell_type": "markdown",
      "metadata": {
        "id": "YjUbeEXw7gqq"
      },
      "source": [
        "### Save Simulation"
      ]
    },
    {
      "cell_type": "code",
      "execution_count": null,
      "metadata": {
        "id": "hyXGwXTI6_3j"
      },
      "outputs": [],
      "source": [
        "saveSimulation(simulation1,numOfBodies,f\"{numOfBodies}-Body Simulation\")"
      ]
    },
    {
      "cell_type": "markdown",
      "metadata": {
        "id": "V1_XRlY88bDZ"
      },
      "source": [
        "### Build a CNN Model"
      ]
    },
    {
      "cell_type": "code",
      "execution_count": null,
      "metadata": {
        "id": "8mKhbeiT8dwL",
        "colab": {
          "base_uri": "https://localhost:8080/"
        },
        "outputId": "31b15ad4-71a4-421b-a616-2ebd809bbb9d"
      },
      "outputs": [
        {
          "output_type": "stream",
          "name": "stdout",
          "text": [
            "Model: \"sequential_1\"\n",
            "_________________________________________________________________\n",
            " Layer (type)                Output Shape              Param #   \n",
            "=================================================================\n",
            " conv2d_10 (Conv2D)          (None, 100, 8, 32)        320       \n",
            "                                                                 \n",
            " conv2d_11 (Conv2D)          (None, 100, 8, 32)        25632     \n",
            "                                                                 \n",
            " flatten_2 (Flatten)         (None, 25600)             0         \n",
            "                                                                 \n",
            " dense_2 (Dense)             (None, 800)               20480800  \n",
            "                                                                 \n",
            " reshape_2 (Reshape)         (None, 100, 8)            0         \n",
            "                                                                 \n",
            "=================================================================\n",
            "Total params: 20,506,752\n",
            "Trainable params: 20,506,752\n",
            "Non-trainable params: 0\n",
            "_________________________________________________________________\n"
          ]
        }
      ],
      "source": [
        "model = buildModelCNN(100,100, 4)"
      ]
    },
    {
      "cell_type": "markdown",
      "metadata": {
        "id": "vubxBvRV8Iai"
      },
      "source": [
        "### Train Model On The Simulation"
      ]
    },
    {
      "cell_type": "code",
      "execution_count": null,
      "metadata": {
        "id": "VrkVO7B68Otz",
        "colab": {
          "base_uri": "https://localhost:8080/"
        },
        "outputId": "82bff107-bdc9-4089-d929-fece479333bb"
      },
      "outputs": [
        {
          "output_type": "stream",
          "name": "stdout",
          "text": [
            "Model: \"model_1\"\n",
            "__________________________________________________________________________________________________\n",
            " Layer (type)                   Output Shape         Param #     Connected to                     \n",
            "==================================================================================================\n",
            " input_2 (InputLayer)           [(None, 100, 6, 1)]  0           []                               \n",
            "                                                                                                  \n",
            " conv2d_12 (Conv2D)             (None, 98, 4, 64)    640         ['input_2[0][0]']                \n",
            "                                                                                                  \n",
            " conv2d_14 (Conv2D)             (None, 98, 4, 32)    320         ['input_2[0][0]']                \n",
            "                                                                                                  \n",
            " conv2d_13 (Conv2D)             (None, 98, 4, 128)   73856       ['conv2d_12[0][0]']              \n",
            "                                                                                                  \n",
            " conv2d_15 (Conv2D)             (None, 98, 4, 32)    25632       ['conv2d_14[0][0]']              \n",
            "                                                                                                  \n",
            " concatenate_2 (Concatenate)    (None, 98, 4, 160)   0           ['conv2d_13[0][0]',              \n",
            "                                                                  'conv2d_15[0][0]']              \n",
            "                                                                                                  \n",
            " conv2d_16 (Conv2D)             (None, 96, 2, 32)    46112       ['concatenate_2[0][0]']          \n",
            "                                                                                                  \n",
            " conv2d_18 (Conv2D)             (None, 96, 2, 16)    23056       ['concatenate_2[0][0]']          \n",
            "                                                                                                  \n",
            " conv2d_17 (Conv2D)             (None, 96, 2, 64)    18496       ['conv2d_16[0][0]']              \n",
            "                                                                                                  \n",
            " conv2d_19 (Conv2D)             (None, 96, 2, 16)    6416        ['conv2d_18[0][0]']              \n",
            "                                                                                                  \n",
            " concatenate_3 (Concatenate)    (None, 96, 2, 80)    0           ['conv2d_17[0][0]',              \n",
            "                                                                  'conv2d_19[0][0]']              \n",
            "                                                                                                  \n",
            " flatten_3 (Flatten)            (None, 15360)        0           ['concatenate_3[0][0]']          \n",
            "                                                                                                  \n",
            " dense_3 (Dense)                (None, 600)          9216600     ['flatten_3[0][0]']              \n",
            "                                                                                                  \n",
            " reshape_3 (Reshape)            (None, 100, 6)       0           ['dense_3[0][0]']                \n",
            "                                                                                                  \n",
            "==================================================================================================\n",
            "Total params: 9,411,128\n",
            "Trainable params: 9,411,128\n",
            "Non-trainable params: 0\n",
            "__________________________________________________________________________________________________\n"
          ]
        }
      ],
      "source": [
        "#from sklearn.preprocessing import MinMaxScaler\n",
        "from sklearn.preprocessing import StandardScaler\n",
        "from scipy.signal import hilbert\n",
        "scaled = False \n",
        "\n",
        "batch = 128\n",
        "\n",
        "diffSimulation1 = np.diff(simulation1,axis = 0)\n",
        "#diffSimulation1 = preprocessSimulation(simulation1)\n",
        "#diffSimulation1 = np.diff(simulation1[:,2:8],axis = 0)\n",
        "train, val, test = splitToTrainValidTest(diffSimulation1,0.05)\n",
        "\n",
        "\n",
        "windowSizeX=100#len(test)\n",
        "windowSizeY =100#len(test)\n",
        "\n",
        "\n",
        "if scaled:\n",
        "  scaler = StandardScaler()\n",
        "  scaler.fit(simulation1[:len(train)+len(val)])\n",
        "  #valScaler.fit(train)  ### train / val as input ? \n",
        "\n",
        "  train = scaler.transform(train)\n",
        "  val = scaler.transform(val)\n",
        "  #train = hilbert(train)\n",
        "  #val = hilbert(val)\n",
        "\n",
        "X_train, y_train = prepareData(train,windowSizeX,windowSizeY)\n",
        "X_val, y_val = prepareData(val,windowSizeX,windowSizeY)\n",
        "X_test, y_test = prepareData(test,windowSizeX,windowSizeY)\n",
        "\n",
        "#model =  buildModelCNN(windowSizeX,windowSizeY,numOfBodies)\n",
        "model = Inceptionmodel(windowSizeX,windowSizeY, numOfBodies)\n",
        "cp1 = ModelCheckpoint('Inceptionmodel/', save_best_only=True)\n",
        "model.compile(loss=MeanSquaredError(), optimizer=Adam(learning_rate=0.001), metrics=[RootMeanSquaredError()])\n",
        "#Inceptionmodel.compile(loss=MeanSquaredError(), optimizer=Adam(learning_rate=0.001), metrics=[RootMeanSquaredError()])\n",
        "\n",
        "\n",
        "\n",
        "#generator = TimeseriesGenerator(train_scaled,train_scaled,length = len(test),batch_size=batch)"
      ]
    },
    {
      "cell_type": "code",
      "execution_count": null,
      "metadata": {
        "id": "TsbUQKQ381PI",
        "colab": {
          "base_uri": "https://localhost:8080/",
          "height": 545
        },
        "outputId": "d8fd2d98-1800-47d2-ce87-2ce98ff0dbfd"
      },
      "outputs": [
        {
          "output_type": "display_data",
          "data": {
            "text/plain": [
              "<Figure size 432x288 with 1 Axes>"
            ],
            "image/png": "[encoded data removed]"
          },
          "metadata": {
            "needs_background": "light"
          }
        },
        {
          "output_type": "display_data",
          "data": {
            "text/plain": [
              "<Figure size 432x288 with 1 Axes>"
            ],
            "image/png": "[encoded data removed]"
          },
          "metadata": {
            "needs_background": "light"
          }
        }
      ],
      "source": [
        "showBodiesMovmentInGraph(numpyToPandas(diffSimulation1,numOfBodies))"
      ]
    },
    {
      "cell_type": "markdown",
      "metadata": {
        "id": "tQPLQ0tH9-1g"
      },
      "source": [
        "### Train Model On Simulation"
      ]
    },
    {
      "cell_type": "code",
      "execution_count": null,
      "metadata": {
        "id": "lhjrlK4--Bkb",
        "colab": {
          "base_uri": "https://localhost:8080/"
        },
        "outputId": "336fb85d-1d10-413e-b534-7dfa50937c78"
      },
      "outputs": [
        {
          "output_type": "stream",
          "name": "stdout",
          "text": [
            "Epoch 1/100\n",
            "5/7 [====================>.........] - ETA: 0s - loss: 0.0011 - root_mean_squared_error: 0.0335"
          ]
        },
        {
          "output_type": "stream",
          "name": "stderr",
          "text": [
            "WARNING:tensorflow:Can save best model only with val_loss available, skipping.\n"
          ]
        },
        {
          "output_type": "stream",
          "name": "stdout",
          "text": [
            "\b\b\b\b\b\b\b\b\b\b\b\b\b\b\b\b\b\b\b\b\b\b\b\b\b\b\b\b\b\b\b\b\b\b\b\b\b\b\b\b\b\b\b\b\b\b\b\b\b\b\b\b\b\b\b\b\b\b\b\b\b\b\b\b\b\b\b\b\b\b\b\b\b\b\b\b\b\b\b\b\b\b\b\b\b\b\b\b\b\b\b\b\b\b\b\r7/7 [==============================] - 1s 20ms/step - loss: 0.0011 - root_mean_squared_error: 0.0330\n",
            "Epoch 2/100\n",
            "5/7 [====================>.........] - ETA: 0s - loss: 5.2492e-04 - root_mean_squared_error: 0.0229"
          ]
        },
        {
          "output_type": "stream",
          "name": "stderr",
          "text": [
            "WARNING:tensorflow:Can save best model only with val_loss available, skipping.\n"
          ]
        },
        {
          "output_type": "stream",
          "name": "stdout",
          "text": [
            "\b\b\b\b\b\b\b\b\b\b\b\b\b\b\b\b\b\b\b\b\b\b\b\b\b\b\b\b\b\b\b\b\b\b\b\b\b\b\b\b\b\b\b\b\b\b\b\b\b\b\b\b\b\b\b\b\b\b\b\b\b\b\b\b\b\b\b\b\b\b\b\b\b\b\b\b\b\b\b\b\b\b\b\b\b\b\b\b\b\b\b\b\b\b\b\b\b\b\b\r7/7 [==============================] - 0s 16ms/step - loss: 5.0562e-04 - root_mean_squared_error: 0.0225\n",
            "Epoch 3/100\n",
            "6/7 [========================>.....] - ETA: 0s - loss: 3.7213e-04 - root_mean_squared_error: 0.0193"
          ]
        },
        {
          "output_type": "stream",
          "name": "stderr",
          "text": [
            "WARNING:tensorflow:Can save best model only with val_loss available, skipping.\n"
          ]
        },
        {
          "output_type": "stream",
          "name": "stdout",
          "text": [
            "\b\b\b\b\b\b\b\b\b\b\b\b\b\b\b\b\b\b\b\b\b\b\b\b\b\b\b\b\b\b\b\b\b\b\b\b\b\b\b\b\b\b\b\b\b\b\b\b\b\b\b\b\b\b\b\b\b\b\b\b\b\b\b\b\b\b\b\b\b\b\b\b\b\b\b\b\b\b\b\b\b\b\b\b\b\b\b\b\b\b\b\b\b\b\b\b\b\b\b\r7/7 [==============================] - 0s 14ms/step - loss: 3.7137e-04 - root_mean_squared_error: 0.0193\n",
            "Epoch 4/100\n",
            "6/7 [========================>.....] - ETA: 0s - loss: 3.5635e-04 - root_mean_squared_error: 0.0189"
          ]
        },
        {
          "output_type": "stream",
          "name": "stderr",
          "text": [
            "WARNING:tensorflow:Can save best model only with val_loss available, skipping.\n"
          ]
        },
        {
          "output_type": "stream",
          "name": "stdout",
          "text": [
            "\b\b\b\b\b\b\b\b\b\b\b\b\b\b\b\b\b\b\b\b\b\b\b\b\b\b\b\b\b\b\b\b\b\b\b\b\b\b\b\b\b\b\b\b\b\b\b\b\b\b\b\b\b\b\b\b\b\b\b\b\b\b\b\b\b\b\b\b\b\b\b\b\b\b\b\b\b\b\b\b\b\b\b\b\b\b\b\b\b\b\b\b\b\b\b\b\b\b\b\r7/7 [==============================] - 0s 14ms/step - loss: 3.5448e-04 - root_mean_squared_error: 0.0188\n",
            "Epoch 5/100\n",
            "7/7 [==============================] - ETA: 0s - loss: 3.3287e-04 - root_mean_squared_error: 0.0182"
          ]
        },
        {
          "output_type": "stream",
          "name": "stderr",
          "text": [
            "WARNING:tensorflow:Can save best model only with val_loss available, skipping.\n"
          ]
        },
        {
          "output_type": "stream",
          "name": "stdout",
          "text": [
            "\b\b\b\b\b\b\b\b\b\b\b\b\b\b\b\b\b\b\b\b\b\b\b\b\b\b\b\b\b\b\b\b\b\b\b\b\b\b\b\b\b\b\b\b\b\b\b\b\b\b\b\b\b\b\b\b\b\b\b\b\b\b\b\b\b\b\b\b\b\b\b\b\b\b\b\b\b\b\b\b\b\b\b\b\b\b\b\b\b\b\b\b\b\b\b\b\b\b\b\r7/7 [==============================] - 0s 13ms/step - loss: 3.3287e-04 - root_mean_squared_error: 0.0182\n",
            "Epoch 6/100\n",
            "6/7 [========================>.....] - ETA: 0s - loss: 3.2726e-04 - root_mean_squared_error: 0.0181"
          ]
        },
        {
          "output_type": "stream",
          "name": "stderr",
          "text": [
            "WARNING:tensorflow:Can save best model only with val_loss available, skipping.\n"
          ]
        },
        {
          "output_type": "stream",
          "name": "stdout",
          "text": [
            "\b\b\b\b\b\b\b\b\b\b\b\b\b\b\b\b\b\b\b\b\b\b\b\b\b\b\b\b\b\b\b\b\b\b\b\b\b\b\b\b\b\b\b\b\b\b\b\b\b\b\b\b\b\b\b\b\b\b\b\b\b\b\b\b\b\b\b\b\b\b\b\b\b\b\b\b\b\b\b\b\b\b\b\b\b\b\b\b\b\b\b\b\b\b\b\b\b\b\b\r7/7 [==============================] - 0s 13ms/step - loss: 3.2668e-04 - root_mean_squared_error: 0.0181\n",
            "Epoch 7/100\n",
            "7/7 [==============================] - ETA: 0s - loss: 3.2264e-04 - root_mean_squared_error: 0.0180"
          ]
        },
        {
          "output_type": "stream",
          "name": "stderr",
          "text": [
            "WARNING:tensorflow:Can save best model only with val_loss available, skipping.\n"
          ]
        },
        {
          "output_type": "stream",
          "name": "stdout",
          "text": [
            "\b\b\b\b\b\b\b\b\b\b\b\b\b\b\b\b\b\b\b\b\b\b\b\b\b\b\b\b\b\b\b\b\b\b\b\b\b\b\b\b\b\b\b\b\b\b\b\b\b\b\b\b\b\b\b\b\b\b\b\b\b\b\b\b\b\b\b\b\b\b\b\b\b\b\b\b\b\b\b\b\b\b\b\b\b\b\b\b\b\b\b\b\b\b\b\b\b\b\b\r7/7 [==============================] - 0s 12ms/step - loss: 3.2264e-04 - root_mean_squared_error: 0.0180\n",
            "Epoch 8/100\n",
            "6/7 [========================>.....] - ETA: 0s - loss: 3.2192e-04 - root_mean_squared_error: 0.0179"
          ]
        },
        {
          "output_type": "stream",
          "name": "stderr",
          "text": [
            "WARNING:tensorflow:Can save best model only with val_loss available, skipping.\n"
          ]
        },
        {
          "output_type": "stream",
          "name": "stdout",
          "text": [
            "\b\b\b\b\b\b\b\b\b\b\b\b\b\b\b\b\b\b\b\b\b\b\b\b\b\b\b\b\b\b\b\b\b\b\b\b\b\b\b\b\b\b\b\b\b\b\b\b\b\b\b\b\b\b\b\b\b\b\b\b\b\b\b\b\b\b\b\b\b\b\b\b\b\b\b\b\b\b\b\b\b\b\b\b\b\b\b\b\b\b\b\b\b\b\b\b\b\b\b\r7/7 [==============================] - 0s 12ms/step - loss: 3.2255e-04 - root_mean_squared_error: 0.0180\n",
            "Epoch 9/100\n",
            "6/7 [========================>.....] - ETA: 0s - loss: 3.2066e-04 - root_mean_squared_error: 0.0179"
          ]
        },
        {
          "output_type": "stream",
          "name": "stderr",
          "text": [
            "WARNING:tensorflow:Can save best model only with val_loss available, skipping.\n"
          ]
        },
        {
          "output_type": "stream",
          "name": "stdout",
          "text": [
            "\b\b\b\b\b\b\b\b\b\b\b\b\b\b\b\b\b\b\b\b\b\b\b\b\b\b\b\b\b\b\b\b\b\b\b\b\b\b\b\b\b\b\b\b\b\b\b\b\b\b\b\b\b\b\b\b\b\b\b\b\b\b\b\b\b\b\b\b\b\b\b\b\b\b\b\b\b\b\b\b\b\b\b\b\b\b\b\b\b\b\b\b\b\b\b\b\b\b\b\r7/7 [==============================] - 0s 13ms/step - loss: 3.2053e-04 - root_mean_squared_error: 0.0179\n",
            "Epoch 10/100\n",
            "7/7 [==============================] - ETA: 0s - loss: 3.2051e-04 - root_mean_squared_error: 0.0179"
          ]
        },
        {
          "output_type": "stream",
          "name": "stderr",
          "text": [
            "WARNING:tensorflow:Can save best model only with val_loss available, skipping.\n"
          ]
        },
        {
          "output_type": "stream",
          "name": "stdout",
          "text": [
            "\b\b\b\b\b\b\b\b\b\b\b\b\b\b\b\b\b\b\b\b\b\b\b\b\b\b\b\b\b\b\b\b\b\b\b\b\b\b\b\b\b\b\b\b\b\b\b\b\b\b\b\b\b\b\b\b\b\b\b\b\b\b\b\b\b\b\b\b\b\b\b\b\b\b\b\b\b\b\b\b\b\b\b\b\b\b\b\b\b\b\b\b\b\b\b\b\b\b\b\r7/7 [==============================] - 0s 12ms/step - loss: 3.2051e-04 - root_mean_squared_error: 0.0179\n",
            "Epoch 11/100\n",
            "6/7 [========================>.....] - ETA: 0s - loss: 3.1847e-04 - root_mean_squared_error: 0.0178"
          ]
        },
        {
          "output_type": "stream",
          "name": "stderr",
          "text": [
            "WARNING:tensorflow:Can save best model only with val_loss available, skipping.\n"
          ]
        },
        {
          "output_type": "stream",
          "name": "stdout",
          "text": [
            "\b\b\b\b\b\b\b\b\b\b\b\b\b\b\b\b\b\b\b\b\b\b\b\b\b\b\b\b\b\b\b\b\b\b\b\b\b\b\b\b\b\b\b\b\b\b\b\b\b\b\b\b\b\b\b\b\b\b\b\b\b\b\b\b\b\b\b\b\b\b\b\b\b\b\b\b\b\b\b\b\b\b\b\b\b\b\b\b\b\b\b\b\b\b\b\b\b\b\b\r7/7 [==============================] - 0s 13ms/step - loss: 3.1983e-04 - root_mean_squared_error: 0.0179\n",
            "Epoch 12/100\n",
            "7/7 [==============================] - ETA: 0s - loss: 3.1891e-04 - root_mean_squared_error: 0.0179"
          ]
        },
        {
          "output_type": "stream",
          "name": "stderr",
          "text": [
            "WARNING:tensorflow:Can save best model only with val_loss available, skipping.\n"
          ]
        },
        {
          "output_type": "stream",
          "name": "stdout",
          "text": [
            "\b\b\b\b\b\b\b\b\b\b\b\b\b\b\b\b\b\b\b\b\b\b\b\b\b\b\b\b\b\b\b\b\b\b\b\b\b\b\b\b\b\b\b\b\b\b\b\b\b\b\b\b\b\b\b\b\b\b\b\b\b\b\b\b\b\b\b\b\b\b\b\b\b\b\b\b\b\b\b\b\b\b\b\b\b\b\b\b\b\b\b\b\b\b\b\b\b\b\b\r7/7 [==============================] - 0s 13ms/step - loss: 3.1891e-04 - root_mean_squared_error: 0.0179\n",
            "Epoch 13/100\n",
            "7/7 [==============================] - ETA: 0s - loss: 3.1903e-04 - root_mean_squared_error: 0.0179"
          ]
        },
        {
          "output_type": "stream",
          "name": "stderr",
          "text": [
            "WARNING:tensorflow:Can save best model only with val_loss available, skipping.\n"
          ]
        },
        {
          "output_type": "stream",
          "name": "stdout",
          "text": [
            "\b\b\b\b\b\b\b\b\b\b\b\b\b\b\b\b\b\b\b\b\b\b\b\b\b\b\b\b\b\b\b\b\b\b\b\b\b\b\b\b\b\b\b\b\b\b\b\b\b\b\b\b\b\b\b\b\b\b\b\b\b\b\b\b\b\b\b\b\b\b\b\b\b\b\b\b\b\b\b\b\b\b\b\b\b\b\b\b\b\b\b\b\b\b\b\b\b\b\b\r7/7 [==============================] - 0s 11ms/step - loss: 3.1903e-04 - root_mean_squared_error: 0.0179\n",
            "Epoch 14/100\n",
            "7/7 [==============================] - ETA: 0s - loss: 3.1841e-04 - root_mean_squared_error: 0.0178"
          ]
        },
        {
          "output_type": "stream",
          "name": "stderr",
          "text": [
            "WARNING:tensorflow:Can save best model only with val_loss available, skipping.\n"
          ]
        },
        {
          "output_type": "stream",
          "name": "stdout",
          "text": [
            "\b\b\b\b\b\b\b\b\b\b\b\b\b\b\b\b\b\b\b\b\b\b\b\b\b\b\b\b\b\b\b\b\b\b\b\b\b\b\b\b\b\b\b\b\b\b\b\b\b\b\b\b\b\b\b\b\b\b\b\b\b\b\b\b\b\b\b\b\b\b\b\b\b\b\b\b\b\b\b\b\b\b\b\b\b\b\b\b\b\b\b\b\b\b\b\b\b\b\b\r7/7 [==============================] - 0s 11ms/step - loss: 3.1841e-04 - root_mean_squared_error: 0.0178\n",
            "Epoch 15/100\n",
            "7/7 [==============================] - ETA: 0s - loss: 3.1537e-04 - root_mean_squared_error: 0.0178"
          ]
        },
        {
          "output_type": "stream",
          "name": "stderr",
          "text": [
            "WARNING:tensorflow:Can save best model only with val_loss available, skipping.\n"
          ]
        },
        {
          "output_type": "stream",
          "name": "stdout",
          "text": [
            "\b\b\b\b\b\b\b\b\b\b\b\b\b\b\b\b\b\b\b\b\b\b\b\b\b\b\b\b\b\b\b\b\b\b\b\b\b\b\b\b\b\b\b\b\b\b\b\b\b\b\b\b\b\b\b\b\b\b\b\b\b\b\b\b\b\b\b\b\b\b\b\b\b\b\b\b\b\b\b\b\b\b\b\b\b\b\b\b\b\b\b\b\b\b\b\b\b\b\b\r7/7 [==============================] - 0s 12ms/step - loss: 3.1537e-04 - root_mean_squared_error: 0.0178\n",
            "Epoch 16/100\n",
            "7/7 [==============================] - ETA: 0s - loss: 3.0936e-04 - root_mean_squared_error: 0.0176"
          ]
        },
        {
          "output_type": "stream",
          "name": "stderr",
          "text": [
            "WARNING:tensorflow:Can save best model only with val_loss available, skipping.\n"
          ]
        },
        {
          "output_type": "stream",
          "name": "stdout",
          "text": [
            "\b\b\b\b\b\b\b\b\b\b\b\b\b\b\b\b\b\b\b\b\b\b\b\b\b\b\b\b\b\b\b\b\b\b\b\b\b\b\b\b\b\b\b\b\b\b\b\b\b\b\b\b\b\b\b\b\b\b\b\b\b\b\b\b\b\b\b\b\b\b\b\b\b\b\b\b\b\b\b\b\b\b\b\b\b\b\b\b\b\b\b\b\b\b\b\b\b\b\b\r7/7 [==============================] - 0s 12ms/step - loss: 3.0936e-04 - root_mean_squared_error: 0.0176\n",
            "Epoch 17/100\n",
            "7/7 [==============================] - ETA: 0s - loss: 3.0547e-04 - root_mean_squared_error: 0.0175"
          ]
        },
        {
          "output_type": "stream",
          "name": "stderr",
          "text": [
            "WARNING:tensorflow:Can save best model only with val_loss available, skipping.\n"
          ]
        },
        {
          "output_type": "stream",
          "name": "stdout",
          "text": [
            "\b\b\b\b\b\b\b\b\b\b\b\b\b\b\b\b\b\b\b\b\b\b\b\b\b\b\b\b\b\b\b\b\b\b\b\b\b\b\b\b\b\b\b\b\b\b\b\b\b\b\b\b\b\b\b\b\b\b\b\b\b\b\b\b\b\b\b\b\b\b\b\b\b\b\b\b\b\b\b\b\b\b\b\b\b\b\b\b\b\b\b\b\b\b\b\b\b\b\b\r7/7 [==============================] - 0s 12ms/step - loss: 3.0547e-04 - root_mean_squared_error: 0.0175\n",
            "Epoch 18/100\n",
            "7/7 [==============================] - ETA: 0s - loss: 3.0013e-04 - root_mean_squared_error: 0.0173"
          ]
        },
        {
          "output_type": "stream",
          "name": "stderr",
          "text": [
            "WARNING:tensorflow:Can save best model only with val_loss available, skipping.\n"
          ]
        },
        {
          "output_type": "stream",
          "name": "stdout",
          "text": [
            "\b\b\b\b\b\b\b\b\b\b\b\b\b\b\b\b\b\b\b\b\b\b\b\b\b\b\b\b\b\b\b\b\b\b\b\b\b\b\b\b\b\b\b\b\b\b\b\b\b\b\b\b\b\b\b\b\b\b\b\b\b\b\b\b\b\b\b\b\b\b\b\b\b\b\b\b\b\b\b\b\b\b\b\b\b\b\b\b\b\b\b\b\b\b\b\b\b\b\b\r7/7 [==============================] - 0s 12ms/step - loss: 3.0013e-04 - root_mean_squared_error: 0.0173\n",
            "Epoch 19/100\n",
            "7/7 [==============================] - ETA: 0s - loss: 2.9676e-04 - root_mean_squared_error: 0.0172"
          ]
        },
        {
          "output_type": "stream",
          "name": "stderr",
          "text": [
            "WARNING:tensorflow:Can save best model only with val_loss available, skipping.\n"
          ]
        },
        {
          "output_type": "stream",
          "name": "stdout",
          "text": [
            "\b\b\b\b\b\b\b\b\b\b\b\b\b\b\b\b\b\b\b\b\b\b\b\b\b\b\b\b\b\b\b\b\b\b\b\b\b\b\b\b\b\b\b\b\b\b\b\b\b\b\b\b\b\b\b\b\b\b\b\b\b\b\b\b\b\b\b\b\b\b\b\b\b\b\b\b\b\b\b\b\b\b\b\b\b\b\b\b\b\b\b\b\b\b\b\b\b\b\b\r7/7 [==============================] - 0s 11ms/step - loss: 2.9676e-04 - root_mean_squared_error: 0.0172\n",
            "Epoch 20/100\n",
            "7/7 [==============================] - ETA: 0s - loss: 2.9624e-04 - root_mean_squared_error: 0.0172"
          ]
        },
        {
          "output_type": "stream",
          "name": "stderr",
          "text": [
            "WARNING:tensorflow:Can save best model only with val_loss available, skipping.\n"
          ]
        },
        {
          "output_type": "stream",
          "name": "stdout",
          "text": [
            "\b\b\b\b\b\b\b\b\b\b\b\b\b\b\b\b\b\b\b\b\b\b\b\b\b\b\b\b\b\b\b\b\b\b\b\b\b\b\b\b\b\b\b\b\b\b\b\b\b\b\b\b\b\b\b\b\b\b\b\b\b\b\b\b\b\b\b\b\b\b\b\b\b\b\b\b\b\b\b\b\b\b\b\b\b\b\b\b\b\b\b\b\b\b\b\b\b\b\b\r7/7 [==============================] - 0s 12ms/step - loss: 2.9624e-04 - root_mean_squared_error: 0.0172\n",
            "Epoch 21/100\n",
            "7/7 [==============================] - ETA: 0s - loss: 2.9308e-04 - root_mean_squared_error: 0.0171"
          ]
        },
        {
          "output_type": "stream",
          "name": "stderr",
          "text": [
            "WARNING:tensorflow:Can save best model only with val_loss available, skipping.\n"
          ]
        },
        {
          "output_type": "stream",
          "name": "stdout",
          "text": [
            "\b\b\b\b\b\b\b\b\b\b\b\b\b\b\b\b\b\b\b\b\b\b\b\b\b\b\b\b\b\b\b\b\b\b\b\b\b\b\b\b\b\b\b\b\b\b\b\b\b\b\b\b\b\b\b\b\b\b\b\b\b\b\b\b\b\b\b\b\b\b\b\b\b\b\b\b\b\b\b\b\b\b\b\b\b\b\b\b\b\b\b\b\b\b\b\b\b\b\b\r7/7 [==============================] - 0s 12ms/step - loss: 2.9308e-04 - root_mean_squared_error: 0.0171\n",
            "Epoch 22/100\n",
            "6/7 [========================>.....] - ETA: 0s - loss: 2.9174e-04 - root_mean_squared_error: 0.0171"
          ]
        },
        {
          "output_type": "stream",
          "name": "stderr",
          "text": [
            "WARNING:tensorflow:Can save best model only with val_loss available, skipping.\n"
          ]
        },
        {
          "output_type": "stream",
          "name": "stdout",
          "text": [
            "\b\b\b\b\b\b\b\b\b\b\b\b\b\b\b\b\b\b\b\b\b\b\b\b\b\b\b\b\b\b\b\b\b\b\b\b\b\b\b\b\b\b\b\b\b\b\b\b\b\b\b\b\b\b\b\b\b\b\b\b\b\b\b\b\b\b\b\b\b\b\b\b\b\b\b\b\b\b\b\b\b\b\b\b\b\b\b\b\b\b\b\b\b\b\b\b\b\b\b\r7/7 [==============================] - 0s 13ms/step - loss: 2.9254e-04 - root_mean_squared_error: 0.0171\n",
            "Epoch 23/100\n",
            "7/7 [==============================] - ETA: 0s - loss: 2.9040e-04 - root_mean_squared_error: 0.0170"
          ]
        },
        {
          "output_type": "stream",
          "name": "stderr",
          "text": [
            "WARNING:tensorflow:Can save best model only with val_loss available, skipping.\n"
          ]
        },
        {
          "output_type": "stream",
          "name": "stdout",
          "text": [
            "\b\b\b\b\b\b\b\b\b\b\b\b\b\b\b\b\b\b\b\b\b\b\b\b\b\b\b\b\b\b\b\b\b\b\b\b\b\b\b\b\b\b\b\b\b\b\b\b\b\b\b\b\b\b\b\b\b\b\b\b\b\b\b\b\b\b\b\b\b\b\b\b\b\b\b\b\b\b\b\b\b\b\b\b\b\b\b\b\b\b\b\b\b\b\b\b\b\b\b\r7/7 [==============================] - 0s 12ms/step - loss: 2.9040e-04 - root_mean_squared_error: 0.0170\n",
            "Epoch 24/100\n",
            "7/7 [==============================] - ETA: 0s - loss: 2.8908e-04 - root_mean_squared_error: 0.0170"
          ]
        },
        {
          "output_type": "stream",
          "name": "stderr",
          "text": [
            "WARNING:tensorflow:Can save best model only with val_loss available, skipping.\n"
          ]
        },
        {
          "output_type": "stream",
          "name": "stdout",
          "text": [
            "\b\b\b\b\b\b\b\b\b\b\b\b\b\b\b\b\b\b\b\b\b\b\b\b\b\b\b\b\b\b\b\b\b\b\b\b\b\b\b\b\b\b\b\b\b\b\b\b\b\b\b\b\b\b\b\b\b\b\b\b\b\b\b\b\b\b\b\b\b\b\b\b\b\b\b\b\b\b\b\b\b\b\b\b\b\b\b\b\b\b\b\b\b\b\b\b\b\b\b\r7/7 [==============================] - 0s 12ms/step - loss: 2.8908e-04 - root_mean_squared_error: 0.0170\n",
            "Epoch 25/100\n",
            "7/7 [==============================] - ETA: 0s - loss: 2.9012e-04 - root_mean_squared_error: 0.0170"
          ]
        },
        {
          "output_type": "stream",
          "name": "stderr",
          "text": [
            "WARNING:tensorflow:Can save best model only with val_loss available, skipping.\n"
          ]
        },
        {
          "output_type": "stream",
          "name": "stdout",
          "text": [
            "\b\b\b\b\b\b\b\b\b\b\b\b\b\b\b\b\b\b\b\b\b\b\b\b\b\b\b\b\b\b\b\b\b\b\b\b\b\b\b\b\b\b\b\b\b\b\b\b\b\b\b\b\b\b\b\b\b\b\b\b\b\b\b\b\b\b\b\b\b\b\b\b\b\b\b\b\b\b\b\b\b\b\b\b\b\b\b\b\b\b\b\b\b\b\b\b\b\b\b\r7/7 [==============================] - 0s 12ms/step - loss: 2.9012e-04 - root_mean_squared_error: 0.0170\n",
            "Epoch 26/100\n",
            "7/7 [==============================] - ETA: 0s - loss: 2.8781e-04 - root_mean_squared_error: 0.0170"
          ]
        },
        {
          "output_type": "stream",
          "name": "stderr",
          "text": [
            "WARNING:tensorflow:Can save best model only with val_loss available, skipping.\n"
          ]
        },
        {
          "output_type": "stream",
          "name": "stdout",
          "text": [
            "\b\b\b\b\b\b\b\b\b\b\b\b\b\b\b\b\b\b\b\b\b\b\b\b\b\b\b\b\b\b\b\b\b\b\b\b\b\b\b\b\b\b\b\b\b\b\b\b\b\b\b\b\b\b\b\b\b\b\b\b\b\b\b\b\b\b\b\b\b\b\b\b\b\b\b\b\b\b\b\b\b\b\b\b\b\b\b\b\b\b\b\b\b\b\b\b\b\b\b\r7/7 [==============================] - 0s 12ms/step - loss: 2.8781e-04 - root_mean_squared_error: 0.0170\n",
            "Epoch 27/100\n",
            "7/7 [==============================] - ETA: 0s - loss: 2.8780e-04 - root_mean_squared_error: 0.0170"
          ]
        },
        {
          "output_type": "stream",
          "name": "stderr",
          "text": [
            "WARNING:tensorflow:Can save best model only with val_loss available, skipping.\n"
          ]
        },
        {
          "output_type": "stream",
          "name": "stdout",
          "text": [
            "\b\b\b\b\b\b\b\b\b\b\b\b\b\b\b\b\b\b\b\b\b\b\b\b\b\b\b\b\b\b\b\b\b\b\b\b\b\b\b\b\b\b\b\b\b\b\b\b\b\b\b\b\b\b\b\b\b\b\b\b\b\b\b\b\b\b\b\b\b\b\b\b\b\b\b\b\b\b\b\b\b\b\b\b\b\b\b\b\b\b\b\b\b\b\b\b\b\b\b\r7/7 [==============================] - 0s 14ms/step - loss: 2.8780e-04 - root_mean_squared_error: 0.0170\n",
            "Epoch 28/100\n",
            "5/7 [====================>.........] - ETA: 0s - loss: 2.8381e-04 - root_mean_squared_error: 0.0168"
          ]
        },
        {
          "output_type": "stream",
          "name": "stderr",
          "text": [
            "WARNING:tensorflow:Can save best model only with val_loss available, skipping.\n"
          ]
        },
        {
          "output_type": "stream",
          "name": "stdout",
          "text": [
            "\b\b\b\b\b\b\b\b\b\b\b\b\b\b\b\b\b\b\b\b\b\b\b\b\b\b\b\b\b\b\b\b\b\b\b\b\b\b\b\b\b\b\b\b\b\b\b\b\b\b\b\b\b\b\b\b\b\b\b\b\b\b\b\b\b\b\b\b\b\b\b\b\b\b\b\b\b\b\b\b\b\b\b\b\b\b\b\b\b\b\b\b\b\b\b\b\b\b\b\r7/7 [==============================] - 0s 18ms/step - loss: 2.8741e-04 - root_mean_squared_error: 0.0170\n",
            "Epoch 29/100\n",
            "4/7 [================>.............] - ETA: 0s - loss: 2.9679e-04 - root_mean_squared_error: 0.0172"
          ]
        },
        {
          "output_type": "stream",
          "name": "stderr",
          "text": [
            "WARNING:tensorflow:Can save best model only with val_loss available, skipping.\n"
          ]
        },
        {
          "output_type": "stream",
          "name": "stdout",
          "text": [
            "\b\b\b\b\b\b\b\b\b\b\b\b\b\b\b\b\b\b\b\b\b\b\b\b\b\b\b\b\b\b\b\b\b\b\b\b\b\b\b\b\b\b\b\b\b\b\b\b\b\b\b\b\b\b\b\b\b\b\b\b\b\b\b\b\b\b\b\b\b\b\b\b\b\b\b\b\b\b\b\b\b\b\b\b\b\b\b\b\b\b\b\b\b\b\b\b\b\b\b\r7/7 [==============================] - 0s 23ms/step - loss: 2.8635e-04 - root_mean_squared_error: 0.0169\n",
            "Epoch 30/100\n",
            "5/7 [====================>.........] - ETA: 0s - loss: 2.8464e-04 - root_mean_squared_error: 0.0169"
          ]
        },
        {
          "output_type": "stream",
          "name": "stderr",
          "text": [
            "WARNING:tensorflow:Can save best model only with val_loss available, skipping.\n"
          ]
        },
        {
          "output_type": "stream",
          "name": "stdout",
          "text": [
            "\b\b\b\b\b\b\b\b\b\b\b\b\b\b\b\b\b\b\b\b\b\b\b\b\b\b\b\b\b\b\b\b\b\b\b\b\b\b\b\b\b\b\b\b\b\b\b\b\b\b\b\b\b\b\b\b\b\b\b\b\b\b\b\b\b\b\b\b\b\b\b\b\b\b\b\b\b\b\b\b\b\b\b\b\b\b\b\b\b\b\b\b\b\b\b\b\b\b\b\r7/7 [==============================] - 0s 21ms/step - loss: 2.8625e-04 - root_mean_squared_error: 0.0169\n",
            "Epoch 31/100\n",
            "5/7 [====================>.........] - ETA: 0s - loss: 2.8564e-04 - root_mean_squared_error: 0.0169"
          ]
        },
        {
          "output_type": "stream",
          "name": "stderr",
          "text": [
            "WARNING:tensorflow:Can save best model only with val_loss available, skipping.\n"
          ]
        },
        {
          "output_type": "stream",
          "name": "stdout",
          "text": [
            "\b\b\b\b\b\b\b\b\b\b\b\b\b\b\b\b\b\b\b\b\b\b\b\b\b\b\b\b\b\b\b\b\b\b\b\b\b\b\b\b\b\b\b\b\b\b\b\b\b\b\b\b\b\b\b\b\b\b\b\b\b\b\b\b\b\b\b\b\b\b\b\b\b\b\b\b\b\b\b\b\b\b\b\b\b\b\b\b\b\b\b\b\b\b\b\b\b\b\b\r7/7 [==============================] - 0s 21ms/step - loss: 2.8600e-04 - root_mean_squared_error: 0.0169\n",
            "Epoch 32/100\n",
            "5/7 [====================>.........] - ETA: 0s - loss: 2.8290e-04 - root_mean_squared_error: 0.0168"
          ]
        },
        {
          "output_type": "stream",
          "name": "stderr",
          "text": [
            "WARNING:tensorflow:Can save best model only with val_loss available, skipping.\n"
          ]
        },
        {
          "output_type": "stream",
          "name": "stdout",
          "text": [
            "\b\b\b\b\b\b\b\b\b\b\b\b\b\b\b\b\b\b\b\b\b\b\b\b\b\b\b\b\b\b\b\b\b\b\b\b\b\b\b\b\b\b\b\b\b\b\b\b\b\b\b\b\b\b\b\b\b\b\b\b\b\b\b\b\b\b\b\b\b\b\b\b\b\b\b\b\b\b\b\b\b\b\b\b\b\b\b\b\b\b\b\b\b\b\b\b\b\b\b\r7/7 [==============================] - 0s 27ms/step - loss: 2.8450e-04 - root_mean_squared_error: 0.0169\n",
            "Epoch 33/100\n",
            "5/7 [====================>.........] - ETA: 0s - loss: 2.8745e-04 - root_mean_squared_error: 0.0170"
          ]
        },
        {
          "output_type": "stream",
          "name": "stderr",
          "text": [
            "WARNING:tensorflow:Can save best model only with val_loss available, skipping.\n"
          ]
        },
        {
          "output_type": "stream",
          "name": "stdout",
          "text": [
            "\b\b\b\b\b\b\b\b\b\b\b\b\b\b\b\b\b\b\b\b\b\b\b\b\b\b\b\b\b\b\b\b\b\b\b\b\b\b\b\b\b\b\b\b\b\b\b\b\b\b\b\b\b\b\b\b\b\b\b\b\b\b\b\b\b\b\b\b\b\b\b\b\b\b\b\b\b\b\b\b\b\b\b\b\b\b\b\b\b\b\b\b\b\b\b\b\b\b\b\r7/7 [==============================] - 0s 28ms/step - loss: 2.8605e-04 - root_mean_squared_error: 0.0169\n",
            "Epoch 34/100\n",
            "4/7 [================>.............] - ETA: 0s - loss: 2.8059e-04 - root_mean_squared_error: 0.0168"
          ]
        },
        {
          "output_type": "stream",
          "name": "stderr",
          "text": [
            "WARNING:tensorflow:Can save best model only with val_loss available, skipping.\n"
          ]
        },
        {
          "output_type": "stream",
          "name": "stdout",
          "text": [
            "\b\b\b\b\b\b\b\b\b\b\b\b\b\b\b\b\b\b\b\b\b\b\b\b\b\b\b\b\b\b\b\b\b\b\b\b\b\b\b\b\b\b\b\b\b\b\b\b\b\b\b\b\b\b\b\b\b\b\b\b\b\b\b\b\b\b\b\b\b\b\b\b\b\b\b\b\b\b\b\b\b\b\b\b\b\b\b\b\b\b\b\b\b\b\b\b\b\b\b\r7/7 [==============================] - 0s 23ms/step - loss: 2.8459e-04 - root_mean_squared_error: 0.0169\n",
            "Epoch 35/100\n",
            "5/7 [====================>.........] - ETA: 0s - loss: 2.9088e-04 - root_mean_squared_error: 0.0171"
          ]
        },
        {
          "output_type": "stream",
          "name": "stderr",
          "text": [
            "WARNING:tensorflow:Can save best model only with val_loss available, skipping.\n"
          ]
        },
        {
          "output_type": "stream",
          "name": "stdout",
          "text": [
            "\b\b\b\b\b\b\b\b\b\b\b\b\b\b\b\b\b\b\b\b\b\b\b\b\b\b\b\b\b\b\b\b\b\b\b\b\b\b\b\b\b\b\b\b\b\b\b\b\b\b\b\b\b\b\b\b\b\b\b\b\b\b\b\b\b\b\b\b\b\b\b\b\b\b\b\b\b\b\b\b\b\b\b\b\b\b\b\b\b\b\b\b\b\b\b\b\b\b\b\r7/7 [==============================] - 0s 24ms/step - loss: 2.8249e-04 - root_mean_squared_error: 0.0168\n",
            "Epoch 36/100\n",
            "4/7 [================>.............] - ETA: 0s - loss: 2.8349e-04 - root_mean_squared_error: 0.0168"
          ]
        },
        {
          "output_type": "stream",
          "name": "stderr",
          "text": [
            "WARNING:tensorflow:Can save best model only with val_loss available, skipping.\n"
          ]
        },
        {
          "output_type": "stream",
          "name": "stdout",
          "text": [
            "\b\b\b\b\b\b\b\b\b\b\b\b\b\b\b\b\b\b\b\b\b\b\b\b\b\b\b\b\b\b\b\b\b\b\b\b\b\b\b\b\b\b\b\b\b\b\b\b\b\b\b\b\b\b\b\b\b\b\b\b\b\b\b\b\b\b\b\b\b\b\b\b\b\b\b\b\b\b\b\b\b\b\b\b\b\b\b\b\b\b\b\b\b\b\b\b\b\b\b\r7/7 [==============================] - 0s 26ms/step - loss: 2.8187e-04 - root_mean_squared_error: 0.0168\n",
            "Epoch 37/100\n",
            "6/7 [========================>.....] - ETA: 0s - loss: 2.7834e-04 - root_mean_squared_error: 0.0167"
          ]
        },
        {
          "output_type": "stream",
          "name": "stderr",
          "text": [
            "WARNING:tensorflow:Can save best model only with val_loss available, skipping.\n"
          ]
        },
        {
          "output_type": "stream",
          "name": "stdout",
          "text": [
            "\b\b\b\b\b\b\b\b\b\b\b\b\b\b\b\b\b\b\b\b\b\b\b\b\b\b\b\b\b\b\b\b\b\b\b\b\b\b\b\b\b\b\b\b\b\b\b\b\b\b\b\b\b\b\b\b\b\b\b\b\b\b\b\b\b\b\b\b\b\b\b\b\b\b\b\b\b\b\b\b\b\b\b\b\b\b\b\b\b\b\b\b\b\b\b\b\b\b\b\r7/7 [==============================] - 0s 21ms/step - loss: 2.8014e-04 - root_mean_squared_error: 0.0167\n",
            "Epoch 38/100\n",
            "7/7 [==============================] - ETA: 0s - loss: 2.7800e-04 - root_mean_squared_error: 0.0167"
          ]
        },
        {
          "output_type": "stream",
          "name": "stderr",
          "text": [
            "WARNING:tensorflow:Can save best model only with val_loss available, skipping.\n"
          ]
        },
        {
          "output_type": "stream",
          "name": "stdout",
          "text": [
            "\b\b\b\b\b\b\b\b\b\b\b\b\b\b\b\b\b\b\b\b\b\b\b\b\b\b\b\b\b\b\b\b\b\b\b\b\b\b\b\b\b\b\b\b\b\b\b\b\b\b\b\b\b\b\b\b\b\b\b\b\b\b\b\b\b\b\b\b\b\b\b\b\b\b\b\b\b\b\b\b\b\b\b\b\b\b\b\b\b\b\b\b\b\b\b\b\b\b\b\r7/7 [==============================] - 0s 30ms/step - loss: 2.7800e-04 - root_mean_squared_error: 0.0167\n",
            "Epoch 39/100\n",
            "5/7 [====================>.........] - ETA: 0s - loss: 2.7569e-04 - root_mean_squared_error: 0.0166"
          ]
        },
        {
          "output_type": "stream",
          "name": "stderr",
          "text": [
            "WARNING:tensorflow:Can save best model only with val_loss available, skipping.\n"
          ]
        },
        {
          "output_type": "stream",
          "name": "stdout",
          "text": [
            "\b\b\b\b\b\b\b\b\b\b\b\b\b\b\b\b\b\b\b\b\b\b\b\b\b\b\b\b\b\b\b\b\b\b\b\b\b\b\b\b\b\b\b\b\b\b\b\b\b\b\b\b\b\b\b\b\b\b\b\b\b\b\b\b\b\b\b\b\b\b\b\b\b\b\b\b\b\b\b\b\b\b\b\b\b\b\b\b\b\b\b\b\b\b\b\b\b\b\b\r7/7 [==============================] - 0s 20ms/step - loss: 2.7534e-04 - root_mean_squared_error: 0.0166\n",
            "Epoch 40/100\n",
            "4/7 [================>.............] - ETA: 0s - loss: 2.7730e-04 - root_mean_squared_error: 0.0167"
          ]
        },
        {
          "output_type": "stream",
          "name": "stderr",
          "text": [
            "WARNING:tensorflow:Can save best model only with val_loss available, skipping.\n"
          ]
        },
        {
          "output_type": "stream",
          "name": "stdout",
          "text": [
            "\b\b\b\b\b\b\b\b\b\b\b\b\b\b\b\b\b\b\b\b\b\b\b\b\b\b\b\b\b\b\b\b\b\b\b\b\b\b\b\b\b\b\b\b\b\b\b\b\b\b\b\b\b\b\b\b\b\b\b\b\b\b\b\b\b\b\b\b\b\b\b\b\b\b\b\b\b\b\b\b\b\b\b\b\b\b\b\b\b\b\b\b\b\b\b\b\b\b\b\r7/7 [==============================] - 0s 21ms/step - loss: 2.7320e-04 - root_mean_squared_error: 0.0165\n",
            "Epoch 41/100\n",
            "5/7 [====================>.........] - ETA: 0s - loss: 2.6304e-04 - root_mean_squared_error: 0.0162"
          ]
        },
        {
          "output_type": "stream",
          "name": "stderr",
          "text": [
            "WARNING:tensorflow:Can save best model only with val_loss available, skipping.\n"
          ]
        },
        {
          "output_type": "stream",
          "name": "stdout",
          "text": [
            "\b\b\b\b\b\b\b\b\b\b\b\b\b\b\b\b\b\b\b\b\b\b\b\b\b\b\b\b\b\b\b\b\b\b\b\b\b\b\b\b\b\b\b\b\b\b\b\b\b\b\b\b\b\b\b\b\b\b\b\b\b\b\b\b\b\b\b\b\b\b\b\b\b\b\b\b\b\b\b\b\b\b\b\b\b\b\b\b\b\b\b\b\b\b\b\b\b\b\b\r7/7 [==============================] - 0s 27ms/step - loss: 2.6473e-04 - root_mean_squared_error: 0.0163\n",
            "Epoch 42/100\n",
            "7/7 [==============================] - ETA: 0s - loss: 2.5432e-04 - root_mean_squared_error: 0.0159"
          ]
        },
        {
          "output_type": "stream",
          "name": "stderr",
          "text": [
            "WARNING:tensorflow:Can save best model only with val_loss available, skipping.\n"
          ]
        },
        {
          "output_type": "stream",
          "name": "stdout",
          "text": [
            "\b\b\b\b\b\b\b\b\b\b\b\b\b\b\b\b\b\b\b\b\b\b\b\b\b\b\b\b\b\b\b\b\b\b\b\b\b\b\b\b\b\b\b\b\b\b\b\b\b\b\b\b\b\b\b\b\b\b\b\b\b\b\b\b\b\b\b\b\b\b\b\b\b\b\b\b\b\b\b\b\b\b\b\b\b\b\b\b\b\b\b\b\b\b\b\b\b\b\b\r7/7 [==============================] - 0s 25ms/step - loss: 2.5432e-04 - root_mean_squared_error: 0.0159\n",
            "Epoch 43/100\n",
            "6/7 [========================>.....] - ETA: 0s - loss: 2.3750e-04 - root_mean_squared_error: 0.0154"
          ]
        },
        {
          "output_type": "stream",
          "name": "stderr",
          "text": [
            "WARNING:tensorflow:Can save best model only with val_loss available, skipping.\n"
          ]
        },
        {
          "output_type": "stream",
          "name": "stdout",
          "text": [
            "\b\b\b\b\b\b\b\b\b\b\b\b\b\b\b\b\b\b\b\b\b\b\b\b\b\b\b\b\b\b\b\b\b\b\b\b\b\b\b\b\b\b\b\b\b\b\b\b\b\b\b\b\b\b\b\b\b\b\b\b\b\b\b\b\b\b\b\b\b\b\b\b\b\b\b\b\b\b\b\b\b\b\b\b\b\b\b\b\b\b\b\b\b\b\b\b\b\b\b\r7/7 [==============================] - 0s 27ms/step - loss: 2.3734e-04 - root_mean_squared_error: 0.0154\n",
            "Epoch 44/100\n",
            "5/7 [====================>.........] - ETA: 0s - loss: 2.1665e-04 - root_mean_squared_error: 0.0147"
          ]
        },
        {
          "output_type": "stream",
          "name": "stderr",
          "text": [
            "WARNING:tensorflow:Can save best model only with val_loss available, skipping.\n"
          ]
        },
        {
          "output_type": "stream",
          "name": "stdout",
          "text": [
            "\b\b\b\b\b\b\b\b\b\b\b\b\b\b\b\b\b\b\b\b\b\b\b\b\b\b\b\b\b\b\b\b\b\b\b\b\b\b\b\b\b\b\b\b\b\b\b\b\b\b\b\b\b\b\b\b\b\b\b\b\b\b\b\b\b\b\b\b\b\b\b\b\b\b\b\b\b\b\b\b\b\b\b\b\b\b\b\b\b\b\b\b\b\b\b\b\b\b\b\r7/7 [==============================] - 0s 20ms/step - loss: 2.1675e-04 - root_mean_squared_error: 0.0147\n",
            "Epoch 45/100\n",
            "4/7 [================>.............] - ETA: 0s - loss: 1.8795e-04 - root_mean_squared_error: 0.0137"
          ]
        },
        {
          "output_type": "stream",
          "name": "stderr",
          "text": [
            "WARNING:tensorflow:Can save best model only with val_loss available, skipping.\n"
          ]
        },
        {
          "output_type": "stream",
          "name": "stdout",
          "text": [
            "\b\b\b\b\b\b\b\b\b\b\b\b\b\b\b\b\b\b\b\b\b\b\b\b\b\b\b\b\b\b\b\b\b\b\b\b\b\b\b\b\b\b\b\b\b\b\b\b\b\b\b\b\b\b\b\b\b\b\b\b\b\b\b\b\b\b\b\b\b\b\b\b\b\b\b\b\b\b\b\b\b\b\b\b\b\b\b\b\b\b\b\b\b\b\b\b\b\b\b\r7/7 [==============================] - 0s 23ms/step - loss: 1.8869e-04 - root_mean_squared_error: 0.0137\n",
            "Epoch 46/100\n",
            "6/7 [========================>.....] - ETA: 0s - loss: 1.7220e-04 - root_mean_squared_error: 0.0131"
          ]
        },
        {
          "output_type": "stream",
          "name": "stderr",
          "text": [
            "WARNING:tensorflow:Can save best model only with val_loss available, skipping.\n"
          ]
        },
        {
          "output_type": "stream",
          "name": "stdout",
          "text": [
            "\b\b\b\b\b\b\b\b\b\b\b\b\b\b\b\b\b\b\b\b\b\b\b\b\b\b\b\b\b\b\b\b\b\b\b\b\b\b\b\b\b\b\b\b\b\b\b\b\b\b\b\b\b\b\b\b\b\b\b\b\b\b\b\b\b\b\b\b\b\b\b\b\b\b\b\b\b\b\b\b\b\b\b\b\b\b\b\b\b\b\b\b\b\b\b\b\b\b\b\r7/7 [==============================] - 0s 25ms/step - loss: 1.7266e-04 - root_mean_squared_error: 0.0131\n",
            "Epoch 47/100\n",
            "5/7 [====================>.........] - ETA: 0s - loss: 1.6295e-04 - root_mean_squared_error: 0.0128"
          ]
        },
        {
          "output_type": "stream",
          "name": "stderr",
          "text": [
            "WARNING:tensorflow:Can save best model only with val_loss available, skipping.\n"
          ]
        },
        {
          "output_type": "stream",
          "name": "stdout",
          "text": [
            "\b\b\b\b\b\b\b\b\b\b\b\b\b\b\b\b\b\b\b\b\b\b\b\b\b\b\b\b\b\b\b\b\b\b\b\b\b\b\b\b\b\b\b\b\b\b\b\b\b\b\b\b\b\b\b\b\b\b\b\b\b\b\b\b\b\b\b\b\b\b\b\b\b\b\b\b\b\b\b\b\b\b\b\b\b\b\b\b\b\b\b\b\b\b\b\b\b\b\b\r7/7 [==============================] - 0s 17ms/step - loss: 1.5745e-04 - root_mean_squared_error: 0.0125\n",
            "Epoch 48/100\n",
            "5/7 [====================>.........] - ETA: 0s - loss: 1.5196e-04 - root_mean_squared_error: 0.0123"
          ]
        },
        {
          "output_type": "stream",
          "name": "stderr",
          "text": [
            "WARNING:tensorflow:Can save best model only with val_loss available, skipping.\n"
          ]
        },
        {
          "output_type": "stream",
          "name": "stdout",
          "text": [
            "\b\b\b\b\b\b\b\b\b\b\b\b\b\b\b\b\b\b\b\b\b\b\b\b\b\b\b\b\b\b\b\b\b\b\b\b\b\b\b\b\b\b\b\b\b\b\b\b\b\b\b\b\b\b\b\b\b\b\b\b\b\b\b\b\b\b\b\b\b\b\b\b\b\b\b\b\b\b\b\b\b\b\b\b\b\b\b\b\b\b\b\b\b\b\b\b\b\b\b\r7/7 [==============================] - 0s 19ms/step - loss: 1.4743e-04 - root_mean_squared_error: 0.0121\n",
            "Epoch 49/100\n",
            "5/7 [====================>.........] - ETA: 0s - loss: 1.4084e-04 - root_mean_squared_error: 0.0119"
          ]
        },
        {
          "output_type": "stream",
          "name": "stderr",
          "text": [
            "WARNING:tensorflow:Can save best model only with val_loss available, skipping.\n"
          ]
        },
        {
          "output_type": "stream",
          "name": "stdout",
          "text": [
            "\b\b\b\b\b\b\b\b\b\b\b\b\b\b\b\b\b\b\b\b\b\b\b\b\b\b\b\b\b\b\b\b\b\b\b\b\b\b\b\b\b\b\b\b\b\b\b\b\b\b\b\b\b\b\b\b\b\b\b\b\b\b\b\b\b\b\b\b\b\b\b\b\b\b\b\b\b\b\b\b\b\b\b\b\b\b\b\b\b\b\b\b\b\b\b\b\b\b\b\r7/7 [==============================] - 0s 19ms/step - loss: 1.3959e-04 - root_mean_squared_error: 0.0118\n",
            "Epoch 50/100\n",
            "5/7 [====================>.........] - ETA: 0s - loss: 1.2793e-04 - root_mean_squared_error: 0.0113"
          ]
        },
        {
          "output_type": "stream",
          "name": "stderr",
          "text": [
            "WARNING:tensorflow:Can save best model only with val_loss available, skipping.\n"
          ]
        },
        {
          "output_type": "stream",
          "name": "stdout",
          "text": [
            "\b\b\b\b\b\b\b\b\b\b\b\b\b\b\b\b\b\b\b\b\b\b\b\b\b\b\b\b\b\b\b\b\b\b\b\b\b\b\b\b\b\b\b\b\b\b\b\b\b\b\b\b\b\b\b\b\b\b\b\b\b\b\b\b\b\b\b\b\b\b\b\b\b\b\b\b\b\b\b\b\b\b\b\b\b\b\b\b\b\b\b\b\b\b\b\b\b\b\b\r7/7 [==============================] - 0s 16ms/step - loss: 1.3232e-04 - root_mean_squared_error: 0.0115\n",
            "Epoch 51/100\n",
            "5/7 [====================>.........] - ETA: 0s - loss: 1.2864e-04 - root_mean_squared_error: 0.0113"
          ]
        },
        {
          "output_type": "stream",
          "name": "stderr",
          "text": [
            "WARNING:tensorflow:Can save best model only with val_loss available, skipping.\n"
          ]
        },
        {
          "output_type": "stream",
          "name": "stdout",
          "text": [
            "\b\b\b\b\b\b\b\b\b\b\b\b\b\b\b\b\b\b\b\b\b\b\b\b\b\b\b\b\b\b\b\b\b\b\b\b\b\b\b\b\b\b\b\b\b\b\b\b\b\b\b\b\b\b\b\b\b\b\b\b\b\b\b\b\b\b\b\b\b\b\b\b\b\b\b\b\b\b\b\b\b\b\b\b\b\b\b\b\b\b\b\b\b\b\b\b\b\b\b\r7/7 [==============================] - 0s 16ms/step - loss: 1.2908e-04 - root_mean_squared_error: 0.0114\n",
            "Epoch 52/100\n",
            "6/7 [========================>.....] - ETA: 0s - loss: 1.2402e-04 - root_mean_squared_error: 0.0111"
          ]
        },
        {
          "output_type": "stream",
          "name": "stderr",
          "text": [
            "WARNING:tensorflow:Can save best model only with val_loss available, skipping.\n"
          ]
        },
        {
          "output_type": "stream",
          "name": "stdout",
          "text": [
            "\b\b\b\b\b\b\b\b\b\b\b\b\b\b\b\b\b\b\b\b\b\b\b\b\b\b\b\b\b\b\b\b\b\b\b\b\b\b\b\b\b\b\b\b\b\b\b\b\b\b\b\b\b\b\b\b\b\b\b\b\b\b\b\b\b\b\b\b\b\b\b\b\b\b\b\b\b\b\b\b\b\b\b\b\b\b\b\b\b\b\b\b\b\b\b\b\b\b\b\r7/7 [==============================] - 0s 22ms/step - loss: 1.2471e-04 - root_mean_squared_error: 0.0112\n",
            "Epoch 53/100\n",
            "5/7 [====================>.........] - ETA: 0s - loss: 1.2560e-04 - root_mean_squared_error: 0.0112"
          ]
        },
        {
          "output_type": "stream",
          "name": "stderr",
          "text": [
            "WARNING:tensorflow:Can save best model only with val_loss available, skipping.\n"
          ]
        },
        {
          "output_type": "stream",
          "name": "stdout",
          "text": [
            "\b\b\b\b\b\b\b\b\b\b\b\b\b\b\b\b\b\b\b\b\b\b\b\b\b\b\b\b\b\b\b\b\b\b\b\b\b\b\b\b\b\b\b\b\b\b\b\b\b\b\b\b\b\b\b\b\b\b\b\b\b\b\b\b\b\b\b\b\b\b\b\b\b\b\b\b\b\b\b\b\b\b\b\b\b\b\b\b\b\b\b\b\b\b\b\b\b\b\b\r7/7 [==============================] - 0s 18ms/step - loss: 1.2151e-04 - root_mean_squared_error: 0.0110\n",
            "Epoch 54/100\n",
            "6/7 [========================>.....] - ETA: 0s - loss: 1.2039e-04 - root_mean_squared_error: 0.0110"
          ]
        },
        {
          "output_type": "stream",
          "name": "stderr",
          "text": [
            "WARNING:tensorflow:Can save best model only with val_loss available, skipping.\n"
          ]
        },
        {
          "output_type": "stream",
          "name": "stdout",
          "text": [
            "\b\b\b\b\b\b\b\b\b\b\b\b\b\b\b\b\b\b\b\b\b\b\b\b\b\b\b\b\b\b\b\b\b\b\b\b\b\b\b\b\b\b\b\b\b\b\b\b\b\b\b\b\b\b\b\b\b\b\b\b\b\b\b\b\b\b\b\b\b\b\b\b\b\b\b\b\b\b\b\b\b\b\b\b\b\b\b\b\b\b\b\b\b\b\b\b\b\b\b\r7/7 [==============================] - 0s 14ms/step - loss: 1.1925e-04 - root_mean_squared_error: 0.0109\n",
            "Epoch 55/100\n",
            "5/7 [====================>.........] - ETA: 0s - loss: 1.1548e-04 - root_mean_squared_error: 0.0107"
          ]
        },
        {
          "output_type": "stream",
          "name": "stderr",
          "text": [
            "WARNING:tensorflow:Can save best model only with val_loss available, skipping.\n"
          ]
        },
        {
          "output_type": "stream",
          "name": "stdout",
          "text": [
            "\b\b\b\b\b\b\b\b\b\b\b\b\b\b\b\b\b\b\b\b\b\b\b\b\b\b\b\b\b\b\b\b\b\b\b\b\b\b\b\b\b\b\b\b\b\b\b\b\b\b\b\b\b\b\b\b\b\b\b\b\b\b\b\b\b\b\b\b\b\b\b\b\b\b\b\b\b\b\b\b\b\b\b\b\b\b\b\b\b\b\b\b\b\b\b\b\b\b\b\r7/7 [==============================] - 0s 26ms/step - loss: 1.1505e-04 - root_mean_squared_error: 0.0107\n",
            "Epoch 56/100\n",
            "4/7 [================>.............] - ETA: 0s - loss: 1.0842e-04 - root_mean_squared_error: 0.0104"
          ]
        },
        {
          "output_type": "stream",
          "name": "stderr",
          "text": [
            "WARNING:tensorflow:Can save best model only with val_loss available, skipping.\n"
          ]
        },
        {
          "output_type": "stream",
          "name": "stdout",
          "text": [
            "\b\b\b\b\b\b\b\b\b\b\b\b\b\b\b\b\b\b\b\b\b\b\b\b\b\b\b\b\b\b\b\b\b\b\b\b\b\b\b\b\b\b\b\b\b\b\b\b\b\b\b\b\b\b\b\b\b\b\b\b\b\b\b\b\b\b\b\b\b\b\b\b\b\b\b\b\b\b\b\b\b\b\b\b\b\b\b\b\b\b\b\b\b\b\b\b\b\b\b\r7/7 [==============================] - 0s 23ms/step - loss: 1.0933e-04 - root_mean_squared_error: 0.0105\n",
            "Epoch 57/100\n",
            "5/7 [====================>.........] - ETA: 0s - loss: 9.9779e-05 - root_mean_squared_error: 0.0100"
          ]
        },
        {
          "output_type": "stream",
          "name": "stderr",
          "text": [
            "WARNING:tensorflow:Can save best model only with val_loss available, skipping.\n"
          ]
        },
        {
          "output_type": "stream",
          "name": "stdout",
          "text": [
            "\b\b\b\b\b\b\b\b\b\b\b\b\b\b\b\b\b\b\b\b\b\b\b\b\b\b\b\b\b\b\b\b\b\b\b\b\b\b\b\b\b\b\b\b\b\b\b\b\b\b\b\b\b\b\b\b\b\b\b\b\b\b\b\b\b\b\b\b\b\b\b\b\b\b\b\b\b\b\b\b\b\b\b\b\b\b\b\b\b\b\b\b\b\b\b\b\b\b\b\r7/7 [==============================] - 0s 20ms/step - loss: 1.0704e-04 - root_mean_squared_error: 0.0103\n",
            "Epoch 58/100\n",
            "6/7 [========================>.....] - ETA: 0s - loss: 1.0362e-04 - root_mean_squared_error: 0.0102"
          ]
        },
        {
          "output_type": "stream",
          "name": "stderr",
          "text": [
            "WARNING:tensorflow:Can save best model only with val_loss available, skipping.\n"
          ]
        },
        {
          "output_type": "stream",
          "name": "stdout",
          "text": [
            "\b\b\b\b\b\b\b\b\b\b\b\b\b\b\b\b\b\b\b\b\b\b\b\b\b\b\b\b\b\b\b\b\b\b\b\b\b\b\b\b\b\b\b\b\b\b\b\b\b\b\b\b\b\b\b\b\b\b\b\b\b\b\b\b\b\b\b\b\b\b\b\b\b\b\b\b\b\b\b\b\b\b\b\b\b\b\b\b\b\b\b\b\b\b\b\b\b\b\b\r7/7 [==============================] - 0s 13ms/step - loss: 1.0227e-04 - root_mean_squared_error: 0.0101\n",
            "Epoch 59/100\n",
            "7/7 [==============================] - ETA: 0s - loss: 9.4109e-05 - root_mean_squared_error: 0.0097"
          ]
        },
        {
          "output_type": "stream",
          "name": "stderr",
          "text": [
            "WARNING:tensorflow:Can save best model only with val_loss available, skipping.\n"
          ]
        },
        {
          "output_type": "stream",
          "name": "stdout",
          "text": [
            "\b\b\b\b\b\b\b\b\b\b\b\b\b\b\b\b\b\b\b\b\b\b\b\b\b\b\b\b\b\b\b\b\b\b\b\b\b\b\b\b\b\b\b\b\b\b\b\b\b\b\b\b\b\b\b\b\b\b\b\b\b\b\b\b\b\b\b\b\b\b\b\b\b\b\b\b\b\b\b\b\b\b\b\b\b\b\b\b\b\b\b\b\b\b\b\b\b\b\b\r7/7 [==============================] - 0s 12ms/step - loss: 9.4109e-05 - root_mean_squared_error: 0.0097\n",
            "Epoch 60/100\n",
            "6/7 [========================>.....] - ETA: 0s - loss: 8.5658e-05 - root_mean_squared_error: 0.0093"
          ]
        },
        {
          "output_type": "stream",
          "name": "stderr",
          "text": [
            "WARNING:tensorflow:Can save best model only with val_loss available, skipping.\n"
          ]
        },
        {
          "output_type": "stream",
          "name": "stdout",
          "text": [
            "\b\b\b\b\b\b\b\b\b\b\b\b\b\b\b\b\b\b\b\b\b\b\b\b\b\b\b\b\b\b\b\b\b\b\b\b\b\b\b\b\b\b\b\b\b\b\b\b\b\b\b\b\b\b\b\b\b\b\b\b\b\b\b\b\b\b\b\b\b\b\b\b\b\b\b\b\b\b\b\b\b\b\b\b\b\b\b\b\b\b\b\b\b\b\b\b\b\b\b\r7/7 [==============================] - 0s 13ms/step - loss: 8.5324e-05 - root_mean_squared_error: 0.0092\n",
            "Epoch 61/100\n",
            "7/7 [==============================] - ETA: 0s - loss: 7.5449e-05 - root_mean_squared_error: 0.0087"
          ]
        },
        {
          "output_type": "stream",
          "name": "stderr",
          "text": [
            "WARNING:tensorflow:Can save best model only with val_loss available, skipping.\n"
          ]
        },
        {
          "output_type": "stream",
          "name": "stdout",
          "text": [
            "\b\b\b\b\b\b\b\b\b\b\b\b\b\b\b\b\b\b\b\b\b\b\b\b\b\b\b\b\b\b\b\b\b\b\b\b\b\b\b\b\b\b\b\b\b\b\b\b\b\b\b\b\b\b\b\b\b\b\b\b\b\b\b\b\b\b\b\b\b\b\b\b\b\b\b\b\b\b\b\b\b\b\b\b\b\b\b\b\b\b\b\b\b\b\b\b\b\b\b\r7/7 [==============================] - 0s 12ms/step - loss: 7.5449e-05 - root_mean_squared_error: 0.0087\n",
            "Epoch 62/100\n",
            "7/7 [==============================] - ETA: 0s - loss: 6.3410e-05 - root_mean_squared_error: 0.0080"
          ]
        },
        {
          "output_type": "stream",
          "name": "stderr",
          "text": [
            "WARNING:tensorflow:Can save best model only with val_loss available, skipping.\n"
          ]
        },
        {
          "output_type": "stream",
          "name": "stdout",
          "text": [
            "\b\b\b\b\b\b\b\b\b\b\b\b\b\b\b\b\b\b\b\b\b\b\b\b\b\b\b\b\b\b\b\b\b\b\b\b\b\b\b\b\b\b\b\b\b\b\b\b\b\b\b\b\b\b\b\b\b\b\b\b\b\b\b\b\b\b\b\b\b\b\b\b\b\b\b\b\b\b\b\b\b\b\b\b\b\b\b\b\b\b\b\b\b\b\b\b\b\b\b\r7/7 [==============================] - 0s 12ms/step - loss: 6.3410e-05 - root_mean_squared_error: 0.0080\n",
            "Epoch 63/100\n",
            "7/7 [==============================] - ETA: 0s - loss: 4.8191e-05 - root_mean_squared_error: 0.0069"
          ]
        },
        {
          "output_type": "stream",
          "name": "stderr",
          "text": [
            "WARNING:tensorflow:Can save best model only with val_loss available, skipping.\n"
          ]
        },
        {
          "output_type": "stream",
          "name": "stdout",
          "text": [
            "\b\b\b\b\b\b\b\b\b\b\b\b\b\b\b\b\b\b\b\b\b\b\b\b\b\b\b\b\b\b\b\b\b\b\b\b\b\b\b\b\b\b\b\b\b\b\b\b\b\b\b\b\b\b\b\b\b\b\b\b\b\b\b\b\b\b\b\b\b\b\b\b\b\b\b\b\b\b\b\b\b\b\b\b\b\b\b\b\b\b\b\b\b\b\b\b\b\b\b\r7/7 [==============================] - 0s 12ms/step - loss: 4.8191e-05 - root_mean_squared_error: 0.0069\n",
            "Epoch 64/100\n",
            "6/7 [========================>.....] - ETA: 0s - loss: 3.7325e-05 - root_mean_squared_error: 0.0061"
          ]
        },
        {
          "output_type": "stream",
          "name": "stderr",
          "text": [
            "WARNING:tensorflow:Can save best model only with val_loss available, skipping.\n"
          ]
        },
        {
          "output_type": "stream",
          "name": "stdout",
          "text": [
            "\b\b\b\b\b\b\b\b\b\b\b\b\b\b\b\b\b\b\b\b\b\b\b\b\b\b\b\b\b\b\b\b\b\b\b\b\b\b\b\b\b\b\b\b\b\b\b\b\b\b\b\b\b\b\b\b\b\b\b\b\b\b\b\b\b\b\b\b\b\b\b\b\b\b\b\b\b\b\b\b\b\b\b\b\b\b\b\b\b\b\b\b\b\b\b\b\b\b\b\r7/7 [==============================] - 0s 13ms/step - loss: 3.6995e-05 - root_mean_squared_error: 0.0061\n",
            "Epoch 65/100\n",
            "7/7 [==============================] - ETA: 0s - loss: 2.6208e-05 - root_mean_squared_error: 0.0051"
          ]
        },
        {
          "output_type": "stream",
          "name": "stderr",
          "text": [
            "WARNING:tensorflow:Can save best model only with val_loss available, skipping.\n"
          ]
        },
        {
          "output_type": "stream",
          "name": "stdout",
          "text": [
            "\b\b\b\b\b\b\b\b\b\b\b\b\b\b\b\b\b\b\b\b\b\b\b\b\b\b\b\b\b\b\b\b\b\b\b\b\b\b\b\b\b\b\b\b\b\b\b\b\b\b\b\b\b\b\b\b\b\b\b\b\b\b\b\b\b\b\b\b\b\b\b\b\b\b\b\b\b\b\b\b\b\b\b\b\b\b\b\b\b\b\b\b\b\b\b\b\b\b\b\r7/7 [==============================] - 0s 12ms/step - loss: 2.6208e-05 - root_mean_squared_error: 0.0051\n",
            "Epoch 66/100\n",
            "7/7 [==============================] - ETA: 0s - loss: 1.9633e-05 - root_mean_squared_error: 0.0044"
          ]
        },
        {
          "output_type": "stream",
          "name": "stderr",
          "text": [
            "WARNING:tensorflow:Can save best model only with val_loss available, skipping.\n"
          ]
        },
        {
          "output_type": "stream",
          "name": "stdout",
          "text": [
            "\b\b\b\b\b\b\b\b\b\b\b\b\b\b\b\b\b\b\b\b\b\b\b\b\b\b\b\b\b\b\b\b\b\b\b\b\b\b\b\b\b\b\b\b\b\b\b\b\b\b\b\b\b\b\b\b\b\b\b\b\b\b\b\b\b\b\b\b\b\b\b\b\b\b\b\b\b\b\b\b\b\b\b\b\b\b\b\b\b\b\b\b\b\b\b\b\b\b\b\r7/7 [==============================] - 0s 12ms/step - loss: 1.9633e-05 - root_mean_squared_error: 0.0044\n",
            "Epoch 67/100\n",
            "7/7 [==============================] - ETA: 0s - loss: 1.6424e-05 - root_mean_squared_error: 0.0041"
          ]
        },
        {
          "output_type": "stream",
          "name": "stderr",
          "text": [
            "WARNING:tensorflow:Can save best model only with val_loss available, skipping.\n"
          ]
        },
        {
          "output_type": "stream",
          "name": "stdout",
          "text": [
            "\b\b\b\b\b\b\b\b\b\b\b\b\b\b\b\b\b\b\b\b\b\b\b\b\b\b\b\b\b\b\b\b\b\b\b\b\b\b\b\b\b\b\b\b\b\b\b\b\b\b\b\b\b\b\b\b\b\b\b\b\b\b\b\b\b\b\b\b\b\b\b\b\b\b\b\b\b\b\b\b\b\b\b\b\b\b\b\b\b\b\b\b\b\b\b\b\b\b\b\r7/7 [==============================] - 0s 12ms/step - loss: 1.6424e-05 - root_mean_squared_error: 0.0041\n",
            "Epoch 68/100\n",
            "7/7 [==============================] - ETA: 0s - loss: 1.2653e-05 - root_mean_squared_error: 0.0036"
          ]
        },
        {
          "output_type": "stream",
          "name": "stderr",
          "text": [
            "WARNING:tensorflow:Can save best model only with val_loss available, skipping.\n"
          ]
        },
        {
          "output_type": "stream",
          "name": "stdout",
          "text": [
            "\b\b\b\b\b\b\b\b\b\b\b\b\b\b\b\b\b\b\b\b\b\b\b\b\b\b\b\b\b\b\b\b\b\b\b\b\b\b\b\b\b\b\b\b\b\b\b\b\b\b\b\b\b\b\b\b\b\b\b\b\b\b\b\b\b\b\b\b\b\b\b\b\b\b\b\b\b\b\b\b\b\b\b\b\b\b\b\b\b\b\b\b\b\b\b\b\b\b\b\r7/7 [==============================] - 0s 11ms/step - loss: 1.2653e-05 - root_mean_squared_error: 0.0036\n",
            "Epoch 69/100\n",
            "7/7 [==============================] - ETA: 0s - loss: 1.1191e-05 - root_mean_squared_error: 0.0033"
          ]
        },
        {
          "output_type": "stream",
          "name": "stderr",
          "text": [
            "WARNING:tensorflow:Can save best model only with val_loss available, skipping.\n"
          ]
        },
        {
          "output_type": "stream",
          "name": "stdout",
          "text": [
            "\b\b\b\b\b\b\b\b\b\b\b\b\b\b\b\b\b\b\b\b\b\b\b\b\b\b\b\b\b\b\b\b\b\b\b\b\b\b\b\b\b\b\b\b\b\b\b\b\b\b\b\b\b\b\b\b\b\b\b\b\b\b\b\b\b\b\b\b\b\b\b\b\b\b\b\b\b\b\b\b\b\b\b\b\b\b\b\b\b\b\b\b\b\b\b\b\b\b\b\r7/7 [==============================] - 0s 12ms/step - loss: 1.1191e-05 - root_mean_squared_error: 0.0033\n",
            "Epoch 70/100\n",
            "7/7 [==============================] - ETA: 0s - loss: 9.5195e-06 - root_mean_squared_error: 0.0031"
          ]
        },
        {
          "output_type": "stream",
          "name": "stderr",
          "text": [
            "WARNING:tensorflow:Can save best model only with val_loss available, skipping.\n"
          ]
        },
        {
          "output_type": "stream",
          "name": "stdout",
          "text": [
            "\b\b\b\b\b\b\b\b\b\b\b\b\b\b\b\b\b\b\b\b\b\b\b\b\b\b\b\b\b\b\b\b\b\b\b\b\b\b\b\b\b\b\b\b\b\b\b\b\b\b\b\b\b\b\b\b\b\b\b\b\b\b\b\b\b\b\b\b\b\b\b\b\b\b\b\b\b\b\b\b\b\b\b\b\b\b\b\b\b\b\b\b\b\b\b\b\b\b\b\r7/7 [==============================] - 0s 12ms/step - loss: 9.5195e-06 - root_mean_squared_error: 0.0031\n",
            "Epoch 71/100\n",
            "6/7 [========================>.....] - ETA: 0s - loss: 8.0732e-06 - root_mean_squared_error: 0.0028"
          ]
        },
        {
          "output_type": "stream",
          "name": "stderr",
          "text": [
            "WARNING:tensorflow:Can save best model only with val_loss available, skipping.\n"
          ]
        },
        {
          "output_type": "stream",
          "name": "stdout",
          "text": [
            "\b\b\b\b\b\b\b\b\b\b\b\b\b\b\b\b\b\b\b\b\b\b\b\b\b\b\b\b\b\b\b\b\b\b\b\b\b\b\b\b\b\b\b\b\b\b\b\b\b\b\b\b\b\b\b\b\b\b\b\b\b\b\b\b\b\b\b\b\b\b\b\b\b\b\b\b\b\b\b\b\b\b\b\b\b\b\b\b\b\b\b\b\b\b\b\b\b\b\b\r7/7 [==============================] - 0s 13ms/step - loss: 8.1529e-06 - root_mean_squared_error: 0.0029\n",
            "Epoch 72/100\n",
            "7/7 [==============================] - ETA: 0s - loss: 7.2472e-06 - root_mean_squared_error: 0.0027"
          ]
        },
        {
          "output_type": "stream",
          "name": "stderr",
          "text": [
            "WARNING:tensorflow:Can save best model only with val_loss available, skipping.\n"
          ]
        },
        {
          "output_type": "stream",
          "name": "stdout",
          "text": [
            "\b\b\b\b\b\b\b\b\b\b\b\b\b\b\b\b\b\b\b\b\b\b\b\b\b\b\b\b\b\b\b\b\b\b\b\b\b\b\b\b\b\b\b\b\b\b\b\b\b\b\b\b\b\b\b\b\b\b\b\b\b\b\b\b\b\b\b\b\b\b\b\b\b\b\b\b\b\b\b\b\b\b\b\b\b\b\b\b\b\b\b\b\b\b\b\b\b\b\b\r7/7 [==============================] - 0s 12ms/step - loss: 7.2472e-06 - root_mean_squared_error: 0.0027\n",
            "Epoch 73/100\n",
            "7/7 [==============================] - ETA: 0s - loss: 6.4827e-06 - root_mean_squared_error: 0.0025"
          ]
        },
        {
          "output_type": "stream",
          "name": "stderr",
          "text": [
            "WARNING:tensorflow:Can save best model only with val_loss available, skipping.\n"
          ]
        },
        {
          "output_type": "stream",
          "name": "stdout",
          "text": [
            "\b\b\b\b\b\b\b\b\b\b\b\b\b\b\b\b\b\b\b\b\b\b\b\b\b\b\b\b\b\b\b\b\b\b\b\b\b\b\b\b\b\b\b\b\b\b\b\b\b\b\b\b\b\b\b\b\b\b\b\b\b\b\b\b\b\b\b\b\b\b\b\b\b\b\b\b\b\b\b\b\b\b\b\b\b\b\b\b\b\b\b\b\b\b\b\b\b\b\b\r7/7 [==============================] - 0s 13ms/step - loss: 6.4827e-06 - root_mean_squared_error: 0.0025\n",
            "Epoch 74/100\n",
            "7/7 [==============================] - ETA: 0s - loss: 5.7711e-06 - root_mean_squared_error: 0.0024"
          ]
        },
        {
          "output_type": "stream",
          "name": "stderr",
          "text": [
            "WARNING:tensorflow:Can save best model only with val_loss available, skipping.\n"
          ]
        },
        {
          "output_type": "stream",
          "name": "stdout",
          "text": [
            "\b\b\b\b\b\b\b\b\b\b\b\b\b\b\b\b\b\b\b\b\b\b\b\b\b\b\b\b\b\b\b\b\b\b\b\b\b\b\b\b\b\b\b\b\b\b\b\b\b\b\b\b\b\b\b\b\b\b\b\b\b\b\b\b\b\b\b\b\b\b\b\b\b\b\b\b\b\b\b\b\b\b\b\b\b\b\b\b\b\b\b\b\b\b\b\b\b\b\b\r7/7 [==============================] - 0s 12ms/step - loss: 5.7711e-06 - root_mean_squared_error: 0.0024\n",
            "Epoch 75/100\n",
            "7/7 [==============================] - ETA: 0s - loss: 5.0374e-06 - root_mean_squared_error: 0.0022"
          ]
        },
        {
          "output_type": "stream",
          "name": "stderr",
          "text": [
            "WARNING:tensorflow:Can save best model only with val_loss available, skipping.\n"
          ]
        },
        {
          "output_type": "stream",
          "name": "stdout",
          "text": [
            "\b\b\b\b\b\b\b\b\b\b\b\b\b\b\b\b\b\b\b\b\b\b\b\b\b\b\b\b\b\b\b\b\b\b\b\b\b\b\b\b\b\b\b\b\b\b\b\b\b\b\b\b\b\b\b\b\b\b\b\b\b\b\b\b\b\b\b\b\b\b\b\b\b\b\b\b\b\b\b\b\b\b\b\b\b\b\b\b\b\b\b\b\b\b\b\b\b\b\b\r7/7 [==============================] - 0s 11ms/step - loss: 5.0374e-06 - root_mean_squared_error: 0.0022\n",
            "Epoch 76/100\n",
            "7/7 [==============================] - ETA: 0s - loss: 4.5474e-06 - root_mean_squared_error: 0.0021"
          ]
        },
        {
          "output_type": "stream",
          "name": "stderr",
          "text": [
            "WARNING:tensorflow:Can save best model only with val_loss available, skipping.\n"
          ]
        },
        {
          "output_type": "stream",
          "name": "stdout",
          "text": [
            "\b\b\b\b\b\b\b\b\b\b\b\b\b\b\b\b\b\b\b\b\b\b\b\b\b\b\b\b\b\b\b\b\b\b\b\b\b\b\b\b\b\b\b\b\b\b\b\b\b\b\b\b\b\b\b\b\b\b\b\b\b\b\b\b\b\b\b\b\b\b\b\b\b\b\b\b\b\b\b\b\b\b\b\b\b\b\b\b\b\b\b\b\b\b\b\b\b\b\b\r7/7 [==============================] - 0s 14ms/step - loss: 4.5474e-06 - root_mean_squared_error: 0.0021\n",
            "Epoch 77/100\n",
            "7/7 [==============================] - ETA: 0s - loss: 4.0309e-06 - root_mean_squared_error: 0.0020"
          ]
        },
        {
          "output_type": "stream",
          "name": "stderr",
          "text": [
            "WARNING:tensorflow:Can save best model only with val_loss available, skipping.\n"
          ]
        },
        {
          "output_type": "stream",
          "name": "stdout",
          "text": [
            "\b\b\b\b\b\b\b\b\b\b\b\b\b\b\b\b\b\b\b\b\b\b\b\b\b\b\b\b\b\b\b\b\b\b\b\b\b\b\b\b\b\b\b\b\b\b\b\b\b\b\b\b\b\b\b\b\b\b\b\b\b\b\b\b\b\b\b\b\b\b\b\b\b\b\b\b\b\b\b\b\b\b\b\b\b\b\b\b\b\b\b\b\b\b\b\b\b\b\b\r7/7 [==============================] - 0s 12ms/step - loss: 4.0309e-06 - root_mean_squared_error: 0.0020\n",
            "Epoch 78/100\n",
            "7/7 [==============================] - ETA: 0s - loss: 3.7201e-06 - root_mean_squared_error: 0.0019"
          ]
        },
        {
          "output_type": "stream",
          "name": "stderr",
          "text": [
            "WARNING:tensorflow:Can save best model only with val_loss available, skipping.\n"
          ]
        },
        {
          "output_type": "stream",
          "name": "stdout",
          "text": [
            "\b\b\b\b\b\b\b\b\b\b\b\b\b\b\b\b\b\b\b\b\b\b\b\b\b\b\b\b\b\b\b\b\b\b\b\b\b\b\b\b\b\b\b\b\b\b\b\b\b\b\b\b\b\b\b\b\b\b\b\b\b\b\b\b\b\b\b\b\b\b\b\b\b\b\b\b\b\b\b\b\b\b\b\b\b\b\b\b\b\b\b\b\b\b\b\b\b\b\b\r7/7 [==============================] - 0s 12ms/step - loss: 3.7201e-06 - root_mean_squared_error: 0.0019\n",
            "Epoch 79/100\n",
            "7/7 [==============================] - ETA: 0s - loss: 3.4870e-06 - root_mean_squared_error: 0.0019"
          ]
        },
        {
          "output_type": "stream",
          "name": "stderr",
          "text": [
            "WARNING:tensorflow:Can save best model only with val_loss available, skipping.\n"
          ]
        },
        {
          "output_type": "stream",
          "name": "stdout",
          "text": [
            "\b\b\b\b\b\b\b\b\b\b\b\b\b\b\b\b\b\b\b\b\b\b\b\b\b\b\b\b\b\b\b\b\b\b\b\b\b\b\b\b\b\b\b\b\b\b\b\b\b\b\b\b\b\b\b\b\b\b\b\b\b\b\b\b\b\b\b\b\b\b\b\b\b\b\b\b\b\b\b\b\b\b\b\b\b\b\b\b\b\b\b\b\b\b\b\b\b\b\b\r7/7 [==============================] - 0s 12ms/step - loss: 3.4870e-06 - root_mean_squared_error: 0.0019\n",
            "Epoch 80/100\n",
            "7/7 [==============================] - ETA: 0s - loss: 3.3099e-06 - root_mean_squared_error: 0.0018"
          ]
        },
        {
          "output_type": "stream",
          "name": "stderr",
          "text": [
            "WARNING:tensorflow:Can save best model only with val_loss available, skipping.\n"
          ]
        },
        {
          "output_type": "stream",
          "name": "stdout",
          "text": [
            "\b\b\b\b\b\b\b\b\b\b\b\b\b\b\b\b\b\b\b\b\b\b\b\b\b\b\b\b\b\b\b\b\b\b\b\b\b\b\b\b\b\b\b\b\b\b\b\b\b\b\b\b\b\b\b\b\b\b\b\b\b\b\b\b\b\b\b\b\b\b\b\b\b\b\b\b\b\b\b\b\b\b\b\b\b\b\b\b\b\b\b\b\b\b\b\b\b\b\b\r7/7 [==============================] - 0s 12ms/step - loss: 3.3099e-06 - root_mean_squared_error: 0.0018\n",
            "Epoch 81/100\n",
            "7/7 [==============================] - ETA: 0s - loss: 3.0609e-06 - root_mean_squared_error: 0.0017"
          ]
        },
        {
          "output_type": "stream",
          "name": "stderr",
          "text": [
            "WARNING:tensorflow:Can save best model only with val_loss available, skipping.\n"
          ]
        },
        {
          "output_type": "stream",
          "name": "stdout",
          "text": [
            "\b\b\b\b\b\b\b\b\b\b\b\b\b\b\b\b\b\b\b\b\b\b\b\b\b\b\b\b\b\b\b\b\b\b\b\b\b\b\b\b\b\b\b\b\b\b\b\b\b\b\b\b\b\b\b\b\b\b\b\b\b\b\b\b\b\b\b\b\b\b\b\b\b\b\b\b\b\b\b\b\b\b\b\b\b\b\b\b\b\b\b\b\b\b\b\b\b\b\b\r7/7 [==============================] - 0s 12ms/step - loss: 3.0609e-06 - root_mean_squared_error: 0.0017\n",
            "Epoch 82/100\n",
            "7/7 [==============================] - ETA: 0s - loss: 2.8043e-06 - root_mean_squared_error: 0.0017"
          ]
        },
        {
          "output_type": "stream",
          "name": "stderr",
          "text": [
            "WARNING:tensorflow:Can save best model only with val_loss available, skipping.\n"
          ]
        },
        {
          "output_type": "stream",
          "name": "stdout",
          "text": [
            "\b\b\b\b\b\b\b\b\b\b\b\b\b\b\b\b\b\b\b\b\b\b\b\b\b\b\b\b\b\b\b\b\b\b\b\b\b\b\b\b\b\b\b\b\b\b\b\b\b\b\b\b\b\b\b\b\b\b\b\b\b\b\b\b\b\b\b\b\b\b\b\b\b\b\b\b\b\b\b\b\b\b\b\b\b\b\b\b\b\b\b\b\b\b\b\b\b\b\b\r7/7 [==============================] - 0s 12ms/step - loss: 2.8043e-06 - root_mean_squared_error: 0.0017\n",
            "Epoch 83/100\n",
            "6/7 [========================>.....] - ETA: 0s - loss: 2.8871e-06 - root_mean_squared_error: 0.0017"
          ]
        },
        {
          "output_type": "stream",
          "name": "stderr",
          "text": [
            "WARNING:tensorflow:Can save best model only with val_loss available, skipping.\n"
          ]
        },
        {
          "output_type": "stream",
          "name": "stdout",
          "text": [
            "\b\b\b\b\b\b\b\b\b\b\b\b\b\b\b\b\b\b\b\b\b\b\b\b\b\b\b\b\b\b\b\b\b\b\b\b\b\b\b\b\b\b\b\b\b\b\b\b\b\b\b\b\b\b\b\b\b\b\b\b\b\b\b\b\b\b\b\b\b\b\b\b\b\b\b\b\b\b\b\b\b\b\b\b\b\b\b\b\b\b\b\b\b\b\b\b\b\b\b\r7/7 [==============================] - 0s 13ms/step - loss: 2.8615e-06 - root_mean_squared_error: 0.0017\n",
            "Epoch 84/100\n",
            "7/7 [==============================] - ETA: 0s - loss: 2.6507e-06 - root_mean_squared_error: 0.0016"
          ]
        },
        {
          "output_type": "stream",
          "name": "stderr",
          "text": [
            "WARNING:tensorflow:Can save best model only with val_loss available, skipping.\n"
          ]
        },
        {
          "output_type": "stream",
          "name": "stdout",
          "text": [
            "\b\b\b\b\b\b\b\b\b\b\b\b\b\b\b\b\b\b\b\b\b\b\b\b\b\b\b\b\b\b\b\b\b\b\b\b\b\b\b\b\b\b\b\b\b\b\b\b\b\b\b\b\b\b\b\b\b\b\b\b\b\b\b\b\b\b\b\b\b\b\b\b\b\b\b\b\b\b\b\b\b\b\b\b\b\b\b\b\b\b\b\b\b\b\b\b\b\b\b\r7/7 [==============================] - 0s 12ms/step - loss: 2.6507e-06 - root_mean_squared_error: 0.0016\n",
            "Epoch 85/100\n",
            "7/7 [==============================] - ETA: 0s - loss: 2.4105e-06 - root_mean_squared_error: 0.0016"
          ]
        },
        {
          "output_type": "stream",
          "name": "stderr",
          "text": [
            "WARNING:tensorflow:Can save best model only with val_loss available, skipping.\n"
          ]
        },
        {
          "output_type": "stream",
          "name": "stdout",
          "text": [
            "\b\b\b\b\b\b\b\b\b\b\b\b\b\b\b\b\b\b\b\b\b\b\b\b\b\b\b\b\b\b\b\b\b\b\b\b\b\b\b\b\b\b\b\b\b\b\b\b\b\b\b\b\b\b\b\b\b\b\b\b\b\b\b\b\b\b\b\b\b\b\b\b\b\b\b\b\b\b\b\b\b\b\b\b\b\b\b\b\b\b\b\b\b\b\b\b\b\b\b\r7/7 [==============================] - 0s 12ms/step - loss: 2.4105e-06 - root_mean_squared_error: 0.0016\n",
            "Epoch 86/100\n",
            "7/7 [==============================] - ETA: 0s - loss: 2.4640e-06 - root_mean_squared_error: 0.0016"
          ]
        },
        {
          "output_type": "stream",
          "name": "stderr",
          "text": [
            "WARNING:tensorflow:Can save best model only with val_loss available, skipping.\n"
          ]
        },
        {
          "output_type": "stream",
          "name": "stdout",
          "text": [
            "\b\b\b\b\b\b\b\b\b\b\b\b\b\b\b\b\b\b\b\b\b\b\b\b\b\b\b\b\b\b\b\b\b\b\b\b\b\b\b\b\b\b\b\b\b\b\b\b\b\b\b\b\b\b\b\b\b\b\b\b\b\b\b\b\b\b\b\b\b\b\b\b\b\b\b\b\b\b\b\b\b\b\b\b\b\b\b\b\b\b\b\b\b\b\b\b\b\b\b\r7/7 [==============================] - 0s 12ms/step - loss: 2.4640e-06 - root_mean_squared_error: 0.0016\n",
            "Epoch 87/100\n",
            "6/7 [========================>.....] - ETA: 0s - loss: 2.3238e-06 - root_mean_squared_error: 0.0015"
          ]
        },
        {
          "output_type": "stream",
          "name": "stderr",
          "text": [
            "WARNING:tensorflow:Can save best model only with val_loss available, skipping.\n"
          ]
        },
        {
          "output_type": "stream",
          "name": "stdout",
          "text": [
            "\b\b\b\b\b\b\b\b\b\b\b\b\b\b\b\b\b\b\b\b\b\b\b\b\b\b\b\b\b\b\b\b\b\b\b\b\b\b\b\b\b\b\b\b\b\b\b\b\b\b\b\b\b\b\b\b\b\b\b\b\b\b\b\b\b\b\b\b\b\b\b\b\b\b\b\b\b\b\b\b\b\b\b\b\b\b\b\b\b\b\b\b\b\b\b\b\b\b\b\r7/7 [==============================] - 0s 13ms/step - loss: 2.2965e-06 - root_mean_squared_error: 0.0015\n",
            "Epoch 88/100\n",
            "6/7 [========================>.....] - ETA: 0s - loss: 2.2389e-06 - root_mean_squared_error: 0.0015"
          ]
        },
        {
          "output_type": "stream",
          "name": "stderr",
          "text": [
            "WARNING:tensorflow:Can save best model only with val_loss available, skipping.\n"
          ]
        },
        {
          "output_type": "stream",
          "name": "stdout",
          "text": [
            "\b\b\b\b\b\b\b\b\b\b\b\b\b\b\b\b\b\b\b\b\b\b\b\b\b\b\b\b\b\b\b\b\b\b\b\b\b\b\b\b\b\b\b\b\b\b\b\b\b\b\b\b\b\b\b\b\b\b\b\b\b\b\b\b\b\b\b\b\b\b\b\b\b\b\b\b\b\b\b\b\b\b\b\b\b\b\b\b\b\b\b\b\b\b\b\b\b\b\b\r7/7 [==============================] - 0s 15ms/step - loss: 2.1983e-06 - root_mean_squared_error: 0.0015\n",
            "Epoch 89/100\n",
            "7/7 [==============================] - ETA: 0s - loss: 2.0150e-06 - root_mean_squared_error: 0.0014"
          ]
        },
        {
          "output_type": "stream",
          "name": "stderr",
          "text": [
            "WARNING:tensorflow:Can save best model only with val_loss available, skipping.\n"
          ]
        },
        {
          "output_type": "stream",
          "name": "stdout",
          "text": [
            "\b\b\b\b\b\b\b\b\b\b\b\b\b\b\b\b\b\b\b\b\b\b\b\b\b\b\b\b\b\b\b\b\b\b\b\b\b\b\b\b\b\b\b\b\b\b\b\b\b\b\b\b\b\b\b\b\b\b\b\b\b\b\b\b\b\b\b\b\b\b\b\b\b\b\b\b\b\b\b\b\b\b\b\b\b\b\b\b\b\b\b\b\b\b\b\b\b\b\b\r7/7 [==============================] - 0s 13ms/step - loss: 2.0150e-06 - root_mean_squared_error: 0.0014\n",
            "Epoch 90/100\n",
            "7/7 [==============================] - ETA: 0s - loss: 1.9313e-06 - root_mean_squared_error: 0.0014"
          ]
        },
        {
          "output_type": "stream",
          "name": "stderr",
          "text": [
            "WARNING:tensorflow:Can save best model only with val_loss available, skipping.\n"
          ]
        },
        {
          "output_type": "stream",
          "name": "stdout",
          "text": [
            "\b\b\b\b\b\b\b\b\b\b\b\b\b\b\b\b\b\b\b\b\b\b\b\b\b\b\b\b\b\b\b\b\b\b\b\b\b\b\b\b\b\b\b\b\b\b\b\b\b\b\b\b\b\b\b\b\b\b\b\b\b\b\b\b\b\b\b\b\b\b\b\b\b\b\b\b\b\b\b\b\b\b\b\b\b\b\b\b\b\b\b\b\b\b\b\b\b\b\b\r7/7 [==============================] - 0s 11ms/step - loss: 1.9313e-06 - root_mean_squared_error: 0.0014\n",
            "Epoch 91/100\n",
            "7/7 [==============================] - ETA: 0s - loss: 1.7991e-06 - root_mean_squared_error: 0.0013"
          ]
        },
        {
          "output_type": "stream",
          "name": "stderr",
          "text": [
            "WARNING:tensorflow:Can save best model only with val_loss available, skipping.\n"
          ]
        },
        {
          "output_type": "stream",
          "name": "stdout",
          "text": [
            "\b\b\b\b\b\b\b\b\b\b\b\b\b\b\b\b\b\b\b\b\b\b\b\b\b\b\b\b\b\b\b\b\b\b\b\b\b\b\b\b\b\b\b\b\b\b\b\b\b\b\b\b\b\b\b\b\b\b\b\b\b\b\b\b\b\b\b\b\b\b\b\b\b\b\b\b\b\b\b\b\b\b\b\b\b\b\b\b\b\b\b\b\b\b\b\b\b\b\b\r7/7 [==============================] - 0s 12ms/step - loss: 1.7991e-06 - root_mean_squared_error: 0.0013\n",
            "Epoch 92/100\n",
            "7/7 [==============================] - ETA: 0s - loss: 1.6798e-06 - root_mean_squared_error: 0.0013"
          ]
        },
        {
          "output_type": "stream",
          "name": "stderr",
          "text": [
            "WARNING:tensorflow:Can save best model only with val_loss available, skipping.\n"
          ]
        },
        {
          "output_type": "stream",
          "name": "stdout",
          "text": [
            "\b\b\b\b\b\b\b\b\b\b\b\b\b\b\b\b\b\b\b\b\b\b\b\b\b\b\b\b\b\b\b\b\b\b\b\b\b\b\b\b\b\b\b\b\b\b\b\b\b\b\b\b\b\b\b\b\b\b\b\b\b\b\b\b\b\b\b\b\b\b\b\b\b\b\b\b\b\b\b\b\b\b\b\b\b\b\b\b\b\b\b\b\b\b\b\b\b\b\b\r7/7 [==============================] - 0s 12ms/step - loss: 1.6798e-06 - root_mean_squared_error: 0.0013\n",
            "Epoch 93/100\n",
            "7/7 [==============================] - ETA: 0s - loss: 1.9015e-06 - root_mean_squared_error: 0.0014"
          ]
        },
        {
          "output_type": "stream",
          "name": "stderr",
          "text": [
            "WARNING:tensorflow:Can save best model only with val_loss available, skipping.\n"
          ]
        },
        {
          "output_type": "stream",
          "name": "stdout",
          "text": [
            "\b\b\b\b\b\b\b\b\b\b\b\b\b\b\b\b\b\b\b\b\b\b\b\b\b\b\b\b\b\b\b\b\b\b\b\b\b\b\b\b\b\b\b\b\b\b\b\b\b\b\b\b\b\b\b\b\b\b\b\b\b\b\b\b\b\b\b\b\b\b\b\b\b\b\b\b\b\b\b\b\b\b\b\b\b\b\b\b\b\b\b\b\b\b\b\b\b\b\b\r7/7 [==============================] - 0s 12ms/step - loss: 1.9015e-06 - root_mean_squared_error: 0.0014\n",
            "Epoch 94/100\n",
            "7/7 [==============================] - ETA: 0s - loss: 1.6529e-06 - root_mean_squared_error: 0.0013"
          ]
        },
        {
          "output_type": "stream",
          "name": "stderr",
          "text": [
            "WARNING:tensorflow:Can save best model only with val_loss available, skipping.\n"
          ]
        },
        {
          "output_type": "stream",
          "name": "stdout",
          "text": [
            "\b\b\b\b\b\b\b\b\b\b\b\b\b\b\b\b\b\b\b\b\b\b\b\b\b\b\b\b\b\b\b\b\b\b\b\b\b\b\b\b\b\b\b\b\b\b\b\b\b\b\b\b\b\b\b\b\b\b\b\b\b\b\b\b\b\b\b\b\b\b\b\b\b\b\b\b\b\b\b\b\b\b\b\b\b\b\b\b\b\b\b\b\b\b\b\b\b\b\b\r7/7 [==============================] - 0s 12ms/step - loss: 1.6529e-06 - root_mean_squared_error: 0.0013\n",
            "Epoch 95/100\n",
            "7/7 [==============================] - ETA: 0s - loss: 1.9004e-06 - root_mean_squared_error: 0.0014"
          ]
        },
        {
          "output_type": "stream",
          "name": "stderr",
          "text": [
            "WARNING:tensorflow:Can save best model only with val_loss available, skipping.\n"
          ]
        },
        {
          "output_type": "stream",
          "name": "stdout",
          "text": [
            "\b\b\b\b\b\b\b\b\b\b\b\b\b\b\b\b\b\b\b\b\b\b\b\b\b\b\b\b\b\b\b\b\b\b\b\b\b\b\b\b\b\b\b\b\b\b\b\b\b\b\b\b\b\b\b\b\b\b\b\b\b\b\b\b\b\b\b\b\b\b\b\b\b\b\b\b\b\b\b\b\b\b\b\b\b\b\b\b\b\b\b\b\b\b\b\b\b\b\b\r7/7 [==============================] - 0s 12ms/step - loss: 1.9004e-06 - root_mean_squared_error: 0.0014\n",
            "Epoch 96/100\n",
            "7/7 [==============================] - ETA: 0s - loss: 1.8011e-06 - root_mean_squared_error: 0.0013"
          ]
        },
        {
          "output_type": "stream",
          "name": "stderr",
          "text": [
            "WARNING:tensorflow:Can save best model only with val_loss available, skipping.\n"
          ]
        },
        {
          "output_type": "stream",
          "name": "stdout",
          "text": [
            "\b\b\b\b\b\b\b\b\b\b\b\b\b\b\b\b\b\b\b\b\b\b\b\b\b\b\b\b\b\b\b\b\b\b\b\b\b\b\b\b\b\b\b\b\b\b\b\b\b\b\b\b\b\b\b\b\b\b\b\b\b\b\b\b\b\b\b\b\b\b\b\b\b\b\b\b\b\b\b\b\b\b\b\b\b\b\b\b\b\b\b\b\b\b\b\b\b\b\b\r7/7 [==============================] - 0s 12ms/step - loss: 1.8011e-06 - root_mean_squared_error: 0.0013\n",
            "Epoch 97/100\n",
            "7/7 [==============================] - ETA: 0s - loss: 1.6027e-06 - root_mean_squared_error: 0.0013"
          ]
        },
        {
          "output_type": "stream",
          "name": "stderr",
          "text": [
            "WARNING:tensorflow:Can save best model only with val_loss available, skipping.\n"
          ]
        },
        {
          "output_type": "stream",
          "name": "stdout",
          "text": [
            "\b\b\b\b\b\b\b\b\b\b\b\b\b\b\b\b\b\b\b\b\b\b\b\b\b\b\b\b\b\b\b\b\b\b\b\b\b\b\b\b\b\b\b\b\b\b\b\b\b\b\b\b\b\b\b\b\b\b\b\b\b\b\b\b\b\b\b\b\b\b\b\b\b\b\b\b\b\b\b\b\b\b\b\b\b\b\b\b\b\b\b\b\b\b\b\b\b\b\b\r7/7 [==============================] - 0s 12ms/step - loss: 1.6027e-06 - root_mean_squared_error: 0.0013\n",
            "Epoch 98/100\n",
            "7/7 [==============================] - ETA: 0s - loss: 1.5391e-06 - root_mean_squared_error: 0.0012"
          ]
        },
        {
          "output_type": "stream",
          "name": "stderr",
          "text": [
            "WARNING:tensorflow:Can save best model only with val_loss available, skipping.\n"
          ]
        },
        {
          "output_type": "stream",
          "name": "stdout",
          "text": [
            "\b\b\b\b\b\b\b\b\b\b\b\b\b\b\b\b\b\b\b\b\b\b\b\b\b\b\b\b\b\b\b\b\b\b\b\b\b\b\b\b\b\b\b\b\b\b\b\b\b\b\b\b\b\b\b\b\b\b\b\b\b\b\b\b\b\b\b\b\b\b\b\b\b\b\b\b\b\b\b\b\b\b\b\b\b\b\b\b\b\b\b\b\b\b\b\b\b\b\b\r7/7 [==============================] - 0s 12ms/step - loss: 1.5391e-06 - root_mean_squared_error: 0.0012\n",
            "Epoch 99/100\n",
            "7/7 [==============================] - ETA: 0s - loss: 1.4104e-06 - root_mean_squared_error: 0.0012"
          ]
        },
        {
          "output_type": "stream",
          "name": "stderr",
          "text": [
            "WARNING:tensorflow:Can save best model only with val_loss available, skipping.\n"
          ]
        },
        {
          "output_type": "stream",
          "name": "stdout",
          "text": [
            "\b\b\b\b\b\b\b\b\b\b\b\b\b\b\b\b\b\b\b\b\b\b\b\b\b\b\b\b\b\b\b\b\b\b\b\b\b\b\b\b\b\b\b\b\b\b\b\b\b\b\b\b\b\b\b\b\b\b\b\b\b\b\b\b\b\b\b\b\b\b\b\b\b\b\b\b\b\b\b\b\b\b\b\b\b\b\b\b\b\b\b\b\b\b\b\b\b\b\b\r7/7 [==============================] - 0s 12ms/step - loss: 1.4104e-06 - root_mean_squared_error: 0.0012\n",
            "Epoch 100/100\n",
            "6/7 [========================>.....] - ETA: 0s - loss: 1.4328e-06 - root_mean_squared_error: 0.0012"
          ]
        },
        {
          "output_type": "stream",
          "name": "stderr",
          "text": [
            "WARNING:tensorflow:Can save best model only with val_loss available, skipping.\n"
          ]
        },
        {
          "output_type": "stream",
          "name": "stdout",
          "text": [
            "\b\b\b\b\b\b\b\b\b\b\b\b\b\b\b\b\b\b\b\b\b\b\b\b\b\b\b\b\b\b\b\b\b\b\b\b\b\b\b\b\b\b\b\b\b\b\b\b\b\b\b\b\b\b\b\b\b\b\b\b\b\b\b\b\b\b\b\b\b\b\b\b\b\b\b\b\b\b\b\b\b\b\b\b\b\b\b\b\b\b\b\b\b\b\b\b\b\b\b\r7/7 [==============================] - 0s 12ms/step - loss: 1.4106e-06 - root_mean_squared_error: 0.0012\n"
          ]
        }
      ],
      "source": [
        "history = model.fit(X_train, y_train, validation_data=(X_val, y_val), epochs=100, callbacks=[cp1])"
      ]
    },
    {
      "cell_type": "markdown",
      "metadata": {
        "id": "5jYO4UDQ-Jl0"
      },
      "source": [
        "### Display Model Loss Function"
      ]
    },
    {
      "cell_type": "code",
      "execution_count": null,
      "metadata": {
        "id": "zkgR91h0-NNV",
        "colab": {
          "base_uri": "https://localhost:8080/",
          "height": 295
        },
        "outputId": "e6c1df1a-31e1-4704-de83-c7ace2dfda1e"
      },
      "outputs": [
        {
          "output_type": "display_data",
          "data": {
            "text/plain": [
              "<Figure size 432x288 with 1 Axes>"
            ],
            "image/png": "[encoded data removed]"
          },
          "metadata": {
            "needs_background": "light"
          }
        }
      ],
      "source": [
        "plt.plot(history.history['loss'])\n",
        "#plt.plot(history.history['val_loss'])\n",
        "plt.title('model loss')\n",
        "plt.ylabel('loss')\n",
        "plt.xlabel('epoch')\n",
        "#plt.legend(['train', 'val'], loc='upper left')\n",
        "plt.show()"
      ]
    },
    {
      "cell_type": "markdown",
      "metadata": {
        "id": "TfFwzKIb-Zvc"
      },
      "source": [
        "### Display Model Prediction"
      ]
    },
    {
      "cell_type": "code",
      "execution_count": null,
      "metadata": {
        "id": "Sa7h_g0T-c5C",
        "colab": {
          "base_uri": "https://localhost:8080/"
        },
        "outputId": "5c4e3d68-c821-4ab8-dcd6-d8d5643d933b"
      },
      "outputs": [
        {
          "output_type": "stream",
          "name": "stdout",
          "text": [
            "1/1 [==============================] - 0s 95ms/step\n",
            "3.552648226382116\n"
          ]
        }
      ],
      "source": [
        "from sklearn.metrics import mean_squared_error\n",
        "predictions = model.predict(X_train[-1:])\n",
        "predictions=predictions.squeeze()\n",
        "\n",
        "# One-shot prediction : \n",
        "actualPredictions = postprocess(simulation1[len(X_train)+windowSizeX-1],predictions)\n",
        "##### ACTUAL RMSE #####\n",
        "print(math.sqrt(mean_squared_error(postprocess(simulation1[len(X_train)-1],diffSimulation1[len(X_train):len(X_train)+windowSizeY]),actualPredictions)))"
      ]
    },
    {
      "cell_type": "markdown",
      "metadata": {
        "id": "Ev-dSK3fAObM"
      },
      "source": [
        "### Autoregressive prediction"
      ]
    },
    {
      "cell_type": "code",
      "execution_count": null,
      "metadata": {
        "id": "sRRrDj2iAMcz"
      },
      "outputs": [],
      "source": [
        "#######  Autoregressive prediction - Only in case Y window is in size 1 ######\n",
        "import math\n",
        "\n",
        "if windowSizeY == 1:\n",
        "\n",
        "    AutoregressivePredictions = slidingWindowActualPredictions(model,X_train,windowSizeX,numOfBodies,len(test))\n",
        "    AutoregressivePredictions =np.array(AutoregressivePredictions)\n",
        "    AutoregressivePredictions = AutoregressivePredictions.squeeze()\n",
        "\n",
        "    actualPredictions = postprocess(simulation1[len(X_train)+len(test)-1],AutoregressivePredictions)\n",
        "\n",
        "    if scaled:\n",
        "      actualPredictions = scaler.inverse_transform(actualPredictions)\n",
        "  ##### ACTUAL RMSE #####\n",
        "    print(math.sqrt(mean_squared_error(postprocess(simulation1[len(X_train)-1],diffSimulation1[len(X_train):len(X_train)+windowSizeY]),actualPredictions)))"
      ]
    },
    {
      "cell_type": "markdown",
      "metadata": {
        "id": "4OQY5D4sAbnH"
      },
      "source": [
        "### Display the difference between the prediction and the simulation"
      ]
    },
    {
      "cell_type": "code",
      "execution_count": null,
      "metadata": {
        "id": "1Iuhw7lrAXnv",
        "colab": {
          "base_uri": "https://localhost:8080/",
          "height": 285
        },
        "outputId": "0df2071c-2375-44a6-bea2-05ab5ea79ae9"
      },
      "outputs": [
        {
          "output_type": "execute_result",
          "data": {
            "text/plain": [
              "[<matplotlib.lines.Line2D at 0x7f3f1d10dbb0>]"
            ]
          },
          "metadata": {},
          "execution_count": 70
        },
        {
          "output_type": "display_data",
          "data": {
            "text/plain": [
              "<Figure size 432x288 with 1 Axes>"
            ],
            "image/png": "[encoded data removed]"
          },
          "metadata": {
            "needs_background": "light"
          }
        }
      ],
      "source": [
        "### Distance at each point throught the prediction\n",
        "import matplotlib.pyplot as plt\n",
        "disArr = []\n",
        "#for i in range(len(val)+len(test)):\n",
        "  #disArr.append(np.linalg.norm(simulation1[len(X_train)+windowSizeX+i+1]-listOfPredictionsTrue[i]))\n",
        "for i in range(windowSizeY):\n",
        "  disArr.append(np.linalg.norm(postprocess(simulation1[len(X_train)+windowSizeX-1],diffSimulation1[len(X_train)+windowSizeX:len(X_train)+windowSizeX+windowSizeY])[i]-actualPredictions[i]))\n",
        "\n",
        "plt.plot(disArr)"
      ]
    },
    {
      "cell_type": "markdown",
      "metadata": {
        "id": "uMP2mQzNCytE"
      },
      "source": [
        "### Display Prediction and Simulation side by side"
      ]
    },
    {
      "cell_type": "code",
      "execution_count": null,
      "metadata": {
        "id": "EjCePaKiCiFr",
        "colab": {
          "base_uri": "https://localhost:8080/",
          "height": 1000
        },
        "outputId": "e33621b2-24af-4223-f917-16cfb0cd81d0"
      },
      "outputs": [
        {
          "output_type": "stream",
          "name": "stdout",
          "text": [
            "<class 'numpy.ndarray'>\n",
            "[[-14.9678744    2.01146729 -14.95535834   1.98242553 -14.98676726\n",
            "    1.98610718]\n",
            " [-15.00187042   2.00216259 -15.02719193   1.98321803 -15.03093765\n",
            "    2.01461938]\n",
            " [-15.06362786   1.98955661 -15.08800382   2.00970326 -15.05836833\n",
            "    2.02074013]\n",
            " [-15.13510348   2.00307453 -15.12133264   2.03154273 -15.10356388\n",
            "    2.00538273]\n",
            " [-15.18358537   2.03219819 -15.15264337   2.02566618 -15.17377125\n",
            "    2.00213563]\n",
            " [-15.21145859   2.04280365 -15.21029566   2.0112011  -15.23824574\n",
            "    2.02599525]\n",
            " [-15.25226375   2.02899936 -15.28262145   2.02014027 -15.2751148\n",
            "    2.05086036]\n",
            " [-15.31982091   2.02174279 -15.33590076   2.04897351 -15.30427834\n",
            "    2.04928371]\n",
            " [-15.387637     2.04194501 -15.36527058   2.06430158 -15.35709243\n",
            "    2.03375341]\n",
            " [-15.42900288   2.06921747 -15.40174249   2.05318798 -15.42925463\n",
            "    2.03759454]\n",
            " [-15.45691743   2.07273593 -15.46551164   2.0423022  -15.48757093\n",
            "    2.06496187]\n",
            " [-15.50434198   2.05727604 -15.53596153   2.05780174 -15.51969649\n",
            "    2.08492222]\n",
            " [-15.57503466   2.05578313 -15.58268159   2.08646858 -15.55228375\n",
            "    2.07774829]\n",
            " [-15.63825566   2.08029712 -15.61061486   2.0956613  -15.61112948\n",
            "    2.06404158]\n",
            " [-15.67450034   2.10436142 -15.65242573   2.0817167  -15.68307393\n",
            "    2.07392188]\n",
            " [-15.70412451   2.10235142 -15.72012786   2.07507571 -15.73574764\n",
            "    2.10257287]\n",
            " [-15.75707734   2.08710187 -15.78763144   2.09525771 -15.76529122\n",
            "    2.11764042]\n",
            " [-15.82895298   2.09075437 -15.82930397   2.12237632 -15.80174306\n",
            "    2.10686931]\n",
            " [-15.88774182   2.11764434 -15.85739565   2.1265427  -15.86486253\n",
            "    2.09581296]\n",
            " [-15.92069259   2.13824492 -15.90385314   2.11147734 -15.93545427\n",
            "    2.11027774]\n",
            " [-15.95264832   2.13234786 -15.97375579   2.10879907 -15.9835959\n",
            "    2.13885307]\n",
            " [-16.0097354    2.11823384 -16.03820884   2.13199367 -16.01205576\n",
            "    2.14977249]\n",
            " [-16.08163589   2.12593008 -16.07636696   2.15711194 -16.05199715\n",
            "    2.13695799]\n",
            " [-16.13677314   2.15387904 -16.10536733   2.15758645 -16.11785953\n",
            "    2.12853452]\n",
            " [-16.16783104   2.1714621  -16.15538451   2.14239058 -16.18678445\n",
            "    2.14614732]\n",
            " [-16.20200531   2.16308989 -16.22632142   2.14287119 -16.23167327\n",
            "    2.17403892]\n",
            " [-16.26187342   2.1503169  -16.28822261   2.16780372 -16.25990398\n",
            "    2.18187938]\n",
            " [-16.33330182   2.16082663 -16.32418021   2.1911064  -16.30251796\n",
            "    2.16806697]\n",
            " [-16.38583743   2.18908472 -16.35421369   2.18917325 -16.36994888\n",
            "    2.16174203]\n",
            " [-16.4159562    2.20447127 -16.40660266   2.17426234 -16.43744113\n",
            "    2.1812664 ]\n",
            " [-16.45179493   2.19472314 -16.47789893   2.17687238 -16.48030614\n",
            "    2.20840448]\n",
            " [-16.51326556   2.18302934 -16.53806424   2.20265313 -16.5086702\n",
            "    2.21431753]\n",
            " [-16.58418104   2.1951665  -16.57286892   2.22469789 -16.55295004\n",
            "    2.20013561]\n",
            " [-16.63523436   2.22339664 -16.60366774   2.22149502 -16.6210979\n",
            "    2.19510834]\n",
            " [-16.66502271   2.23756651 -16.6572756    2.20690629 -16.68770169\n",
            "    2.2155272 ]\n",
            " [-16.70175226   2.22727951 -16.72859313   2.21055724 -16.72965461\n",
            "    2.24216325]\n",
            " [-16.76382095   2.21615268 -16.78796841   2.23657244 -16.75821064\n",
            "    2.24727488]\n",
            " [-16.83443585   2.22882137 -16.82246306   2.25809113 -16.8031011\n",
            "    2.23308751]\n",
            " [-16.88510772   2.2569191  -16.85356728   2.25462412 -16.87132501\n",
            "    2.22845678]\n",
            " [-16.91497864   2.27088729 -16.90730851   2.24020773 -16.93771285\n",
            "    2.24890498]\n",
            " [-16.9517573    2.26074784 -16.9784737    2.24382744 -16.979769\n",
            "    2.27542472]\n",
            " [-17.01352531   2.24959524 -17.03802163   2.26959514 -17.00845305\n",
            "    2.28080962]\n",
            " [-17.08412789   2.26176795 -17.07295197   2.29135113 -17.05292014\n",
            "    2.26688091]\n",
            " [-17.13547516   2.28968889 -17.10387159   2.28855743 -17.12065325\n",
            "    2.26175368]\n",
            " [-17.16580133   2.30443535 -17.1567112    2.27414617 -17.18748747\n",
            "    2.28141847]\n",
            " [-17.20182821   2.29510565 -17.22755102   2.27670994 -17.23062077\n",
            "    2.3081844 ]\n",
            " [-17.26241539   2.28339191 -17.28817533   2.30173558 -17.25940928\n",
            "    2.31487251]\n",
            " [-17.33321556   2.2940689  -17.3243022    2.32441056 -17.30248223\n",
            "    2.30152053]\n",
            " [-17.38624203   2.32167307 -17.35465656   2.32322948 -17.36910141\n",
            "    2.29509745]\n",
            " [-17.41749715   2.33808564 -17.4055888    2.30878965 -17.43691405\n",
            "    2.31312471]\n",
            " [-17.45211033   2.33031556 -17.4757848    2.30934931 -17.48210487\n",
            "    2.34033513]\n",
            " [-17.51058482   2.31769016 -17.53825498   2.33300114 -17.5111602\n",
            "    2.3493087 ]\n",
            " [-17.58157335   2.32587866 -17.57644276   2.35708348 -17.55198389\n",
            "    2.33703786]\n",
            " [-17.63719899   2.35279441 -17.60609372   2.35849755 -17.61670729\n",
            "    2.32870803]\n",
            " [-17.67007068   2.37159119 -17.65415289   2.34426562 -17.68577643\n",
            "    2.34414319]\n",
            " [-17.70286048   2.36629215 -17.7231206    2.34201067 -17.73401892\n",
            "    2.37169719]\n",
            " [-17.75821514   2.35272137 -17.78796941   2.36343332 -17.76381545\n",
            "    2.3838453 ]\n",
            " [-17.82903334   2.35746661 -17.82922432   2.3890898  -17.80174234\n",
            "    2.3734436 ]\n",
            " [-17.88801257   2.3829835  -17.85840992   2.3941076  -17.8635775\n",
            "    2.3629089 ]\n",
            " [-17.92346739   2.40459238 -17.90274218   2.38070665 -17.93379043\n",
            "    2.37470096]\n",
            " [-17.95441631   2.40284662 -17.9695531    2.37508082 -17.98603059\n",
            "    2.40207256]\n",
            " [-18.0056204    2.38874917 -18.0369333    2.39317231 -18.0174463\n",
            "    2.41807851]\n",
            " [-18.07545416   2.38924237 -18.0823628    2.42010225 -18.05218304\n",
            "    2.41065537]\n",
            " [-18.13822624   2.41225715 -18.11181888   2.42965581 -18.10995488\n",
            "    2.39808704]\n",
            " [-18.1774961    2.43664819 -18.15183419   2.41816771 -18.18066971\n",
            "    2.40518409]\n",
            " [-18.20713526   2.43962245 -18.21521233   2.40904759 -18.2376524\n",
            "    2.43132996]\n",
            " [-18.25328651   2.42598399 -18.28472146   2.4225337  -18.27199203\n",
            "    2.45148231]\n",
            " [-18.3208203    2.42176046 -18.33538575   2.44983017 -18.30379395\n",
            "    2.44840937]\n",
            " [-18.38729564   2.44081735 -18.36641783   2.46456978 -18.35628653\n",
            "    2.43461286]\n",
            " [-18.43174684   2.46731065 -18.40202187   2.45651774 -18.42623129\n",
            "    2.43617162]\n",
            " [-18.46128856   2.47604569 -18.46045974   2.44443283 -18.4882517\n",
            "    2.45952148]\n",
            " [-18.50187592   2.46445964 -18.53097339   2.45207427 -18.5271507\n",
            "    2.4834661 ]\n",
            " [-18.56536387   2.45567379 -18.58761168   2.4781481  -18.55702445\n",
            "    2.48617811]\n",
            " [-18.63468445   2.46915011 -18.62205406   2.49814205 -18.60326149\n",
            "    2.47270784]\n",
            " [-18.68553507   2.49625909 -18.65392518   2.49532422 -18.67053975\n",
            "    2.46841668]\n",
            " [-18.71690757   2.5113275  -18.70596281   2.48165813 -18.73712962\n",
            "    2.48701437]\n",
            " [-18.75216026   2.50388544 -18.77555498   2.48260761 -18.78228476\n",
            "    2.51350695]\n",
            " [-18.80967939   2.49160552 -18.83820364   2.50525933 -18.81211697\n",
            "    2.52313515]\n",
            " [-18.88003745   2.49808202 -18.8781893    2.52965168 -18.85177325\n",
            "    2.51226631]\n",
            " [-18.93792086   2.52349221 -18.90801523   2.53377382 -18.91406391\n",
            "    2.50273397]\n",
            " [-18.97360592   2.544565   -18.95269663   2.52084032 -18.98369745\n",
            "    2.51459468]\n",
            " [-19.00484606   2.5435172  -19.01875748   2.51511771 -19.03639645\n",
            "    2.5413651 ]\n",
            " [-19.05477371   2.52992465 -19.08633866   2.53185132 -19.06888764\n",
            "    2.55822403]\n",
            " [-19.12341962   2.52873181 -19.13382223   2.55859557 -19.10275815\n",
            "    2.55267262]\n",
            " [-19.18785926   2.54953865 -19.16435667   2.57069725 -19.15778408\n",
            "    2.53976411]\n",
            " [-19.2304406    2.5749782  -19.2018082    2.56155273 -19.2277512\n",
            "    2.54346907]\n",
            " [-19.26028516   2.58212547 -19.26146971   2.55052397 -19.28824513\n",
            "    2.56735056]\n",
            " [-19.30197087   2.57045188 -19.33150998   2.55916037 -19.32651915\n",
            "    2.59038775]\n",
            " [-19.36555916   2.56229036 -19.38755742   2.58500894 -19.35688342\n",
            "    2.5927007 ]\n",
            " [-19.43451881   2.57559614 -19.42232795   2.60477559 -19.40315324\n",
            "    2.57962827]\n",
            " [-19.48591657   2.60227845 -19.45429502   2.60264493 -19.46978841\n",
            "    2.57507662]\n",
            " [-19.51812091   2.61816098 -19.50521167   2.58929217 -19.53666742\n",
            "    2.59254685]\n",
            " [-19.55259777   2.61219068 -19.57391717   2.58883389 -19.58348505\n",
            "    2.61897543]\n",
            " [-19.60796919   2.59959973 -19.63790905   2.60978114 -19.61412176\n",
            "    2.63061912]\n",
            " [-19.67774055   2.6034641  -19.68045023   2.63497146 -19.65180921\n",
            "    2.62156444]\n",
            " [-19.73825324   2.62708067 -19.71051484   2.64226743 -19.71123192\n",
            "    2.6106519 ]\n",
            " [-19.77700884   2.6501924  -19.7518952    2.63097364 -19.78109596\n",
            "    2.61883396]\n",
            " [-19.8074403    2.65325164 -19.8148036    2.62249716 -19.83775611\n",
            "    2.6442512 ]\n",
            " [-19.85278035   2.64059744 -19.88386593   2.63478862 -19.87335373\n",
            "    2.66461394]\n",
            " [-19.91849741   2.63513734 -19.93650949   2.66113004 -19.90499311\n",
            "    2.66373261]]\n",
            "<class 'numpy.ndarray'>\n",
            "[[-14.96542851   2.01390768 -14.95348732   1.98159132 -14.98848495\n",
            "    1.98558913]\n",
            " [-14.9975317    2.00383401 -15.02792382   1.97944568 -15.03120096\n",
            "    2.01686036]\n",
            " [-15.05960369   1.98903949 -15.09061442   2.00832404 -15.05661133\n",
            "    2.02342998]\n",
            " [-15.13329189   2.00201573 -15.12081409   2.03215846 -15.10134357\n",
            "    2.00532812]\n",
            " [-15.18194443   2.03373726 -15.14908506   2.02543685 -15.17370196\n",
            "    2.00018037]\n",
            " [-15.20708584   2.04509648 -15.20680886   2.00828964 -15.23944923\n",
            "    2.02572761]\n",
            " [-15.24609331   2.02968926 -15.28189227   2.01665529 -15.27352799\n",
            "    2.05397902]\n",
            " [-15.31575858   2.01977138 -15.33576725   2.04803161 -15.29994517\n",
            "    2.05132201]\n",
            " [-15.38545529   2.0416378  -15.36205564   2.06570646 -15.35341971\n",
            "    2.03321658]\n",
            " [-15.42498129   2.07219227 -15.39669647   2.05212554 -15.42853668\n",
            "    2.03620869]\n",
            " [-15.44906065   2.07505212 -15.46286959   2.03838039 -15.48690268\n",
            "    2.06601323]\n",
            " [-15.49581126   2.05591049 -15.5363623    2.05619995 -15.51569545\n",
            "    2.08849131]\n",
            " [-15.56936439   2.05246809 -15.58132175   2.08911834 -15.5456357\n",
            "    2.07876557]\n",
            " [-15.63387164   2.08048908 -15.60311164   2.09743766 -15.60665085\n",
            "    2.06260838]\n",
            " [-15.66568274   2.10698927 -15.64560327   2.07866835 -15.68240966\n",
            "    2.07528196]\n",
            " [-15.69155132   2.10086766 -15.71704765   2.07016317 -15.73277639\n",
            "    2.10764701]\n",
            " [-15.74692321   2.08079973 -15.78666967   2.09458436 -15.75628675\n",
            "    2.12071974]\n",
            " [-15.82441518   2.08619356 -15.82243385   2.12419772 -15.79173508\n",
            "    2.10502881]\n",
            " [-15.87995542   2.11851114 -15.84605114   2.12391825 -15.86099104\n",
            "    2.09228477]\n",
            " [-15.90588063   2.13897626 -15.89623422   2.10290982 -15.93246779\n",
            "    2.11187442]\n",
            " [-15.93862953   2.12802783 -15.97010668   2.10308579 -15.97552587\n",
            "    2.14307164]\n",
            " [-16.00042656   2.11258178 -16.03129804   2.13050844 -16.0003554\n",
            "    2.14936972]\n",
            " [-16.07306735   2.12366827 -16.06308315   2.15481616 -16.04417846\n",
            "    2.13253996]\n",
            " [-16.12352008   2.15329719 -16.09154756   2.15074289 -16.11408582\n",
            "    2.12591768]\n",
            " [-16.15117115   2.16815773 -16.14611      2.13411292 -16.18136852\n",
            "    2.14836456]\n",
            " [-16.1879027    2.15485525 -16.21814555   2.13815108 -16.22254352\n",
            "    2.17530731]\n",
            " [-16.25240969   2.14245948 -16.2769184    2.1652041  -16.24971098\n",
            "    2.1781251 ]\n",
            " [-16.32158803   2.15616222 -16.30922821   2.18557716 -16.29523284\n",
            "    2.16293575]\n",
            " [-16.36861728   2.18541655 -16.34096464   2.18032219 -16.36422244\n",
            "    2.16001136]\n",
            " [-16.39773113   2.19792958 -16.39626045   2.16632458 -16.42939531\n",
            "    2.18187498]\n",
            " [-16.43547578   2.18850864 -16.46637787   2.17085951 -16.4688043\n",
            "    2.20829495]\n",
            " [-16.49711945   2.17647608 -16.52399258   2.19671025 -16.49707682\n",
            "    2.2133307 ]\n",
            " [-16.5682001    2.18972059 -16.55822955   2.21764308 -16.54185067\n",
            "    2.19852933]\n",
            " [-16.61916293   2.21895856 -16.58813251   2.21368388 -16.60989552\n",
            "    2.19408254]\n",
            " [-16.64740302   2.23242649 -16.64246944   2.19759632 -16.67671084\n",
            "    2.21638363]\n",
            " [-16.68304432   2.21996701 -16.71565177   2.20252198 -16.71587286\n",
            "    2.24432974]\n",
            " [-16.7479027    2.20810147 -16.7738127    2.23177715 -16.74253247\n",
            "    2.24661537]\n",
            " [-16.81889674   2.22356093 -16.80284117   2.25279878 -16.7905429\n",
            "    2.23143825]\n",
            " [-16.86714235   2.25240685 -16.83348168   2.2471594  -16.86127334\n",
            "    2.22810362]\n",
            " [-16.89564369   2.26462853 -16.88916749   2.23213488 -16.92604741\n",
            "    2.25067133]\n",
            " [-16.93302273   2.25246839 -16.96205086   2.23618448 -16.96538614\n",
            "    2.27868177]\n",
            " [-16.9962843    2.24078713 -17.02130778   2.26401638 -16.99282065\n",
            "    2.28366605]\n",
            " [-17.06883094   2.25353235 -17.05387588   2.28663796 -17.03745766\n",
            "    2.26682389]\n",
            " [-17.11818494   2.28496666 -17.08187218   2.28130337 -17.10899632\n",
            "    2.26134189]\n",
            " [-17.14349671   2.29998076 -17.13862022   2.26416305 -17.17803328\n",
            "    2.28383282]\n",
            " [-17.17901159   2.28720176 -17.21375103   2.26909315 -17.21658772\n",
            "    2.31393597]\n",
            " [-17.24235817   2.27314068 -17.27186201   2.29896657 -17.24124037\n",
            "    2.31915317]\n",
            " [-17.31397149   2.28720732 -17.30404195   2.32122077 -17.28546834\n",
            "    2.30205682]\n",
            " [-17.36260153   2.31800618 -17.33360706   2.31719662 -17.35504215\n",
            "    2.29506499]\n",
            " [-17.39003292   2.33310212 -17.38710424   2.29854596 -17.42050851\n",
            "    2.31721646]\n",
            " [-17.42557653   2.32140329 -17.4596421    2.30060693 -17.46190845\n",
            "    2.34725632]\n",
            " [-17.48711854   2.3063181  -17.52134208   2.32764443 -17.48735809\n",
            "    2.3554321 ]\n",
            " [-17.56037855   2.31730934 -17.55603337   2.35445719 -17.5290791\n",
            "    2.33822254]\n",
            " [-17.61405202   2.34849809 -17.58271435   2.35131342 -17.59886014\n",
            "    2.32842458]\n",
            " [-17.64117962   2.36701989 -17.63530371   2.33232618 -17.66960166\n",
            "    2.34920008]\n",
            " [-17.67216238   2.35603013 -17.70962659   2.33190766 -17.71156414\n",
            "    2.37914329]\n",
            " [-17.73378443   2.34027311 -17.77300479   2.36030224 -17.73527629\n",
            "    2.38724768]\n",
            " [-17.807641     2.3496197  -17.80717253   2.38773162 -17.77544654\n",
            "    2.37079258]\n",
            " [-17.86112648   2.37974842 -17.83468415   2.38696481 -17.84305661\n",
            "    2.36111321]\n",
            " [-17.89169475   2.39865232 -17.88265652   2.37048305 -17.91376136\n",
            "    2.37884558]\n",
            " [-17.92401649   2.39224419 -17.95354991   2.36735459 -17.96077515\n",
            "    2.40876452]\n",
            " [-17.98086075   2.37690466 -18.01860461   2.3900369  -17.98918233\n",
            "    2.42177002]\n",
            " [-18.05257456   2.38167271 -18.05810745   2.41659716 -18.02513597\n",
            "    2.41071408]\n",
            " [-18.1126847    2.40861006 -18.08373672   2.42288029 -18.08654041\n",
            "    2.39799337]\n",
            " [-18.1473035    2.43234917 -18.12661016   2.40762392 -18.15827792\n",
            "    2.40986452]\n",
            " [-18.17530488   2.43116811 -18.19488238   2.40114098 -18.2103057\n",
            "    2.43774583]\n",
            " [-18.22719666   2.4148421  -18.26331702   2.41770422 -18.24078291\n",
            "    2.45664854]\n",
            " [-18.29691825   2.41355296 -18.30915107   2.44529252 -18.27284403\n",
            "    2.4497336 ]\n",
            " [-18.36023383   2.43475771 -18.33647634   2.45594192 -18.33044481\n",
            "    2.43531554]\n",
            " [-18.39974401   2.46158383 -18.3736276    2.44664358 -18.40047518\n",
            "    2.43931588]\n",
            " [-18.42756994   2.46754409 -18.43565256   2.43514009 -18.46002807\n",
            "    2.46545142]\n",
            " [-18.47000398   2.45428567 -18.50675112   2.44550765 -18.49720577\n",
            "    2.48959349]\n",
            " [-18.53586041   2.44635741 -18.56061947   2.47404538 -18.52631031\n",
            "    2.48966029]\n",
            " [-18.6066783    2.46141838 -18.59142616   2.49289861 -18.57491635\n",
            "    2.47220906]\n",
            " [-18.65426801   2.49294737 -18.62330843   2.48674635 -18.64562613\n",
            "    2.46760819]\n",
            " [-18.68141481   2.50703196 -18.67890885   2.47005479 -18.7138023\n",
            "    2.49057151]\n",
            " [-18.71605951   2.49655121 -18.75196034   2.47341566 -18.75243045\n",
            "    2.5189045 ]\n",
            " [-18.77790617   2.48226016 -18.81163605   2.50086463 -18.77771788\n",
            "    2.52521984]\n",
            " [-18.85104782   2.49159552 -18.84451197   2.5272868  -18.81960081\n",
            "    2.51044238]\n",
            " [-18.90449642   2.52230509 -18.87205815   2.52763143 -18.88578737\n",
            "    2.50244797]\n",
            " [-18.93461122   2.54270473 -18.92090054   2.51041528 -18.95687265\n",
            "    2.51870012]\n",
            " [-18.96534906   2.53839889 -18.99234777   2.50609838 -19.00313625\n",
            "    2.54831831]\n",
            " [-19.02030863   2.52241964 -19.05861342   2.52794632 -19.0309133\n",
            "    2.56332865]\n",
            " [-19.09273362   2.52316792 -19.10071321   2.55718681 -19.06473677\n",
            "    2.55366276]\n",
            " [-19.15590475   2.54817548 -19.12781417   2.56642668 -19.12506379\n",
            "    2.53875491]\n",
            " [-19.19263146   2.57409079 -19.16776891   2.55198617 -19.1960716\n",
            "    2.54603856]\n",
            " [-19.21997279   2.57674111 -19.23134003   2.53987932 -19.25408706\n",
            "    2.57431974]\n",
            " [-19.26567592   2.55992587 -19.30249491   2.55301109 -19.28606681\n",
            "    2.59670912]\n",
            " [-19.33438856   2.55215957 -19.35365505   2.5834433  -19.31537574\n",
            "    2.59380932]\n",
            " [-19.40389695   2.57095747 -19.38288119   2.60175565 -19.36636796\n",
            "    2.57761138]\n",
            " [-19.4502739    2.60074759 -19.41491891   2.59423594 -19.43845861\n",
            "    2.57499385]\n",
            " [-19.47795786   2.61378935 -19.47121787   2.57854401 -19.50365429\n",
            "    2.59699413]\n",
            " [-19.51558699   2.60265522 -19.54406633   2.58149024 -19.54368264\n",
            "    2.62523772]\n",
            " [-19.57676405   2.58884024 -19.60436229   2.60567986 -19.57055509\n",
            "    2.63372874]\n",
            " [-19.64908699   2.59708681 -19.64093838   2.63172724 -19.61056808\n",
            "    2.61938565]\n",
            " [-19.70670231   2.625539   -19.66846354   2.63451297 -19.67603636\n",
            "    2.60885818]\n",
            " [-19.73976689   2.64839731 -19.71262062   2.62031211 -19.7484859\n",
            "    2.62151336]\n",
            " [-19.76775924   2.64558034 -19.78059105   2.61328798 -19.80048782\n",
            "    2.65131354]\n",
            " [-19.81725289   2.62890684 -19.8497617    2.62999681 -19.82974568\n",
            "    2.67066101]\n",
            " [-19.88966754   2.62528911 -19.89516925   2.6595109  -19.86031274\n",
            "    2.66259579]]\n"
          ]
        },
        {
          "output_type": "display_data",
          "data": {
            "text/plain": [
              "<Figure size 432x288 with 1 Axes>"
            ],
            "image/png": "[encoded data removed]"
          },
          "metadata": {
            "needs_background": "light"
          }
        },
        {
          "output_type": "display_data",
          "data": {
            "text/plain": [
              "<Figure size 432x288 with 1 Axes>"
            ],
            "image/png": "[encoded data removed]"
          },
          "metadata": {
            "needs_background": "light"
          }
        },
        {
          "output_type": "display_data",
          "data": {
            "text/plain": [
              "<Figure size 432x288 with 1 Axes>"
            ],
            "image/png": "[encoded data removed]"
          },
          "metadata": {
            "needs_background": "light"
          }
        }
      ],
      "source": [
        "real = simulation1[len(X_train)+ windowSizeX: len(X_train) + windowSizeX + windowSizeY ]\n",
        "simulated = actualPredictions\n",
        "draw_real_vs_prediction(real, simulated,f\"{numOfBodies}-Body Simulation\")"
      ]
    },
    {
      "cell_type": "markdown",
      "metadata": {
        "id": "grr7U09eEiGv"
      },
      "source": [
        "# Double Pendulum Flow Example"
      ]
    },
    {
      "cell_type": "code",
      "execution_count": null,
      "metadata": {
        "id": "ae6eq0O92RvK"
      },
      "outputs": [],
      "source": [
        "pendulum = double_pendulum(angle=[120,-10])\n",
        "pendulumSimTest = simulate_double_pendulum(pendulum,0.01,10,250)\n",
        "drawSimulation(pendulumSimTest,\"test_dp3\")"
      ]
    },
    {
      "cell_type": "code",
      "execution_count": null,
      "metadata": {
        "id": "8aOw8OcID7sU"
      },
      "outputs": [],
      "source": [
        "drawSimulation(pendulumSimTest[:250],\"double_pendulum_sim_example\")"
      ]
    },
    {
      "cell_type": "code",
      "execution_count": null,
      "metadata": {
        "id": "pznoDHyhEAvv"
      },
      "outputs": [],
      "source": [
        "numOfBodies = 2\n",
        "#from sklearn.preprocessing import MinMaxScaler\n",
        "from sklearn.preprocessing import StandardScaler\n",
        "from scipy.signal import hilbert\n",
        "scaled = False \n",
        "\n",
        "batch = 128\n",
        "\n",
        "diffSimulation1 = np.diff(pendulumSimTest,axis = 0)\n",
        "#diffSimulation1 = preprocessSimulation(simulation1)\n",
        "#diffSimulation1 = np.diff(simulation1[:,2:8],axis = 0)\n",
        "train, val, test = splitToTrainValidTest(diffSimulation1,0.05)\n",
        "\n",
        "\n",
        "windowSizeX=300#len(test)\n",
        "windowSizeY =300#len(test)\n",
        "\n",
        "\n",
        "if scaled:\n",
        "  scaler = StandardScaler()\n",
        "  scaler.fit(simulation1[:len(train)+len(val)])\n",
        "  #valScaler.fit(train)  ### train / val as input ? \n",
        "\n",
        "  train = scaler.transform(train)\n",
        "  val = scaler.transform(val)\n",
        "  #train = hilbert(train)\n",
        "  #val = hilbert(val)\n",
        "\n",
        "X_train, y_train = prepareData(train,windowSizeX,windowSizeY)\n",
        "X_val, y_val = prepareData(val,windowSizeX,windowSizeY)\n",
        "X_test, y_test = prepareData(test,windowSizeX,windowSizeY)\n",
        "\n",
        "\n",
        "#generator = TimeseriesGenerator(train_scaled,train_scaled,length = len(test),batch_size=batch)"
      ]
    },
    {
      "cell_type": "code",
      "execution_count": null,
      "metadata": {
        "id": "GuFd_P9GEOYJ"
      },
      "outputs": [],
      "source": [
        "model =  Inceptionmodel(windowSizeX,windowSizeY,2)\n",
        "#model =  buildModelCNN(windowSizeX,windowSizeY,numOfBodies)\n",
        "#model =  model(windowSizeX,windowSizeY,numOfBodies)\n",
        "cp1 = ModelCheckpoint('Inceptionmodel/', save_best_only=True)\n",
        "model.compile(loss=MeanSquaredError(), optimizer=Adam(learning_rate=0.001), metrics=[RootMeanSquaredError()])\n",
        "#Inceptionmodel.compile(loss=MeanSquaredError(), optimizer=Adam(learning_rate=0.001), metrics=[RootMeanSquaredError()])"
      ]
    },
    {
      "cell_type": "code",
      "execution_count": null,
      "metadata": {
        "id": "H45KLo1NESpd"
      },
      "outputs": [],
      "source": [
        "showBodiesMovmentInGraph(numpyToPandas(diffSimulation1,numOfBodies))"
      ]
    },
    {
      "cell_type": "code",
      "execution_count": null,
      "metadata": {
        "id": "b9-VO69BEVmf"
      },
      "outputs": [],
      "source": [
        "history = model.fit(X_train, y_train, validation_data=(X_val, y_val), epochs=10, callbacks=[cp1])"
      ]
    },
    {
      "cell_type": "code",
      "execution_count": null,
      "metadata": {
        "id": "z4tVIcyrEdZi"
      },
      "outputs": [],
      "source": [
        "plt.plot(history.history['loss'])\n",
        "plt.plot(history.history['val_loss'])\n",
        "plt.title('model loss')\n",
        "plt.ylabel('loss')\n",
        "plt.xlabel('epoch')\n",
        "#plt.legend(['train', 'val'], loc='upper left')\n",
        "plt.show()"
      ]
    },
    {
      "cell_type": "code",
      "execution_count": null,
      "metadata": {
        "id": "FsjHxIxqEdZi"
      },
      "outputs": [],
      "source": [
        "predictions = model.predict(X_train[-1:])\n",
        "predictions=predictions.squeeze()\n",
        "\n",
        "# One-shot prediction : \n",
        "actualPredictions = postprocess(pendulumSim[len(X_train)+windowSizeX-1],predictions)\n",
        "##### ACTUAL RMSE #####\n",
        "print(math.sqrt(mean_squared_error(postprocess(pendulumSim[len(X_train)-1],diffSimulation1[len(X_train):len(X_train)+windowSizeY]),actualPredictions)))\n"
      ]
    },
    {
      "cell_type": "code",
      "execution_count": null,
      "metadata": {
        "id": "ZOIpHeWwEdZi"
      },
      "outputs": [],
      "source": [
        "real = pendulumSim[len(X_train)+ windowSizeX: len(X_train) + windowSizeX + windowSizeY ]\n",
        "simulated = actualPredictions\n",
        "draw_real_vs_prediction(real, simulated,0,windowSizeY)"
      ]
    },
    {
      "cell_type": "markdown",
      "metadata": {
        "id": "HmxDombm6wtr"
      },
      "source": [
        "# Anvil connection"
      ]
    },
    {
      "cell_type": "code",
      "execution_count": null,
      "metadata": {
        "id": "IkvVFILk60pB"
      },
      "outputs": [],
      "source": [
        "if __name__ == \"__main__\":\n",
        "  try:\n",
        "    anvil.server.wait_forever()\n",
        "  except KeyboardInterrupt:\n",
        "    print(\"...disconnected from anvil\")"
      ]
    }
  ],
  "metadata": {
    "colab": {
      "collapsed_sections": [
        "9OnUDSnDpNv_",
        "IVFZB6lCsRDZ",
        "w6hiOgDwzbuR",
        "zxeUu6Zd11Il",
        "GIf1vtvq0CCH",
        "HoVRzkm-0n2Z",
        "NYcYXDFe2B3l",
        "GmgmV6Lv5-y1",
        "YjUbeEXw7gqq",
        "V1_XRlY88bDZ",
        "vubxBvRV8Iai",
        "tQPLQ0tH9-1g",
        "5jYO4UDQ-Jl0",
        "TfFwzKIb-Zvc",
        "Ev-dSK3fAObM",
        "4OQY5D4sAbnH",
        "grr7U09eEiGv",
        "HmxDombm6wtr"
      ],
      "provenance": [],
      "toc_visible": true
    },
    "gpuClass": "standard",
    "kernelspec": {
      "display_name": "Python 3",
      "name": "python3"
    },
    "language_info": {
      "name": "python"
    },
    "accelerator": "GPU"
  },
  "nbformat": 4,
  "nbformat_minor": 0
}